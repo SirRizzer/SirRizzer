{
  "cells": [
    {
      "cell_type": "markdown",
      "metadata": {
        "id": "jyJswrIfpbmA"
      },
      "source": [
        "# Домашняя работа 2"
      ]
    },
    {
      "cell_type": "code",
      "execution_count": null,
      "metadata": {
        "id": "jJYqVlSY453-"
      },
      "outputs": [],
      "source": [
        "import numpy as np\n",
        "import matplotlib.pyplot as plt\n",
        "import warnings\n",
        "warnings.filterwarnings(\"ignore\", category=DeprecationWarning) "
      ]
    },
    {
      "cell_type": "markdown",
      "metadata": {
        "id": "3zFF0WJl32lc"
      },
      "source": [
        "## Оптимизация"
      ]
    },
    {
      "cell_type": "markdown",
      "metadata": {
        "id": "ontB-wks4ae0"
      },
      "source": [
        "### 1. Почти производная"
      ]
    },
    {
      "cell_type": "markdown",
      "metadata": {
        "id": "DM62B6Ja4egh"
      },
      "source": [
        "Предположим, у вас есть функция, и вы бы хотели знать ее производную, но у вас нет аналитического выражения для нее.\n",
        "Ваше задание --- написать функцию, которая будет вычислять производную ... кхм функции. Тавтология --- это не очень приятно, но я думаю, что Вы поняли что нужно делать.\n",
        "Однако не подумайте, что вас просят написать что-то, что будет вычислять эту самую производную аналитически.\n",
        "Попробуйте это сделать приближенно, опираясь на определение производной.\n",
        "\n",
        "__Напоминание:__\n",
        "Если вдруг вы не помните определение производной, то вот оно:\n",
        "\n",
        "$$\\lim_{h→0}\\frac{f(x+h)−f(x)}{h}$$\n",
        "Или, что то же:\n",
        "$$\\lim_{x→x_0}\\frac{f(x)−f(x_0)}{x-x_0}$$\n",
        "\n",
        "Если такой предел существует, то и производная существует (и равна этому пределу)."
      ]
    },
    {
      "cell_type": "code",
      "execution_count": null,
      "metadata": {
        "id": "IkuiAaRG4lCS"
      },
      "outputs": [],
      "source": [
        "def numerical_derivative_1d(func, epsilon):\n",
        "    \"\"\"\n",
        "    Функция для приближённого вычисления производной функции одной переменной. \n",
        "    :param func: float -> float — произвольная дифференцируемая функция\n",
        "    :param epsilon: float — максимальная величина приращения по оси Ох\n",
        "    :return: другая функция, которая приближённо вычисляет производную в точке\n",
        "    \"\"\"\n",
        "\n",
        "    def deriv_func(x):\n",
        "        \"\"\"\n",
        "        :param x: float — точка, в которой нужно вычислить производную\n",
        "        :return: приближённое значение производной в этой точке\n",
        "        \"\"\"\n",
        "        # BEGIN YOUR CODE\n",
        "        approx_deriv = (func(x + epsilon) - func(x)) / epsilon\n",
        "        return approx_deriv\n",
        "        # END YOUR CODE\n",
        "\n",
        "    return deriv_func"
      ]
    },
    {
      "cell_type": "code",
      "execution_count": null,
      "metadata": {
        "colab": {
          "base_uri": "https://localhost:8080/"
        },
        "id": "h8FOP7kN4ARg",
        "outputId": "a83f6bb3-e66a-4bb7-d7a1-8ed9186f5654"
      },
      "outputs": [
        {
          "output_type": "stream",
          "name": "stdout",
          "text": [
            "True\n"
          ]
        }
      ],
      "source": [
        "# Проверьте себя!\n",
        "def polynom_to_prime(x):\n",
        "    return 20 * x ** 5 + x ** 3 - 5 * x ** 2 + 2 * x + 2.0\n",
        "\n",
        "\n",
        "def primed_poly(x):\n",
        "    return 100 * x ** 4 + 3 * x ** 2 - 10 * x + 2.0\n",
        "\n",
        "\n",
        "approx_deriv = numerical_derivative_1d(polynom_to_prime, 1e-5)\n",
        "\n",
        "grid = np.linspace(-2, 2, 100)\n",
        "right_flag = True\n",
        "tol = 0.05\n",
        "debug_print = []\n",
        "\n",
        "for x in grid:\n",
        "    estimation_error = abs(primed_poly(x) - approx_deriv(x))\n",
        "    if estimation_error > tol:\n",
        "        debug_print.append((estimation_error, primed_poly(x), approx_deriv(x)))\n",
        "        right_flag = False\n",
        "\n",
        "if not right_flag:\n",
        "    print(\"Что-то не то...\")\n",
        "    print(debug_print)\n",
        "    plt.plot(grid, primed_poly(grid), label=\"Истинная производная\")\n",
        "    plt.plot(grid, approx_deriv(grid), label=\"Численное приближение\")\n",
        "    plt.legend()\n",
        "\n",
        "print(str(right_flag))"
      ]
    },
    {
      "cell_type": "markdown",
      "metadata": {
        "id": "RrYk0jGb-Pcf"
      },
      "source": [
        "### 2. Вам дана функция $y(x) = x^{3} \\ln(x)$\n",
        "\n"
      ]
    },
    {
      "cell_type": "code",
      "execution_count": null,
      "metadata": {
        "id": "4S9RzQwlNl0o"
      },
      "outputs": [],
      "source": [
        "def y(x):\n",
        "    return (x**3)*np.log(x)"
      ]
    },
    {
      "cell_type": "code",
      "execution_count": null,
      "metadata": {
        "id": "UeDXWFWuOdBr"
      },
      "outputs": [],
      "source": [
        "x_range = np.linspace(-5, 5, 10)"
      ]
    },
    {
      "cell_type": "code",
      "execution_count": null,
      "metadata": {
        "colab": {
          "base_uri": "https://localhost:8080/",
          "height": 409
        },
        "id": "T1-3JeJ3OOfP",
        "outputId": "3bb769f0-a0f7-4263-c087-720e619cd1b0"
      },
      "outputs": [
        {
          "output_type": "stream",
          "name": "stderr",
          "text": [
            "/usr/local/lib/python3.7/dist-packages/ipykernel_launcher.py:2: RuntimeWarning: invalid value encountered in log\n",
            "  \n"
          ]
        },
        {
          "output_type": "display_data",
          "data": {
            "text/plain": [
              "<Figure size 864x432 with 1 Axes>"
            ],
            "image/png": "[encoded data removed]"
          },
          "metadata": {}
        }
      ],
      "source": [
        "#Построим график нашей функции\n",
        "plt.figure(figsize = (12, 6))\n",
        "plt.plot(x_range, y(x_range));"
      ]
    },
    {
      "cell_type": "markdown",
      "metadata": {
        "id": "hz4Z6Sfc-3qV"
      },
      "source": [
        "2.1. Выпишите вид производной этой функции ($y'(x)$). (можно сделать это в виде latex кода, добавления картинки или записью кода python)\n",
        "\n",
        "$$y'(x) = (3*x^2)*ln(x)+x^2$$"
      ]
    },
    {
      "cell_type": "markdown",
      "metadata": {
        "id": "huwyQZLiQ28x"
      },
      "source": [
        "В точке x= 0 производная неопределена"
      ]
    },
    {
      "cell_type": "markdown",
      "metadata": {
        "id": "uCvds4fd-XHA"
      },
      "source": [
        "2.2 Реализуйте функцию `dy(...)` в ячейке ниже, которая на вход принимает $x_0$, а на выходе возвращает значение производной функции $y(x)$ в точке $x_0$ (то есть $y'(x_0)$)."
      ]
    },
    {
      "cell_type": "code",
      "execution_count": null,
      "metadata": {
        "id": "99NgN1zz-e4W"
      },
      "outputs": [],
      "source": [
        "def dy(x0):\n",
        "    \"\"\"\n",
        "    Реализуйте функцию\n",
        "    \"\"\"\n",
        "    ...\n",
        "    res = (3*(x0)**2)*np.log(x0)+(x0)**2\n",
        "    return res"
      ]
    },
    {
      "cell_type": "code",
      "execution_count": null,
      "metadata": {
        "id": "bDZlvwkzQXiP"
      },
      "outputs": [],
      "source": [
        "x_dif_plot = np.linspace(-50, 50, 1000)"
      ]
    },
    {
      "cell_type": "code",
      "execution_count": null,
      "metadata": {
        "colab": {
          "base_uri": "https://localhost:8080/",
          "height": 409
        },
        "id": "6vfzC51PQdbs",
        "outputId": "7ae80710-1f26-4eb3-abd4-d55e3161d4b0"
      },
      "outputs": [
        {
          "output_type": "stream",
          "name": "stderr",
          "text": [
            "/usr/local/lib/python3.7/dist-packages/ipykernel_launcher.py:6: RuntimeWarning: invalid value encountered in log\n",
            "  \n"
          ]
        },
        {
          "output_type": "display_data",
          "data": {
            "text/plain": [
              "<Figure size 864x432 with 1 Axes>"
            ],
            "image/png": "[encoded data removed]"
          },
          "metadata": {}
        }
      ],
      "source": [
        "#Построим график нашей функции\n",
        "plt.figure(figsize = (12, 6))\n",
        "plt.plot(x_dif_plot, dy(x_dif_plot));"
      ]
    },
    {
      "cell_type": "code",
      "execution_count": null,
      "metadata": {
        "colab": {
          "base_uri": "https://localhost:8080/"
        },
        "id": "xXyx1w6tQqKN",
        "outputId": "d7bc8bfd-4d19-460b-a2b7-48c2bc47b38c"
      },
      "outputs": [
        {
          "output_type": "stream",
          "name": "stdout",
          "text": [
            "790.7755278982138 3994.878728264789 10083.23293048782 1.0\n"
          ]
        }
      ],
      "source": [
        "#Проверка\n",
        "print(dy(10), dy(20), dy(30), dy(1))"
      ]
    },
    {
      "cell_type": "markdown",
      "metadata": {
        "id": "rUNixP2n-htZ"
      },
      "source": [
        "2.3 Реализуйте функцию `get_min_with_gd(...)`, которая принимает на вход начальную точку $x_0$, число шагов, lr и thershold; внутри себя производит поиск минимума при помощи градиентного спуска и возвращает последовательность точек, полученных на каждом шаге."
      ]
    },
    {
      "cell_type": "code",
      "execution_count": null,
      "metadata": {
        "id": "1Lxnl1N6-n8Z"
      },
      "outputs": [],
      "source": [
        "def get_min_with_gd(x0, steps, lr, thershold):\n",
        "    \"\"\"\n",
        "    Реализуйте функцию\n",
        "    \"\"\"\n",
        "    history = []\n",
        "    previous_step_size = 1\n",
        "    iters = 0\n",
        "    while previous_step_size > thershold and iters < steps:\n",
        "        prev_x = x0 #Сохраняем текущий x0 in prev_x\n",
        "        x0 = x0 - lr * dy(prev_x) #Градиентный спуск\n",
        "        previous_step_size = abs(x0 - prev_x) #Изменение x\n",
        "        iters = iters+1 #Итерация\n",
        "        history.append(x0)\n",
        "        print(\"Итерация\",iters,\"\\nзначение X\",x0)\n",
        "        \n",
        "    print(\"Локальный минимум\", x0)\n",
        "    return np.array(history)"
      ]
    },
    {
      "cell_type": "code",
      "execution_count": null,
      "metadata": {
        "colab": {
          "base_uri": "https://localhost:8080/"
        },
        "id": "wemZ80t0-qbG",
        "outputId": "50d15e90-1240-43de-9f3d-3baac9a55038"
      },
      "outputs": [
        {
          "output_type": "stream",
          "name": "stdout",
          "text": [
            "Итерация 1 \n",
            "значение X 2.0922447210178623\n",
            "Итерация 2 \n",
            "значение X 1.951521065504928\n",
            "Итерация 3 \n",
            "значение X 1.8370461022899123\n",
            "Итерация 4 \n",
            "значение X 1.7417274027602196\n",
            "Итерация 5 \n",
            "значение X 1.6608927398171403\n",
            "Итерация 6 \n",
            "значение X 1.5913199242606597\n",
            "Итерация 7 \n",
            "значение X 1.5307044974693869\n",
            "Итерация 8 \n",
            "значение X 1.4773487892430266\n",
            "Итерация 9 \n",
            "значение X 1.4299709375281882\n",
            "Итерация 10 \n",
            "значение X 1.3875826531893787\n",
            "Итерация 11 \n",
            "значение X 1.3494082365230744\n",
            "Итерация 12 \n",
            "значение X 1.3148293244201068\n",
            "Итерация 13 \n",
            "значение X 1.2833462258219313\n",
            "Итерация 14 \n",
            "значение X 1.2545502611475963\n",
            "Итерация 15 \n",
            "значение X 1.2281035856246125\n",
            "Итерация 16 \n",
            "значение X 1.203724215668845\n",
            "Итерация 17 \n",
            "значение X 1.1811747439987623\n",
            "Итерация 18 \n",
            "значение X 1.1602537160651039\n",
            "Итерация 19 \n",
            "значение X 1.1407889570443375\n",
            "Итерация 20 \n",
            "значение X 1.122632349016235\n",
            "Итерация 21 \n",
            "значение X 1.1056557004072927\n",
            "Итерация 22 \n",
            "значение X 1.0897474479486393\n",
            "Итерация 23 \n",
            "значение X 1.0748100001242773\n",
            "Итерация 24 \n",
            "значение X 1.0607575799068298\n",
            "Итерация 25 \n",
            "значение X 1.0475144597260442\n",
            "Итерация 26 \n",
            "значение X 1.035013507233974\n",
            "Итерация 27 \n",
            "значение X 1.0231949793184445\n",
            "Итерация 28 \n",
            "значение X 1.0120055158902796\n",
            "Итерация 29 \n",
            "значение X 1.001397295560965\n",
            "Итерация 30 \n",
            "значение X 0.9913273233717262\n",
            "Итерация 31 \n",
            "значение X 0.9817568268979197\n",
            "Итерация 32 \n",
            "значение X 0.9726507418126273\n",
            "Итерация 33 \n",
            "значение X 0.9639772716979227\n",
            "Итерация 34 \n",
            "значение X 0.9557075097962\n",
            "Итерация 35 \n",
            "значение X 0.9478151126857678\n",
            "Итерация 36 \n",
            "значение X 0.9402760176852244\n",
            "Итерация 37 \n",
            "значение X 0.9330681972457598\n",
            "Итерация 38 \n",
            "значение X 0.926171444759617\n",
            "Итерация 39 \n",
            "значение X 0.919567187157691\n",
            "Итерация 40 \n",
            "значение X 0.913238320436665\n",
            "Итерация 41 \n",
            "значение X 0.907169064882542\n",
            "Итерация 42 \n",
            "значение X 0.9013448372712409\n",
            "Итерация 43 \n",
            "значение X 0.8957521377502274\n",
            "Итерация 44 \n",
            "значение X 0.8903784494553978\n",
            "Итерация 45 \n",
            "значение X 0.885212149208414\n",
            "Итерация 46 \n",
            "значение X 0.8802424278823887\n",
            "Итерация 47 \n",
            "значение X 0.8754592192270106\n",
            "Итерация 48 \n",
            "значение X 0.870853136114925\n",
            "Итерация 49 \n",
            "значение X 0.8664154133151367\n",
            "Итерация 50 \n",
            "значение X 0.862137856020974\n",
            "Итерация 51 \n",
            "значение X 0.8580127934634972\n",
            "Итерация 52 \n",
            "значение X 0.8540330370292133\n",
            "Итерация 53 \n",
            "значение X 0.8501918423760685\n",
            "Итерация 54 \n",
            "значение X 0.8464828751060095\n",
            "Итерация 55 \n",
            "значение X 0.842900179607622\n",
            "Итерация 56 \n",
            "значение X 0.8394381507298967\n",
            "Итерация 57 \n",
            "значение X 0.8360915079892037\n",
            "Итерация 58 \n",
            "значение X 0.8328552720470558\n",
            "Итерация 59 \n",
            "значение X 0.8297247432270316\n",
            "Итерация 60 \n",
            "значение X 0.8266954818659993\n",
            "Итерация 61 \n",
            "значение X 0.8237632903180969\n",
            "Итерация 62 \n",
            "значение X 0.8209241964502938\n",
            "Итерация 63 \n",
            "значение X 0.8181744384861706\n",
            "Итерация 64 \n",
            "значение X 0.8155104510701796\n",
            "Итерация 65 \n",
            "значение X 0.8129288524383715\n",
            "Итерация 66 \n",
            "значение X 0.8104264325936517\n",
            "Итерация 67 \n",
            "значение X 0.8080001423942851\n",
            "Итерация 68 \n",
            "значение X 0.8056470834737787\n",
            "Итерация 69 \n",
            "значение X 0.8033644989185962\n",
            "Итерация 70 \n",
            "значение X 0.801149764637547\n",
            "Итерация 71 \n",
            "значение X 0.7990003813632438\n",
            "Итерация 72 \n",
            "значение X 0.7969139672318569\n",
            "Итерация 73 \n",
            "значение X 0.7948882508925844\n",
            "Итерация 74 \n",
            "значение X 0.7929210651028945\n",
            "Итерация 75 \n",
            "значение X 0.7910103407697341\n",
            "Итерация 76 \n",
            "значение X 0.7891541014006036\n",
            "Итерация 77 \n",
            "значение X 0.7873504579317185\n",
            "Итерация 78 \n",
            "значение X 0.7855976039034543\n",
            "Итерация 79 \n",
            "значение X 0.7838938109559506\n",
            "Итерация 80 \n",
            "значение X 0.7822374246201553\n",
            "Итерация 81 \n",
            "значение X 0.7806268603817619\n",
            "Итерация 82 \n",
            "значение X 0.7790605999974445\n",
            "Итерация 83 \n",
            "значение X 0.7775371880445672\n",
            "Итерация 84 \n",
            "значение X 0.7760552286871368\n",
            "Итерация 85 \n",
            "значение X 0.7746133826422175\n",
            "Итерация 86 \n",
            "значение X 0.7732103643323319\n",
            "Итерация 87 \n",
            "значение X 0.7718449392105667\n",
            "Итерация 88 \n",
            "значение X 0.770515921246175\n",
            "Итерация 89 \n",
            "значение X 0.769222170559452\n",
            "Итерация 90 \n",
            "значение X 0.7679625911955547\n",
            "Итерация 91 \n",
            "значение X 0.7667361290277449\n",
            "Итерация 92 \n",
            "значение X 0.765541769781283\n",
            "Итерация 93 \n",
            "значение X 0.764378537169872\n",
            "Итерация 94 \n",
            "значение X 0.763245491137174\n",
            "Итерация 95 \n",
            "значение X 0.7621417261964829\n",
            "Итерация 96 \n",
            "значение X 0.7610663698621604\n",
            "Итерация 97 \n",
            "значение X 0.7600185811669112\n",
            "Итерация 98 \n",
            "значение X 0.7589975492594137\n",
            "Итерация 99 \n",
            "значение X 0.7580024920772164\n",
            "Итерация 100 \n",
            "значение X 0.7570326550901835\n",
            "Итерация 101 \n",
            "значение X 0.7560873101101032\n",
            "Итерация 102 \n",
            "значение X 0.7551657541623893\n",
            "Итерация 103 \n",
            "значение X 0.7542673084160859\n",
            "Итерация 104 \n",
            "значение X 0.7533913171686547\n",
            "Итерация 105 \n",
            "значение X 0.7525371468822613\n",
            "Итерация 106 \n",
            "значение X 0.7517041852685045\n",
            "Итерация 107 \n",
            "значение X 0.7508918404187389\n",
            "Итерация 108 \n",
            "значение X 0.7500995399773309\n",
            "Итерация 109 \n",
            "значение X 0.7493267303553663\n",
            "Итерация 110 \n",
            "значение X 0.7485728759824919\n",
            "Итерация 111 \n",
            "значение X 0.7478374585947226\n",
            "Итерация 112 \n",
            "значение X 0.7471199765561899\n",
            "Итерация 113 \n",
            "значение X 0.7464199442129333\n",
            "Итерация 114 \n",
            "значение X 0.7457368912769611\n",
            "Итерация 115 \n",
            "значение X 0.745070362238917\n",
            "Итерация 116 \n",
            "значение X 0.7444199158077944\n",
            "Итерация 117 \n",
            "значение X 0.7437851243762358\n",
            "Итерация 118 \n",
            "значение X 0.7431655735100465\n",
            "Итерация 119 \n",
            "значение X 0.7425608614606362\n",
            "Итерация 120 \n",
            "значение X 0.7419705986991763\n",
            "Итерация 121 \n",
            "значение X 0.7413944074713403\n",
            "Итерация 122 \n",
            "значение X 0.7408319213715562\n",
            "Итерация 123 \n",
            "значение X 0.7402827849357662\n",
            "Итерация 124 \n",
            "значение X 0.7397466532517498\n",
            "Итерация 125 \n",
            "значение X 0.739223191586118\n",
            "Итерация 126 \n",
            "значение X 0.7387120750271396\n",
            "Итерация 127 \n",
            "значение X 0.7382129881426109\n",
            "Итерация 128 \n",
            "значение X 0.7377256246520214\n",
            "Итерация 129 \n",
            "значение X 0.7372496871123136\n",
            "Итерация 130 \n",
            "значение X 0.7367848866165735\n",
            "Итерация 131 \n",
            "значение X 0.7363309425050244\n",
            "Итерация 132 \n",
            "значение X 0.7358875820877336\n",
            "Итерация 133 \n",
            "значение X 0.7354545403784724\n",
            "Итерация 134 \n",
            "значение X 0.7350315598392002\n",
            "Итерация 135 \n",
            "значение X 0.7346183901346754\n",
            "Итерация 136 \n",
            "значение X 0.7342147878967171\n",
            "Итерация 137 \n",
            "значение X 0.7338205164976728\n",
            "Итерация 138 \n",
            "значение X 0.7334353458326672\n",
            "Итерация 139 \n",
            "значение X 0.7330590521102314\n",
            "Итерация 140 \n",
            "значение X 0.7326914176509316\n",
            "Итерация 141 \n",
            "значение X 0.732332230693638\n",
            "Итерация 142 \n",
            "значение X 0.7319812852090911\n",
            "Итерация 143 \n",
            "значение X 0.7316383807204422\n",
            "Итерация 144 \n",
            "значение X 0.7313033221304596\n",
            "Итерация 145 \n",
            "значение X 0.7309759195551093\n",
            "Итерация 146 \n",
            "значение X 0.7306559881632325\n",
            "Итерация 147 \n",
            "значение X 0.7303433480220566\n",
            "Итерация 148 \n",
            "значение X 0.7300378239482893\n",
            "Итерация 149 \n",
            "значение X 0.7297392453645585\n",
            "Итерация 150 \n",
            "значение X 0.7294474461609703\n",
            "Итерация 151 \n",
            "значение X 0.7291622645615723\n",
            "Итерация 152 \n",
            "значение X 0.7288835429955143\n",
            "Итерация 153 \n",
            "значение X 0.7286111279727144\n",
            "Итерация 154 \n",
            "значение X 0.7283448699638436\n",
            "Итерация 155 \n",
            "значение X 0.7280846232844513\n",
            "Итерация 156 \n",
            "значение X 0.7278302459830653\n",
            "Итерация 157 \n",
            "значение X 0.727581599733104\n",
            "Итерация 158 \n",
            "значение X 0.7273385497284487\n",
            "Итерация 159 \n",
            "значение X 0.7271009645825303\n",
            "Итерация 160 \n",
            "значение X 0.7268687162307899\n",
            "Итерация 161 \n",
            "значение X 0.726641679836382\n",
            "Итерация 162 \n",
            "значение X 0.7264197336989929\n",
            "Итерация 163 \n",
            "значение X 0.726202759166653\n",
            "Итерация 164 \n",
            "значение X 0.7259906405504273\n",
            "Итерация 165 \n",
            "значение X 0.725783265041875\n",
            "Итерация 166 \n",
            "значение X 0.7255805226331707\n",
            "Итерация 167 \n",
            "значение X 0.7253823060397881\n",
            "Итерация 168 \n",
            "значение X 0.7251885106256483\n",
            "Итерация 169 \n",
            "значение X 0.7249990343306413\n",
            "Итерация 170 \n",
            "значение X 0.724813777600433\n",
            "Итерация 171 \n",
            "значение X 0.7246326433184718\n",
            "Итерация 172 \n",
            "значение X 0.7244555367401149\n",
            "Итерация 173 \n",
            "значение X 0.724282365428797\n",
            "Итерация 174 \n",
            "значение X 0.7241130391941671\n",
            "Итерация 175 \n",
            "значение X 0.7239474700321227\n",
            "Итерация 176 \n",
            "значение X 0.7237855720666718\n",
            "Итерация 177 \n",
            "значение X 0.7236272614935613\n",
            "Итерация 178 \n",
            "значение X 0.723472456525604\n",
            "Итерация 179 \n",
            "значение X 0.7233210773396498\n",
            "Итерация 180 \n",
            "значение X 0.7231730460251391\n",
            "Итерация 181 \n",
            "значение X 0.7230282865341863\n",
            "Итерация 182 \n",
            "значение X 0.7228867246331386\n",
            "Итерация 183 \n",
            "значение X 0.7227482878555612\n",
            "Итерация 184 \n",
            "значение X 0.7226129054565977\n",
            "Итерация 185 \n",
            "значение X 0.7224805083686614\n",
            "Итерация 186 \n",
            "значение X 0.7223510291584109\n",
            "Итерация 187 \n",
            "значение X 0.7222244019849675\n",
            "Итерация 188 \n",
            "значение X 0.7221005625593326\n",
            "Итерация 189 \n",
            "значение X 0.7219794481049654\n",
            "Итерация 190 \n",
            "значение X 0.7218609973194825\n",
            "Итерация 191 \n",
            "значение X 0.7217451503374424\n",
            "Итерация 192 \n",
            "значение X 0.7216318486941797\n",
            "Итерация 193 \n",
            "значение X 0.7215210352906547\n",
            "Итерация 194 \n",
            "значение X 0.7214126543592853\n",
            "Итерация 195 \n",
            "значение X 0.7213066514307299\n",
            "Итерация 196 \n",
            "значение X 0.7212029733015917\n",
            "Итерация 197 \n",
            "значение X 0.7211015680030126\n",
            "Итерация 198 \n",
            "значение X 0.721002384770132\n",
            "Итерация 199 \n",
            "значение X 0.7209053740123798\n",
            "Итерация 200 \n",
            "значение X 0.7208104872845801\n",
            "Итерация 201 \n",
            "значение X 0.7207176772588394\n",
            "Итерация 202 \n",
            "значение X 0.7206268976971941\n",
            "Итерация 203 \n",
            "значение X 0.7205381034249956\n",
            "Итерация 204 \n",
            "значение X 0.7204512503050086\n",
            "Итерация 205 \n",
            "значение X 0.7203662952122026\n",
            "Итерация 206 \n",
            "значение X 0.7202831960092141\n",
            "Итерация 207 \n",
            "значение X 0.7202019115224594\n",
            "Итерация 208 \n",
            "значение X 0.7201224015188794\n",
            "Итерация 209 \n",
            "значение X 0.7200446266832967\n",
            "Итерация 210 \n",
            "значение X 0.7199685485963666\n",
            "Итерация 211 \n",
            "значение X 0.719894129713105\n",
            "Итерация 212 \n",
            "значение X 0.7198213333419755\n",
            "Итерация 213 \n",
            "значение X 0.7197501236245202\n",
            "Итерация 214 \n",
            "значение X 0.7196804655155169\n",
            "Итерация 215 \n",
            "значение X 0.7196123247636491\n",
            "Итерация 216 \n",
            "значение X 0.7195456678926722\n",
            "Итерация 217 \n",
            "значение X 0.7194804621830629\n",
            "Итерация 218 \n",
            "значение X 0.719416675654138\n",
            "Итерация 219 \n",
            "значение X 0.7193542770466269\n",
            "Итерация 220 \n",
            "значение X 0.7192932358056887\n",
            "Итерация 221 \n",
            "значение X 0.7192335220643575\n",
            "Итерация 222 \n",
            "значение X 0.719175106627407\n",
            "Итерация 223 \n",
            "значение X 0.7191179609556198\n",
            "Итерация 224 \n",
            "значение X 0.719062057150452\n",
            "Итерация 225 \n",
            "значение X 0.7190073679390823\n",
            "Итерация 226 \n",
            "значение X 0.7189538666598323\n",
            "Итерация 227 \n",
            "значение X 0.7189015272479516\n",
            "Итерация 228 \n",
            "значение X 0.7188503242217543\n",
            "Итерация 229 \n",
            "значение X 0.7188002326690988\n",
            "Итерация 230 \n",
            "значение X 0.7187512282342016\n",
            "Итерация 231 \n",
            "значение X 0.7187032871047757\n",
            "Итерация 232 \n",
            "значение X 0.7186563859994851\n",
            "Итерация 233 \n",
            "значение X 0.7186105021557055\n",
            "Итерация 234 \n",
            "значение X 0.7185656133175856\n",
            "Итерация 235 \n",
            "значение X 0.7185216977243981\n",
            "Итерация 236 \n",
            "значение X 0.718478734099175\n",
            "Итерация 237 \n",
            "значение X 0.7184367016376176\n",
            "Итерация 238 \n",
            "значение X 0.7183955799972761\n",
            "Итерация 239 \n",
            "значение X 0.7183553492869894\n",
            "Итерация 240 \n",
            "значение X 0.7183159900565801\n",
            "Итерация 241 \n",
            "значение X 0.7182774832867966\n",
            "Итерация 242 \n",
            "значение X 0.7182398103794978\n",
            "Итерация 243 \n",
            "значение X 0.7182029531480708\n",
            "Итерация 244 \n",
            "значение X 0.7181668938080795\n",
            "Итерация 245 \n",
            "значение X 0.7181316149681349\n",
            "Итерация 246 \n",
            "значение X 0.718097099620983\n",
            "Итерация 247 \n",
            "значение X 0.7180633311348046\n",
            "Итерация 248 \n",
            "значение X 0.7180302932447209\n",
            "Итерация 249 \n",
            "значение X 0.7179979700445003\n",
            "Итерация 250 \n",
            "значение X 0.7179663459784609\n",
            "Итерация 251 \n",
            "значение X 0.7179354058335639\n",
            "Итерация 252 \n",
            "значение X 0.7179051347316929\n",
            "Итерация 253 \n",
            "значение X 0.7178755181221153\n",
            "Итерация 254 \n",
            "значение X 0.7178465417741184\n",
            "Итерация 255 \n",
            "значение X 0.7178181917698206\n",
            "Итерация 256 \n",
            "значение X 0.7177904544971484\n",
            "Итерация 257 \n",
            "значение X 0.717763316642978\n",
            "Итерация 258 \n",
            "значение X 0.7177367651864368\n",
            "Итерация 259 \n",
            "значение X 0.7177107873923604\n",
            "Итерация 260 \n",
            "значение X 0.7176853708049015\n",
            "Итерация 261 \n",
            "значение X 0.7176605032412868\n",
            "Итерация 262 \n",
            "значение X 0.717636172785719\n",
            "Итерация 263 \n",
            "значение X 0.7176123677834189\n",
            "Итерация 264 \n",
            "значение X 0.7175890768348054\n",
            "Итерация 265 \n",
            "значение X 0.71756628878981\n",
            "Итерация 266 \n",
            "значение X 0.7175439927423211\n",
            "Итерация 267 \n",
            "значение X 0.717522178024757\n",
            "Итерация 268 \n",
            "значение X 0.7175008342027633\n",
            "Итерация 269 \n",
            "значение X 0.7174799510700309\n",
            "Итерация 270 \n",
            "значение X 0.7174595186432339\n",
            "Итерация 271 \n",
            "значение X 0.7174395271570821\n",
            "Итерация 272 \n",
            "значение X 0.7174199670594876\n",
            "Итерация 273 \n",
            "значение X 0.7174008290068403\n",
            "Итерация 274 \n",
            "значение X 0.7173821038593924\n",
            "Итерация 275 \n",
            "значение X 0.7173637826767466\n",
            "Итерация 276 \n",
            "значение X 0.717345856713448\n",
            "Итерация 277 \n",
            "значение X 0.7173283174146748\n",
            "Итерация 278 \n",
            "значение X 0.7173111564120284\n",
            "Итерация 279 \n",
            "значение X 0.7172943655194167\n",
            "Итерация 280 \n",
            "значение X 0.7172779367290326\n",
            "Итерация 281 \n",
            "значение X 0.717261862207422\n",
            "Итерация 282 \n",
            "значение X 0.7172461342916413\n",
            "Итерация 283 \n",
            "значение X 0.7172307454855009\n",
            "Итерация 284 \n",
            "значение X 0.7172156884558945\n",
            "Итерация 285 \n",
            "значение X 0.7172009560292093\n",
            "Итерация 286 \n",
            "значение X 0.7171865411878191\n",
            "Итерация 287 \n",
            "значение X 0.717172437066654\n",
            "Итерация 288 \n",
            "значение X 0.7171586369498486\n",
            "Итерация 289 \n",
            "значение X 0.7171451342674648\n",
            "Итерация 290 \n",
            "значение X 0.7171319225922884\n",
            "Итерация 291 \n",
            "значение X 0.7171189956366966\n",
            "Итерация 292 \n",
            "значение X 0.7171063472495965\n",
            "Итерация 293 \n",
            "значение X 0.717093971413432\n",
            "Итерация 294 \n",
            "значение X 0.7170818622412565\n",
            "Итерация 295 \n",
            "значение X 0.7170700139738718\n",
            "Итерация 296 \n",
            "значение X 0.7170584209770314\n",
            "Итерация 297 \n",
            "значение X 0.7170470777387044\n",
            "Итерация 298 \n",
            "значение X 0.7170359788664015\n",
            "Итерация 299 \n",
            "значение X 0.7170251190845608\n",
            "Итерация 300 \n",
            "значение X 0.7170144932319906\n",
            "Итерация 301 \n",
            "значение X 0.7170040962593701\n",
            "Итерация 302 \n",
            "значение X 0.7169939232268044\n",
            "Итерация 303 \n",
            "значение X 0.7169839693014354\n",
            "Итерация 304 \n",
            "значение X 0.7169742297551037\n",
            "Итерация 305 \n",
            "значение X 0.7169646999620642\n",
            "Итерация 306 \n",
            "значение X 0.716955375396751\n",
            "Итерация 307 \n",
            "значение X 0.7169462516315921\n",
            "Итерация 308 \n",
            "значение X 0.7169373243348728\n",
            "Итерация 309 \n",
            "значение X 0.7169285892686458\n",
            "Итерация 310 \n",
            "значение X 0.7169200422866879\n",
            "Итерация 311 \n",
            "значение X 0.7169116793325016\n",
            "Итерация 312 \n",
            "значение X 0.7169034964373605\n",
            "Итерация 313 \n",
            "значение X 0.7168954897183988\n",
            "Итерация 314 \n",
            "значение X 0.7168876553767415\n",
            "Итерация 315 \n",
            "значение X 0.716879989695677\n",
            "Итерация 316 \n",
            "значение X 0.7168724890388694\n",
            "Итерация 317 \n",
            "значение X 0.7168651498486099\n",
            "Итерация 318 \n",
            "значение X 0.7168579686441078\n",
            "Итерация 319 \n",
            "значение X 0.716850942019817\n",
            "Итерация 320 \n",
            "значение X 0.7168440666438018\n",
            "Итерация 321 \n",
            "значение X 0.7168373392561367\n",
            "Итерация 322 \n",
            "значение X 0.7168307566673418\n",
            "Итерация 323 \n",
            "значение X 0.7168243157568529\n",
            "Итерация 324 \n",
            "значение X 0.7168180134715254\n",
            "Итерация 325 \n",
            "значение X 0.7168118468241699\n",
            "Итерация 326 \n",
            "значение X 0.7168058128921209\n",
            "Итерация 327 \n",
            "значение X 0.7167999088158364\n",
            "Итерация 328 \n",
            "значение X 0.7167941317975286\n",
            "Итерация 329 \n",
            "значение X 0.7167884790998237\n",
            "Итерация 330 \n",
            "значение X 0.7167829480444521\n",
            "Итерация 331 \n",
            "значение X 0.7167775360109667\n",
            "Итерация 332 \n",
            "значение X 0.716772240435489\n",
            "Итерация 333 \n",
            "значение X 0.7167670588094831\n",
            "Итерация 334 \n",
            "значение X 0.7167619886785562\n",
            "Итерация 335 \n",
            "значение X 0.7167570276412856\n",
            "Итерация 336 \n",
            "значение X 0.7167521733480706\n",
            "Итерация 337 \n",
            "значение X 0.7167474235000104\n",
            "Итерация 338 \n",
            "значение X 0.716742775847806\n",
            "Итерация 339 \n",
            "значение X 0.7167382281906858\n",
            "Итерация 340 \n",
            "значение X 0.7167337783753551\n",
            "Итерация 341 \n",
            "значение X 0.7167294242949687\n",
            "Итерация 342 \n",
            "значение X 0.7167251638881247\n",
            "Итерация 343 \n",
            "значение X 0.7167209951378818\n",
            "Итерация 344 \n",
            "значение X 0.7167169160707969\n",
            "Итерация 345 \n",
            "значение X 0.716712924755984\n",
            "Итерация 346 \n",
            "значение X 0.7167090193041938\n",
            "Итерация 347 \n",
            "значение X 0.7167051978669129\n",
            "Итерация 348 \n",
            "значение X 0.716701458635483\n",
            "Итерация 349 \n",
            "значение X 0.7166977998402387\n",
            "Итерация 350 \n",
            "значение X 0.7166942197496654\n",
            "Итерация 351 \n",
            "значение X 0.7166907166695733\n",
            "Итерация 352 \n",
            "значение X 0.7166872889422914\n",
            "Итерация 353 \n",
            "значение X 0.716683934945878\n",
            "Итерация 354 \n",
            "значение X 0.7166806530933487\n",
            "Итерация 355 \n",
            "значение X 0.7166774418319208\n",
            "Итерация 356 \n",
            "значение X 0.7166742996422746\n",
            "Итерация 357 \n",
            "значение X 0.7166712250378303\n",
            "Итерация 358 \n",
            "значение X 0.7166682165640409\n",
            "Итерация 359 \n",
            "значение X 0.7166652727977002\n",
            "Итерация 360 \n",
            "значение X 0.7166623923462662\n",
            "Итерация 361 \n",
            "значение X 0.7166595738471986\n",
            "Итерация 362 \n",
            "значение X 0.7166568159673112\n",
            "Итерация 363 \n",
            "значение X 0.7166541174021384\n",
            "Итерация 364 \n",
            "значение X 0.7166514768753143\n",
            "Итерация 365 \n",
            "значение X 0.7166488931379672\n",
            "Итерация 366 \n",
            "значение X 0.7166463649681255\n",
            "Итерация 367 \n",
            "значение X 0.7166438911701373\n",
            "Итерация 368 \n",
            "значение X 0.7166414705741024\n",
            "Итерация 369 \n",
            "значение X 0.7166391020353167\n",
            "Итерация 370 \n",
            "значение X 0.7166367844337284\n",
            "Итерация 371 \n",
            "значение X 0.716634516673406\n",
            "Итерация 372 \n",
            "значение X 0.7166322976820187\n",
            "Итерация 373 \n",
            "значение X 0.7166301264103262\n",
            "Итерация 374 \n",
            "значение X 0.7166280018316813\n",
            "Итерация 375 \n",
            "значение X 0.7166259229415426\n",
            "Итерация 376 \n",
            "значение X 0.7166238887569973\n",
            "Итерация 377 \n",
            "значение X 0.7166218983162955\n",
            "Итерация 378 \n",
            "значение X 0.7166199506783931\n",
            "Итерация 379 \n",
            "значение X 0.7166180449225057\n",
            "Итерация 380 \n",
            "значение X 0.7166161801476717\n",
            "Итерация 381 \n",
            "значение X 0.7166143554723251\n",
            "Итерация 382 \n",
            "значение X 0.7166125700338771\n",
            "Итерация 383 \n",
            "значение X 0.7166108229883071\n",
            "Итерация 384 \n",
            "значение X 0.7166091135097626\n",
            "Итерация 385 \n",
            "значение X 0.7166074407901674\n",
            "Итерация 386 \n",
            "значение X 0.7166058040388383\n",
            "Итерация 387 \n",
            "значение X 0.7166042024821109\n",
            "Итерация 388 \n",
            "значение X 0.7166026353629721\n",
            "Итерация 389 \n",
            "значение X 0.7166011019407018\n",
            "Итерация 390 \n",
            "значение X 0.7165996014905215\n",
            "Итерация 391 \n",
            "значение X 0.7165981333032508\n",
            "Итерация 392 \n",
            "значение X 0.7165966966849717\n",
            "Итерация 393 \n",
            "значение X 0.7165952909566992\n",
            "Итерация 394 \n",
            "значение X 0.7165939154540599\n",
            "Итерация 395 \n",
            "значение X 0.7165925695269776\n",
            "Итерация 396 \n",
            "значение X 0.7165912525393643\n",
            "Итерация 397 \n",
            "значение X 0.71658996386882\n",
            "Итерация 398 \n",
            "значение X 0.716588702906337\n",
            "Итерация 399 \n",
            "значение X 0.7165874690560121\n",
            "Итерация 400 \n",
            "значение X 0.7165862617347638\n",
            "Итерация 401 \n",
            "значение X 0.7165850803720564\n",
            "Итерация 402 \n",
            "значение X 0.7165839244096299\n",
            "Итерация 403 \n",
            "значение X 0.7165827933012358\n",
            "Итерация 404 \n",
            "значение X 0.7165816865123775\n",
            "Итерация 405 \n",
            "значение X 0.7165806035200587\n",
            "Итерация 406 \n",
            "значение X 0.7165795438125345\n",
            "Итерация 407 \n",
            "значение X 0.7165785068890698\n",
            "Итерация 408 \n",
            "значение X 0.7165774922597019\n",
            "Итерация 409 \n",
            "значение X 0.7165764994450089\n",
            "Локальный минимум 0.7165764994450089\n"
          ]
        }
      ],
      "source": [
        "# Запустите поиск минимума с любой точки, например с точки 10\n",
        "\n",
        "history = get_min_with_gd(10, 10000, 0.01, 0.000001)"
      ]
    },
    {
      "cell_type": "markdown",
      "metadata": {
        "id": "b8yc2ncW-tQ8"
      },
      "source": [
        "2.4. Проверьте, что все работает ожидаемым образом, запустив ячейку ниже"
      ]
    },
    {
      "cell_type": "code",
      "execution_count": null,
      "metadata": {
        "colab": {
          "base_uri": "https://localhost:8080/",
          "height": 468
        },
        "id": "5vt4rTuz-soL",
        "outputId": "a5630e61-ee99-428e-c815-4a200c6ab6e8"
      },
      "outputs": [
        {
          "output_type": "display_data",
          "data": {
            "text/plain": [
              "<Figure size 1440x576 with 1 Axes>"
            ],
            "image/png": "[encoded data removed]"
          },
          "metadata": {}
        }
      ],
      "source": [
        "plt.figure(figsize=(20, 8))\n",
        "\n",
        "# Отрисуем то, как менялись координаты в процессе поиска минимума\n",
        "plt.plot(history)\n",
        "plt.xlabel('Номер итерации')\n",
        "plt.ylabel('Значение аргумента на итерации')\n",
        "plt.show();"
      ]
    },
    {
      "cell_type": "code",
      "execution_count": null,
      "metadata": {
        "colab": {
          "base_uri": "https://localhost:8080/",
          "height": 518
        },
        "id": "RU3rznZVNQyy",
        "outputId": "94d04f1d-da1b-44c3-b35a-0977c9bb1ab9"
      },
      "outputs": [
        {
          "output_type": "stream",
          "name": "stderr",
          "text": [
            "/usr/local/lib/python3.7/dist-packages/ipykernel_launcher.py:2: RuntimeWarning: invalid value encountered in log\n",
            "  \n"
          ]
        },
        {
          "output_type": "display_data",
          "data": {
            "text/plain": [
              "<Figure size 864x576 with 1 Axes>"
            ],
            "image/png": "[encoded data removed]"
          },
          "metadata": {}
        }
      ],
      "source": [
        "# Отрисуем путь, который прошел наш алгоритм прежде чем сойтись в минимум\n",
        "fig = plt.figure(figsize=(12,8))\n",
        "\n",
        "ax = fig.add_subplot()\n",
        "\n",
        "# Отрисовываем функцию\n",
        "ax.plot(x_range, y(x_range))\n",
        "ax.plot(history, y(history),color='red')\n",
        "ax.plot(history, y(history),color='purple', marker = 'o')\n",
        "\n",
        "fig.show();"
      ]
    },
    {
      "cell_type": "markdown",
      "metadata": {
        "id": "r_lVVaJl2Ncb"
      },
      "source": [
        "## Регрессия"
      ]
    },
    {
      "cell_type": "markdown",
      "metadata": {
        "id": "3pECYqXD2VjG"
      },
      "source": [
        "С 1ого октября отменяется НДС на бриллианты, теперь они становятся новым инвестиционным инструментом. Давайте сделаем модель ценообразования для них.\n",
        "\n",
        "Скачайте датасет diamonds.csv\n",
        "\n",
        "В нем представлены характеристики бриллиантов и их цены с сайта jamesallen (B2C площадка) с 2022-07-01\n",
        "\n",
        "**Описание полей**\n",
        "\n",
        "\n",
        "* fluor - флуорисценуия (свойство камня светиться в лучах ультр)\n",
        "* symmetry - показатель симметричности\n",
        "* platform - название платформы, где был размещен камень\n",
        "* quality_group - составной показатель из cut polish symmetry\n",
        "* size_group - каратно весовая группа\n",
        "* big_size_group - каратно-весовая группа\n",
        "* shape - форма\n",
        "* color - цвет\n",
        "* clarity - чистота\n",
        "* cut - качество огранки (может быть только у круглых камней)\n",
        "* polish - полировка\n",
        "* id - номер камня\n",
        "* date - дата\n",
        "* price - цена\n",
        "* carat - кол-во карат\n",
        "* tablepercent - размер площадки по отношению ширине\n",
        "* price_per_carat - цена за карат\n",
        "* z - длина (diameter)\n",
        "* x - ширина\n",
        "* depth_perc - отношение высоты к ширине\n",
        "* y - высота\n",
        "\n"
      ]
    },
    {
      "cell_type": "code",
      "execution_count": null,
      "metadata": {
        "id": "iOnp-6t565z8"
      },
      "outputs": [],
      "source": [
        "import pandas as pd\n",
        "import numpy as np"
      ]
    },
    {
      "cell_type": "code",
      "execution_count": null,
      "metadata": {
        "colab": {
          "base_uri": "https://localhost:8080/"
        },
        "id": "C4f2-y_7bfv8",
        "outputId": "d46bec0d-648e-409d-e662-c9cb076b6e3b"
      },
      "outputs": [
        {
          "output_type": "stream",
          "name": "stdout",
          "text": [
            "Drive already mounted at /content/drive; to attempt to forcibly remount, call drive.mount(\"/content/drive\", force_remount=True).\n"
          ]
        }
      ],
      "source": [
        "from google.colab import drive\n",
        "drive.mount('/content/drive')\n",
        "\n",
        "path = 'drive/MyDrive/'"
      ]
    },
    {
      "cell_type": "code",
      "execution_count": null,
      "metadata": {
        "id": "iG7MP6VZ2UZN"
      },
      "outputs": [],
      "source": [
        "df = pd.read_csv(path + 'diamonds.csv', index_col=0)"
      ]
    },
    {
      "cell_type": "code",
      "execution_count": null,
      "metadata": {
        "colab": {
          "base_uri": "https://localhost:8080/",
          "height": 270
        },
        "id": "CS9lySnWbf6P",
        "outputId": "0cd161be-c7e7-4ca3-cca3-c207afad5662"
      },
      "outputs": [
        {
          "output_type": "execute_result",
          "data": {
            "text/plain": [
              "       fluor symmetry    platform shape color clarity  cut polish        id  \\\n",
              "135269  NONE       EX  jamesallen    PS     F     SI1  NaN     EX  13870838   \n",
              "48477    MED       EX  jamesallen    RD     H    VVS2   EX     EX  11725253   \n",
              "236786  NONE       EX  jamesallen    EM     H      IF  NaN     EX  14444347   \n",
              "235781  NONE       EX  jamesallen    RD     E     VS2   EX     EX  14438434   \n",
              "277744  NONE       VG  jamesallen    RD     F     VS1   VG     EX  14615276   \n",
              "\n",
              "          date    price  carat  price_per_carat      z     x  depth_perc  \\\n",
              "135269  202206  12850.0   1.55          8290.32  10.29  6.41        62.0   \n",
              "48477   202207   7510.0   1.02          7362.75   6.41  6.45        62.5   \n",
              "236786  202205  21220.0   2.01         10557.21   8.60  6.37        65.0   \n",
              "235781  202207   8660.0   1.00          8660.00   6.39  6.44        61.4   \n",
              "277744  202206   8480.0   1.00          8480.00   6.28  6.36        62.3   \n",
              "\n",
              "              y  \n",
              "135269  3.97420  \n",
              "48477   4.03125  \n",
              "236786  4.14050  \n",
              "235781  3.95416  \n",
              "277744  3.96228  "
            ],
            "text/html": [
              "\n",
              "  <div id=\"df-3e14a2ac-b7d5-4261-9c39-fa0a8e88e4cd\">\n",
              "    <div class=\"colab-df-container\">\n",
              "      <div>\n",
              "<style scoped>\n",
              "    .dataframe tbody tr th:only-of-type {\n",
              "        vertical-align: middle;\n",
              "    }\n",
              "\n",
              "    .dataframe tbody tr th {\n",
              "        vertical-align: top;\n",
              "    }\n",
              "\n",
              "    .dataframe thead th {\n",
              "        text-align: right;\n",
              "    }\n",
              "</style>\n",
              "<table border=\"1\" class=\"dataframe\">\n",
              "  <thead>\n",
              "    <tr style=\"text-align: right;\">\n",
              "      <th></th>\n",
              "      <th>fluor</th>\n",
              "      <th>symmetry</th>\n",
              "      <th>platform</th>\n",
              "      <th>shape</th>\n",
              "      <th>color</th>\n",
              "      <th>clarity</th>\n",
              "      <th>cut</th>\n",
              "      <th>polish</th>\n",
              "      <th>id</th>\n",
              "      <th>date</th>\n",
              "      <th>price</th>\n",
              "      <th>carat</th>\n",
              "      <th>price_per_carat</th>\n",
              "      <th>z</th>\n",
              "      <th>x</th>\n",
              "      <th>depth_perc</th>\n",
              "      <th>y</th>\n",
              "    </tr>\n",
              "  </thead>\n",
              "  <tbody>\n",
              "    <tr>\n",
              "      <th>135269</th>\n",
              "      <td>NONE</td>\n",
              "      <td>EX</td>\n",
              "      <td>jamesallen</td>\n",
              "      <td>PS</td>\n",
              "      <td>F</td>\n",
              "      <td>SI1</td>\n",
              "      <td>NaN</td>\n",
              "      <td>EX</td>\n",
              "      <td>13870838</td>\n",
              "      <td>202206</td>\n",
              "      <td>12850.0</td>\n",
              "      <td>1.55</td>\n",
              "      <td>8290.32</td>\n",
              "      <td>10.29</td>\n",
              "      <td>6.41</td>\n",
              "      <td>62.0</td>\n",
              "      <td>3.97420</td>\n",
              "    </tr>\n",
              "    <tr>\n",
              "      <th>48477</th>\n",
              "      <td>MED</td>\n",
              "      <td>EX</td>\n",
              "      <td>jamesallen</td>\n",
              "      <td>RD</td>\n",
              "      <td>H</td>\n",
              "      <td>VVS2</td>\n",
              "      <td>EX</td>\n",
              "      <td>EX</td>\n",
              "      <td>11725253</td>\n",
              "      <td>202207</td>\n",
              "      <td>7510.0</td>\n",
              "      <td>1.02</td>\n",
              "      <td>7362.75</td>\n",
              "      <td>6.41</td>\n",
              "      <td>6.45</td>\n",
              "      <td>62.5</td>\n",
              "      <td>4.03125</td>\n",
              "    </tr>\n",
              "    <tr>\n",
              "      <th>236786</th>\n",
              "      <td>NONE</td>\n",
              "      <td>EX</td>\n",
              "      <td>jamesallen</td>\n",
              "      <td>EM</td>\n",
              "      <td>H</td>\n",
              "      <td>IF</td>\n",
              "      <td>NaN</td>\n",
              "      <td>EX</td>\n",
              "      <td>14444347</td>\n",
              "      <td>202205</td>\n",
              "      <td>21220.0</td>\n",
              "      <td>2.01</td>\n",
              "      <td>10557.21</td>\n",
              "      <td>8.60</td>\n",
              "      <td>6.37</td>\n",
              "      <td>65.0</td>\n",
              "      <td>4.14050</td>\n",
              "    </tr>\n",
              "    <tr>\n",
              "      <th>235781</th>\n",
              "      <td>NONE</td>\n",
              "      <td>EX</td>\n",
              "      <td>jamesallen</td>\n",
              "      <td>RD</td>\n",
              "      <td>E</td>\n",
              "      <td>VS2</td>\n",
              "      <td>EX</td>\n",
              "      <td>EX</td>\n",
              "      <td>14438434</td>\n",
              "      <td>202207</td>\n",
              "      <td>8660.0</td>\n",
              "      <td>1.00</td>\n",
              "      <td>8660.00</td>\n",
              "      <td>6.39</td>\n",
              "      <td>6.44</td>\n",
              "      <td>61.4</td>\n",
              "      <td>3.95416</td>\n",
              "    </tr>\n",
              "    <tr>\n",
              "      <th>277744</th>\n",
              "      <td>NONE</td>\n",
              "      <td>VG</td>\n",
              "      <td>jamesallen</td>\n",
              "      <td>RD</td>\n",
              "      <td>F</td>\n",
              "      <td>VS1</td>\n",
              "      <td>VG</td>\n",
              "      <td>EX</td>\n",
              "      <td>14615276</td>\n",
              "      <td>202206</td>\n",
              "      <td>8480.0</td>\n",
              "      <td>1.00</td>\n",
              "      <td>8480.00</td>\n",
              "      <td>6.28</td>\n",
              "      <td>6.36</td>\n",
              "      <td>62.3</td>\n",
              "      <td>3.96228</td>\n",
              "    </tr>\n",
              "  </tbody>\n",
              "</table>\n",
              "</div>\n",
              "      <button class=\"colab-df-convert\" onclick=\"convertToInteractive('df-3e14a2ac-b7d5-4261-9c39-fa0a8e88e4cd')\"\n",
              "              title=\"Convert this dataframe to an interactive table.\"\n",
              "              style=\"display:none;\">\n",
              "        \n",
              "  <svg xmlns=\"http://www.w3.org/2000/svg\" height=\"24px\"viewBox=\"0 0 24 24\"\n",
              "       width=\"24px\">\n",
              "    <path d=\"M0 0h24v24H0V0z\" fill=\"none\"/>\n",
              "    <path d=\"M18.56 5.44l.94 2.06.94-2.06 2.06-.94-2.06-.94-.94-2.06-.94 2.06-2.06.94zm-11 1L8.5 8.5l.94-2.06 2.06-.94-2.06-.94L8.5 2.5l-.94 2.06-2.06.94zm10 10l.94 2.06.94-2.06 2.06-.94-2.06-.94-.94-2.06-.94 2.06-2.06.94z\"/><path d=\"M17.41 7.96l-1.37-1.37c-.4-.4-.92-.59-1.43-.59-.52 0-1.04.2-1.43.59L10.3 9.45l-7.72 7.72c-.78.78-.78 2.05 0 2.83L4 21.41c.39.39.9.59 1.41.59.51 0 1.02-.2 1.41-.59l7.78-7.78 2.81-2.81c.8-.78.8-2.07 0-2.86zM5.41 20L4 18.59l7.72-7.72 1.47 1.35L5.41 20z\"/>\n",
              "  </svg>\n",
              "      </button>\n",
              "      \n",
              "  <style>\n",
              "    .colab-df-container {\n",
              "      display:flex;\n",
              "      flex-wrap:wrap;\n",
              "      gap: 12px;\n",
              "    }\n",
              "\n",
              "    .colab-df-convert {\n",
              "      background-color: #E8F0FE;\n",
              "      border: none;\n",
              "      border-radius: 50%;\n",
              "      cursor: pointer;\n",
              "      display: none;\n",
              "      fill: #1967D2;\n",
              "      height: 32px;\n",
              "      padding: 0 0 0 0;\n",
              "      width: 32px;\n",
              "    }\n",
              "\n",
              "    .colab-df-convert:hover {\n",
              "      background-color: #E2EBFA;\n",
              "      box-shadow: 0px 1px 2px rgba(60, 64, 67, 0.3), 0px 1px 3px 1px rgba(60, 64, 67, 0.15);\n",
              "      fill: #174EA6;\n",
              "    }\n",
              "\n",
              "    [theme=dark] .colab-df-convert {\n",
              "      background-color: #3B4455;\n",
              "      fill: #D2E3FC;\n",
              "    }\n",
              "\n",
              "    [theme=dark] .colab-df-convert:hover {\n",
              "      background-color: #434B5C;\n",
              "      box-shadow: 0px 1px 3px 1px rgba(0, 0, 0, 0.15);\n",
              "      filter: drop-shadow(0px 1px 2px rgba(0, 0, 0, 0.3));\n",
              "      fill: #FFFFFF;\n",
              "    }\n",
              "  </style>\n",
              "\n",
              "      <script>\n",
              "        const buttonEl =\n",
              "          document.querySelector('#df-3e14a2ac-b7d5-4261-9c39-fa0a8e88e4cd button.colab-df-convert');\n",
              "        buttonEl.style.display =\n",
              "          google.colab.kernel.accessAllowed ? 'block' : 'none';\n",
              "\n",
              "        async function convertToInteractive(key) {\n",
              "          const element = document.querySelector('#df-3e14a2ac-b7d5-4261-9c39-fa0a8e88e4cd');\n",
              "          const dataTable =\n",
              "            await google.colab.kernel.invokeFunction('convertToInteractive',\n",
              "                                                     [key], {});\n",
              "          if (!dataTable) return;\n",
              "\n",
              "          const docLinkHtml = 'Like what you see? Visit the ' +\n",
              "            '<a target=\"_blank\" href=https://colab.research.google.com/notebooks/data_table.ipynb>data table notebook</a>'\n",
              "            + ' to learn more about interactive tables.';\n",
              "          element.innerHTML = '';\n",
              "          dataTable['output_type'] = 'display_data';\n",
              "          await google.colab.output.renderOutput(dataTable, element);\n",
              "          const docLink = document.createElement('div');\n",
              "          docLink.innerHTML = docLinkHtml;\n",
              "          element.appendChild(docLink);\n",
              "        }\n",
              "      </script>\n",
              "    </div>\n",
              "  </div>\n",
              "  "
            ]
          },
          "metadata": {},
          "execution_count": 37
        }
      ],
      "source": [
        "df.head()"
      ]
    },
    {
      "cell_type": "markdown",
      "metadata": {
        "id": "PD8Sv2_ktIqx"
      },
      "source": [
        "Необходимо предсказать `price_per_carat`"
      ]
    },
    {
      "cell_type": "markdown",
      "metadata": {
        "id": "HEBGHQkD7DWw"
      },
      "source": [
        "### Задание 1: Очистка\n",
        "\n",
        "Не все камни успевают продаться за один месяц, поэтому в таблице есть повторы. Объедините данные по одному камню: подумайте, как лучше это сделать, какую цену брать.\n",
        "\n",
        "**Попробуйте найти аномалии:** вдруг цена на некоторые камни сильно меняется (то есть продавец сам не знает, по какой цене их продавать). Также убедитесь, что остальные параметры камня не меняются."
      ]
    },
    {
      "cell_type": "markdown",
      "metadata": {
        "id": "reYFWBsmcGYt"
      },
      "source": [
        "Т.к. не все камни продаются за месяц, а цена на камни может поменяться с течением месяца, то будем брать цену за последний месяц, который доступен в данных"
      ]
    },
    {
      "cell_type": "code",
      "execution_count": null,
      "metadata": {
        "id": "uAsY1LGEobsR"
      },
      "outputs": [],
      "source": [
        "id_stat = df.groupby(by='id')['carat'].count().to_frame() #Посчитайте статистику по кол-ву камней"
      ]
    },
    {
      "cell_type": "code",
      "execution_count": null,
      "metadata": {
        "id": "HLj-S1BIoe5S"
      },
      "outputs": [],
      "source": [
        "df_one = df.query(\"id in @id_stat.query('carat==1').index\")  # те камни, которые встречались один раз"
      ]
    },
    {
      "cell_type": "code",
      "execution_count": null,
      "metadata": {
        "id": "FLo6VnVbohB-"
      },
      "outputs": [],
      "source": [
        "df_three = df.query(\"id in @id_stat.query('carat==2 or carat == 3').index\") # те камни, которые встречались 2 или 3 раза"
      ]
    },
    {
      "cell_type": "code",
      "execution_count": null,
      "metadata": {
        "id": "MTRZ87RmovVn"
      },
      "outputs": [],
      "source": [
        "stat = df_three.groupby('id')[['price', 'carat', 'price_per_carat', 'z', 'x', 'depth_perc', 'y']].agg(np.std) # Посчитайте дстандартное отклонение по нескольким полям,\n",
        "#  подумайте где оно должно равняться 0, а где меняться в каких-то разумных пределах"
      ]
    },
    {
      "cell_type": "markdown",
      "metadata": {
        "id": "LnE-TDGelPa7"
      },
      "source": [
        "Стандартное отклонение не должно меняться в столбце y(высота), dept_perc(Отношение высоты к ширине), т.к. размеры камня неизменны, и в столбце carat (количество карат)"
      ]
    },
    {
      "cell_type": "code",
      "execution_count": null,
      "metadata": {
        "colab": {
          "base_uri": "https://localhost:8080/"
        },
        "id": "K6d1VVCCrrey",
        "outputId": "c164c592-8d42-4f23-a102-f9abf8121828"
      },
      "outputs": [
        {
          "output_type": "execute_result",
          "data": {
            "text/plain": [
              "jamesallen    222218\n",
              "Name: platform, dtype: int64"
            ]
          },
          "metadata": {},
          "execution_count": 42
        }
      ],
      "source": [
        "#Предположим, что на разных платформах указывают разные размеры камня\n",
        "df['platform'].value_counts()"
      ]
    },
    {
      "cell_type": "markdown",
      "metadata": {
        "id": "8cnS1kIrr14Z"
      },
      "source": [
        "Все камни размещены на одной платформе, значит предположение неверно и размер камня не может меняться"
      ]
    },
    {
      "cell_type": "markdown",
      "metadata": {
        "id": "WjAw0vkkpnyT"
      },
      "source": [
        "Цена камня формируется следующим образом: price_per_carat*carat => price может измениться, если изменится цена за карат"
      ]
    },
    {
      "cell_type": "markdown",
      "metadata": {
        "id": "7C58JBDJpIfV"
      },
      "source": [
        "Стандартное отклонение в столбце price = 0 значит, что цена на товар не менялась, соответственно цена за карат тоже"
      ]
    },
    {
      "cell_type": "code",
      "execution_count": null,
      "metadata": {
        "colab": {
          "base_uri": "https://localhost:8080/",
          "height": 206
        },
        "id": "9Fxj5i0to86s",
        "outputId": "5100956b-b307-4d43-9f3e-5a24acdeb709"
      },
      "outputs": [
        {
          "output_type": "execute_result",
          "data": {
            "text/plain": [
              "          price     carat  price_per_carat         z         x  depth_perc  \\\n",
              "id                                                                           \n",
              "13636926    0.0  0.014142       120.851620  0.000000  0.000000    0.141421   \n",
              "14040944    0.0  0.035355       343.505403  0.021213  0.007071    0.070711   \n",
              "14772485    0.0  0.056569       468.012765  0.000000  0.000000    0.070711   \n",
              "14789652    0.0  0.035355       388.533963  0.042426  0.049497    0.282843   \n",
              "\n",
              "                 y  \n",
              "id                  \n",
              "13636926  0.009560  \n",
              "14040944  0.000028  \n",
              "14772485  0.004469  \n",
              "14789652  0.048182  "
            ],
            "text/html": [
              "\n",
              "  <div id=\"df-1174780e-c6c7-4c6d-965c-ec7e5a8a437a\">\n",
              "    <div class=\"colab-df-container\">\n",
              "      <div>\n",
              "<style scoped>\n",
              "    .dataframe tbody tr th:only-of-type {\n",
              "        vertical-align: middle;\n",
              "    }\n",
              "\n",
              "    .dataframe tbody tr th {\n",
              "        vertical-align: top;\n",
              "    }\n",
              "\n",
              "    .dataframe thead th {\n",
              "        text-align: right;\n",
              "    }\n",
              "</style>\n",
              "<table border=\"1\" class=\"dataframe\">\n",
              "  <thead>\n",
              "    <tr style=\"text-align: right;\">\n",
              "      <th></th>\n",
              "      <th>price</th>\n",
              "      <th>carat</th>\n",
              "      <th>price_per_carat</th>\n",
              "      <th>z</th>\n",
              "      <th>x</th>\n",
              "      <th>depth_perc</th>\n",
              "      <th>y</th>\n",
              "    </tr>\n",
              "    <tr>\n",
              "      <th>id</th>\n",
              "      <th></th>\n",
              "      <th></th>\n",
              "      <th></th>\n",
              "      <th></th>\n",
              "      <th></th>\n",
              "      <th></th>\n",
              "      <th></th>\n",
              "    </tr>\n",
              "  </thead>\n",
              "  <tbody>\n",
              "    <tr>\n",
              "      <th>13636926</th>\n",
              "      <td>0.0</td>\n",
              "      <td>0.014142</td>\n",
              "      <td>120.851620</td>\n",
              "      <td>0.000000</td>\n",
              "      <td>0.000000</td>\n",
              "      <td>0.141421</td>\n",
              "      <td>0.009560</td>\n",
              "    </tr>\n",
              "    <tr>\n",
              "      <th>14040944</th>\n",
              "      <td>0.0</td>\n",
              "      <td>0.035355</td>\n",
              "      <td>343.505403</td>\n",
              "      <td>0.021213</td>\n",
              "      <td>0.007071</td>\n",
              "      <td>0.070711</td>\n",
              "      <td>0.000028</td>\n",
              "    </tr>\n",
              "    <tr>\n",
              "      <th>14772485</th>\n",
              "      <td>0.0</td>\n",
              "      <td>0.056569</td>\n",
              "      <td>468.012765</td>\n",
              "      <td>0.000000</td>\n",
              "      <td>0.000000</td>\n",
              "      <td>0.070711</td>\n",
              "      <td>0.004469</td>\n",
              "    </tr>\n",
              "    <tr>\n",
              "      <th>14789652</th>\n",
              "      <td>0.0</td>\n",
              "      <td>0.035355</td>\n",
              "      <td>388.533963</td>\n",
              "      <td>0.042426</td>\n",
              "      <td>0.049497</td>\n",
              "      <td>0.282843</td>\n",
              "      <td>0.048182</td>\n",
              "    </tr>\n",
              "  </tbody>\n",
              "</table>\n",
              "</div>\n",
              "      <button class=\"colab-df-convert\" onclick=\"convertToInteractive('df-1174780e-c6c7-4c6d-965c-ec7e5a8a437a')\"\n",
              "              title=\"Convert this dataframe to an interactive table.\"\n",
              "              style=\"display:none;\">\n",
              "        \n",
              "  <svg xmlns=\"http://www.w3.org/2000/svg\" height=\"24px\"viewBox=\"0 0 24 24\"\n",
              "       width=\"24px\">\n",
              "    <path d=\"M0 0h24v24H0V0z\" fill=\"none\"/>\n",
              "    <path d=\"M18.56 5.44l.94 2.06.94-2.06 2.06-.94-2.06-.94-.94-2.06-.94 2.06-2.06.94zm-11 1L8.5 8.5l.94-2.06 2.06-.94-2.06-.94L8.5 2.5l-.94 2.06-2.06.94zm10 10l.94 2.06.94-2.06 2.06-.94-2.06-.94-.94-2.06-.94 2.06-2.06.94z\"/><path d=\"M17.41 7.96l-1.37-1.37c-.4-.4-.92-.59-1.43-.59-.52 0-1.04.2-1.43.59L10.3 9.45l-7.72 7.72c-.78.78-.78 2.05 0 2.83L4 21.41c.39.39.9.59 1.41.59.51 0 1.02-.2 1.41-.59l7.78-7.78 2.81-2.81c.8-.78.8-2.07 0-2.86zM5.41 20L4 18.59l7.72-7.72 1.47 1.35L5.41 20z\"/>\n",
              "  </svg>\n",
              "      </button>\n",
              "      \n",
              "  <style>\n",
              "    .colab-df-container {\n",
              "      display:flex;\n",
              "      flex-wrap:wrap;\n",
              "      gap: 12px;\n",
              "    }\n",
              "\n",
              "    .colab-df-convert {\n",
              "      background-color: #E8F0FE;\n",
              "      border: none;\n",
              "      border-radius: 50%;\n",
              "      cursor: pointer;\n",
              "      display: none;\n",
              "      fill: #1967D2;\n",
              "      height: 32px;\n",
              "      padding: 0 0 0 0;\n",
              "      width: 32px;\n",
              "    }\n",
              "\n",
              "    .colab-df-convert:hover {\n",
              "      background-color: #E2EBFA;\n",
              "      box-shadow: 0px 1px 2px rgba(60, 64, 67, 0.3), 0px 1px 3px 1px rgba(60, 64, 67, 0.15);\n",
              "      fill: #174EA6;\n",
              "    }\n",
              "\n",
              "    [theme=dark] .colab-df-convert {\n",
              "      background-color: #3B4455;\n",
              "      fill: #D2E3FC;\n",
              "    }\n",
              "\n",
              "    [theme=dark] .colab-df-convert:hover {\n",
              "      background-color: #434B5C;\n",
              "      box-shadow: 0px 1px 3px 1px rgba(0, 0, 0, 0.15);\n",
              "      filter: drop-shadow(0px 1px 2px rgba(0, 0, 0, 0.3));\n",
              "      fill: #FFFFFF;\n",
              "    }\n",
              "  </style>\n",
              "\n",
              "      <script>\n",
              "        const buttonEl =\n",
              "          document.querySelector('#df-1174780e-c6c7-4c6d-965c-ec7e5a8a437a button.colab-df-convert');\n",
              "        buttonEl.style.display =\n",
              "          google.colab.kernel.accessAllowed ? 'block' : 'none';\n",
              "\n",
              "        async function convertToInteractive(key) {\n",
              "          const element = document.querySelector('#df-1174780e-c6c7-4c6d-965c-ec7e5a8a437a');\n",
              "          const dataTable =\n",
              "            await google.colab.kernel.invokeFunction('convertToInteractive',\n",
              "                                                     [key], {});\n",
              "          if (!dataTable) return;\n",
              "\n",
              "          const docLinkHtml = 'Like what you see? Visit the ' +\n",
              "            '<a target=\"_blank\" href=https://colab.research.google.com/notebooks/data_table.ipynb>data table notebook</a>'\n",
              "            + ' to learn more about interactive tables.';\n",
              "          element.innerHTML = '';\n",
              "          dataTable['output_type'] = 'display_data';\n",
              "          await google.colab.output.renderOutput(dataTable, element);\n",
              "          const docLink = document.createElement('div');\n",
              "          docLink.innerHTML = docLinkHtml;\n",
              "          element.appendChild(docLink);\n",
              "        }\n",
              "      </script>\n",
              "    </div>\n",
              "  </div>\n",
              "  "
            ]
          },
          "metadata": {},
          "execution_count": 43
        }
      ],
      "source": [
        "#Посмотрим, есть ли камни, где цена за карат изменилась, а цена камня - нет\n",
        "stat.query('price == 0 and price_per_carat>0')"
      ]
    },
    {
      "cell_type": "code",
      "execution_count": null,
      "metadata": {
        "colab": {
          "base_uri": "https://localhost:8080/",
          "height": 266
        },
        "id": "paYkC8h9EKGd",
        "outputId": "76d14eb0-b518-4f2c-df49-4836fa31138d"
      },
      "outputs": [
        {
          "output_type": "display_data",
          "data": {
            "text/plain": [
              "<Figure size 432x288 with 1 Axes>"
            ],
            "image/png": "[encoded data removed]"
          },
          "metadata": {
            "needs_background": "light"
          }
        }
      ],
      "source": [
        "stat.price_per_carat.plot.box();"
      ]
    },
    {
      "cell_type": "code",
      "execution_count": null,
      "metadata": {
        "colab": {
          "base_uri": "https://localhost:8080/",
          "height": 455
        },
        "id": "dWvGYX_hsIIq",
        "outputId": "59829d6e-06fe-4516-80c2-bb87399bfb3f"
      },
      "outputs": [
        {
          "output_type": "execute_result",
          "data": {
            "text/plain": [
              "                 price  carat  price_per_carat    z    x  depth_perc         y\n",
              "id                                                                            \n",
              "19423       334.863156    0.0       318.916742  0.0  0.0    0.404145  0.026835\n",
              "19501       831.384388    0.0       415.692194  0.0  0.0    0.346410  0.027436\n",
              "19504         0.000000    0.0         0.000000  0.0  0.0    0.212132  0.014213\n",
              "19505       813.172798    0.0       404.564074  0.0  0.0    0.353553  0.028602\n",
              "19585        56.568542    0.0        61.490006  0.0  0.0    0.141421  0.007396\n",
              "...                ...    ...              ...  ...  ...         ...       ...\n",
              "14894411    212.132034    0.0       198.251528  0.0  0.0    0.424264  0.027917\n",
              "14894415      0.000000    0.0         0.000000  0.0  0.0    0.494975  0.036133\n",
              "14894420      0.000000    0.0         0.000000  0.0  0.0    0.353553  0.018067\n",
              "14894449      0.000000    0.0         0.000000  0.0  0.0    0.424264  0.026856\n",
              "15111346  79160.604154    0.0     10512.697937  0.0  0.0    0.000000  0.000000\n",
              "\n",
              "[30367 rows x 7 columns]"
            ],
            "text/html": [
              "\n",
              "  <div id=\"df-51cf64e4-b1ca-494a-a587-5b3ded466407\">\n",
              "    <div class=\"colab-df-container\">\n",
              "      <div>\n",
              "<style scoped>\n",
              "    .dataframe tbody tr th:only-of-type {\n",
              "        vertical-align: middle;\n",
              "    }\n",
              "\n",
              "    .dataframe tbody tr th {\n",
              "        vertical-align: top;\n",
              "    }\n",
              "\n",
              "    .dataframe thead th {\n",
              "        text-align: right;\n",
              "    }\n",
              "</style>\n",
              "<table border=\"1\" class=\"dataframe\">\n",
              "  <thead>\n",
              "    <tr style=\"text-align: right;\">\n",
              "      <th></th>\n",
              "      <th>price</th>\n",
              "      <th>carat</th>\n",
              "      <th>price_per_carat</th>\n",
              "      <th>z</th>\n",
              "      <th>x</th>\n",
              "      <th>depth_perc</th>\n",
              "      <th>y</th>\n",
              "    </tr>\n",
              "    <tr>\n",
              "      <th>id</th>\n",
              "      <th></th>\n",
              "      <th></th>\n",
              "      <th></th>\n",
              "      <th></th>\n",
              "      <th></th>\n",
              "      <th></th>\n",
              "      <th></th>\n",
              "    </tr>\n",
              "  </thead>\n",
              "  <tbody>\n",
              "    <tr>\n",
              "      <th>19423</th>\n",
              "      <td>334.863156</td>\n",
              "      <td>0.0</td>\n",
              "      <td>318.916742</td>\n",
              "      <td>0.0</td>\n",
              "      <td>0.0</td>\n",
              "      <td>0.404145</td>\n",
              "      <td>0.026835</td>\n",
              "    </tr>\n",
              "    <tr>\n",
              "      <th>19501</th>\n",
              "      <td>831.384388</td>\n",
              "      <td>0.0</td>\n",
              "      <td>415.692194</td>\n",
              "      <td>0.0</td>\n",
              "      <td>0.0</td>\n",
              "      <td>0.346410</td>\n",
              "      <td>0.027436</td>\n",
              "    </tr>\n",
              "    <tr>\n",
              "      <th>19504</th>\n",
              "      <td>0.000000</td>\n",
              "      <td>0.0</td>\n",
              "      <td>0.000000</td>\n",
              "      <td>0.0</td>\n",
              "      <td>0.0</td>\n",
              "      <td>0.212132</td>\n",
              "      <td>0.014213</td>\n",
              "    </tr>\n",
              "    <tr>\n",
              "      <th>19505</th>\n",
              "      <td>813.172798</td>\n",
              "      <td>0.0</td>\n",
              "      <td>404.564074</td>\n",
              "      <td>0.0</td>\n",
              "      <td>0.0</td>\n",
              "      <td>0.353553</td>\n",
              "      <td>0.028602</td>\n",
              "    </tr>\n",
              "    <tr>\n",
              "      <th>19585</th>\n",
              "      <td>56.568542</td>\n",
              "      <td>0.0</td>\n",
              "      <td>61.490006</td>\n",
              "      <td>0.0</td>\n",
              "      <td>0.0</td>\n",
              "      <td>0.141421</td>\n",
              "      <td>0.007396</td>\n",
              "    </tr>\n",
              "    <tr>\n",
              "      <th>...</th>\n",
              "      <td>...</td>\n",
              "      <td>...</td>\n",
              "      <td>...</td>\n",
              "      <td>...</td>\n",
              "      <td>...</td>\n",
              "      <td>...</td>\n",
              "      <td>...</td>\n",
              "    </tr>\n",
              "    <tr>\n",
              "      <th>14894411</th>\n",
              "      <td>212.132034</td>\n",
              "      <td>0.0</td>\n",
              "      <td>198.251528</td>\n",
              "      <td>0.0</td>\n",
              "      <td>0.0</td>\n",
              "      <td>0.424264</td>\n",
              "      <td>0.027917</td>\n",
              "    </tr>\n",
              "    <tr>\n",
              "      <th>14894415</th>\n",
              "      <td>0.000000</td>\n",
              "      <td>0.0</td>\n",
              "      <td>0.000000</td>\n",
              "      <td>0.0</td>\n",
              "      <td>0.0</td>\n",
              "      <td>0.494975</td>\n",
              "      <td>0.036133</td>\n",
              "    </tr>\n",
              "    <tr>\n",
              "      <th>14894420</th>\n",
              "      <td>0.000000</td>\n",
              "      <td>0.0</td>\n",
              "      <td>0.000000</td>\n",
              "      <td>0.0</td>\n",
              "      <td>0.0</td>\n",
              "      <td>0.353553</td>\n",
              "      <td>0.018067</td>\n",
              "    </tr>\n",
              "    <tr>\n",
              "      <th>14894449</th>\n",
              "      <td>0.000000</td>\n",
              "      <td>0.0</td>\n",
              "      <td>0.000000</td>\n",
              "      <td>0.0</td>\n",
              "      <td>0.0</td>\n",
              "      <td>0.424264</td>\n",
              "      <td>0.026856</td>\n",
              "    </tr>\n",
              "    <tr>\n",
              "      <th>15111346</th>\n",
              "      <td>79160.604154</td>\n",
              "      <td>0.0</td>\n",
              "      <td>10512.697937</td>\n",
              "      <td>0.0</td>\n",
              "      <td>0.0</td>\n",
              "      <td>0.000000</td>\n",
              "      <td>0.000000</td>\n",
              "    </tr>\n",
              "  </tbody>\n",
              "</table>\n",
              "<p>30367 rows × 7 columns</p>\n",
              "</div>\n",
              "      <button class=\"colab-df-convert\" onclick=\"convertToInteractive('df-51cf64e4-b1ca-494a-a587-5b3ded466407')\"\n",
              "              title=\"Convert this dataframe to an interactive table.\"\n",
              "              style=\"display:none;\">\n",
              "        \n",
              "  <svg xmlns=\"http://www.w3.org/2000/svg\" height=\"24px\"viewBox=\"0 0 24 24\"\n",
              "       width=\"24px\">\n",
              "    <path d=\"M0 0h24v24H0V0z\" fill=\"none\"/>\n",
              "    <path d=\"M18.56 5.44l.94 2.06.94-2.06 2.06-.94-2.06-.94-.94-2.06-.94 2.06-2.06.94zm-11 1L8.5 8.5l.94-2.06 2.06-.94-2.06-.94L8.5 2.5l-.94 2.06-2.06.94zm10 10l.94 2.06.94-2.06 2.06-.94-2.06-.94-.94-2.06-.94 2.06-2.06.94z\"/><path d=\"M17.41 7.96l-1.37-1.37c-.4-.4-.92-.59-1.43-.59-.52 0-1.04.2-1.43.59L10.3 9.45l-7.72 7.72c-.78.78-.78 2.05 0 2.83L4 21.41c.39.39.9.59 1.41.59.51 0 1.02-.2 1.41-.59l7.78-7.78 2.81-2.81c.8-.78.8-2.07 0-2.86zM5.41 20L4 18.59l7.72-7.72 1.47 1.35L5.41 20z\"/>\n",
              "  </svg>\n",
              "      </button>\n",
              "      \n",
              "  <style>\n",
              "    .colab-df-container {\n",
              "      display:flex;\n",
              "      flex-wrap:wrap;\n",
              "      gap: 12px;\n",
              "    }\n",
              "\n",
              "    .colab-df-convert {\n",
              "      background-color: #E8F0FE;\n",
              "      border: none;\n",
              "      border-radius: 50%;\n",
              "      cursor: pointer;\n",
              "      display: none;\n",
              "      fill: #1967D2;\n",
              "      height: 32px;\n",
              "      padding: 0 0 0 0;\n",
              "      width: 32px;\n",
              "    }\n",
              "\n",
              "    .colab-df-convert:hover {\n",
              "      background-color: #E2EBFA;\n",
              "      box-shadow: 0px 1px 2px rgba(60, 64, 67, 0.3), 0px 1px 3px 1px rgba(60, 64, 67, 0.15);\n",
              "      fill: #174EA6;\n",
              "    }\n",
              "\n",
              "    [theme=dark] .colab-df-convert {\n",
              "      background-color: #3B4455;\n",
              "      fill: #D2E3FC;\n",
              "    }\n",
              "\n",
              "    [theme=dark] .colab-df-convert:hover {\n",
              "      background-color: #434B5C;\n",
              "      box-shadow: 0px 1px 3px 1px rgba(0, 0, 0, 0.15);\n",
              "      filter: drop-shadow(0px 1px 2px rgba(0, 0, 0, 0.3));\n",
              "      fill: #FFFFFF;\n",
              "    }\n",
              "  </style>\n",
              "\n",
              "      <script>\n",
              "        const buttonEl =\n",
              "          document.querySelector('#df-51cf64e4-b1ca-494a-a587-5b3ded466407 button.colab-df-convert');\n",
              "        buttonEl.style.display =\n",
              "          google.colab.kernel.accessAllowed ? 'block' : 'none';\n",
              "\n",
              "        async function convertToInteractive(key) {\n",
              "          const element = document.querySelector('#df-51cf64e4-b1ca-494a-a587-5b3ded466407');\n",
              "          const dataTable =\n",
              "            await google.colab.kernel.invokeFunction('convertToInteractive',\n",
              "                                                     [key], {});\n",
              "          if (!dataTable) return;\n",
              "\n",
              "          const docLinkHtml = 'Like what you see? Visit the ' +\n",
              "            '<a target=\"_blank\" href=https://colab.research.google.com/notebooks/data_table.ipynb>data table notebook</a>'\n",
              "            + ' to learn more about interactive tables.';\n",
              "          element.innerHTML = '';\n",
              "          dataTable['output_type'] = 'display_data';\n",
              "          await google.colab.output.renderOutput(dataTable, element);\n",
              "          const docLink = document.createElement('div');\n",
              "          docLink.innerHTML = docLinkHtml;\n",
              "          element.appendChild(docLink);\n",
              "        }\n",
              "      </script>\n",
              "    </div>\n",
              "  </div>\n",
              "  "
            ]
          },
          "metadata": {},
          "execution_count": 45
        }
      ],
      "source": [
        "#Выбросы\n",
        "stat.query('carat > 0 or z > 0 or x > 0 or depth_perc > 0 or y > 0 or (price == 0 and price_per_carat>0) or price_per_carat > 10000')"
      ]
    },
    {
      "cell_type": "code",
      "execution_count": null,
      "metadata": {
        "id": "gSsX3cP8wG7d"
      },
      "outputs": [],
      "source": [
        "#Удалим аномальные наблюдения\n",
        "df_three = df_three.query(\"id not in @stat.query('carat > 0 or z > 0 or x > 0 or depth_perc > 0 or y > 0 or (price == 0 and price_per_carat>0) or price_per_carat>10000').index\").sort_values(by=['id','date'])"
      ]
    },
    {
      "cell_type": "code",
      "execution_count": null,
      "metadata": {
        "id": "VUt2zEvhxvO2"
      },
      "outputs": [],
      "source": [
        "df_three = df_three.groupby('id').agg('last').reset_index() #тепреь в качестве цены возьмем последнее значение по времени"
      ]
    },
    {
      "cell_type": "code",
      "execution_count": null,
      "metadata": {
        "id": "RgTBLRH1yKAb"
      },
      "outputs": [],
      "source": [
        "df = pd.concat([df_one, df_three]).reset_index(drop=True) # соединяем результаты"
      ]
    },
    {
      "cell_type": "markdown",
      "metadata": {
        "id": "Jpc8JIhCbnCj"
      },
      "source": [
        "Заполним пропуски"
      ]
    },
    {
      "cell_type": "code",
      "execution_count": null,
      "metadata": {
        "colab": {
          "base_uri": "https://localhost:8080/"
        },
        "id": "Dfnou3NlbmL0",
        "outputId": "41768ea4-0248-4f6b-d3d3-0b476607c389"
      },
      "outputs": [
        {
          "output_type": "execute_result",
          "data": {
            "text/plain": [
              "fluor                  4\n",
              "symmetry               0\n",
              "platform               0\n",
              "shape                  0\n",
              "color                  0\n",
              "clarity                0\n",
              "cut                42471\n",
              "polish                 0\n",
              "id                     0\n",
              "date                   0\n",
              "price                  0\n",
              "carat                  0\n",
              "price_per_carat        0\n",
              "z                      0\n",
              "x                      0\n",
              "depth_perc             0\n",
              "y                      0\n",
              "dtype: int64"
            ]
          },
          "metadata": {},
          "execution_count": 49
        }
      ],
      "source": [
        "df.isna().sum()"
      ]
    },
    {
      "cell_type": "code",
      "execution_count": null,
      "metadata": {
        "id": "QMRS7j7IcNYI"
      },
      "outputs": [],
      "source": [
        "df['fluor'] = df['fluor'].ffill()"
      ]
    },
    {
      "cell_type": "code",
      "execution_count": null,
      "metadata": {
        "colab": {
          "base_uri": "https://localhost:8080/"
        },
        "id": "gC1sIXeTcSOh",
        "outputId": "2c9834dd-a9b1-48e7-d0eb-69a3c9696715"
      },
      "outputs": [
        {
          "output_type": "execute_result",
          "data": {
            "text/plain": [
              "NONE    84292\n",
              "FNT     25468\n",
              "MED     13163\n",
              "STG      8700\n",
              "Name: fluor, dtype: int64"
            ]
          },
          "metadata": {},
          "execution_count": 51
        }
      ],
      "source": [
        "df['fluor'].value_counts()"
      ]
    },
    {
      "cell_type": "code",
      "execution_count": null,
      "metadata": {
        "id": "0y6Y3cBocY4-"
      },
      "outputs": [],
      "source": [
        "df['cut'].fillna('unknown', inplace = True)"
      ]
    },
    {
      "cell_type": "code",
      "execution_count": null,
      "metadata": {
        "colab": {
          "base_uri": "https://localhost:8080/"
        },
        "id": "X-ml-KZVckmA",
        "outputId": "1417b1a1-b95d-4a03-ba82-7347db293f0d"
      },
      "outputs": [
        {
          "output_type": "execute_result",
          "data": {
            "text/plain": [
              "fluor              0\n",
              "symmetry           0\n",
              "platform           0\n",
              "shape              0\n",
              "color              0\n",
              "clarity            0\n",
              "cut                0\n",
              "polish             0\n",
              "id                 0\n",
              "date               0\n",
              "price              0\n",
              "carat              0\n",
              "price_per_carat    0\n",
              "z                  0\n",
              "x                  0\n",
              "depth_perc         0\n",
              "y                  0\n",
              "dtype: int64"
            ]
          },
          "metadata": {},
          "execution_count": 53
        }
      ],
      "source": [
        "df.isna().sum()"
      ]
    },
    {
      "cell_type": "markdown",
      "metadata": {
        "id": "VkDRLN4dtKCa"
      },
      "source": [
        "Посмотрим корреляции признаков"
      ]
    },
    {
      "cell_type": "code",
      "execution_count": null,
      "metadata": {
        "id": "E37JHeFhsHiQ",
        "colab": {
          "base_uri": "https://localhost:8080/"
        },
        "outputId": "13ba7f89-323d-46a7-c8ef-3600ea652884"
      },
      "outputs": [
        {
          "output_type": "stream",
          "name": "stdout",
          "text": [
            "Looking in indexes: https://pypi.org/simple, https://us-python.pkg.dev/colab-wheels/public/simple/\n",
            "Collecting phik==0.11.1\n",
            "  Downloading phik-0.11.1.tar.gz (596 kB)\n",
            "\u001b[K     |████████████████████████████████| 596 kB 7.5 MB/s \n",
            "\u001b[?25hRequirement already satisfied: numpy>=1.18.0 in /usr/local/lib/python3.7/dist-packages (from phik==0.11.1) (1.21.6)\n",
            "Requirement already satisfied: scipy>=1.5.2 in /usr/local/lib/python3.7/dist-packages (from phik==0.11.1) (1.7.3)\n",
            "Requirement already satisfied: pandas>=0.25.1 in /usr/local/lib/python3.7/dist-packages (from phik==0.11.1) (1.3.5)\n",
            "Requirement already satisfied: matplotlib>=2.2.3 in /usr/local/lib/python3.7/dist-packages (from phik==0.11.1) (3.2.2)\n",
            "Requirement already satisfied: joblib>=0.14.1 in /usr/local/lib/python3.7/dist-packages (from phik==0.11.1) (1.2.0)\n",
            "Requirement already satisfied: kiwisolver>=1.0.1 in /usr/local/lib/python3.7/dist-packages (from matplotlib>=2.2.3->phik==0.11.1) (1.4.4)\n",
            "Requirement already satisfied: cycler>=0.10 in /usr/local/lib/python3.7/dist-packages (from matplotlib>=2.2.3->phik==0.11.1) (0.11.0)\n",
            "Requirement already satisfied: pyparsing!=2.0.4,!=2.1.2,!=2.1.6,>=2.0.1 in /usr/local/lib/python3.7/dist-packages (from matplotlib>=2.2.3->phik==0.11.1) (3.0.9)\n",
            "Requirement already satisfied: python-dateutil>=2.1 in /usr/local/lib/python3.7/dist-packages (from matplotlib>=2.2.3->phik==0.11.1) (2.8.2)\n",
            "Requirement already satisfied: typing-extensions in /usr/local/lib/python3.7/dist-packages (from kiwisolver>=1.0.1->matplotlib>=2.2.3->phik==0.11.1) (4.1.1)\n",
            "Requirement already satisfied: pytz>=2017.3 in /usr/local/lib/python3.7/dist-packages (from pandas>=0.25.1->phik==0.11.1) (2022.6)\n",
            "Requirement already satisfied: six>=1.5 in /usr/local/lib/python3.7/dist-packages (from python-dateutil>=2.1->matplotlib>=2.2.3->phik==0.11.1) (1.15.0)\n",
            "Building wheels for collected packages: phik\n",
            "  Building wheel for phik (setup.py) ... \u001b[?25l\u001b[?25hdone\n",
            "  Created wheel for phik: filename=phik-0.11.1-py3-none-any.whl size=599844 sha256=f9bacb7acd46c5b9d53c2be1f43f96142272f112753947fb20c090308dd59f8c\n",
            "  Stored in directory: /root/.cache/pip/wheels/a1/99/90/eec9e53e5bacd66746a8651ab3331cdf3004834aa01bc79d4e\n",
            "Successfully built phik\n",
            "Installing collected packages: phik\n",
            "Successfully installed phik-0.11.1\n"
          ]
        }
      ],
      "source": [
        "pip install phik==0.11.1"
      ]
    },
    {
      "cell_type": "code",
      "execution_count": null,
      "metadata": {
        "id": "-ITB3BrzWfAh"
      },
      "outputs": [],
      "source": [
        "import phik\n",
        "from phik.report import plot_correlation_matrix\n",
        "from phik import report"
      ]
    },
    {
      "cell_type": "code",
      "execution_count": null,
      "metadata": {
        "colab": {
          "base_uri": "https://localhost:8080/",
          "height": 667
        },
        "id": "hiHzqpt-WZff",
        "outputId": "2b498193-0daa-4d67-c63e-dea5a216425e"
      },
      "outputs": [
        {
          "output_type": "stream",
          "name": "stdout",
          "text": [
            "interval columns not set, guessing: ['id', 'date', 'price', 'carat', 'price_per_carat', 'z', 'x', 'depth_perc', 'y']\n"
          ]
        },
        {
          "output_type": "stream",
          "name": "stderr",
          "text": [
            "/usr/local/lib/python3.7/dist-packages/phik/data_quality.py:78: UserWarning: Not enough unique value for variable platform for analysis 1. Dropping this column\n",
            "  .format(col, df[col].nunique())\n"
          ]
        },
        {
          "output_type": "execute_result",
          "data": {
            "text/plain": [
              "                 fluor  symmetry  shape  color  clarity   cut  polish    id  \\\n",
              "fluor             1.00      0.05   0.12   0.16     0.06  0.06    0.01  0.05   \n",
              "symmetry          0.05      1.00   0.33   0.11     0.10  0.67    0.33  0.21   \n",
              "shape             0.12      0.33   1.00   0.17     0.19  0.80    0.21  0.22   \n",
              "color             0.16      0.11   0.17   1.00     0.09  0.15    0.07  0.09   \n",
              "clarity           0.06      0.10   0.19   0.09     1.00  0.10    0.21  0.05   \n",
              "cut               0.06      0.67   0.80   0.15     0.10  1.00    0.21  0.15   \n",
              "polish            0.01      0.33   0.21   0.07     0.21  0.21    1.00  0.27   \n",
              "id                0.05      0.21   0.22   0.09     0.05  0.15    0.27  1.00   \n",
              "date              0.00      0.02   0.21   0.01     0.02  0.09    0.00  0.07   \n",
              "price             0.00      0.02   0.00   0.02     0.05  0.01    0.00  0.03   \n",
              "carat             0.03      0.04   0.05   0.05     0.05  0.06    0.02  0.08   \n",
              "price_per_carat   0.00      0.00   0.00   0.00     0.05  0.00    0.00  0.02   \n",
              "z                 0.08      0.25   0.68   0.12     0.10  0.50    0.11  0.08   \n",
              "x                 0.06      0.23   0.61   0.13     0.08  0.37    0.11  0.09   \n",
              "depth_perc        0.09      0.27   0.84   0.12     0.11  0.55    0.16  0.18   \n",
              "y                 0.04      0.20   0.55   0.14     0.05  0.41    0.11  0.10   \n",
              "\n",
              "                 date  price  carat  price_per_carat     z     x  depth_perc  \\\n",
              "fluor            0.00   0.00   0.03             0.00  0.08  0.06        0.09   \n",
              "symmetry         0.02   0.02   0.04             0.00  0.25  0.23        0.27   \n",
              "shape            0.21   0.00   0.05             0.00  0.68  0.61        0.84   \n",
              "color            0.01   0.02   0.05             0.00  0.12  0.13        0.12   \n",
              "clarity          0.02   0.05   0.05             0.05  0.10  0.08        0.11   \n",
              "cut              0.09   0.01   0.06             0.00  0.50  0.37        0.55   \n",
              "polish           0.00   0.00   0.02             0.00  0.11  0.11        0.16   \n",
              "id               0.07   0.03   0.08             0.02  0.08  0.09        0.18   \n",
              "date             1.00   0.01   0.02             0.00  0.07  0.03        0.09   \n",
              "price            0.01   1.00   0.68             0.86  0.33  0.67        0.01   \n",
              "carat            0.02   0.68   1.00             0.45  0.58  0.82        0.04   \n",
              "price_per_carat  0.00   0.86   0.45             1.00  0.13  0.35        0.00   \n",
              "z                0.07   0.33   0.58             0.13  1.00  0.68        0.40   \n",
              "x                0.03   0.67   0.82             0.35  0.68  1.00        0.48   \n",
              "depth_perc       0.09   0.01   0.04             0.00  0.40  0.48        1.00   \n",
              "y                0.04   0.68   0.85             0.35  0.67  0.97        0.27   \n",
              "\n",
              "                    y  \n",
              "fluor            0.04  \n",
              "symmetry         0.20  \n",
              "shape            0.55  \n",
              "color            0.14  \n",
              "clarity          0.05  \n",
              "cut              0.41  \n",
              "polish           0.11  \n",
              "id               0.10  \n",
              "date             0.04  \n",
              "price            0.68  \n",
              "carat            0.85  \n",
              "price_per_carat  0.35  \n",
              "z                0.67  \n",
              "x                0.97  \n",
              "depth_perc       0.27  \n",
              "y                1.00  "
            ],
            "text/html": [
              "\n",
              "  <div id=\"df-da66215b-cb46-401d-b0eb-b7060e51c990\">\n",
              "    <div class=\"colab-df-container\">\n",
              "      <div>\n",
              "<style scoped>\n",
              "    .dataframe tbody tr th:only-of-type {\n",
              "        vertical-align: middle;\n",
              "    }\n",
              "\n",
              "    .dataframe tbody tr th {\n",
              "        vertical-align: top;\n",
              "    }\n",
              "\n",
              "    .dataframe thead th {\n",
              "        text-align: right;\n",
              "    }\n",
              "</style>\n",
              "<table border=\"1\" class=\"dataframe\">\n",
              "  <thead>\n",
              "    <tr style=\"text-align: right;\">\n",
              "      <th></th>\n",
              "      <th>fluor</th>\n",
              "      <th>symmetry</th>\n",
              "      <th>shape</th>\n",
              "      <th>color</th>\n",
              "      <th>clarity</th>\n",
              "      <th>cut</th>\n",
              "      <th>polish</th>\n",
              "      <th>id</th>\n",
              "      <th>date</th>\n",
              "      <th>price</th>\n",
              "      <th>carat</th>\n",
              "      <th>price_per_carat</th>\n",
              "      <th>z</th>\n",
              "      <th>x</th>\n",
              "      <th>depth_perc</th>\n",
              "      <th>y</th>\n",
              "    </tr>\n",
              "  </thead>\n",
              "  <tbody>\n",
              "    <tr>\n",
              "      <th>fluor</th>\n",
              "      <td>1.00</td>\n",
              "      <td>0.05</td>\n",
              "      <td>0.12</td>\n",
              "      <td>0.16</td>\n",
              "      <td>0.06</td>\n",
              "      <td>0.06</td>\n",
              "      <td>0.01</td>\n",
              "      <td>0.05</td>\n",
              "      <td>0.00</td>\n",
              "      <td>0.00</td>\n",
              "      <td>0.03</td>\n",
              "      <td>0.00</td>\n",
              "      <td>0.08</td>\n",
              "      <td>0.06</td>\n",
              "      <td>0.09</td>\n",
              "      <td>0.04</td>\n",
              "    </tr>\n",
              "    <tr>\n",
              "      <th>symmetry</th>\n",
              "      <td>0.05</td>\n",
              "      <td>1.00</td>\n",
              "      <td>0.33</td>\n",
              "      <td>0.11</td>\n",
              "      <td>0.10</td>\n",
              "      <td>0.67</td>\n",
              "      <td>0.33</td>\n",
              "      <td>0.21</td>\n",
              "      <td>0.02</td>\n",
              "      <td>0.02</td>\n",
              "      <td>0.04</td>\n",
              "      <td>0.00</td>\n",
              "      <td>0.25</td>\n",
              "      <td>0.23</td>\n",
              "      <td>0.27</td>\n",
              "      <td>0.20</td>\n",
              "    </tr>\n",
              "    <tr>\n",
              "      <th>shape</th>\n",
              "      <td>0.12</td>\n",
              "      <td>0.33</td>\n",
              "      <td>1.00</td>\n",
              "      <td>0.17</td>\n",
              "      <td>0.19</td>\n",
              "      <td>0.80</td>\n",
              "      <td>0.21</td>\n",
              "      <td>0.22</td>\n",
              "      <td>0.21</td>\n",
              "      <td>0.00</td>\n",
              "      <td>0.05</td>\n",
              "      <td>0.00</td>\n",
              "      <td>0.68</td>\n",
              "      <td>0.61</td>\n",
              "      <td>0.84</td>\n",
              "      <td>0.55</td>\n",
              "    </tr>\n",
              "    <tr>\n",
              "      <th>color</th>\n",
              "      <td>0.16</td>\n",
              "      <td>0.11</td>\n",
              "      <td>0.17</td>\n",
              "      <td>1.00</td>\n",
              "      <td>0.09</td>\n",
              "      <td>0.15</td>\n",
              "      <td>0.07</td>\n",
              "      <td>0.09</td>\n",
              "      <td>0.01</td>\n",
              "      <td>0.02</td>\n",
              "      <td>0.05</td>\n",
              "      <td>0.00</td>\n",
              "      <td>0.12</td>\n",
              "      <td>0.13</td>\n",
              "      <td>0.12</td>\n",
              "      <td>0.14</td>\n",
              "    </tr>\n",
              "    <tr>\n",
              "      <th>clarity</th>\n",
              "      <td>0.06</td>\n",
              "      <td>0.10</td>\n",
              "      <td>0.19</td>\n",
              "      <td>0.09</td>\n",
              "      <td>1.00</td>\n",
              "      <td>0.10</td>\n",
              "      <td>0.21</td>\n",
              "      <td>0.05</td>\n",
              "      <td>0.02</td>\n",
              "      <td>0.05</td>\n",
              "      <td>0.05</td>\n",
              "      <td>0.05</td>\n",
              "      <td>0.10</td>\n",
              "      <td>0.08</td>\n",
              "      <td>0.11</td>\n",
              "      <td>0.05</td>\n",
              "    </tr>\n",
              "    <tr>\n",
              "      <th>cut</th>\n",
              "      <td>0.06</td>\n",
              "      <td>0.67</td>\n",
              "      <td>0.80</td>\n",
              "      <td>0.15</td>\n",
              "      <td>0.10</td>\n",
              "      <td>1.00</td>\n",
              "      <td>0.21</td>\n",
              "      <td>0.15</td>\n",
              "      <td>0.09</td>\n",
              "      <td>0.01</td>\n",
              "      <td>0.06</td>\n",
              "      <td>0.00</td>\n",
              "      <td>0.50</td>\n",
              "      <td>0.37</td>\n",
              "      <td>0.55</td>\n",
              "      <td>0.41</td>\n",
              "    </tr>\n",
              "    <tr>\n",
              "      <th>polish</th>\n",
              "      <td>0.01</td>\n",
              "      <td>0.33</td>\n",
              "      <td>0.21</td>\n",
              "      <td>0.07</td>\n",
              "      <td>0.21</td>\n",
              "      <td>0.21</td>\n",
              "      <td>1.00</td>\n",
              "      <td>0.27</td>\n",
              "      <td>0.00</td>\n",
              "      <td>0.00</td>\n",
              "      <td>0.02</td>\n",
              "      <td>0.00</td>\n",
              "      <td>0.11</td>\n",
              "      <td>0.11</td>\n",
              "      <td>0.16</td>\n",
              "      <td>0.11</td>\n",
              "    </tr>\n",
              "    <tr>\n",
              "      <th>id</th>\n",
              "      <td>0.05</td>\n",
              "      <td>0.21</td>\n",
              "      <td>0.22</td>\n",
              "      <td>0.09</td>\n",
              "      <td>0.05</td>\n",
              "      <td>0.15</td>\n",
              "      <td>0.27</td>\n",
              "      <td>1.00</td>\n",
              "      <td>0.07</td>\n",
              "      <td>0.03</td>\n",
              "      <td>0.08</td>\n",
              "      <td>0.02</td>\n",
              "      <td>0.08</td>\n",
              "      <td>0.09</td>\n",
              "      <td>0.18</td>\n",
              "      <td>0.10</td>\n",
              "    </tr>\n",
              "    <tr>\n",
              "      <th>date</th>\n",
              "      <td>0.00</td>\n",
              "      <td>0.02</td>\n",
              "      <td>0.21</td>\n",
              "      <td>0.01</td>\n",
              "      <td>0.02</td>\n",
              "      <td>0.09</td>\n",
              "      <td>0.00</td>\n",
              "      <td>0.07</td>\n",
              "      <td>1.00</td>\n",
              "      <td>0.01</td>\n",
              "      <td>0.02</td>\n",
              "      <td>0.00</td>\n",
              "      <td>0.07</td>\n",
              "      <td>0.03</td>\n",
              "      <td>0.09</td>\n",
              "      <td>0.04</td>\n",
              "    </tr>\n",
              "    <tr>\n",
              "      <th>price</th>\n",
              "      <td>0.00</td>\n",
              "      <td>0.02</td>\n",
              "      <td>0.00</td>\n",
              "      <td>0.02</td>\n",
              "      <td>0.05</td>\n",
              "      <td>0.01</td>\n",
              "      <td>0.00</td>\n",
              "      <td>0.03</td>\n",
              "      <td>0.01</td>\n",
              "      <td>1.00</td>\n",
              "      <td>0.68</td>\n",
              "      <td>0.86</td>\n",
              "      <td>0.33</td>\n",
              "      <td>0.67</td>\n",
              "      <td>0.01</td>\n",
              "      <td>0.68</td>\n",
              "    </tr>\n",
              "    <tr>\n",
              "      <th>carat</th>\n",
              "      <td>0.03</td>\n",
              "      <td>0.04</td>\n",
              "      <td>0.05</td>\n",
              "      <td>0.05</td>\n",
              "      <td>0.05</td>\n",
              "      <td>0.06</td>\n",
              "      <td>0.02</td>\n",
              "      <td>0.08</td>\n",
              "      <td>0.02</td>\n",
              "      <td>0.68</td>\n",
              "      <td>1.00</td>\n",
              "      <td>0.45</td>\n",
              "      <td>0.58</td>\n",
              "      <td>0.82</td>\n",
              "      <td>0.04</td>\n",
              "      <td>0.85</td>\n",
              "    </tr>\n",
              "    <tr>\n",
              "      <th>price_per_carat</th>\n",
              "      <td>0.00</td>\n",
              "      <td>0.00</td>\n",
              "      <td>0.00</td>\n",
              "      <td>0.00</td>\n",
              "      <td>0.05</td>\n",
              "      <td>0.00</td>\n",
              "      <td>0.00</td>\n",
              "      <td>0.02</td>\n",
              "      <td>0.00</td>\n",
              "      <td>0.86</td>\n",
              "      <td>0.45</td>\n",
              "      <td>1.00</td>\n",
              "      <td>0.13</td>\n",
              "      <td>0.35</td>\n",
              "      <td>0.00</td>\n",
              "      <td>0.35</td>\n",
              "    </tr>\n",
              "    <tr>\n",
              "      <th>z</th>\n",
              "      <td>0.08</td>\n",
              "      <td>0.25</td>\n",
              "      <td>0.68</td>\n",
              "      <td>0.12</td>\n",
              "      <td>0.10</td>\n",
              "      <td>0.50</td>\n",
              "      <td>0.11</td>\n",
              "      <td>0.08</td>\n",
              "      <td>0.07</td>\n",
              "      <td>0.33</td>\n",
              "      <td>0.58</td>\n",
              "      <td>0.13</td>\n",
              "      <td>1.00</td>\n",
              "      <td>0.68</td>\n",
              "      <td>0.40</td>\n",
              "      <td>0.67</td>\n",
              "    </tr>\n",
              "    <tr>\n",
              "      <th>x</th>\n",
              "      <td>0.06</td>\n",
              "      <td>0.23</td>\n",
              "      <td>0.61</td>\n",
              "      <td>0.13</td>\n",
              "      <td>0.08</td>\n",
              "      <td>0.37</td>\n",
              "      <td>0.11</td>\n",
              "      <td>0.09</td>\n",
              "      <td>0.03</td>\n",
              "      <td>0.67</td>\n",
              "      <td>0.82</td>\n",
              "      <td>0.35</td>\n",
              "      <td>0.68</td>\n",
              "      <td>1.00</td>\n",
              "      <td>0.48</td>\n",
              "      <td>0.97</td>\n",
              "    </tr>\n",
              "    <tr>\n",
              "      <th>depth_perc</th>\n",
              "      <td>0.09</td>\n",
              "      <td>0.27</td>\n",
              "      <td>0.84</td>\n",
              "      <td>0.12</td>\n",
              "      <td>0.11</td>\n",
              "      <td>0.55</td>\n",
              "      <td>0.16</td>\n",
              "      <td>0.18</td>\n",
              "      <td>0.09</td>\n",
              "      <td>0.01</td>\n",
              "      <td>0.04</td>\n",
              "      <td>0.00</td>\n",
              "      <td>0.40</td>\n",
              "      <td>0.48</td>\n",
              "      <td>1.00</td>\n",
              "      <td>0.27</td>\n",
              "    </tr>\n",
              "    <tr>\n",
              "      <th>y</th>\n",
              "      <td>0.04</td>\n",
              "      <td>0.20</td>\n",
              "      <td>0.55</td>\n",
              "      <td>0.14</td>\n",
              "      <td>0.05</td>\n",
              "      <td>0.41</td>\n",
              "      <td>0.11</td>\n",
              "      <td>0.10</td>\n",
              "      <td>0.04</td>\n",
              "      <td>0.68</td>\n",
              "      <td>0.85</td>\n",
              "      <td>0.35</td>\n",
              "      <td>0.67</td>\n",
              "      <td>0.97</td>\n",
              "      <td>0.27</td>\n",
              "      <td>1.00</td>\n",
              "    </tr>\n",
              "  </tbody>\n",
              "</table>\n",
              "</div>\n",
              "      <button class=\"colab-df-convert\" onclick=\"convertToInteractive('df-da66215b-cb46-401d-b0eb-b7060e51c990')\"\n",
              "              title=\"Convert this dataframe to an interactive table.\"\n",
              "              style=\"display:none;\">\n",
              "        \n",
              "  <svg xmlns=\"http://www.w3.org/2000/svg\" height=\"24px\"viewBox=\"0 0 24 24\"\n",
              "       width=\"24px\">\n",
              "    <path d=\"M0 0h24v24H0V0z\" fill=\"none\"/>\n",
              "    <path d=\"M18.56 5.44l.94 2.06.94-2.06 2.06-.94-2.06-.94-.94-2.06-.94 2.06-2.06.94zm-11 1L8.5 8.5l.94-2.06 2.06-.94-2.06-.94L8.5 2.5l-.94 2.06-2.06.94zm10 10l.94 2.06.94-2.06 2.06-.94-2.06-.94-.94-2.06-.94 2.06-2.06.94z\"/><path d=\"M17.41 7.96l-1.37-1.37c-.4-.4-.92-.59-1.43-.59-.52 0-1.04.2-1.43.59L10.3 9.45l-7.72 7.72c-.78.78-.78 2.05 0 2.83L4 21.41c.39.39.9.59 1.41.59.51 0 1.02-.2 1.41-.59l7.78-7.78 2.81-2.81c.8-.78.8-2.07 0-2.86zM5.41 20L4 18.59l7.72-7.72 1.47 1.35L5.41 20z\"/>\n",
              "  </svg>\n",
              "      </button>\n",
              "      \n",
              "  <style>\n",
              "    .colab-df-container {\n",
              "      display:flex;\n",
              "      flex-wrap:wrap;\n",
              "      gap: 12px;\n",
              "    }\n",
              "\n",
              "    .colab-df-convert {\n",
              "      background-color: #E8F0FE;\n",
              "      border: none;\n",
              "      border-radius: 50%;\n",
              "      cursor: pointer;\n",
              "      display: none;\n",
              "      fill: #1967D2;\n",
              "      height: 32px;\n",
              "      padding: 0 0 0 0;\n",
              "      width: 32px;\n",
              "    }\n",
              "\n",
              "    .colab-df-convert:hover {\n",
              "      background-color: #E2EBFA;\n",
              "      box-shadow: 0px 1px 2px rgba(60, 64, 67, 0.3), 0px 1px 3px 1px rgba(60, 64, 67, 0.15);\n",
              "      fill: #174EA6;\n",
              "    }\n",
              "\n",
              "    [theme=dark] .colab-df-convert {\n",
              "      background-color: #3B4455;\n",
              "      fill: #D2E3FC;\n",
              "    }\n",
              "\n",
              "    [theme=dark] .colab-df-convert:hover {\n",
              "      background-color: #434B5C;\n",
              "      box-shadow: 0px 1px 3px 1px rgba(0, 0, 0, 0.15);\n",
              "      filter: drop-shadow(0px 1px 2px rgba(0, 0, 0, 0.3));\n",
              "      fill: #FFFFFF;\n",
              "    }\n",
              "  </style>\n",
              "\n",
              "      <script>\n",
              "        const buttonEl =\n",
              "          document.querySelector('#df-da66215b-cb46-401d-b0eb-b7060e51c990 button.colab-df-convert');\n",
              "        buttonEl.style.display =\n",
              "          google.colab.kernel.accessAllowed ? 'block' : 'none';\n",
              "\n",
              "        async function convertToInteractive(key) {\n",
              "          const element = document.querySelector('#df-da66215b-cb46-401d-b0eb-b7060e51c990');\n",
              "          const dataTable =\n",
              "            await google.colab.kernel.invokeFunction('convertToInteractive',\n",
              "                                                     [key], {});\n",
              "          if (!dataTable) return;\n",
              "\n",
              "          const docLinkHtml = 'Like what you see? Visit the ' +\n",
              "            '<a target=\"_blank\" href=https://colab.research.google.com/notebooks/data_table.ipynb>data table notebook</a>'\n",
              "            + ' to learn more about interactive tables.';\n",
              "          element.innerHTML = '';\n",
              "          dataTable['output_type'] = 'display_data';\n",
              "          await google.colab.output.renderOutput(dataTable, element);\n",
              "          const docLink = document.createElement('div');\n",
              "          docLink.innerHTML = docLinkHtml;\n",
              "          element.appendChild(docLink);\n",
              "        }\n",
              "      </script>\n",
              "    </div>\n",
              "  </div>\n",
              "  "
            ]
          },
          "metadata": {},
          "execution_count": 56
        }
      ],
      "source": [
        "phik_overview = df.phik_matrix()\n",
        "phik_overview.round(2)"
      ]
    },
    {
      "cell_type": "code",
      "execution_count": null,
      "metadata": {
        "colab": {
          "base_uri": "https://localhost:8080/"
        },
        "id": "7BuGBoaisURD",
        "outputId": "6de394f6-2b6d-4d81-a52c-58a566cb4d3f"
      },
      "outputs": [
        {
          "output_type": "stream",
          "name": "stderr",
          "text": [
            "/usr/local/lib/python3.7/dist-packages/phik/data_quality.py:78: UserWarning: Not enough unique value for variable platform for analysis 1. Dropping this column\n",
            "  .format(col, df[col].nunique())\n"
          ]
        }
      ],
      "source": [
        "interval_cols = ['id', 'date', 'price', 'carat', 'price_per_carat', 'z', 'x', 'depth_perc', 'y']\n",
        "phik_overview = df.phik_matrix(interval_cols = interval_cols)"
      ]
    },
    {
      "cell_type": "code",
      "execution_count": null,
      "metadata": {
        "colab": {
          "base_uri": "https://localhost:8080/",
          "height": 740
        },
        "id": "tCF1nguPsYzb",
        "outputId": "3d854a54-7d51-46a4-f189-2a5c045db6a4"
      },
      "outputs": [
        {
          "output_type": "display_data",
          "data": {
            "text/plain": [
              "<Figure size 1440x864 with 2 Axes>"
            ],
            "image/png": "[encoded data removed]"
          },
          "metadata": {
            "needs_background": "light"
          }
        }
      ],
      "source": [
        "plot_correlation_matrix(phik_overview.values, \n",
        "                       x_labels = phik_overview.columns,\n",
        "                       y_labels = phik_overview.index,\n",
        "                       vmin = 0,\n",
        "                       vmax = 1,\n",
        "                       color_map= \"Greens\",\n",
        "                       fontsize_factor = 1.5,\n",
        "                       figsize = (20, 12))"
      ]
    },
    {
      "cell_type": "markdown",
      "metadata": {
        "id": "fhDOP_cIaIzS"
      },
      "source": [
        "Видим высокую корреляцию между: price и price_per_carat, carat; x,y,z и carat; cut, x, y, z, depth_perc и shape"
      ]
    },
    {
      "cell_type": "markdown",
      "metadata": {
        "id": "NnsNVat_CIPB"
      },
      "source": [
        "Цены на бриллианты достаточно сильно меняются, попробуйте вычислить коэффициент инфляции и привести цены к последнему месяцу. Стоит учесть, что цены на все бриллианты не изменяются синхронно, то есть изменение в определенных группах может быть разным.\n",
        "\n",
        "*Определите эти группы и рассчитайте коэффициенты инфляции для каждой из них. Подправьте цены на эти коэффициенты и создайте новую переменную.*"
      ]
    },
    {
      "cell_type": "code",
      "execution_count": null,
      "metadata": {
        "colab": {
          "base_uri": "https://localhost:8080/",
          "height": 270
        },
        "id": "KHYd6DP_b_-0",
        "outputId": "f9a2c82d-09b9-4f5d-e483-5965a7907111"
      },
      "outputs": [
        {
          "output_type": "execute_result",
          "data": {
            "text/plain": [
              "  fluor symmetry    platform shape color clarity      cut polish        id  \\\n",
              "0  NONE       EX  jamesallen    PS     D     SI2  unknown     EX  14224443   \n",
              "1  NONE       VG  jamesallen    EM     K     SI2  unknown     VG  12902293   \n",
              "2  NONE       VG  jamesallen    PS     J     VS1  unknown     VG  12771762   \n",
              "3   MED       EX  jamesallen    RD     J     SI2       EX     EX  14584509   \n",
              "4  NONE       EX  jamesallen    RD     G     SI1       EX     EX  14773748   \n",
              "\n",
              "     date    price  carat  price_per_carat      z     x  depth_perc        y  \n",
              "0  202205   9120.0   1.51          6039.74  10.67  6.23        59.0  3.67570  \n",
              "1  202205   1390.0   0.91          1527.47   6.30  4.58        71.0  3.25180  \n",
              "2  202207  15990.0   2.27          7044.05  11.66  7.26        62.2  4.51572  \n",
              "3  202205   3700.0   1.01          3663.37   6.37  6.42        62.0  3.98040  \n",
              "4  202206   7170.0   1.00          7170.00   6.30  6.35        63.7  4.04495  "
            ],
            "text/html": [
              "\n",
              "  <div id=\"df-57637649-7b60-4c87-bf29-06fbc1d00ca8\">\n",
              "    <div class=\"colab-df-container\">\n",
              "      <div>\n",
              "<style scoped>\n",
              "    .dataframe tbody tr th:only-of-type {\n",
              "        vertical-align: middle;\n",
              "    }\n",
              "\n",
              "    .dataframe tbody tr th {\n",
              "        vertical-align: top;\n",
              "    }\n",
              "\n",
              "    .dataframe thead th {\n",
              "        text-align: right;\n",
              "    }\n",
              "</style>\n",
              "<table border=\"1\" class=\"dataframe\">\n",
              "  <thead>\n",
              "    <tr style=\"text-align: right;\">\n",
              "      <th></th>\n",
              "      <th>fluor</th>\n",
              "      <th>symmetry</th>\n",
              "      <th>platform</th>\n",
              "      <th>shape</th>\n",
              "      <th>color</th>\n",
              "      <th>clarity</th>\n",
              "      <th>cut</th>\n",
              "      <th>polish</th>\n",
              "      <th>id</th>\n",
              "      <th>date</th>\n",
              "      <th>price</th>\n",
              "      <th>carat</th>\n",
              "      <th>price_per_carat</th>\n",
              "      <th>z</th>\n",
              "      <th>x</th>\n",
              "      <th>depth_perc</th>\n",
              "      <th>y</th>\n",
              "    </tr>\n",
              "  </thead>\n",
              "  <tbody>\n",
              "    <tr>\n",
              "      <th>0</th>\n",
              "      <td>NONE</td>\n",
              "      <td>EX</td>\n",
              "      <td>jamesallen</td>\n",
              "      <td>PS</td>\n",
              "      <td>D</td>\n",
              "      <td>SI2</td>\n",
              "      <td>unknown</td>\n",
              "      <td>EX</td>\n",
              "      <td>14224443</td>\n",
              "      <td>202205</td>\n",
              "      <td>9120.0</td>\n",
              "      <td>1.51</td>\n",
              "      <td>6039.74</td>\n",
              "      <td>10.67</td>\n",
              "      <td>6.23</td>\n",
              "      <td>59.0</td>\n",
              "      <td>3.67570</td>\n",
              "    </tr>\n",
              "    <tr>\n",
              "      <th>1</th>\n",
              "      <td>NONE</td>\n",
              "      <td>VG</td>\n",
              "      <td>jamesallen</td>\n",
              "      <td>EM</td>\n",
              "      <td>K</td>\n",
              "      <td>SI2</td>\n",
              "      <td>unknown</td>\n",
              "      <td>VG</td>\n",
              "      <td>12902293</td>\n",
              "      <td>202205</td>\n",
              "      <td>1390.0</td>\n",
              "      <td>0.91</td>\n",
              "      <td>1527.47</td>\n",
              "      <td>6.30</td>\n",
              "      <td>4.58</td>\n",
              "      <td>71.0</td>\n",
              "      <td>3.25180</td>\n",
              "    </tr>\n",
              "    <tr>\n",
              "      <th>2</th>\n",
              "      <td>NONE</td>\n",
              "      <td>VG</td>\n",
              "      <td>jamesallen</td>\n",
              "      <td>PS</td>\n",
              "      <td>J</td>\n",
              "      <td>VS1</td>\n",
              "      <td>unknown</td>\n",
              "      <td>VG</td>\n",
              "      <td>12771762</td>\n",
              "      <td>202207</td>\n",
              "      <td>15990.0</td>\n",
              "      <td>2.27</td>\n",
              "      <td>7044.05</td>\n",
              "      <td>11.66</td>\n",
              "      <td>7.26</td>\n",
              "      <td>62.2</td>\n",
              "      <td>4.51572</td>\n",
              "    </tr>\n",
              "    <tr>\n",
              "      <th>3</th>\n",
              "      <td>MED</td>\n",
              "      <td>EX</td>\n",
              "      <td>jamesallen</td>\n",
              "      <td>RD</td>\n",
              "      <td>J</td>\n",
              "      <td>SI2</td>\n",
              "      <td>EX</td>\n",
              "      <td>EX</td>\n",
              "      <td>14584509</td>\n",
              "      <td>202205</td>\n",
              "      <td>3700.0</td>\n",
              "      <td>1.01</td>\n",
              "      <td>3663.37</td>\n",
              "      <td>6.37</td>\n",
              "      <td>6.42</td>\n",
              "      <td>62.0</td>\n",
              "      <td>3.98040</td>\n",
              "    </tr>\n",
              "    <tr>\n",
              "      <th>4</th>\n",
              "      <td>NONE</td>\n",
              "      <td>EX</td>\n",
              "      <td>jamesallen</td>\n",
              "      <td>RD</td>\n",
              "      <td>G</td>\n",
              "      <td>SI1</td>\n",
              "      <td>EX</td>\n",
              "      <td>EX</td>\n",
              "      <td>14773748</td>\n",
              "      <td>202206</td>\n",
              "      <td>7170.0</td>\n",
              "      <td>1.00</td>\n",
              "      <td>7170.00</td>\n",
              "      <td>6.30</td>\n",
              "      <td>6.35</td>\n",
              "      <td>63.7</td>\n",
              "      <td>4.04495</td>\n",
              "    </tr>\n",
              "  </tbody>\n",
              "</table>\n",
              "</div>\n",
              "      <button class=\"colab-df-convert\" onclick=\"convertToInteractive('df-57637649-7b60-4c87-bf29-06fbc1d00ca8')\"\n",
              "              title=\"Convert this dataframe to an interactive table.\"\n",
              "              style=\"display:none;\">\n",
              "        \n",
              "  <svg xmlns=\"http://www.w3.org/2000/svg\" height=\"24px\"viewBox=\"0 0 24 24\"\n",
              "       width=\"24px\">\n",
              "    <path d=\"M0 0h24v24H0V0z\" fill=\"none\"/>\n",
              "    <path d=\"M18.56 5.44l.94 2.06.94-2.06 2.06-.94-2.06-.94-.94-2.06-.94 2.06-2.06.94zm-11 1L8.5 8.5l.94-2.06 2.06-.94-2.06-.94L8.5 2.5l-.94 2.06-2.06.94zm10 10l.94 2.06.94-2.06 2.06-.94-2.06-.94-.94-2.06-.94 2.06-2.06.94z\"/><path d=\"M17.41 7.96l-1.37-1.37c-.4-.4-.92-.59-1.43-.59-.52 0-1.04.2-1.43.59L10.3 9.45l-7.72 7.72c-.78.78-.78 2.05 0 2.83L4 21.41c.39.39.9.59 1.41.59.51 0 1.02-.2 1.41-.59l7.78-7.78 2.81-2.81c.8-.78.8-2.07 0-2.86zM5.41 20L4 18.59l7.72-7.72 1.47 1.35L5.41 20z\"/>\n",
              "  </svg>\n",
              "      </button>\n",
              "      \n",
              "  <style>\n",
              "    .colab-df-container {\n",
              "      display:flex;\n",
              "      flex-wrap:wrap;\n",
              "      gap: 12px;\n",
              "    }\n",
              "\n",
              "    .colab-df-convert {\n",
              "      background-color: #E8F0FE;\n",
              "      border: none;\n",
              "      border-radius: 50%;\n",
              "      cursor: pointer;\n",
              "      display: none;\n",
              "      fill: #1967D2;\n",
              "      height: 32px;\n",
              "      padding: 0 0 0 0;\n",
              "      width: 32px;\n",
              "    }\n",
              "\n",
              "    .colab-df-convert:hover {\n",
              "      background-color: #E2EBFA;\n",
              "      box-shadow: 0px 1px 2px rgba(60, 64, 67, 0.3), 0px 1px 3px 1px rgba(60, 64, 67, 0.15);\n",
              "      fill: #174EA6;\n",
              "    }\n",
              "\n",
              "    [theme=dark] .colab-df-convert {\n",
              "      background-color: #3B4455;\n",
              "      fill: #D2E3FC;\n",
              "    }\n",
              "\n",
              "    [theme=dark] .colab-df-convert:hover {\n",
              "      background-color: #434B5C;\n",
              "      box-shadow: 0px 1px 3px 1px rgba(0, 0, 0, 0.15);\n",
              "      filter: drop-shadow(0px 1px 2px rgba(0, 0, 0, 0.3));\n",
              "      fill: #FFFFFF;\n",
              "    }\n",
              "  </style>\n",
              "\n",
              "      <script>\n",
              "        const buttonEl =\n",
              "          document.querySelector('#df-57637649-7b60-4c87-bf29-06fbc1d00ca8 button.colab-df-convert');\n",
              "        buttonEl.style.display =\n",
              "          google.colab.kernel.accessAllowed ? 'block' : 'none';\n",
              "\n",
              "        async function convertToInteractive(key) {\n",
              "          const element = document.querySelector('#df-57637649-7b60-4c87-bf29-06fbc1d00ca8');\n",
              "          const dataTable =\n",
              "            await google.colab.kernel.invokeFunction('convertToInteractive',\n",
              "                                                     [key], {});\n",
              "          if (!dataTable) return;\n",
              "\n",
              "          const docLinkHtml = 'Like what you see? Visit the ' +\n",
              "            '<a target=\"_blank\" href=https://colab.research.google.com/notebooks/data_table.ipynb>data table notebook</a>'\n",
              "            + ' to learn more about interactive tables.';\n",
              "          element.innerHTML = '';\n",
              "          dataTable['output_type'] = 'display_data';\n",
              "          await google.colab.output.renderOutput(dataTable, element);\n",
              "          const docLink = document.createElement('div');\n",
              "          docLink.innerHTML = docLinkHtml;\n",
              "          element.appendChild(docLink);\n",
              "        }\n",
              "      </script>\n",
              "    </div>\n",
              "  </div>\n",
              "  "
            ]
          },
          "metadata": {},
          "execution_count": 59
        }
      ],
      "source": [
        "df.head()"
      ]
    },
    {
      "cell_type": "code",
      "execution_count": null,
      "metadata": {
        "id": "YPrMVnoma-cx"
      },
      "outputs": [],
      "source": [
        "categories = ['shape', 'color'] #определите по каким группам отпределять инфляцию (к примеру можно добавить каратную группу)"
      ]
    },
    {
      "cell_type": "code",
      "execution_count": null,
      "metadata": {
        "id": "FaOWHTjTbBas"
      },
      "outputs": [],
      "source": [
        "df_index = df.groupby(['date'] + categories)[['price_per_carat']]\\\n",
        "             .mean()\\\n",
        "             .reset_index() # индекс цен"
      ]
    },
    {
      "cell_type": "code",
      "execution_count": null,
      "metadata": {
        "colab": {
          "base_uri": "https://localhost:8080/",
          "height": 424
        },
        "id": "C3XpzVhHw1w2",
        "outputId": "ae7d2deb-0a5e-4b92-a5d1-c7b96a50c513"
      },
      "outputs": [
        {
          "output_type": "execute_result",
          "data": {
            "text/plain": [
              "       date shape color  price_per_carat\n",
              "0    202205  CUSH     D      6106.585733\n",
              "1    202205  CUSH     E      5876.262576\n",
              "2    202205  CUSH     F      5810.693493\n",
              "3    202205  CUSH     G      5393.622290\n",
              "4    202205  CUSH     H      4990.454398\n",
              "..      ...   ...   ...              ...\n",
              "241  202207    RD     I      7055.855053\n",
              "242  202207    RD     J      6061.197329\n",
              "243  202207    RD     K      4972.559316\n",
              "244  202207    RD     L      4455.250327\n",
              "245  202207    RD     M      4107.238710\n",
              "\n",
              "[246 rows x 4 columns]"
            ],
            "text/html": [
              "\n",
              "  <div id=\"df-3093c3eb-f687-40a9-93d9-81126144164a\">\n",
              "    <div class=\"colab-df-container\">\n",
              "      <div>\n",
              "<style scoped>\n",
              "    .dataframe tbody tr th:only-of-type {\n",
              "        vertical-align: middle;\n",
              "    }\n",
              "\n",
              "    .dataframe tbody tr th {\n",
              "        vertical-align: top;\n",
              "    }\n",
              "\n",
              "    .dataframe thead th {\n",
              "        text-align: right;\n",
              "    }\n",
              "</style>\n",
              "<table border=\"1\" class=\"dataframe\">\n",
              "  <thead>\n",
              "    <tr style=\"text-align: right;\">\n",
              "      <th></th>\n",
              "      <th>date</th>\n",
              "      <th>shape</th>\n",
              "      <th>color</th>\n",
              "      <th>price_per_carat</th>\n",
              "    </tr>\n",
              "  </thead>\n",
              "  <tbody>\n",
              "    <tr>\n",
              "      <th>0</th>\n",
              "      <td>202205</td>\n",
              "      <td>CUSH</td>\n",
              "      <td>D</td>\n",
              "      <td>6106.585733</td>\n",
              "    </tr>\n",
              "    <tr>\n",
              "      <th>1</th>\n",
              "      <td>202205</td>\n",
              "      <td>CUSH</td>\n",
              "      <td>E</td>\n",
              "      <td>5876.262576</td>\n",
              "    </tr>\n",
              "    <tr>\n",
              "      <th>2</th>\n",
              "      <td>202205</td>\n",
              "      <td>CUSH</td>\n",
              "      <td>F</td>\n",
              "      <td>5810.693493</td>\n",
              "    </tr>\n",
              "    <tr>\n",
              "      <th>3</th>\n",
              "      <td>202205</td>\n",
              "      <td>CUSH</td>\n",
              "      <td>G</td>\n",
              "      <td>5393.622290</td>\n",
              "    </tr>\n",
              "    <tr>\n",
              "      <th>4</th>\n",
              "      <td>202205</td>\n",
              "      <td>CUSH</td>\n",
              "      <td>H</td>\n",
              "      <td>4990.454398</td>\n",
              "    </tr>\n",
              "    <tr>\n",
              "      <th>...</th>\n",
              "      <td>...</td>\n",
              "      <td>...</td>\n",
              "      <td>...</td>\n",
              "      <td>...</td>\n",
              "    </tr>\n",
              "    <tr>\n",
              "      <th>241</th>\n",
              "      <td>202207</td>\n",
              "      <td>RD</td>\n",
              "      <td>I</td>\n",
              "      <td>7055.855053</td>\n",
              "    </tr>\n",
              "    <tr>\n",
              "      <th>242</th>\n",
              "      <td>202207</td>\n",
              "      <td>RD</td>\n",
              "      <td>J</td>\n",
              "      <td>6061.197329</td>\n",
              "    </tr>\n",
              "    <tr>\n",
              "      <th>243</th>\n",
              "      <td>202207</td>\n",
              "      <td>RD</td>\n",
              "      <td>K</td>\n",
              "      <td>4972.559316</td>\n",
              "    </tr>\n",
              "    <tr>\n",
              "      <th>244</th>\n",
              "      <td>202207</td>\n",
              "      <td>RD</td>\n",
              "      <td>L</td>\n",
              "      <td>4455.250327</td>\n",
              "    </tr>\n",
              "    <tr>\n",
              "      <th>245</th>\n",
              "      <td>202207</td>\n",
              "      <td>RD</td>\n",
              "      <td>M</td>\n",
              "      <td>4107.238710</td>\n",
              "    </tr>\n",
              "  </tbody>\n",
              "</table>\n",
              "<p>246 rows × 4 columns</p>\n",
              "</div>\n",
              "      <button class=\"colab-df-convert\" onclick=\"convertToInteractive('df-3093c3eb-f687-40a9-93d9-81126144164a')\"\n",
              "              title=\"Convert this dataframe to an interactive table.\"\n",
              "              style=\"display:none;\">\n",
              "        \n",
              "  <svg xmlns=\"http://www.w3.org/2000/svg\" height=\"24px\"viewBox=\"0 0 24 24\"\n",
              "       width=\"24px\">\n",
              "    <path d=\"M0 0h24v24H0V0z\" fill=\"none\"/>\n",
              "    <path d=\"M18.56 5.44l.94 2.06.94-2.06 2.06-.94-2.06-.94-.94-2.06-.94 2.06-2.06.94zm-11 1L8.5 8.5l.94-2.06 2.06-.94-2.06-.94L8.5 2.5l-.94 2.06-2.06.94zm10 10l.94 2.06.94-2.06 2.06-.94-2.06-.94-.94-2.06-.94 2.06-2.06.94z\"/><path d=\"M17.41 7.96l-1.37-1.37c-.4-.4-.92-.59-1.43-.59-.52 0-1.04.2-1.43.59L10.3 9.45l-7.72 7.72c-.78.78-.78 2.05 0 2.83L4 21.41c.39.39.9.59 1.41.59.51 0 1.02-.2 1.41-.59l7.78-7.78 2.81-2.81c.8-.78.8-2.07 0-2.86zM5.41 20L4 18.59l7.72-7.72 1.47 1.35L5.41 20z\"/>\n",
              "  </svg>\n",
              "      </button>\n",
              "      \n",
              "  <style>\n",
              "    .colab-df-container {\n",
              "      display:flex;\n",
              "      flex-wrap:wrap;\n",
              "      gap: 12px;\n",
              "    }\n",
              "\n",
              "    .colab-df-convert {\n",
              "      background-color: #E8F0FE;\n",
              "      border: none;\n",
              "      border-radius: 50%;\n",
              "      cursor: pointer;\n",
              "      display: none;\n",
              "      fill: #1967D2;\n",
              "      height: 32px;\n",
              "      padding: 0 0 0 0;\n",
              "      width: 32px;\n",
              "    }\n",
              "\n",
              "    .colab-df-convert:hover {\n",
              "      background-color: #E2EBFA;\n",
              "      box-shadow: 0px 1px 2px rgba(60, 64, 67, 0.3), 0px 1px 3px 1px rgba(60, 64, 67, 0.15);\n",
              "      fill: #174EA6;\n",
              "    }\n",
              "\n",
              "    [theme=dark] .colab-df-convert {\n",
              "      background-color: #3B4455;\n",
              "      fill: #D2E3FC;\n",
              "    }\n",
              "\n",
              "    [theme=dark] .colab-df-convert:hover {\n",
              "      background-color: #434B5C;\n",
              "      box-shadow: 0px 1px 3px 1px rgba(0, 0, 0, 0.15);\n",
              "      filter: drop-shadow(0px 1px 2px rgba(0, 0, 0, 0.3));\n",
              "      fill: #FFFFFF;\n",
              "    }\n",
              "  </style>\n",
              "\n",
              "      <script>\n",
              "        const buttonEl =\n",
              "          document.querySelector('#df-3093c3eb-f687-40a9-93d9-81126144164a button.colab-df-convert');\n",
              "        buttonEl.style.display =\n",
              "          google.colab.kernel.accessAllowed ? 'block' : 'none';\n",
              "\n",
              "        async function convertToInteractive(key) {\n",
              "          const element = document.querySelector('#df-3093c3eb-f687-40a9-93d9-81126144164a');\n",
              "          const dataTable =\n",
              "            await google.colab.kernel.invokeFunction('convertToInteractive',\n",
              "                                                     [key], {});\n",
              "          if (!dataTable) return;\n",
              "\n",
              "          const docLinkHtml = 'Like what you see? Visit the ' +\n",
              "            '<a target=\"_blank\" href=https://colab.research.google.com/notebooks/data_table.ipynb>data table notebook</a>'\n",
              "            + ' to learn more about interactive tables.';\n",
              "          element.innerHTML = '';\n",
              "          dataTable['output_type'] = 'display_data';\n",
              "          await google.colab.output.renderOutput(dataTable, element);\n",
              "          const docLink = document.createElement('div');\n",
              "          docLink.innerHTML = docLinkHtml;\n",
              "          element.appendChild(docLink);\n",
              "        }\n",
              "      </script>\n",
              "    </div>\n",
              "  </div>\n",
              "  "
            ]
          },
          "metadata": {},
          "execution_count": 62
        }
      ],
      "source": [
        "df_index"
      ]
    },
    {
      "cell_type": "code",
      "execution_count": null,
      "metadata": {
        "id": "GoYyF4NfcPcP"
      },
      "outputs": [],
      "source": [
        "date_max = df_index.date.max()"
      ]
    },
    {
      "cell_type": "code",
      "execution_count": null,
      "metadata": {
        "id": "3VDckuDLcSEo"
      },
      "outputs": [],
      "source": [
        "df_index = df_index.merge(df_index.query('date == @date_max')[categories + ['price_per_carat']]\\\n",
        "                          .rename(columns={'price_per_carat': 'price_per_carat_max'}), \n",
        "                          on=categories, how='outer') # сопоставляем группы с максимальной датой"
      ]
    },
    {
      "cell_type": "code",
      "execution_count": null,
      "metadata": {
        "colab": {
          "base_uri": "https://localhost:8080/",
          "height": 424
        },
        "id": "aWysIS_bw8wq",
        "outputId": "5ffc56c4-97f3-482a-97cc-0a1f75de12a8"
      },
      "outputs": [
        {
          "output_type": "execute_result",
          "data": {
            "text/plain": [
              "       date shape color  price_per_carat  price_per_carat_max\n",
              "0    202205  CUSH     D      6106.585733          9340.201421\n",
              "1    202206  CUSH     D      6491.641657          9340.201421\n",
              "2    202207  CUSH     D      9340.201421          9340.201421\n",
              "3    202205  CUSH     E      5876.262576          8951.004804\n",
              "4    202206  CUSH     E      5901.189079          8951.004804\n",
              "..      ...   ...   ...              ...                  ...\n",
              "241  202206    RD     L      4292.450194          4455.250327\n",
              "242  202207    RD     L      4455.250327          4455.250327\n",
              "243  202205    RD     M      3772.731077          4107.238710\n",
              "244  202206    RD     M      3905.268117          4107.238710\n",
              "245  202207    RD     M      4107.238710          4107.238710\n",
              "\n",
              "[246 rows x 5 columns]"
            ],
            "text/html": [
              "\n",
              "  <div id=\"df-022849e9-8aac-4687-9660-3cfc889bd0a7\">\n",
              "    <div class=\"colab-df-container\">\n",
              "      <div>\n",
              "<style scoped>\n",
              "    .dataframe tbody tr th:only-of-type {\n",
              "        vertical-align: middle;\n",
              "    }\n",
              "\n",
              "    .dataframe tbody tr th {\n",
              "        vertical-align: top;\n",
              "    }\n",
              "\n",
              "    .dataframe thead th {\n",
              "        text-align: right;\n",
              "    }\n",
              "</style>\n",
              "<table border=\"1\" class=\"dataframe\">\n",
              "  <thead>\n",
              "    <tr style=\"text-align: right;\">\n",
              "      <th></th>\n",
              "      <th>date</th>\n",
              "      <th>shape</th>\n",
              "      <th>color</th>\n",
              "      <th>price_per_carat</th>\n",
              "      <th>price_per_carat_max</th>\n",
              "    </tr>\n",
              "  </thead>\n",
              "  <tbody>\n",
              "    <tr>\n",
              "      <th>0</th>\n",
              "      <td>202205</td>\n",
              "      <td>CUSH</td>\n",
              "      <td>D</td>\n",
              "      <td>6106.585733</td>\n",
              "      <td>9340.201421</td>\n",
              "    </tr>\n",
              "    <tr>\n",
              "      <th>1</th>\n",
              "      <td>202206</td>\n",
              "      <td>CUSH</td>\n",
              "      <td>D</td>\n",
              "      <td>6491.641657</td>\n",
              "      <td>9340.201421</td>\n",
              "    </tr>\n",
              "    <tr>\n",
              "      <th>2</th>\n",
              "      <td>202207</td>\n",
              "      <td>CUSH</td>\n",
              "      <td>D</td>\n",
              "      <td>9340.201421</td>\n",
              "      <td>9340.201421</td>\n",
              "    </tr>\n",
              "    <tr>\n",
              "      <th>3</th>\n",
              "      <td>202205</td>\n",
              "      <td>CUSH</td>\n",
              "      <td>E</td>\n",
              "      <td>5876.262576</td>\n",
              "      <td>8951.004804</td>\n",
              "    </tr>\n",
              "    <tr>\n",
              "      <th>4</th>\n",
              "      <td>202206</td>\n",
              "      <td>CUSH</td>\n",
              "      <td>E</td>\n",
              "      <td>5901.189079</td>\n",
              "      <td>8951.004804</td>\n",
              "    </tr>\n",
              "    <tr>\n",
              "      <th>...</th>\n",
              "      <td>...</td>\n",
              "      <td>...</td>\n",
              "      <td>...</td>\n",
              "      <td>...</td>\n",
              "      <td>...</td>\n",
              "    </tr>\n",
              "    <tr>\n",
              "      <th>241</th>\n",
              "      <td>202206</td>\n",
              "      <td>RD</td>\n",
              "      <td>L</td>\n",
              "      <td>4292.450194</td>\n",
              "      <td>4455.250327</td>\n",
              "    </tr>\n",
              "    <tr>\n",
              "      <th>242</th>\n",
              "      <td>202207</td>\n",
              "      <td>RD</td>\n",
              "      <td>L</td>\n",
              "      <td>4455.250327</td>\n",
              "      <td>4455.250327</td>\n",
              "    </tr>\n",
              "    <tr>\n",
              "      <th>243</th>\n",
              "      <td>202205</td>\n",
              "      <td>RD</td>\n",
              "      <td>M</td>\n",
              "      <td>3772.731077</td>\n",
              "      <td>4107.238710</td>\n",
              "    </tr>\n",
              "    <tr>\n",
              "      <th>244</th>\n",
              "      <td>202206</td>\n",
              "      <td>RD</td>\n",
              "      <td>M</td>\n",
              "      <td>3905.268117</td>\n",
              "      <td>4107.238710</td>\n",
              "    </tr>\n",
              "    <tr>\n",
              "      <th>245</th>\n",
              "      <td>202207</td>\n",
              "      <td>RD</td>\n",
              "      <td>M</td>\n",
              "      <td>4107.238710</td>\n",
              "      <td>4107.238710</td>\n",
              "    </tr>\n",
              "  </tbody>\n",
              "</table>\n",
              "<p>246 rows × 5 columns</p>\n",
              "</div>\n",
              "      <button class=\"colab-df-convert\" onclick=\"convertToInteractive('df-022849e9-8aac-4687-9660-3cfc889bd0a7')\"\n",
              "              title=\"Convert this dataframe to an interactive table.\"\n",
              "              style=\"display:none;\">\n",
              "        \n",
              "  <svg xmlns=\"http://www.w3.org/2000/svg\" height=\"24px\"viewBox=\"0 0 24 24\"\n",
              "       width=\"24px\">\n",
              "    <path d=\"M0 0h24v24H0V0z\" fill=\"none\"/>\n",
              "    <path d=\"M18.56 5.44l.94 2.06.94-2.06 2.06-.94-2.06-.94-.94-2.06-.94 2.06-2.06.94zm-11 1L8.5 8.5l.94-2.06 2.06-.94-2.06-.94L8.5 2.5l-.94 2.06-2.06.94zm10 10l.94 2.06.94-2.06 2.06-.94-2.06-.94-.94-2.06-.94 2.06-2.06.94z\"/><path d=\"M17.41 7.96l-1.37-1.37c-.4-.4-.92-.59-1.43-.59-.52 0-1.04.2-1.43.59L10.3 9.45l-7.72 7.72c-.78.78-.78 2.05 0 2.83L4 21.41c.39.39.9.59 1.41.59.51 0 1.02-.2 1.41-.59l7.78-7.78 2.81-2.81c.8-.78.8-2.07 0-2.86zM5.41 20L4 18.59l7.72-7.72 1.47 1.35L5.41 20z\"/>\n",
              "  </svg>\n",
              "      </button>\n",
              "      \n",
              "  <style>\n",
              "    .colab-df-container {\n",
              "      display:flex;\n",
              "      flex-wrap:wrap;\n",
              "      gap: 12px;\n",
              "    }\n",
              "\n",
              "    .colab-df-convert {\n",
              "      background-color: #E8F0FE;\n",
              "      border: none;\n",
              "      border-radius: 50%;\n",
              "      cursor: pointer;\n",
              "      display: none;\n",
              "      fill: #1967D2;\n",
              "      height: 32px;\n",
              "      padding: 0 0 0 0;\n",
              "      width: 32px;\n",
              "    }\n",
              "\n",
              "    .colab-df-convert:hover {\n",
              "      background-color: #E2EBFA;\n",
              "      box-shadow: 0px 1px 2px rgba(60, 64, 67, 0.3), 0px 1px 3px 1px rgba(60, 64, 67, 0.15);\n",
              "      fill: #174EA6;\n",
              "    }\n",
              "\n",
              "    [theme=dark] .colab-df-convert {\n",
              "      background-color: #3B4455;\n",
              "      fill: #D2E3FC;\n",
              "    }\n",
              "\n",
              "    [theme=dark] .colab-df-convert:hover {\n",
              "      background-color: #434B5C;\n",
              "      box-shadow: 0px 1px 3px 1px rgba(0, 0, 0, 0.15);\n",
              "      filter: drop-shadow(0px 1px 2px rgba(0, 0, 0, 0.3));\n",
              "      fill: #FFFFFF;\n",
              "    }\n",
              "  </style>\n",
              "\n",
              "      <script>\n",
              "        const buttonEl =\n",
              "          document.querySelector('#df-022849e9-8aac-4687-9660-3cfc889bd0a7 button.colab-df-convert');\n",
              "        buttonEl.style.display =\n",
              "          google.colab.kernel.accessAllowed ? 'block' : 'none';\n",
              "\n",
              "        async function convertToInteractive(key) {\n",
              "          const element = document.querySelector('#df-022849e9-8aac-4687-9660-3cfc889bd0a7');\n",
              "          const dataTable =\n",
              "            await google.colab.kernel.invokeFunction('convertToInteractive',\n",
              "                                                     [key], {});\n",
              "          if (!dataTable) return;\n",
              "\n",
              "          const docLinkHtml = 'Like what you see? Visit the ' +\n",
              "            '<a target=\"_blank\" href=https://colab.research.google.com/notebooks/data_table.ipynb>data table notebook</a>'\n",
              "            + ' to learn more about interactive tables.';\n",
              "          element.innerHTML = '';\n",
              "          dataTable['output_type'] = 'display_data';\n",
              "          await google.colab.output.renderOutput(dataTable, element);\n",
              "          const docLink = document.createElement('div');\n",
              "          docLink.innerHTML = docLinkHtml;\n",
              "          element.appendChild(docLink);\n",
              "        }\n",
              "      </script>\n",
              "    </div>\n",
              "  </div>\n",
              "  "
            ]
          },
          "metadata": {},
          "execution_count": 65
        }
      ],
      "source": [
        "df_index"
      ]
    },
    {
      "cell_type": "code",
      "execution_count": null,
      "metadata": {
        "id": "ju8uPj0qcV5L"
      },
      "outputs": [],
      "source": [
        "df_index['inflation'] = df_index['price_per_carat_max'] / df_index.price_per_carat"
      ]
    },
    {
      "cell_type": "code",
      "execution_count": null,
      "metadata": {
        "colab": {
          "base_uri": "https://localhost:8080/",
          "height": 424
        },
        "id": "HSLRCSqHwMrY",
        "outputId": "6b5320da-a105-4b88-f767-9693c850a09a"
      },
      "outputs": [
        {
          "output_type": "execute_result",
          "data": {
            "text/plain": [
              "       date shape color  price_per_carat  price_per_carat_max  inflation\n",
              "0    202205  CUSH     D      6106.585733          9340.201421   1.529529\n",
              "1    202206  CUSH     D      6491.641657          9340.201421   1.438804\n",
              "2    202207  CUSH     D      9340.201421          9340.201421   1.000000\n",
              "3    202205  CUSH     E      5876.262576          8951.004804   1.523248\n",
              "4    202206  CUSH     E      5901.189079          8951.004804   1.516814\n",
              "..      ...   ...   ...              ...                  ...        ...\n",
              "241  202206    RD     L      4292.450194          4455.250327   1.037927\n",
              "242  202207    RD     L      4455.250327          4455.250327   1.000000\n",
              "243  202205    RD     M      3772.731077          4107.238710   1.088665\n",
              "244  202206    RD     M      3905.268117          4107.238710   1.051717\n",
              "245  202207    RD     M      4107.238710          4107.238710   1.000000\n",
              "\n",
              "[246 rows x 6 columns]"
            ],
            "text/html": [
              "\n",
              "  <div id=\"df-63f96721-d6bb-41ec-ad98-634195f1e7fc\">\n",
              "    <div class=\"colab-df-container\">\n",
              "      <div>\n",
              "<style scoped>\n",
              "    .dataframe tbody tr th:only-of-type {\n",
              "        vertical-align: middle;\n",
              "    }\n",
              "\n",
              "    .dataframe tbody tr th {\n",
              "        vertical-align: top;\n",
              "    }\n",
              "\n",
              "    .dataframe thead th {\n",
              "        text-align: right;\n",
              "    }\n",
              "</style>\n",
              "<table border=\"1\" class=\"dataframe\">\n",
              "  <thead>\n",
              "    <tr style=\"text-align: right;\">\n",
              "      <th></th>\n",
              "      <th>date</th>\n",
              "      <th>shape</th>\n",
              "      <th>color</th>\n",
              "      <th>price_per_carat</th>\n",
              "      <th>price_per_carat_max</th>\n",
              "      <th>inflation</th>\n",
              "    </tr>\n",
              "  </thead>\n",
              "  <tbody>\n",
              "    <tr>\n",
              "      <th>0</th>\n",
              "      <td>202205</td>\n",
              "      <td>CUSH</td>\n",
              "      <td>D</td>\n",
              "      <td>6106.585733</td>\n",
              "      <td>9340.201421</td>\n",
              "      <td>1.529529</td>\n",
              "    </tr>\n",
              "    <tr>\n",
              "      <th>1</th>\n",
              "      <td>202206</td>\n",
              "      <td>CUSH</td>\n",
              "      <td>D</td>\n",
              "      <td>6491.641657</td>\n",
              "      <td>9340.201421</td>\n",
              "      <td>1.438804</td>\n",
              "    </tr>\n",
              "    <tr>\n",
              "      <th>2</th>\n",
              "      <td>202207</td>\n",
              "      <td>CUSH</td>\n",
              "      <td>D</td>\n",
              "      <td>9340.201421</td>\n",
              "      <td>9340.201421</td>\n",
              "      <td>1.000000</td>\n",
              "    </tr>\n",
              "    <tr>\n",
              "      <th>3</th>\n",
              "      <td>202205</td>\n",
              "      <td>CUSH</td>\n",
              "      <td>E</td>\n",
              "      <td>5876.262576</td>\n",
              "      <td>8951.004804</td>\n",
              "      <td>1.523248</td>\n",
              "    </tr>\n",
              "    <tr>\n",
              "      <th>4</th>\n",
              "      <td>202206</td>\n",
              "      <td>CUSH</td>\n",
              "      <td>E</td>\n",
              "      <td>5901.189079</td>\n",
              "      <td>8951.004804</td>\n",
              "      <td>1.516814</td>\n",
              "    </tr>\n",
              "    <tr>\n",
              "      <th>...</th>\n",
              "      <td>...</td>\n",
              "      <td>...</td>\n",
              "      <td>...</td>\n",
              "      <td>...</td>\n",
              "      <td>...</td>\n",
              "      <td>...</td>\n",
              "    </tr>\n",
              "    <tr>\n",
              "      <th>241</th>\n",
              "      <td>202206</td>\n",
              "      <td>RD</td>\n",
              "      <td>L</td>\n",
              "      <td>4292.450194</td>\n",
              "      <td>4455.250327</td>\n",
              "      <td>1.037927</td>\n",
              "    </tr>\n",
              "    <tr>\n",
              "      <th>242</th>\n",
              "      <td>202207</td>\n",
              "      <td>RD</td>\n",
              "      <td>L</td>\n",
              "      <td>4455.250327</td>\n",
              "      <td>4455.250327</td>\n",
              "      <td>1.000000</td>\n",
              "    </tr>\n",
              "    <tr>\n",
              "      <th>243</th>\n",
              "      <td>202205</td>\n",
              "      <td>RD</td>\n",
              "      <td>M</td>\n",
              "      <td>3772.731077</td>\n",
              "      <td>4107.238710</td>\n",
              "      <td>1.088665</td>\n",
              "    </tr>\n",
              "    <tr>\n",
              "      <th>244</th>\n",
              "      <td>202206</td>\n",
              "      <td>RD</td>\n",
              "      <td>M</td>\n",
              "      <td>3905.268117</td>\n",
              "      <td>4107.238710</td>\n",
              "      <td>1.051717</td>\n",
              "    </tr>\n",
              "    <tr>\n",
              "      <th>245</th>\n",
              "      <td>202207</td>\n",
              "      <td>RD</td>\n",
              "      <td>M</td>\n",
              "      <td>4107.238710</td>\n",
              "      <td>4107.238710</td>\n",
              "      <td>1.000000</td>\n",
              "    </tr>\n",
              "  </tbody>\n",
              "</table>\n",
              "<p>246 rows × 6 columns</p>\n",
              "</div>\n",
              "      <button class=\"colab-df-convert\" onclick=\"convertToInteractive('df-63f96721-d6bb-41ec-ad98-634195f1e7fc')\"\n",
              "              title=\"Convert this dataframe to an interactive table.\"\n",
              "              style=\"display:none;\">\n",
              "        \n",
              "  <svg xmlns=\"http://www.w3.org/2000/svg\" height=\"24px\"viewBox=\"0 0 24 24\"\n",
              "       width=\"24px\">\n",
              "    <path d=\"M0 0h24v24H0V0z\" fill=\"none\"/>\n",
              "    <path d=\"M18.56 5.44l.94 2.06.94-2.06 2.06-.94-2.06-.94-.94-2.06-.94 2.06-2.06.94zm-11 1L8.5 8.5l.94-2.06 2.06-.94-2.06-.94L8.5 2.5l-.94 2.06-2.06.94zm10 10l.94 2.06.94-2.06 2.06-.94-2.06-.94-.94-2.06-.94 2.06-2.06.94z\"/><path d=\"M17.41 7.96l-1.37-1.37c-.4-.4-.92-.59-1.43-.59-.52 0-1.04.2-1.43.59L10.3 9.45l-7.72 7.72c-.78.78-.78 2.05 0 2.83L4 21.41c.39.39.9.59 1.41.59.51 0 1.02-.2 1.41-.59l7.78-7.78 2.81-2.81c.8-.78.8-2.07 0-2.86zM5.41 20L4 18.59l7.72-7.72 1.47 1.35L5.41 20z\"/>\n",
              "  </svg>\n",
              "      </button>\n",
              "      \n",
              "  <style>\n",
              "    .colab-df-container {\n",
              "      display:flex;\n",
              "      flex-wrap:wrap;\n",
              "      gap: 12px;\n",
              "    }\n",
              "\n",
              "    .colab-df-convert {\n",
              "      background-color: #E8F0FE;\n",
              "      border: none;\n",
              "      border-radius: 50%;\n",
              "      cursor: pointer;\n",
              "      display: none;\n",
              "      fill: #1967D2;\n",
              "      height: 32px;\n",
              "      padding: 0 0 0 0;\n",
              "      width: 32px;\n",
              "    }\n",
              "\n",
              "    .colab-df-convert:hover {\n",
              "      background-color: #E2EBFA;\n",
              "      box-shadow: 0px 1px 2px rgba(60, 64, 67, 0.3), 0px 1px 3px 1px rgba(60, 64, 67, 0.15);\n",
              "      fill: #174EA6;\n",
              "    }\n",
              "\n",
              "    [theme=dark] .colab-df-convert {\n",
              "      background-color: #3B4455;\n",
              "      fill: #D2E3FC;\n",
              "    }\n",
              "\n",
              "    [theme=dark] .colab-df-convert:hover {\n",
              "      background-color: #434B5C;\n",
              "      box-shadow: 0px 1px 3px 1px rgba(0, 0, 0, 0.15);\n",
              "      filter: drop-shadow(0px 1px 2px rgba(0, 0, 0, 0.3));\n",
              "      fill: #FFFFFF;\n",
              "    }\n",
              "  </style>\n",
              "\n",
              "      <script>\n",
              "        const buttonEl =\n",
              "          document.querySelector('#df-63f96721-d6bb-41ec-ad98-634195f1e7fc button.colab-df-convert');\n",
              "        buttonEl.style.display =\n",
              "          google.colab.kernel.accessAllowed ? 'block' : 'none';\n",
              "\n",
              "        async function convertToInteractive(key) {\n",
              "          const element = document.querySelector('#df-63f96721-d6bb-41ec-ad98-634195f1e7fc');\n",
              "          const dataTable =\n",
              "            await google.colab.kernel.invokeFunction('convertToInteractive',\n",
              "                                                     [key], {});\n",
              "          if (!dataTable) return;\n",
              "\n",
              "          const docLinkHtml = 'Like what you see? Visit the ' +\n",
              "            '<a target=\"_blank\" href=https://colab.research.google.com/notebooks/data_table.ipynb>data table notebook</a>'\n",
              "            + ' to learn more about interactive tables.';\n",
              "          element.innerHTML = '';\n",
              "          dataTable['output_type'] = 'display_data';\n",
              "          await google.colab.output.renderOutput(dataTable, element);\n",
              "          const docLink = document.createElement('div');\n",
              "          docLink.innerHTML = docLinkHtml;\n",
              "          element.appendChild(docLink);\n",
              "        }\n",
              "      </script>\n",
              "    </div>\n",
              "  </div>\n",
              "  "
            ]
          },
          "metadata": {},
          "execution_count": 67
        }
      ],
      "source": [
        "df_index"
      ]
    },
    {
      "cell_type": "code",
      "execution_count": null,
      "metadata": {
        "id": "AaRJg8M3cjKm"
      },
      "outputs": [],
      "source": [
        "df_with_inf = df.merge(df_index[['date'] + categories + ['inflation']], \n",
        "                        on=['date'] + categories, how='left') # соединяем все в одной таблице"
      ]
    },
    {
      "cell_type": "code",
      "execution_count": null,
      "metadata": {
        "id": "T0X9Q1DCxnKA"
      },
      "outputs": [],
      "source": [
        "df_with_inf['new_price'] = df_with_inf['price'] * df_with_inf['inflation']"
      ]
    },
    {
      "cell_type": "code",
      "execution_count": null,
      "metadata": {
        "colab": {
          "base_uri": "https://localhost:8080/",
          "height": 462
        },
        "id": "VUPxMncpcj87",
        "outputId": "73481ca5-f44c-4072-a72a-ce51c33e40a1"
      },
      "outputs": [
        {
          "output_type": "execute_result",
          "data": {
            "text/plain": [
              "       fluor symmetry    platform  shape color clarity      cut polish     id  \\\n",
              "111617  NONE       EX  jamesallen     RD     D    VVS2       EX     EX  19449   \n",
              "75476    MED       EX  jamesallen     RD     D     VS2       EX     VG  19476   \n",
              "111618  NONE       VG  jamesallen  EM SQ     E     VS1  unknown     VG  19507   \n",
              "75550    FNT       EX  jamesallen  EM SQ     E     VS1  unknown     EX  19510   \n",
              "111619  NONE       VG  jamesallen     RD     E     VS1       EX     VG  19518   \n",
              "56746   NONE       VG  jamesallen    RAD     E     VS1  unknown     VG  19613   \n",
              "111620   FNT       VG  jamesallen    RAD     E     VS1  unknown     EX  19635   \n",
              "111621  NONE        G  jamesallen    RAD     D     VS2  unknown     EX  19656   \n",
              "97618    MED       EX  jamesallen    RAD     D     SI1  unknown     EX  19715   \n",
              "104534  NONE        G  jamesallen     EM     E     VS1  unknown     VG  19754   \n",
              "\n",
              "          date    price  carat  price_per_carat     z     x  depth_perc  \\\n",
              "111617  202207  17550.0   1.17         15000.00  6.79  6.75        62.0   \n",
              "75476   202207  19830.0   1.52         13046.05  7.35  7.32        62.0   \n",
              "111618  202207  27560.0   2.03         13576.35  7.20  6.86        70.1   \n",
              "75550   202207  26380.0   2.04         12931.37  7.18  6.89        72.0   \n",
              "111619  202207  43650.0   2.11         20687.20  8.31  8.29        60.1   \n",
              "56746   202207   5820.0   1.01          5762.38  5.83  5.38        70.8   \n",
              "111620  202207   5690.0   1.02          5578.43  5.93  5.14        70.0   \n",
              "111621  202207   5600.0   1.07          5233.64  5.76  5.51        74.2   \n",
              "97618   202207  12160.0   1.55          7845.16  7.02  6.24        72.3   \n",
              "104534  202206  22580.0   2.02         11178.22  8.21  6.63        61.2   \n",
              "\n",
              "              y  inflation     new_price  \n",
              "111617  4.18500   1.000000  17550.000000  \n",
              "75476   4.53840   1.000000  19830.000000  \n",
              "111618  4.80886   1.000000  27560.000000  \n",
              "75550   4.96080   1.000000  26380.000000  \n",
              "111619  4.98229   1.000000  43650.000000  \n",
              "56746   3.80904   1.000000   5820.000000  \n",
              "111620  3.59800   1.000000   5690.000000  \n",
              "111621  4.08842   1.000000   5600.000000  \n",
              "97618   4.51152   1.000000  12160.000000  \n",
              "104534  4.05756   1.061233  23962.644144  "
            ],
            "text/html": [
              "\n",
              "  <div id=\"df-f8446be7-66fd-4a0d-92ab-8d22d9438fc3\">\n",
              "    <div class=\"colab-df-container\">\n",
              "      <div>\n",
              "<style scoped>\n",
              "    .dataframe tbody tr th:only-of-type {\n",
              "        vertical-align: middle;\n",
              "    }\n",
              "\n",
              "    .dataframe tbody tr th {\n",
              "        vertical-align: top;\n",
              "    }\n",
              "\n",
              "    .dataframe thead th {\n",
              "        text-align: right;\n",
              "    }\n",
              "</style>\n",
              "<table border=\"1\" class=\"dataframe\">\n",
              "  <thead>\n",
              "    <tr style=\"text-align: right;\">\n",
              "      <th></th>\n",
              "      <th>fluor</th>\n",
              "      <th>symmetry</th>\n",
              "      <th>platform</th>\n",
              "      <th>shape</th>\n",
              "      <th>color</th>\n",
              "      <th>clarity</th>\n",
              "      <th>cut</th>\n",
              "      <th>polish</th>\n",
              "      <th>id</th>\n",
              "      <th>date</th>\n",
              "      <th>price</th>\n",
              "      <th>carat</th>\n",
              "      <th>price_per_carat</th>\n",
              "      <th>z</th>\n",
              "      <th>x</th>\n",
              "      <th>depth_perc</th>\n",
              "      <th>y</th>\n",
              "      <th>inflation</th>\n",
              "      <th>new_price</th>\n",
              "    </tr>\n",
              "  </thead>\n",
              "  <tbody>\n",
              "    <tr>\n",
              "      <th>111617</th>\n",
              "      <td>NONE</td>\n",
              "      <td>EX</td>\n",
              "      <td>jamesallen</td>\n",
              "      <td>RD</td>\n",
              "      <td>D</td>\n",
              "      <td>VVS2</td>\n",
              "      <td>EX</td>\n",
              "      <td>EX</td>\n",
              "      <td>19449</td>\n",
              "      <td>202207</td>\n",
              "      <td>17550.0</td>\n",
              "      <td>1.17</td>\n",
              "      <td>15000.00</td>\n",
              "      <td>6.79</td>\n",
              "      <td>6.75</td>\n",
              "      <td>62.0</td>\n",
              "      <td>4.18500</td>\n",
              "      <td>1.000000</td>\n",
              "      <td>17550.000000</td>\n",
              "    </tr>\n",
              "    <tr>\n",
              "      <th>75476</th>\n",
              "      <td>MED</td>\n",
              "      <td>EX</td>\n",
              "      <td>jamesallen</td>\n",
              "      <td>RD</td>\n",
              "      <td>D</td>\n",
              "      <td>VS2</td>\n",
              "      <td>EX</td>\n",
              "      <td>VG</td>\n",
              "      <td>19476</td>\n",
              "      <td>202207</td>\n",
              "      <td>19830.0</td>\n",
              "      <td>1.52</td>\n",
              "      <td>13046.05</td>\n",
              "      <td>7.35</td>\n",
              "      <td>7.32</td>\n",
              "      <td>62.0</td>\n",
              "      <td>4.53840</td>\n",
              "      <td>1.000000</td>\n",
              "      <td>19830.000000</td>\n",
              "    </tr>\n",
              "    <tr>\n",
              "      <th>111618</th>\n",
              "      <td>NONE</td>\n",
              "      <td>VG</td>\n",
              "      <td>jamesallen</td>\n",
              "      <td>EM SQ</td>\n",
              "      <td>E</td>\n",
              "      <td>VS1</td>\n",
              "      <td>unknown</td>\n",
              "      <td>VG</td>\n",
              "      <td>19507</td>\n",
              "      <td>202207</td>\n",
              "      <td>27560.0</td>\n",
              "      <td>2.03</td>\n",
              "      <td>13576.35</td>\n",
              "      <td>7.20</td>\n",
              "      <td>6.86</td>\n",
              "      <td>70.1</td>\n",
              "      <td>4.80886</td>\n",
              "      <td>1.000000</td>\n",
              "      <td>27560.000000</td>\n",
              "    </tr>\n",
              "    <tr>\n",
              "      <th>75550</th>\n",
              "      <td>FNT</td>\n",
              "      <td>EX</td>\n",
              "      <td>jamesallen</td>\n",
              "      <td>EM SQ</td>\n",
              "      <td>E</td>\n",
              "      <td>VS1</td>\n",
              "      <td>unknown</td>\n",
              "      <td>EX</td>\n",
              "      <td>19510</td>\n",
              "      <td>202207</td>\n",
              "      <td>26380.0</td>\n",
              "      <td>2.04</td>\n",
              "      <td>12931.37</td>\n",
              "      <td>7.18</td>\n",
              "      <td>6.89</td>\n",
              "      <td>72.0</td>\n",
              "      <td>4.96080</td>\n",
              "      <td>1.000000</td>\n",
              "      <td>26380.000000</td>\n",
              "    </tr>\n",
              "    <tr>\n",
              "      <th>111619</th>\n",
              "      <td>NONE</td>\n",
              "      <td>VG</td>\n",
              "      <td>jamesallen</td>\n",
              "      <td>RD</td>\n",
              "      <td>E</td>\n",
              "      <td>VS1</td>\n",
              "      <td>EX</td>\n",
              "      <td>VG</td>\n",
              "      <td>19518</td>\n",
              "      <td>202207</td>\n",
              "      <td>43650.0</td>\n",
              "      <td>2.11</td>\n",
              "      <td>20687.20</td>\n",
              "      <td>8.31</td>\n",
              "      <td>8.29</td>\n",
              "      <td>60.1</td>\n",
              "      <td>4.98229</td>\n",
              "      <td>1.000000</td>\n",
              "      <td>43650.000000</td>\n",
              "    </tr>\n",
              "    <tr>\n",
              "      <th>56746</th>\n",
              "      <td>NONE</td>\n",
              "      <td>VG</td>\n",
              "      <td>jamesallen</td>\n",
              "      <td>RAD</td>\n",
              "      <td>E</td>\n",
              "      <td>VS1</td>\n",
              "      <td>unknown</td>\n",
              "      <td>VG</td>\n",
              "      <td>19613</td>\n",
              "      <td>202207</td>\n",
              "      <td>5820.0</td>\n",
              "      <td>1.01</td>\n",
              "      <td>5762.38</td>\n",
              "      <td>5.83</td>\n",
              "      <td>5.38</td>\n",
              "      <td>70.8</td>\n",
              "      <td>3.80904</td>\n",
              "      <td>1.000000</td>\n",
              "      <td>5820.000000</td>\n",
              "    </tr>\n",
              "    <tr>\n",
              "      <th>111620</th>\n",
              "      <td>FNT</td>\n",
              "      <td>VG</td>\n",
              "      <td>jamesallen</td>\n",
              "      <td>RAD</td>\n",
              "      <td>E</td>\n",
              "      <td>VS1</td>\n",
              "      <td>unknown</td>\n",
              "      <td>EX</td>\n",
              "      <td>19635</td>\n",
              "      <td>202207</td>\n",
              "      <td>5690.0</td>\n",
              "      <td>1.02</td>\n",
              "      <td>5578.43</td>\n",
              "      <td>5.93</td>\n",
              "      <td>5.14</td>\n",
              "      <td>70.0</td>\n",
              "      <td>3.59800</td>\n",
              "      <td>1.000000</td>\n",
              "      <td>5690.000000</td>\n",
              "    </tr>\n",
              "    <tr>\n",
              "      <th>111621</th>\n",
              "      <td>NONE</td>\n",
              "      <td>G</td>\n",
              "      <td>jamesallen</td>\n",
              "      <td>RAD</td>\n",
              "      <td>D</td>\n",
              "      <td>VS2</td>\n",
              "      <td>unknown</td>\n",
              "      <td>EX</td>\n",
              "      <td>19656</td>\n",
              "      <td>202207</td>\n",
              "      <td>5600.0</td>\n",
              "      <td>1.07</td>\n",
              "      <td>5233.64</td>\n",
              "      <td>5.76</td>\n",
              "      <td>5.51</td>\n",
              "      <td>74.2</td>\n",
              "      <td>4.08842</td>\n",
              "      <td>1.000000</td>\n",
              "      <td>5600.000000</td>\n",
              "    </tr>\n",
              "    <tr>\n",
              "      <th>97618</th>\n",
              "      <td>MED</td>\n",
              "      <td>EX</td>\n",
              "      <td>jamesallen</td>\n",
              "      <td>RAD</td>\n",
              "      <td>D</td>\n",
              "      <td>SI1</td>\n",
              "      <td>unknown</td>\n",
              "      <td>EX</td>\n",
              "      <td>19715</td>\n",
              "      <td>202207</td>\n",
              "      <td>12160.0</td>\n",
              "      <td>1.55</td>\n",
              "      <td>7845.16</td>\n",
              "      <td>7.02</td>\n",
              "      <td>6.24</td>\n",
              "      <td>72.3</td>\n",
              "      <td>4.51152</td>\n",
              "      <td>1.000000</td>\n",
              "      <td>12160.000000</td>\n",
              "    </tr>\n",
              "    <tr>\n",
              "      <th>104534</th>\n",
              "      <td>NONE</td>\n",
              "      <td>G</td>\n",
              "      <td>jamesallen</td>\n",
              "      <td>EM</td>\n",
              "      <td>E</td>\n",
              "      <td>VS1</td>\n",
              "      <td>unknown</td>\n",
              "      <td>VG</td>\n",
              "      <td>19754</td>\n",
              "      <td>202206</td>\n",
              "      <td>22580.0</td>\n",
              "      <td>2.02</td>\n",
              "      <td>11178.22</td>\n",
              "      <td>8.21</td>\n",
              "      <td>6.63</td>\n",
              "      <td>61.2</td>\n",
              "      <td>4.05756</td>\n",
              "      <td>1.061233</td>\n",
              "      <td>23962.644144</td>\n",
              "    </tr>\n",
              "  </tbody>\n",
              "</table>\n",
              "</div>\n",
              "      <button class=\"colab-df-convert\" onclick=\"convertToInteractive('df-f8446be7-66fd-4a0d-92ab-8d22d9438fc3')\"\n",
              "              title=\"Convert this dataframe to an interactive table.\"\n",
              "              style=\"display:none;\">\n",
              "        \n",
              "  <svg xmlns=\"http://www.w3.org/2000/svg\" height=\"24px\"viewBox=\"0 0 24 24\"\n",
              "       width=\"24px\">\n",
              "    <path d=\"M0 0h24v24H0V0z\" fill=\"none\"/>\n",
              "    <path d=\"M18.56 5.44l.94 2.06.94-2.06 2.06-.94-2.06-.94-.94-2.06-.94 2.06-2.06.94zm-11 1L8.5 8.5l.94-2.06 2.06-.94-2.06-.94L8.5 2.5l-.94 2.06-2.06.94zm10 10l.94 2.06.94-2.06 2.06-.94-2.06-.94-.94-2.06-.94 2.06-2.06.94z\"/><path d=\"M17.41 7.96l-1.37-1.37c-.4-.4-.92-.59-1.43-.59-.52 0-1.04.2-1.43.59L10.3 9.45l-7.72 7.72c-.78.78-.78 2.05 0 2.83L4 21.41c.39.39.9.59 1.41.59.51 0 1.02-.2 1.41-.59l7.78-7.78 2.81-2.81c.8-.78.8-2.07 0-2.86zM5.41 20L4 18.59l7.72-7.72 1.47 1.35L5.41 20z\"/>\n",
              "  </svg>\n",
              "      </button>\n",
              "      \n",
              "  <style>\n",
              "    .colab-df-container {\n",
              "      display:flex;\n",
              "      flex-wrap:wrap;\n",
              "      gap: 12px;\n",
              "    }\n",
              "\n",
              "    .colab-df-convert {\n",
              "      background-color: #E8F0FE;\n",
              "      border: none;\n",
              "      border-radius: 50%;\n",
              "      cursor: pointer;\n",
              "      display: none;\n",
              "      fill: #1967D2;\n",
              "      height: 32px;\n",
              "      padding: 0 0 0 0;\n",
              "      width: 32px;\n",
              "    }\n",
              "\n",
              "    .colab-df-convert:hover {\n",
              "      background-color: #E2EBFA;\n",
              "      box-shadow: 0px 1px 2px rgba(60, 64, 67, 0.3), 0px 1px 3px 1px rgba(60, 64, 67, 0.15);\n",
              "      fill: #174EA6;\n",
              "    }\n",
              "\n",
              "    [theme=dark] .colab-df-convert {\n",
              "      background-color: #3B4455;\n",
              "      fill: #D2E3FC;\n",
              "    }\n",
              "\n",
              "    [theme=dark] .colab-df-convert:hover {\n",
              "      background-color: #434B5C;\n",
              "      box-shadow: 0px 1px 3px 1px rgba(0, 0, 0, 0.15);\n",
              "      filter: drop-shadow(0px 1px 2px rgba(0, 0, 0, 0.3));\n",
              "      fill: #FFFFFF;\n",
              "    }\n",
              "  </style>\n",
              "\n",
              "      <script>\n",
              "        const buttonEl =\n",
              "          document.querySelector('#df-f8446be7-66fd-4a0d-92ab-8d22d9438fc3 button.colab-df-convert');\n",
              "        buttonEl.style.display =\n",
              "          google.colab.kernel.accessAllowed ? 'block' : 'none';\n",
              "\n",
              "        async function convertToInteractive(key) {\n",
              "          const element = document.querySelector('#df-f8446be7-66fd-4a0d-92ab-8d22d9438fc3');\n",
              "          const dataTable =\n",
              "            await google.colab.kernel.invokeFunction('convertToInteractive',\n",
              "                                                     [key], {});\n",
              "          if (!dataTable) return;\n",
              "\n",
              "          const docLinkHtml = 'Like what you see? Visit the ' +\n",
              "            '<a target=\"_blank\" href=https://colab.research.google.com/notebooks/data_table.ipynb>data table notebook</a>'\n",
              "            + ' to learn more about interactive tables.';\n",
              "          element.innerHTML = '';\n",
              "          dataTable['output_type'] = 'display_data';\n",
              "          await google.colab.output.renderOutput(dataTable, element);\n",
              "          const docLink = document.createElement('div');\n",
              "          docLink.innerHTML = docLinkHtml;\n",
              "          element.appendChild(docLink);\n",
              "        }\n",
              "      </script>\n",
              "    </div>\n",
              "  </div>\n",
              "  "
            ]
          },
          "metadata": {},
          "execution_count": 70
        }
      ],
      "source": [
        "df_with_inf.sort_values(by='id').head(10)"
      ]
    },
    {
      "cell_type": "markdown",
      "metadata": {
        "id": "xuPhXT9aESGs"
      },
      "source": [
        "### Задание 2: Модель"
      ]
    },
    {
      "cell_type": "markdown",
      "metadata": {
        "id": "v3OgAHMiExrW"
      },
      "source": [
        "Определите функцию потерь (MSE или MAE) и аргументируйте выбор.\n",
        "Попробуйте сделать baseline.\n",
        "Используйте LableEncoder для категориальных фичей и **постройте линейную модель**."
      ]
    },
    {
      "cell_type": "markdown",
      "metadata": {
        "id": "9bpApvg19_XY"
      },
      "source": [
        "метод подсчета среднеквадратичной ошибки (MSE) в значительной мере чувствителен к выбросам в выборке, или к выборкам где разброс значений очень большой. \n",
        "Однако, в подсчете средней абсолютной ошибки (MAE) используется усреднённая сумма модулей разницы между реальным и предсказанным значениями, и поэтому она отличается меньшей чувствительностью к выбросам значений."
      ]
    },
    {
      "cell_type": "markdown",
      "metadata": {
        "id": "NOsvOAdg-y43"
      },
      "source": [
        "Видим, что есть выбросы, разброс большой, поэтому будем использовать MAE"
      ]
    },
    {
      "cell_type": "code",
      "execution_count": null,
      "metadata": {
        "colab": {
          "base_uri": "https://localhost:8080/",
          "height": 277
        },
        "id": "npBhoTa0G1KC",
        "outputId": "a1396ba7-c5ea-4ab5-dac4-a40b1f2aa683"
      },
      "outputs": [
        {
          "output_type": "display_data",
          "data": {
            "text/plain": [
              "<Figure size 432x288 with 1 Axes>"
            ],
            "image/png": "[encoded data removed]"
          },
          "metadata": {
            "needs_background": "light"
          }
        }
      ],
      "source": [
        "df['price_per_carat'].plot.box();"
      ]
    },
    {
      "cell_type": "code",
      "execution_count": null,
      "metadata": {
        "id": "BEvWYr1uEKJU"
      },
      "outputs": [],
      "source": [
        "from sklearn.model_selection import train_test_split\n",
        "from sklearn.preprocessing import LabelEncoder\n",
        "from sklearn.metrics import mean_squared_error, max_error, mean_absolute_error\n",
        "from copy import deepcopy\n",
        "import seaborn as sns\n",
        "\n",
        "X = df.drop(columns=[\"price_per_carat\"])\n",
        "y = df[\"price_per_carat\"]\n",
        "\n",
        "X_train, X_valid, y_train, y_valid = train_test_split(X, y, test_size=0.2, random_state=13)"
      ]
    },
    {
      "cell_type": "code",
      "execution_count": null,
      "metadata": {
        "colab": {
          "base_uri": "https://localhost:8080/"
        },
        "id": "48kTCtvQ89YJ",
        "outputId": "90cc1264-14b3-4751-f89c-a7ec399c30ef"
      },
      "outputs": [
        {
          "output_type": "execute_result",
          "data": {
            "text/plain": [
              "(105298, 16)"
            ]
          },
          "metadata": {},
          "execution_count": 73
        }
      ],
      "source": [
        "# Посмотрим на размеры получившегося обучающего датасета\n",
        "X_train.shape"
      ]
    },
    {
      "cell_type": "code",
      "execution_count": null,
      "metadata": {
        "id": "Abr65UDuAuwA"
      },
      "outputs": [],
      "source": [
        "cat_list = df.select_dtypes(object).columns"
      ]
    },
    {
      "cell_type": "code",
      "execution_count": null,
      "metadata": {
        "id": "Jtq9pYq5_cUE"
      },
      "outputs": [],
      "source": [
        "labelencoder = LabelEncoder()\n",
        "X_train_le = X_train.copy()\n",
        "X_valid_le = X_valid.copy()\n",
        "X_train_le[cat_list] = X_train_le[cat_list].apply(LabelEncoder().fit_transform)\n",
        "X_valid_le[cat_list] = X_valid_le[cat_list].apply(LabelEncoder().fit_transform)"
      ]
    },
    {
      "cell_type": "code",
      "execution_count": null,
      "metadata": {
        "colab": {
          "base_uri": "https://localhost:8080/",
          "height": 206
        },
        "id": "RPcT53fqBHV0",
        "outputId": "8d6074a8-7124-4b1f-bb85-50d38e7617d2"
      },
      "outputs": [
        {
          "output_type": "execute_result",
          "data": {
            "text/plain": [
              "        fluor  symmetry  platform  shape  color  clarity  cut  polish  \\\n",
              "55422       2         0         0      9      7        4    0       0   \n",
              "121346      2         0         0      9      3        5    0       0   \n",
              "11899       0         0         0      9      2        2    0       0   \n",
              "103092      2         3         0      7      0        4    3       2   \n",
              "115048      0         0         0      9      1        5    0       0   \n",
              "\n",
              "              id    date    price  carat     z     x  depth_perc        y  \n",
              "55422   14467048  202205   3670.0   1.01  6.39  6.44        60.0  3.86400  \n",
              "121346  14422206  202207   9440.0   1.01  6.48  6.51        59.8  3.89298  \n",
              "11899   14384045  202207  14940.0   1.22  6.89  6.91        61.4  4.24274  \n",
              "103092  14262557  202207   3910.0   1.00  8.37  5.58        63.0  3.51540  \n",
              "115048  12873447  202206  18670.0   1.51  7.30  7.34        62.0  4.55080  "
            ],
            "text/html": [
              "\n",
              "  <div id=\"df-7e2caa5f-8c20-4b4f-a9f6-0bb8ece77dbe\">\n",
              "    <div class=\"colab-df-container\">\n",
              "      <div>\n",
              "<style scoped>\n",
              "    .dataframe tbody tr th:only-of-type {\n",
              "        vertical-align: middle;\n",
              "    }\n",
              "\n",
              "    .dataframe tbody tr th {\n",
              "        vertical-align: top;\n",
              "    }\n",
              "\n",
              "    .dataframe thead th {\n",
              "        text-align: right;\n",
              "    }\n",
              "</style>\n",
              "<table border=\"1\" class=\"dataframe\">\n",
              "  <thead>\n",
              "    <tr style=\"text-align: right;\">\n",
              "      <th></th>\n",
              "      <th>fluor</th>\n",
              "      <th>symmetry</th>\n",
              "      <th>platform</th>\n",
              "      <th>shape</th>\n",
              "      <th>color</th>\n",
              "      <th>clarity</th>\n",
              "      <th>cut</th>\n",
              "      <th>polish</th>\n",
              "      <th>id</th>\n",
              "      <th>date</th>\n",
              "      <th>price</th>\n",
              "      <th>carat</th>\n",
              "      <th>z</th>\n",
              "      <th>x</th>\n",
              "      <th>depth_perc</th>\n",
              "      <th>y</th>\n",
              "    </tr>\n",
              "  </thead>\n",
              "  <tbody>\n",
              "    <tr>\n",
              "      <th>55422</th>\n",
              "      <td>2</td>\n",
              "      <td>0</td>\n",
              "      <td>0</td>\n",
              "      <td>9</td>\n",
              "      <td>7</td>\n",
              "      <td>4</td>\n",
              "      <td>0</td>\n",
              "      <td>0</td>\n",
              "      <td>14467048</td>\n",
              "      <td>202205</td>\n",
              "      <td>3670.0</td>\n",
              "      <td>1.01</td>\n",
              "      <td>6.39</td>\n",
              "      <td>6.44</td>\n",
              "      <td>60.0</td>\n",
              "      <td>3.86400</td>\n",
              "    </tr>\n",
              "    <tr>\n",
              "      <th>121346</th>\n",
              "      <td>2</td>\n",
              "      <td>0</td>\n",
              "      <td>0</td>\n",
              "      <td>9</td>\n",
              "      <td>3</td>\n",
              "      <td>5</td>\n",
              "      <td>0</td>\n",
              "      <td>0</td>\n",
              "      <td>14422206</td>\n",
              "      <td>202207</td>\n",
              "      <td>9440.0</td>\n",
              "      <td>1.01</td>\n",
              "      <td>6.48</td>\n",
              "      <td>6.51</td>\n",
              "      <td>59.8</td>\n",
              "      <td>3.89298</td>\n",
              "    </tr>\n",
              "    <tr>\n",
              "      <th>11899</th>\n",
              "      <td>0</td>\n",
              "      <td>0</td>\n",
              "      <td>0</td>\n",
              "      <td>9</td>\n",
              "      <td>2</td>\n",
              "      <td>2</td>\n",
              "      <td>0</td>\n",
              "      <td>0</td>\n",
              "      <td>14384045</td>\n",
              "      <td>202207</td>\n",
              "      <td>14940.0</td>\n",
              "      <td>1.22</td>\n",
              "      <td>6.89</td>\n",
              "      <td>6.91</td>\n",
              "      <td>61.4</td>\n",
              "      <td>4.24274</td>\n",
              "    </tr>\n",
              "    <tr>\n",
              "      <th>103092</th>\n",
              "      <td>2</td>\n",
              "      <td>3</td>\n",
              "      <td>0</td>\n",
              "      <td>7</td>\n",
              "      <td>0</td>\n",
              "      <td>4</td>\n",
              "      <td>3</td>\n",
              "      <td>2</td>\n",
              "      <td>14262557</td>\n",
              "      <td>202207</td>\n",
              "      <td>3910.0</td>\n",
              "      <td>1.00</td>\n",
              "      <td>8.37</td>\n",
              "      <td>5.58</td>\n",
              "      <td>63.0</td>\n",
              "      <td>3.51540</td>\n",
              "    </tr>\n",
              "    <tr>\n",
              "      <th>115048</th>\n",
              "      <td>0</td>\n",
              "      <td>0</td>\n",
              "      <td>0</td>\n",
              "      <td>9</td>\n",
              "      <td>1</td>\n",
              "      <td>5</td>\n",
              "      <td>0</td>\n",
              "      <td>0</td>\n",
              "      <td>12873447</td>\n",
              "      <td>202206</td>\n",
              "      <td>18670.0</td>\n",
              "      <td>1.51</td>\n",
              "      <td>7.30</td>\n",
              "      <td>7.34</td>\n",
              "      <td>62.0</td>\n",
              "      <td>4.55080</td>\n",
              "    </tr>\n",
              "  </tbody>\n",
              "</table>\n",
              "</div>\n",
              "      <button class=\"colab-df-convert\" onclick=\"convertToInteractive('df-7e2caa5f-8c20-4b4f-a9f6-0bb8ece77dbe')\"\n",
              "              title=\"Convert this dataframe to an interactive table.\"\n",
              "              style=\"display:none;\">\n",
              "        \n",
              "  <svg xmlns=\"http://www.w3.org/2000/svg\" height=\"24px\"viewBox=\"0 0 24 24\"\n",
              "       width=\"24px\">\n",
              "    <path d=\"M0 0h24v24H0V0z\" fill=\"none\"/>\n",
              "    <path d=\"M18.56 5.44l.94 2.06.94-2.06 2.06-.94-2.06-.94-.94-2.06-.94 2.06-2.06.94zm-11 1L8.5 8.5l.94-2.06 2.06-.94-2.06-.94L8.5 2.5l-.94 2.06-2.06.94zm10 10l.94 2.06.94-2.06 2.06-.94-2.06-.94-.94-2.06-.94 2.06-2.06.94z\"/><path d=\"M17.41 7.96l-1.37-1.37c-.4-.4-.92-.59-1.43-.59-.52 0-1.04.2-1.43.59L10.3 9.45l-7.72 7.72c-.78.78-.78 2.05 0 2.83L4 21.41c.39.39.9.59 1.41.59.51 0 1.02-.2 1.41-.59l7.78-7.78 2.81-2.81c.8-.78.8-2.07 0-2.86zM5.41 20L4 18.59l7.72-7.72 1.47 1.35L5.41 20z\"/>\n",
              "  </svg>\n",
              "      </button>\n",
              "      \n",
              "  <style>\n",
              "    .colab-df-container {\n",
              "      display:flex;\n",
              "      flex-wrap:wrap;\n",
              "      gap: 12px;\n",
              "    }\n",
              "\n",
              "    .colab-df-convert {\n",
              "      background-color: #E8F0FE;\n",
              "      border: none;\n",
              "      border-radius: 50%;\n",
              "      cursor: pointer;\n",
              "      display: none;\n",
              "      fill: #1967D2;\n",
              "      height: 32px;\n",
              "      padding: 0 0 0 0;\n",
              "      width: 32px;\n",
              "    }\n",
              "\n",
              "    .colab-df-convert:hover {\n",
              "      background-color: #E2EBFA;\n",
              "      box-shadow: 0px 1px 2px rgba(60, 64, 67, 0.3), 0px 1px 3px 1px rgba(60, 64, 67, 0.15);\n",
              "      fill: #174EA6;\n",
              "    }\n",
              "\n",
              "    [theme=dark] .colab-df-convert {\n",
              "      background-color: #3B4455;\n",
              "      fill: #D2E3FC;\n",
              "    }\n",
              "\n",
              "    [theme=dark] .colab-df-convert:hover {\n",
              "      background-color: #434B5C;\n",
              "      box-shadow: 0px 1px 3px 1px rgba(0, 0, 0, 0.15);\n",
              "      filter: drop-shadow(0px 1px 2px rgba(0, 0, 0, 0.3));\n",
              "      fill: #FFFFFF;\n",
              "    }\n",
              "  </style>\n",
              "\n",
              "      <script>\n",
              "        const buttonEl =\n",
              "          document.querySelector('#df-7e2caa5f-8c20-4b4f-a9f6-0bb8ece77dbe button.colab-df-convert');\n",
              "        buttonEl.style.display =\n",
              "          google.colab.kernel.accessAllowed ? 'block' : 'none';\n",
              "\n",
              "        async function convertToInteractive(key) {\n",
              "          const element = document.querySelector('#df-7e2caa5f-8c20-4b4f-a9f6-0bb8ece77dbe');\n",
              "          const dataTable =\n",
              "            await google.colab.kernel.invokeFunction('convertToInteractive',\n",
              "                                                     [key], {});\n",
              "          if (!dataTable) return;\n",
              "\n",
              "          const docLinkHtml = 'Like what you see? Visit the ' +\n",
              "            '<a target=\"_blank\" href=https://colab.research.google.com/notebooks/data_table.ipynb>data table notebook</a>'\n",
              "            + ' to learn more about interactive tables.';\n",
              "          element.innerHTML = '';\n",
              "          dataTable['output_type'] = 'display_data';\n",
              "          await google.colab.output.renderOutput(dataTable, element);\n",
              "          const docLink = document.createElement('div');\n",
              "          docLink.innerHTML = docLinkHtml;\n",
              "          element.appendChild(docLink);\n",
              "        }\n",
              "      </script>\n",
              "    </div>\n",
              "  </div>\n",
              "  "
            ]
          },
          "metadata": {},
          "execution_count": 76
        }
      ],
      "source": [
        "X_train_le.head()"
      ]
    },
    {
      "cell_type": "code",
      "execution_count": null,
      "metadata": {
        "colab": {
          "base_uri": "https://localhost:8080/",
          "height": 206
        },
        "id": "l3mUP2yjCNlV",
        "outputId": "749def40-d3f2-44fa-c708-cfd33a81338b"
      },
      "outputs": [
        {
          "output_type": "execute_result",
          "data": {
            "text/plain": [
              "        fluor  symmetry  platform  shape  color  clarity  cut  polish  \\\n",
              "105720      2         3         0      9      1        6    1       0   \n",
              "92212       1         0         0      9      0        3    0       0   \n",
              "57133       2         3         0      9      3        3    2       0   \n",
              "62665       2         3         0      0      6        3    1       0   \n",
              "87345       2         0         0      9      5        3    0       0   \n",
              "\n",
              "              id    date    price  carat     z     x  depth_perc        y  \n",
              "105720  14006074  202205   5690.0   1.00  6.20  6.27        62.0  3.88740  \n",
              "92212   13823961  202207   7620.0   1.10  6.59  6.60        62.4  4.11840  \n",
              "57133   14389210  202205   5970.0   1.00  6.19  6.26        64.0  4.19640  \n",
              "62665   11328205  202205   2810.0   1.20  5.82  5.78        69.0  3.98820  \n",
              "87345   13121296  202207  22960.0   2.08  8.12  8.17        61.8  5.04906  "
            ],
            "text/html": [
              "\n",
              "  <div id=\"df-0ea2b86a-adcf-44fe-9f8c-231eed85feaf\">\n",
              "    <div class=\"colab-df-container\">\n",
              "      <div>\n",
              "<style scoped>\n",
              "    .dataframe tbody tr th:only-of-type {\n",
              "        vertical-align: middle;\n",
              "    }\n",
              "\n",
              "    .dataframe tbody tr th {\n",
              "        vertical-align: top;\n",
              "    }\n",
              "\n",
              "    .dataframe thead th {\n",
              "        text-align: right;\n",
              "    }\n",
              "</style>\n",
              "<table border=\"1\" class=\"dataframe\">\n",
              "  <thead>\n",
              "    <tr style=\"text-align: right;\">\n",
              "      <th></th>\n",
              "      <th>fluor</th>\n",
              "      <th>symmetry</th>\n",
              "      <th>platform</th>\n",
              "      <th>shape</th>\n",
              "      <th>color</th>\n",
              "      <th>clarity</th>\n",
              "      <th>cut</th>\n",
              "      <th>polish</th>\n",
              "      <th>id</th>\n",
              "      <th>date</th>\n",
              "      <th>price</th>\n",
              "      <th>carat</th>\n",
              "      <th>z</th>\n",
              "      <th>x</th>\n",
              "      <th>depth_perc</th>\n",
              "      <th>y</th>\n",
              "    </tr>\n",
              "  </thead>\n",
              "  <tbody>\n",
              "    <tr>\n",
              "      <th>105720</th>\n",
              "      <td>2</td>\n",
              "      <td>3</td>\n",
              "      <td>0</td>\n",
              "      <td>9</td>\n",
              "      <td>1</td>\n",
              "      <td>6</td>\n",
              "      <td>1</td>\n",
              "      <td>0</td>\n",
              "      <td>14006074</td>\n",
              "      <td>202205</td>\n",
              "      <td>5690.0</td>\n",
              "      <td>1.00</td>\n",
              "      <td>6.20</td>\n",
              "      <td>6.27</td>\n",
              "      <td>62.0</td>\n",
              "      <td>3.88740</td>\n",
              "    </tr>\n",
              "    <tr>\n",
              "      <th>92212</th>\n",
              "      <td>1</td>\n",
              "      <td>0</td>\n",
              "      <td>0</td>\n",
              "      <td>9</td>\n",
              "      <td>0</td>\n",
              "      <td>3</td>\n",
              "      <td>0</td>\n",
              "      <td>0</td>\n",
              "      <td>13823961</td>\n",
              "      <td>202207</td>\n",
              "      <td>7620.0</td>\n",
              "      <td>1.10</td>\n",
              "      <td>6.59</td>\n",
              "      <td>6.60</td>\n",
              "      <td>62.4</td>\n",
              "      <td>4.11840</td>\n",
              "    </tr>\n",
              "    <tr>\n",
              "      <th>57133</th>\n",
              "      <td>2</td>\n",
              "      <td>3</td>\n",
              "      <td>0</td>\n",
              "      <td>9</td>\n",
              "      <td>3</td>\n",
              "      <td>3</td>\n",
              "      <td>2</td>\n",
              "      <td>0</td>\n",
              "      <td>14389210</td>\n",
              "      <td>202205</td>\n",
              "      <td>5970.0</td>\n",
              "      <td>1.00</td>\n",
              "      <td>6.19</td>\n",
              "      <td>6.26</td>\n",
              "      <td>64.0</td>\n",
              "      <td>4.19640</td>\n",
              "    </tr>\n",
              "    <tr>\n",
              "      <th>62665</th>\n",
              "      <td>2</td>\n",
              "      <td>3</td>\n",
              "      <td>0</td>\n",
              "      <td>0</td>\n",
              "      <td>6</td>\n",
              "      <td>3</td>\n",
              "      <td>1</td>\n",
              "      <td>0</td>\n",
              "      <td>11328205</td>\n",
              "      <td>202205</td>\n",
              "      <td>2810.0</td>\n",
              "      <td>1.20</td>\n",
              "      <td>5.82</td>\n",
              "      <td>5.78</td>\n",
              "      <td>69.0</td>\n",
              "      <td>3.98820</td>\n",
              "    </tr>\n",
              "    <tr>\n",
              "      <th>87345</th>\n",
              "      <td>2</td>\n",
              "      <td>0</td>\n",
              "      <td>0</td>\n",
              "      <td>9</td>\n",
              "      <td>5</td>\n",
              "      <td>3</td>\n",
              "      <td>0</td>\n",
              "      <td>0</td>\n",
              "      <td>13121296</td>\n",
              "      <td>202207</td>\n",
              "      <td>22960.0</td>\n",
              "      <td>2.08</td>\n",
              "      <td>8.12</td>\n",
              "      <td>8.17</td>\n",
              "      <td>61.8</td>\n",
              "      <td>5.04906</td>\n",
              "    </tr>\n",
              "  </tbody>\n",
              "</table>\n",
              "</div>\n",
              "      <button class=\"colab-df-convert\" onclick=\"convertToInteractive('df-0ea2b86a-adcf-44fe-9f8c-231eed85feaf')\"\n",
              "              title=\"Convert this dataframe to an interactive table.\"\n",
              "              style=\"display:none;\">\n",
              "        \n",
              "  <svg xmlns=\"http://www.w3.org/2000/svg\" height=\"24px\"viewBox=\"0 0 24 24\"\n",
              "       width=\"24px\">\n",
              "    <path d=\"M0 0h24v24H0V0z\" fill=\"none\"/>\n",
              "    <path d=\"M18.56 5.44l.94 2.06.94-2.06 2.06-.94-2.06-.94-.94-2.06-.94 2.06-2.06.94zm-11 1L8.5 8.5l.94-2.06 2.06-.94-2.06-.94L8.5 2.5l-.94 2.06-2.06.94zm10 10l.94 2.06.94-2.06 2.06-.94-2.06-.94-.94-2.06-.94 2.06-2.06.94z\"/><path d=\"M17.41 7.96l-1.37-1.37c-.4-.4-.92-.59-1.43-.59-.52 0-1.04.2-1.43.59L10.3 9.45l-7.72 7.72c-.78.78-.78 2.05 0 2.83L4 21.41c.39.39.9.59 1.41.59.51 0 1.02-.2 1.41-.59l7.78-7.78 2.81-2.81c.8-.78.8-2.07 0-2.86zM5.41 20L4 18.59l7.72-7.72 1.47 1.35L5.41 20z\"/>\n",
              "  </svg>\n",
              "      </button>\n",
              "      \n",
              "  <style>\n",
              "    .colab-df-container {\n",
              "      display:flex;\n",
              "      flex-wrap:wrap;\n",
              "      gap: 12px;\n",
              "    }\n",
              "\n",
              "    .colab-df-convert {\n",
              "      background-color: #E8F0FE;\n",
              "      border: none;\n",
              "      border-radius: 50%;\n",
              "      cursor: pointer;\n",
              "      display: none;\n",
              "      fill: #1967D2;\n",
              "      height: 32px;\n",
              "      padding: 0 0 0 0;\n",
              "      width: 32px;\n",
              "    }\n",
              "\n",
              "    .colab-df-convert:hover {\n",
              "      background-color: #E2EBFA;\n",
              "      box-shadow: 0px 1px 2px rgba(60, 64, 67, 0.3), 0px 1px 3px 1px rgba(60, 64, 67, 0.15);\n",
              "      fill: #174EA6;\n",
              "    }\n",
              "\n",
              "    [theme=dark] .colab-df-convert {\n",
              "      background-color: #3B4455;\n",
              "      fill: #D2E3FC;\n",
              "    }\n",
              "\n",
              "    [theme=dark] .colab-df-convert:hover {\n",
              "      background-color: #434B5C;\n",
              "      box-shadow: 0px 1px 3px 1px rgba(0, 0, 0, 0.15);\n",
              "      filter: drop-shadow(0px 1px 2px rgba(0, 0, 0, 0.3));\n",
              "      fill: #FFFFFF;\n",
              "    }\n",
              "  </style>\n",
              "\n",
              "      <script>\n",
              "        const buttonEl =\n",
              "          document.querySelector('#df-0ea2b86a-adcf-44fe-9f8c-231eed85feaf button.colab-df-convert');\n",
              "        buttonEl.style.display =\n",
              "          google.colab.kernel.accessAllowed ? 'block' : 'none';\n",
              "\n",
              "        async function convertToInteractive(key) {\n",
              "          const element = document.querySelector('#df-0ea2b86a-adcf-44fe-9f8c-231eed85feaf');\n",
              "          const dataTable =\n",
              "            await google.colab.kernel.invokeFunction('convertToInteractive',\n",
              "                                                     [key], {});\n",
              "          if (!dataTable) return;\n",
              "\n",
              "          const docLinkHtml = 'Like what you see? Visit the ' +\n",
              "            '<a target=\"_blank\" href=https://colab.research.google.com/notebooks/data_table.ipynb>data table notebook</a>'\n",
              "            + ' to learn more about interactive tables.';\n",
              "          element.innerHTML = '';\n",
              "          dataTable['output_type'] = 'display_data';\n",
              "          await google.colab.output.renderOutput(dataTable, element);\n",
              "          const docLink = document.createElement('div');\n",
              "          docLink.innerHTML = docLinkHtml;\n",
              "          element.appendChild(docLink);\n",
              "        }\n",
              "      </script>\n",
              "    </div>\n",
              "  </div>\n",
              "  "
            ]
          },
          "metadata": {},
          "execution_count": 58
        }
      ],
      "source": [
        "X_valid_le.head()"
      ]
    },
    {
      "cell_type": "code",
      "execution_count": null,
      "metadata": {
        "id": "AqkNo6sX_EOP"
      },
      "outputs": [],
      "source": [
        "from sklearn.linear_model import LinearRegression"
      ]
    },
    {
      "cell_type": "code",
      "execution_count": null,
      "metadata": {
        "id": "Z-5ni_np6CDK"
      },
      "outputs": [],
      "source": [
        "# Создадим объект класса LinearRegression с параметрами по умолчанию\n",
        "LR = LinearRegression()"
      ]
    },
    {
      "cell_type": "code",
      "execution_count": null,
      "metadata": {
        "colab": {
          "base_uri": "https://localhost:8080/"
        },
        "id": "kGAKXIc_BNaT",
        "outputId": "f6502a20-f2ec-4a70-a1c5-b4d6fde273ea"
      },
      "outputs": [
        {
          "output_type": "execute_result",
          "data": {
            "text/plain": [
              "LinearRegression()"
            ]
          },
          "metadata": {},
          "execution_count": 79
        }
      ],
      "source": [
        "# Обучим его на обучающей части датасета при помощи метода fit\n",
        "LR.fit(X_train_le, y_train)"
      ]
    },
    {
      "cell_type": "code",
      "execution_count": null,
      "metadata": {
        "id": "Cd6FTczVBaqh"
      },
      "outputs": [],
      "source": [
        "# Получим предсказание нашего дерева при помощи метода predict на обучающем и Валидационном датасете\n",
        "y_LR_train_predict = LR.predict(X_train_le)\n",
        "y_LR_valid_predict = LR.predict(X_valid_le)"
      ]
    },
    {
      "cell_type": "code",
      "execution_count": null,
      "metadata": {
        "colab": {
          "base_uri": "https://localhost:8080/",
          "height": 81
        },
        "id": "ttBgDHqx3R1I",
        "outputId": "101f80af-1454-4765-85f5-208fb3afa7e2"
      },
      "outputs": [
        {
          "output_type": "execute_result",
          "data": {
            "text/plain": [
              "         encoder  train_max_error    train_mae  valid_max_error    valid_mae\n",
              "0  Label_encoder    688125.106203  1243.909242    116395.958735  1244.357701"
            ],
            "text/html": [
              "\n",
              "  <div id=\"df-d278f836-8a3b-47e9-9b64-f304410e6bb1\">\n",
              "    <div class=\"colab-df-container\">\n",
              "      <div>\n",
              "<style scoped>\n",
              "    .dataframe tbody tr th:only-of-type {\n",
              "        vertical-align: middle;\n",
              "    }\n",
              "\n",
              "    .dataframe tbody tr th {\n",
              "        vertical-align: top;\n",
              "    }\n",
              "\n",
              "    .dataframe thead th {\n",
              "        text-align: right;\n",
              "    }\n",
              "</style>\n",
              "<table border=\"1\" class=\"dataframe\">\n",
              "  <thead>\n",
              "    <tr style=\"text-align: right;\">\n",
              "      <th></th>\n",
              "      <th>encoder</th>\n",
              "      <th>train_max_error</th>\n",
              "      <th>train_mae</th>\n",
              "      <th>valid_max_error</th>\n",
              "      <th>valid_mae</th>\n",
              "    </tr>\n",
              "  </thead>\n",
              "  <tbody>\n",
              "    <tr>\n",
              "      <th>0</th>\n",
              "      <td>Label_encoder</td>\n",
              "      <td>688125.106203</td>\n",
              "      <td>1243.909242</td>\n",
              "      <td>116395.958735</td>\n",
              "      <td>1244.357701</td>\n",
              "    </tr>\n",
              "  </tbody>\n",
              "</table>\n",
              "</div>\n",
              "      <button class=\"colab-df-convert\" onclick=\"convertToInteractive('df-d278f836-8a3b-47e9-9b64-f304410e6bb1')\"\n",
              "              title=\"Convert this dataframe to an interactive table.\"\n",
              "              style=\"display:none;\">\n",
              "        \n",
              "  <svg xmlns=\"http://www.w3.org/2000/svg\" height=\"24px\"viewBox=\"0 0 24 24\"\n",
              "       width=\"24px\">\n",
              "    <path d=\"M0 0h24v24H0V0z\" fill=\"none\"/>\n",
              "    <path d=\"M18.56 5.44l.94 2.06.94-2.06 2.06-.94-2.06-.94-.94-2.06-.94 2.06-2.06.94zm-11 1L8.5 8.5l.94-2.06 2.06-.94-2.06-.94L8.5 2.5l-.94 2.06-2.06.94zm10 10l.94 2.06.94-2.06 2.06-.94-2.06-.94-.94-2.06-.94 2.06-2.06.94z\"/><path d=\"M17.41 7.96l-1.37-1.37c-.4-.4-.92-.59-1.43-.59-.52 0-1.04.2-1.43.59L10.3 9.45l-7.72 7.72c-.78.78-.78 2.05 0 2.83L4 21.41c.39.39.9.59 1.41.59.51 0 1.02-.2 1.41-.59l7.78-7.78 2.81-2.81c.8-.78.8-2.07 0-2.86zM5.41 20L4 18.59l7.72-7.72 1.47 1.35L5.41 20z\"/>\n",
              "  </svg>\n",
              "      </button>\n",
              "      \n",
              "  <style>\n",
              "    .colab-df-container {\n",
              "      display:flex;\n",
              "      flex-wrap:wrap;\n",
              "      gap: 12px;\n",
              "    }\n",
              "\n",
              "    .colab-df-convert {\n",
              "      background-color: #E8F0FE;\n",
              "      border: none;\n",
              "      border-radius: 50%;\n",
              "      cursor: pointer;\n",
              "      display: none;\n",
              "      fill: #1967D2;\n",
              "      height: 32px;\n",
              "      padding: 0 0 0 0;\n",
              "      width: 32px;\n",
              "    }\n",
              "\n",
              "    .colab-df-convert:hover {\n",
              "      background-color: #E2EBFA;\n",
              "      box-shadow: 0px 1px 2px rgba(60, 64, 67, 0.3), 0px 1px 3px 1px rgba(60, 64, 67, 0.15);\n",
              "      fill: #174EA6;\n",
              "    }\n",
              "\n",
              "    [theme=dark] .colab-df-convert {\n",
              "      background-color: #3B4455;\n",
              "      fill: #D2E3FC;\n",
              "    }\n",
              "\n",
              "    [theme=dark] .colab-df-convert:hover {\n",
              "      background-color: #434B5C;\n",
              "      box-shadow: 0px 1px 3px 1px rgba(0, 0, 0, 0.15);\n",
              "      filter: drop-shadow(0px 1px 2px rgba(0, 0, 0, 0.3));\n",
              "      fill: #FFFFFF;\n",
              "    }\n",
              "  </style>\n",
              "\n",
              "      <script>\n",
              "        const buttonEl =\n",
              "          document.querySelector('#df-d278f836-8a3b-47e9-9b64-f304410e6bb1 button.colab-df-convert');\n",
              "        buttonEl.style.display =\n",
              "          google.colab.kernel.accessAllowed ? 'block' : 'none';\n",
              "\n",
              "        async function convertToInteractive(key) {\n",
              "          const element = document.querySelector('#df-d278f836-8a3b-47e9-9b64-f304410e6bb1');\n",
              "          const dataTable =\n",
              "            await google.colab.kernel.invokeFunction('convertToInteractive',\n",
              "                                                     [key], {});\n",
              "          if (!dataTable) return;\n",
              "\n",
              "          const docLinkHtml = 'Like what you see? Visit the ' +\n",
              "            '<a target=\"_blank\" href=https://colab.research.google.com/notebooks/data_table.ipynb>data table notebook</a>'\n",
              "            + ' to learn more about interactive tables.';\n",
              "          element.innerHTML = '';\n",
              "          dataTable['output_type'] = 'display_data';\n",
              "          await google.colab.output.renderOutput(dataTable, element);\n",
              "          const docLink = document.createElement('div');\n",
              "          docLink.innerHTML = docLinkHtml;\n",
              "          element.appendChild(docLink);\n",
              "        }\n",
              "      </script>\n",
              "    </div>\n",
              "  </div>\n",
              "  "
            ]
          },
          "metadata": {},
          "execution_count": 81
        }
      ],
      "source": [
        "#ДФ с метриками\n",
        "res=pd.DataFrame(columns=['encoder',\n",
        "                          'train_max_error',\n",
        "                          'train_mae',\n",
        "                          'valid_max_error',                          \n",
        "                          'valid_mae'                        \n",
        "                         ],\n",
        "                 data=[['Label_encoder',\n",
        "                        max_error(y_train, y_LR_train_predict),\n",
        "                        mean_absolute_error(y_train, y_LR_train_predict),\n",
        "                        max_error(y_valid, y_LR_valid_predict),\n",
        "                        mean_absolute_error(y_valid, y_LR_valid_predict)\n",
        "                        ]]\n",
        "                )\n",
        "res"
      ]
    },
    {
      "cell_type": "markdown",
      "metadata": {
        "id": "Z9kiKhHuFDUD"
      },
      "source": [
        "Теперь попробуйте OHE или TargetEncoder (сравните их).\n",
        "\n",
        "Нормализуйте данные.\n",
        "\n",
        "Поработайте с пропусками (обратите внимание на то, что у fluor возможен пропуск значения, а возможно отсутствие флуоресценции)\n",
        "\n",
        "Покажите, насколько получилось улучшить результат."
      ]
    },
    {
      "cell_type": "code",
      "execution_count": null,
      "metadata": {
        "id": "LeLrnXuepjjb",
        "colab": {
          "base_uri": "https://localhost:8080/"
        },
        "outputId": "a7888ead-adfc-4f6f-e63d-163c549597f0"
      },
      "outputs": [
        {
          "output_type": "stream",
          "name": "stdout",
          "text": [
            "Looking in indexes: https://pypi.org/simple, https://us-python.pkg.dev/colab-wheels/public/simple/\n",
            "Requirement already satisfied: category_encoders in /usr/local/lib/python3.7/dist-packages (2.5.1.post0)\n",
            "Requirement already satisfied: patsy>=0.5.1 in /usr/local/lib/python3.7/dist-packages (from category_encoders) (0.5.3)\n",
            "Requirement already satisfied: scikit-learn>=0.20.0 in /usr/local/lib/python3.7/dist-packages (from category_encoders) (1.0.2)\n",
            "Requirement already satisfied: pandas>=1.0.5 in /usr/local/lib/python3.7/dist-packages (from category_encoders) (1.3.5)\n",
            "Requirement already satisfied: statsmodels>=0.9.0 in /usr/local/lib/python3.7/dist-packages (from category_encoders) (0.12.2)\n",
            "Requirement already satisfied: scipy>=1.0.0 in /usr/local/lib/python3.7/dist-packages (from category_encoders) (1.7.3)\n",
            "Requirement already satisfied: numpy>=1.14.0 in /usr/local/lib/python3.7/dist-packages (from category_encoders) (1.21.6)\n",
            "Requirement already satisfied: python-dateutil>=2.7.3 in /usr/local/lib/python3.7/dist-packages (from pandas>=1.0.5->category_encoders) (2.8.2)\n",
            "Requirement already satisfied: pytz>=2017.3 in /usr/local/lib/python3.7/dist-packages (from pandas>=1.0.5->category_encoders) (2022.6)\n",
            "Requirement already satisfied: six in /usr/local/lib/python3.7/dist-packages (from patsy>=0.5.1->category_encoders) (1.15.0)\n",
            "Requirement already satisfied: threadpoolctl>=2.0.0 in /usr/local/lib/python3.7/dist-packages (from scikit-learn>=0.20.0->category_encoders) (3.1.0)\n",
            "Requirement already satisfied: joblib>=0.11 in /usr/local/lib/python3.7/dist-packages (from scikit-learn>=0.20.0->category_encoders) (1.2.0)\n"
          ]
        }
      ],
      "source": [
        "! pip install category_encoders"
      ]
    },
    {
      "cell_type": "code",
      "execution_count": null,
      "metadata": {
        "id": "becHgg71Iria"
      },
      "outputs": [],
      "source": [
        "from sklearn.preprocessing import OneHotEncoder\n",
        "from category_encoders import TargetEncoder\n",
        "from sklearn.preprocessing import StandardScaler\n",
        "\n",
        "from typing import Tuple, List\n",
        "\n",
        "\n",
        "def OHE(df: pd.DataFrame, columns: List[str]) -> Tuple[pd.DataFrame, List[str]]:\n",
        "    \"\"\"\n",
        "    Вместо это функции можно использовать и функционал pandas\n",
        "    \"\"\"\n",
        "    index = df.index\n",
        "    one = OneHotEncoder(sparse=False, categories='auto')\n",
        "    ohe = one.fit_transform(df[columns])\n",
        "    col_names = one.get_feature_names(input_features = columns)\n",
        "    df = df.drop(columns, axis=1)\n",
        "    df = df.reset_index(drop=True)\n",
        "    df = pd.concat([df, pd.DataFrame(ohe, columns=col_names)], axis = 1)\n",
        "    df = df.set_index(index)\n",
        "    return (df, col_names)\n",
        "\n",
        "scaler = StandardScaler() # Помните, что на тесте делаем только transform"
      ]
    },
    {
      "cell_type": "code",
      "execution_count": null,
      "metadata": {
        "colab": {
          "base_uri": "https://localhost:8080/"
        },
        "id": "-upLRFsiKmMT",
        "outputId": "67eb95d0-7755-40b0-b066-092c63997801"
      },
      "outputs": [
        {
          "output_type": "stream",
          "name": "stderr",
          "text": [
            "/usr/local/lib/python3.7/dist-packages/sklearn/utils/deprecation.py:87: FutureWarning: Function get_feature_names is deprecated; get_feature_names is deprecated in 1.0 and will be removed in 1.2. Please use get_feature_names_out instead.\n",
            "  warnings.warn(msg, category=FutureWarning)\n",
            "/usr/local/lib/python3.7/dist-packages/sklearn/utils/deprecation.py:87: FutureWarning: Function get_feature_names is deprecated; get_feature_names is deprecated in 1.0 and will be removed in 1.2. Please use get_feature_names_out instead.\n",
            "  warnings.warn(msg, category=FutureWarning)\n"
          ]
        }
      ],
      "source": [
        "X_train_ohe = OHE(X_train, cat_list)[0]\n",
        "X_valid_ohe = OHE(X_valid, cat_list)[0]"
      ]
    },
    {
      "cell_type": "code",
      "execution_count": null,
      "metadata": {
        "id": "faQlk2tmOBAX"
      },
      "outputs": [],
      "source": [
        "X_train_ohe_scaled = scaler.fit_transform(X_train_ohe)\n",
        "X_valid_ohe_scaled = scaler.transform(X_valid_ohe)"
      ]
    },
    {
      "cell_type": "code",
      "execution_count": null,
      "metadata": {
        "colab": {
          "base_uri": "https://localhost:8080/"
        },
        "id": "jC7YXszJL_6u",
        "outputId": "4f0bf204-683b-4244-c9f7-93180c1d56f1"
      },
      "outputs": [
        {
          "output_type": "execute_result",
          "data": {
            "text/plain": [
              "LinearRegression()"
            ]
          },
          "metadata": {},
          "execution_count": 86
        }
      ],
      "source": [
        "# Обучим его на обучающей части датасета при помощи метода fit\n",
        "LR.fit(X_train_ohe_scaled, y_train)"
      ]
    },
    {
      "cell_type": "code",
      "execution_count": null,
      "metadata": {
        "id": "U0wbMMmrMCYO"
      },
      "outputs": [],
      "source": [
        "# Получим предсказание нашего дерева при помощи метода predict на обучающем и Валидационном датасете\n",
        "y_LR_train_predict_ohe = LR.predict(X_train_ohe_scaled)\n",
        "y_LR_valid_predict_ohe = LR.predict(X_valid_ohe_scaled)"
      ]
    },
    {
      "cell_type": "code",
      "execution_count": null,
      "metadata": {
        "colab": {
          "base_uri": "https://localhost:8080/",
          "height": 112
        },
        "id": "VZMh5t0zdSGI",
        "outputId": "17db286e-242a-4a10-d8d6-94c4da6a91aa"
      },
      "outputs": [
        {
          "output_type": "execute_result",
          "data": {
            "text/plain": [
              "         encoder  train_max_error    train_mae  valid_max_error    valid_mae\n",
              "0  Label_encoder    688125.106203  1243.909242    116395.958735  1244.357701\n",
              "1            OHE    672668.688952   855.925124    106606.361048   848.885119"
            ],
            "text/html": [
              "\n",
              "  <div id=\"df-c10355bc-2328-49d9-90b8-cbe664816283\">\n",
              "    <div class=\"colab-df-container\">\n",
              "      <div>\n",
              "<style scoped>\n",
              "    .dataframe tbody tr th:only-of-type {\n",
              "        vertical-align: middle;\n",
              "    }\n",
              "\n",
              "    .dataframe tbody tr th {\n",
              "        vertical-align: top;\n",
              "    }\n",
              "\n",
              "    .dataframe thead th {\n",
              "        text-align: right;\n",
              "    }\n",
              "</style>\n",
              "<table border=\"1\" class=\"dataframe\">\n",
              "  <thead>\n",
              "    <tr style=\"text-align: right;\">\n",
              "      <th></th>\n",
              "      <th>encoder</th>\n",
              "      <th>train_max_error</th>\n",
              "      <th>train_mae</th>\n",
              "      <th>valid_max_error</th>\n",
              "      <th>valid_mae</th>\n",
              "    </tr>\n",
              "  </thead>\n",
              "  <tbody>\n",
              "    <tr>\n",
              "      <th>0</th>\n",
              "      <td>Label_encoder</td>\n",
              "      <td>688125.106203</td>\n",
              "      <td>1243.909242</td>\n",
              "      <td>116395.958735</td>\n",
              "      <td>1244.357701</td>\n",
              "    </tr>\n",
              "    <tr>\n",
              "      <th>1</th>\n",
              "      <td>OHE</td>\n",
              "      <td>672668.688952</td>\n",
              "      <td>855.925124</td>\n",
              "      <td>106606.361048</td>\n",
              "      <td>848.885119</td>\n",
              "    </tr>\n",
              "  </tbody>\n",
              "</table>\n",
              "</div>\n",
              "      <button class=\"colab-df-convert\" onclick=\"convertToInteractive('df-c10355bc-2328-49d9-90b8-cbe664816283')\"\n",
              "              title=\"Convert this dataframe to an interactive table.\"\n",
              "              style=\"display:none;\">\n",
              "        \n",
              "  <svg xmlns=\"http://www.w3.org/2000/svg\" height=\"24px\"viewBox=\"0 0 24 24\"\n",
              "       width=\"24px\">\n",
              "    <path d=\"M0 0h24v24H0V0z\" fill=\"none\"/>\n",
              "    <path d=\"M18.56 5.44l.94 2.06.94-2.06 2.06-.94-2.06-.94-.94-2.06-.94 2.06-2.06.94zm-11 1L8.5 8.5l.94-2.06 2.06-.94-2.06-.94L8.5 2.5l-.94 2.06-2.06.94zm10 10l.94 2.06.94-2.06 2.06-.94-2.06-.94-.94-2.06-.94 2.06-2.06.94z\"/><path d=\"M17.41 7.96l-1.37-1.37c-.4-.4-.92-.59-1.43-.59-.52 0-1.04.2-1.43.59L10.3 9.45l-7.72 7.72c-.78.78-.78 2.05 0 2.83L4 21.41c.39.39.9.59 1.41.59.51 0 1.02-.2 1.41-.59l7.78-7.78 2.81-2.81c.8-.78.8-2.07 0-2.86zM5.41 20L4 18.59l7.72-7.72 1.47 1.35L5.41 20z\"/>\n",
              "  </svg>\n",
              "      </button>\n",
              "      \n",
              "  <style>\n",
              "    .colab-df-container {\n",
              "      display:flex;\n",
              "      flex-wrap:wrap;\n",
              "      gap: 12px;\n",
              "    }\n",
              "\n",
              "    .colab-df-convert {\n",
              "      background-color: #E8F0FE;\n",
              "      border: none;\n",
              "      border-radius: 50%;\n",
              "      cursor: pointer;\n",
              "      display: none;\n",
              "      fill: #1967D2;\n",
              "      height: 32px;\n",
              "      padding: 0 0 0 0;\n",
              "      width: 32px;\n",
              "    }\n",
              "\n",
              "    .colab-df-convert:hover {\n",
              "      background-color: #E2EBFA;\n",
              "      box-shadow: 0px 1px 2px rgba(60, 64, 67, 0.3), 0px 1px 3px 1px rgba(60, 64, 67, 0.15);\n",
              "      fill: #174EA6;\n",
              "    }\n",
              "\n",
              "    [theme=dark] .colab-df-convert {\n",
              "      background-color: #3B4455;\n",
              "      fill: #D2E3FC;\n",
              "    }\n",
              "\n",
              "    [theme=dark] .colab-df-convert:hover {\n",
              "      background-color: #434B5C;\n",
              "      box-shadow: 0px 1px 3px 1px rgba(0, 0, 0, 0.15);\n",
              "      filter: drop-shadow(0px 1px 2px rgba(0, 0, 0, 0.3));\n",
              "      fill: #FFFFFF;\n",
              "    }\n",
              "  </style>\n",
              "\n",
              "      <script>\n",
              "        const buttonEl =\n",
              "          document.querySelector('#df-c10355bc-2328-49d9-90b8-cbe664816283 button.colab-df-convert');\n",
              "        buttonEl.style.display =\n",
              "          google.colab.kernel.accessAllowed ? 'block' : 'none';\n",
              "\n",
              "        async function convertToInteractive(key) {\n",
              "          const element = document.querySelector('#df-c10355bc-2328-49d9-90b8-cbe664816283');\n",
              "          const dataTable =\n",
              "            await google.colab.kernel.invokeFunction('convertToInteractive',\n",
              "                                                     [key], {});\n",
              "          if (!dataTable) return;\n",
              "\n",
              "          const docLinkHtml = 'Like what you see? Visit the ' +\n",
              "            '<a target=\"_blank\" href=https://colab.research.google.com/notebooks/data_table.ipynb>data table notebook</a>'\n",
              "            + ' to learn more about interactive tables.';\n",
              "          element.innerHTML = '';\n",
              "          dataTable['output_type'] = 'display_data';\n",
              "          await google.colab.output.renderOutput(dataTable, element);\n",
              "          const docLink = document.createElement('div');\n",
              "          docLink.innerHTML = docLinkHtml;\n",
              "          element.appendChild(docLink);\n",
              "        }\n",
              "      </script>\n",
              "    </div>\n",
              "  </div>\n",
              "  "
            ]
          },
          "metadata": {},
          "execution_count": 88
        }
      ],
      "source": [
        "# Посмотрим на наши метрики на обучении и валидации и проанализирем работу алгоритма\n",
        "res.loc[res.shape[0]]=['OHE',\n",
        "                        max_error(y_train, y_LR_train_predict_ohe),\n",
        "                        mean_absolute_error(y_train, y_LR_train_predict_ohe),\n",
        "                        max_error(y_valid, y_LR_valid_predict_ohe),\n",
        "                        mean_absolute_error(y_valid, y_LR_valid_predict_ohe)\n",
        "                      ]\n",
        "res"
      ]
    },
    {
      "cell_type": "markdown",
      "metadata": {
        "id": "DIyA_LGo0XJ0"
      },
      "source": [
        "Ошибка при OHE уменьшилась по сравненю с LabelEncoder"
      ]
    },
    {
      "cell_type": "code",
      "execution_count": null,
      "metadata": {
        "colab": {
          "base_uri": "https://localhost:8080/"
        },
        "id": "fX3pfuYuzx7T",
        "outputId": "f8715b5f-544a-4778-8cc4-8453033c7431"
      },
      "outputs": [
        {
          "output_type": "stream",
          "name": "stderr",
          "text": [
            "/usr/local/lib/python3.7/dist-packages/category_encoders/target_encoder.py:124: FutureWarning: Default parameter min_samples_leaf will change in version 2.6.See https://github.com/scikit-learn-contrib/category_encoders/issues/327\n",
            "  category=FutureWarning)\n",
            "/usr/local/lib/python3.7/dist-packages/category_encoders/target_encoder.py:129: FutureWarning: Default parameter smoothing will change in version 2.6.See https://github.com/scikit-learn-contrib/category_encoders/issues/327\n",
            "  category=FutureWarning)\n"
          ]
        }
      ],
      "source": [
        "tenc = TargetEncoder() \n",
        "X_train_tenc = tenc.fit_transform(X_train, y_train)\n",
        "X_valid_tenc = tenc.fit_transform(X_valid, y_valid)"
      ]
    },
    {
      "cell_type": "code",
      "execution_count": null,
      "metadata": {
        "id": "C-BJGppAz8p3"
      },
      "outputs": [],
      "source": [
        "X_train_tenc_scaled = scaler.fit_transform(X_train_tenc)\n",
        "X_valid_scaled = scaler.transform(X_valid_tenc)"
      ]
    },
    {
      "cell_type": "code",
      "execution_count": null,
      "metadata": {
        "colab": {
          "base_uri": "https://localhost:8080/"
        },
        "id": "82Demfsd0iIz",
        "outputId": "c4cd6cac-b4d8-4320-bc07-2c5ff583b17c"
      },
      "outputs": [
        {
          "output_type": "execute_result",
          "data": {
            "text/plain": [
              "LinearRegression()"
            ]
          },
          "metadata": {},
          "execution_count": 91
        }
      ],
      "source": [
        "LR.fit(X_train_tenc_scaled, y_train)"
      ]
    },
    {
      "cell_type": "code",
      "execution_count": null,
      "metadata": {
        "id": "M88ICVwb0kqG"
      },
      "outputs": [],
      "source": [
        "# Получим предсказание нашего дерева при помощи метода predict на обучающем и Валидационном датасете\n",
        "y_LR_train_predict_tenc = LR.predict(X_train_tenc_scaled)\n",
        "y_LR_valid_predict_tenc = LR.predict(X_valid_scaled)"
      ]
    },
    {
      "cell_type": "code",
      "execution_count": null,
      "metadata": {
        "colab": {
          "base_uri": "https://localhost:8080/",
          "height": 143
        },
        "id": "21S4treP0woG",
        "outputId": "85766e67-baee-4764-e49a-f6698fd3be00"
      },
      "outputs": [
        {
          "output_type": "execute_result",
          "data": {
            "text/plain": [
              "         encoder  train_max_error    train_mae  valid_max_error    valid_mae\n",
              "0  Label_encoder    688125.106203  1243.909242    116395.958735  1244.357701\n",
              "1            OHE    672668.688952   855.925124    106606.361048   848.885119\n",
              "2  TargetEncoder    707656.928857  1035.362177    110049.371101  1032.775156"
            ],
            "text/html": [
              "\n",
              "  <div id=\"df-5c205070-2526-4dba-9144-7f05b214be29\">\n",
              "    <div class=\"colab-df-container\">\n",
              "      <div>\n",
              "<style scoped>\n",
              "    .dataframe tbody tr th:only-of-type {\n",
              "        vertical-align: middle;\n",
              "    }\n",
              "\n",
              "    .dataframe tbody tr th {\n",
              "        vertical-align: top;\n",
              "    }\n",
              "\n",
              "    .dataframe thead th {\n",
              "        text-align: right;\n",
              "    }\n",
              "</style>\n",
              "<table border=\"1\" class=\"dataframe\">\n",
              "  <thead>\n",
              "    <tr style=\"text-align: right;\">\n",
              "      <th></th>\n",
              "      <th>encoder</th>\n",
              "      <th>train_max_error</th>\n",
              "      <th>train_mae</th>\n",
              "      <th>valid_max_error</th>\n",
              "      <th>valid_mae</th>\n",
              "    </tr>\n",
              "  </thead>\n",
              "  <tbody>\n",
              "    <tr>\n",
              "      <th>0</th>\n",
              "      <td>Label_encoder</td>\n",
              "      <td>688125.106203</td>\n",
              "      <td>1243.909242</td>\n",
              "      <td>116395.958735</td>\n",
              "      <td>1244.357701</td>\n",
              "    </tr>\n",
              "    <tr>\n",
              "      <th>1</th>\n",
              "      <td>OHE</td>\n",
              "      <td>672668.688952</td>\n",
              "      <td>855.925124</td>\n",
              "      <td>106606.361048</td>\n",
              "      <td>848.885119</td>\n",
              "    </tr>\n",
              "    <tr>\n",
              "      <th>2</th>\n",
              "      <td>TargetEncoder</td>\n",
              "      <td>707656.928857</td>\n",
              "      <td>1035.362177</td>\n",
              "      <td>110049.371101</td>\n",
              "      <td>1032.775156</td>\n",
              "    </tr>\n",
              "  </tbody>\n",
              "</table>\n",
              "</div>\n",
              "      <button class=\"colab-df-convert\" onclick=\"convertToInteractive('df-5c205070-2526-4dba-9144-7f05b214be29')\"\n",
              "              title=\"Convert this dataframe to an interactive table.\"\n",
              "              style=\"display:none;\">\n",
              "        \n",
              "  <svg xmlns=\"http://www.w3.org/2000/svg\" height=\"24px\"viewBox=\"0 0 24 24\"\n",
              "       width=\"24px\">\n",
              "    <path d=\"M0 0h24v24H0V0z\" fill=\"none\"/>\n",
              "    <path d=\"M18.56 5.44l.94 2.06.94-2.06 2.06-.94-2.06-.94-.94-2.06-.94 2.06-2.06.94zm-11 1L8.5 8.5l.94-2.06 2.06-.94-2.06-.94L8.5 2.5l-.94 2.06-2.06.94zm10 10l.94 2.06.94-2.06 2.06-.94-2.06-.94-.94-2.06-.94 2.06-2.06.94z\"/><path d=\"M17.41 7.96l-1.37-1.37c-.4-.4-.92-.59-1.43-.59-.52 0-1.04.2-1.43.59L10.3 9.45l-7.72 7.72c-.78.78-.78 2.05 0 2.83L4 21.41c.39.39.9.59 1.41.59.51 0 1.02-.2 1.41-.59l7.78-7.78 2.81-2.81c.8-.78.8-2.07 0-2.86zM5.41 20L4 18.59l7.72-7.72 1.47 1.35L5.41 20z\"/>\n",
              "  </svg>\n",
              "      </button>\n",
              "      \n",
              "  <style>\n",
              "    .colab-df-container {\n",
              "      display:flex;\n",
              "      flex-wrap:wrap;\n",
              "      gap: 12px;\n",
              "    }\n",
              "\n",
              "    .colab-df-convert {\n",
              "      background-color: #E8F0FE;\n",
              "      border: none;\n",
              "      border-radius: 50%;\n",
              "      cursor: pointer;\n",
              "      display: none;\n",
              "      fill: #1967D2;\n",
              "      height: 32px;\n",
              "      padding: 0 0 0 0;\n",
              "      width: 32px;\n",
              "    }\n",
              "\n",
              "    .colab-df-convert:hover {\n",
              "      background-color: #E2EBFA;\n",
              "      box-shadow: 0px 1px 2px rgba(60, 64, 67, 0.3), 0px 1px 3px 1px rgba(60, 64, 67, 0.15);\n",
              "      fill: #174EA6;\n",
              "    }\n",
              "\n",
              "    [theme=dark] .colab-df-convert {\n",
              "      background-color: #3B4455;\n",
              "      fill: #D2E3FC;\n",
              "    }\n",
              "\n",
              "    [theme=dark] .colab-df-convert:hover {\n",
              "      background-color: #434B5C;\n",
              "      box-shadow: 0px 1px 3px 1px rgba(0, 0, 0, 0.15);\n",
              "      filter: drop-shadow(0px 1px 2px rgba(0, 0, 0, 0.3));\n",
              "      fill: #FFFFFF;\n",
              "    }\n",
              "  </style>\n",
              "\n",
              "      <script>\n",
              "        const buttonEl =\n",
              "          document.querySelector('#df-5c205070-2526-4dba-9144-7f05b214be29 button.colab-df-convert');\n",
              "        buttonEl.style.display =\n",
              "          google.colab.kernel.accessAllowed ? 'block' : 'none';\n",
              "\n",
              "        async function convertToInteractive(key) {\n",
              "          const element = document.querySelector('#df-5c205070-2526-4dba-9144-7f05b214be29');\n",
              "          const dataTable =\n",
              "            await google.colab.kernel.invokeFunction('convertToInteractive',\n",
              "                                                     [key], {});\n",
              "          if (!dataTable) return;\n",
              "\n",
              "          const docLinkHtml = 'Like what you see? Visit the ' +\n",
              "            '<a target=\"_blank\" href=https://colab.research.google.com/notebooks/data_table.ipynb>data table notebook</a>'\n",
              "            + ' to learn more about interactive tables.';\n",
              "          element.innerHTML = '';\n",
              "          dataTable['output_type'] = 'display_data';\n",
              "          await google.colab.output.renderOutput(dataTable, element);\n",
              "          const docLink = document.createElement('div');\n",
              "          docLink.innerHTML = docLinkHtml;\n",
              "          element.appendChild(docLink);\n",
              "        }\n",
              "      </script>\n",
              "    </div>\n",
              "  </div>\n",
              "  "
            ]
          },
          "metadata": {},
          "execution_count": 93
        }
      ],
      "source": [
        "# Посмотрим на наши метрики на обучении и валидации и проанализирем работу алгоритма\n",
        "res.loc[res.shape[0]]=['TargetEncoder',\n",
        "                        max_error(y_train, y_LR_train_predict_tenc),\n",
        "                        mean_absolute_error(y_train, y_LR_train_predict_tenc),\n",
        "                        max_error(y_valid, y_LR_valid_predict_tenc),\n",
        "                        mean_absolute_error(y_valid, y_LR_valid_predict_tenc)\n",
        "                      ]\n",
        "res"
      ]
    },
    {
      "cell_type": "markdown",
      "metadata": {
        "id": "jH07AexM09Sd"
      },
      "source": [
        "Ошибка увеличилась по сравнению с OHE, самая маленькая ошибка при OHE, самая большая ошибка при labelencoder"
      ]
    },
    {
      "cell_type": "markdown",
      "metadata": {
        "id": "tnJUqYqWoqgk"
      },
      "source": [
        "Сравните работу выбранной вами линейной модели с KNN"
      ]
    },
    {
      "cell_type": "code",
      "execution_count": null,
      "metadata": {
        "id": "bhKgkdw5ou4A"
      },
      "outputs": [],
      "source": [
        "from sklearn.neighbors import KNeighborsRegressor\n",
        "KNR = KNeighborsRegressor(3, n_jobs = -1)"
      ]
    },
    {
      "cell_type": "code",
      "execution_count": null,
      "metadata": {
        "colab": {
          "base_uri": "https://localhost:8080/"
        },
        "id": "Ood1cu5P-3fp",
        "outputId": "aba804a3-8a4a-4060-954c-63e521e23ca7"
      },
      "outputs": [
        {
          "output_type": "execute_result",
          "data": {
            "text/plain": [
              "KNeighborsRegressor(n_jobs=-1, n_neighbors=3)"
            ]
          },
          "metadata": {},
          "execution_count": 96
        }
      ],
      "source": [
        "KNR.fit(X_train_le, y_train)"
      ]
    },
    {
      "cell_type": "code",
      "execution_count": null,
      "metadata": {
        "id": "M7kzxqA__FTr"
      },
      "outputs": [],
      "source": [
        "y_KNR_train_predict = KNR.predict(X_train_le)\n",
        "y_KNR_valid_predict = KNR.predict(X_valid_le)"
      ]
    },
    {
      "cell_type": "code",
      "execution_count": null,
      "metadata": {
        "id": "pWuWwYcA_NRl",
        "colab": {
          "base_uri": "https://localhost:8080/",
          "height": 175
        },
        "outputId": "d160d3f5-9fbc-4ca9-bc76-cc899a39512d"
      },
      "outputs": [
        {
          "output_type": "execute_result",
          "data": {
            "text/plain": [
              "         encoder  train_max_error    train_mae  valid_max_error    valid_mae\n",
              "0  Label_encoder    688125.106203  1243.909242    116395.958735  1244.357701\n",
              "1            OHE    672668.688952   855.925124    106606.361048   848.885119\n",
              "2  TargetEncoder    707656.928857  1035.362177    110049.371101  1032.775156\n",
              "3   Labelenc_KNR    587627.913333   748.747671     48119.430000  1075.800130"
            ],
            "text/html": [
              "\n",
              "  <div id=\"df-a026e936-8e18-4caf-a66d-71c395f566ee\">\n",
              "    <div class=\"colab-df-container\">\n",
              "      <div>\n",
              "<style scoped>\n",
              "    .dataframe tbody tr th:only-of-type {\n",
              "        vertical-align: middle;\n",
              "    }\n",
              "\n",
              "    .dataframe tbody tr th {\n",
              "        vertical-align: top;\n",
              "    }\n",
              "\n",
              "    .dataframe thead th {\n",
              "        text-align: right;\n",
              "    }\n",
              "</style>\n",
              "<table border=\"1\" class=\"dataframe\">\n",
              "  <thead>\n",
              "    <tr style=\"text-align: right;\">\n",
              "      <th></th>\n",
              "      <th>encoder</th>\n",
              "      <th>train_max_error</th>\n",
              "      <th>train_mae</th>\n",
              "      <th>valid_max_error</th>\n",
              "      <th>valid_mae</th>\n",
              "    </tr>\n",
              "  </thead>\n",
              "  <tbody>\n",
              "    <tr>\n",
              "      <th>0</th>\n",
              "      <td>Label_encoder</td>\n",
              "      <td>688125.106203</td>\n",
              "      <td>1243.909242</td>\n",
              "      <td>116395.958735</td>\n",
              "      <td>1244.357701</td>\n",
              "    </tr>\n",
              "    <tr>\n",
              "      <th>1</th>\n",
              "      <td>OHE</td>\n",
              "      <td>672668.688952</td>\n",
              "      <td>855.925124</td>\n",
              "      <td>106606.361048</td>\n",
              "      <td>848.885119</td>\n",
              "    </tr>\n",
              "    <tr>\n",
              "      <th>2</th>\n",
              "      <td>TargetEncoder</td>\n",
              "      <td>707656.928857</td>\n",
              "      <td>1035.362177</td>\n",
              "      <td>110049.371101</td>\n",
              "      <td>1032.775156</td>\n",
              "    </tr>\n",
              "    <tr>\n",
              "      <th>3</th>\n",
              "      <td>Labelenc_KNR</td>\n",
              "      <td>587627.913333</td>\n",
              "      <td>748.747671</td>\n",
              "      <td>48119.430000</td>\n",
              "      <td>1075.800130</td>\n",
              "    </tr>\n",
              "  </tbody>\n",
              "</table>\n",
              "</div>\n",
              "      <button class=\"colab-df-convert\" onclick=\"convertToInteractive('df-a026e936-8e18-4caf-a66d-71c395f566ee')\"\n",
              "              title=\"Convert this dataframe to an interactive table.\"\n",
              "              style=\"display:none;\">\n",
              "        \n",
              "  <svg xmlns=\"http://www.w3.org/2000/svg\" height=\"24px\"viewBox=\"0 0 24 24\"\n",
              "       width=\"24px\">\n",
              "    <path d=\"M0 0h24v24H0V0z\" fill=\"none\"/>\n",
              "    <path d=\"M18.56 5.44l.94 2.06.94-2.06 2.06-.94-2.06-.94-.94-2.06-.94 2.06-2.06.94zm-11 1L8.5 8.5l.94-2.06 2.06-.94-2.06-.94L8.5 2.5l-.94 2.06-2.06.94zm10 10l.94 2.06.94-2.06 2.06-.94-2.06-.94-.94-2.06-.94 2.06-2.06.94z\"/><path d=\"M17.41 7.96l-1.37-1.37c-.4-.4-.92-.59-1.43-.59-.52 0-1.04.2-1.43.59L10.3 9.45l-7.72 7.72c-.78.78-.78 2.05 0 2.83L4 21.41c.39.39.9.59 1.41.59.51 0 1.02-.2 1.41-.59l7.78-7.78 2.81-2.81c.8-.78.8-2.07 0-2.86zM5.41 20L4 18.59l7.72-7.72 1.47 1.35L5.41 20z\"/>\n",
              "  </svg>\n",
              "      </button>\n",
              "      \n",
              "  <style>\n",
              "    .colab-df-container {\n",
              "      display:flex;\n",
              "      flex-wrap:wrap;\n",
              "      gap: 12px;\n",
              "    }\n",
              "\n",
              "    .colab-df-convert {\n",
              "      background-color: #E8F0FE;\n",
              "      border: none;\n",
              "      border-radius: 50%;\n",
              "      cursor: pointer;\n",
              "      display: none;\n",
              "      fill: #1967D2;\n",
              "      height: 32px;\n",
              "      padding: 0 0 0 0;\n",
              "      width: 32px;\n",
              "    }\n",
              "\n",
              "    .colab-df-convert:hover {\n",
              "      background-color: #E2EBFA;\n",
              "      box-shadow: 0px 1px 2px rgba(60, 64, 67, 0.3), 0px 1px 3px 1px rgba(60, 64, 67, 0.15);\n",
              "      fill: #174EA6;\n",
              "    }\n",
              "\n",
              "    [theme=dark] .colab-df-convert {\n",
              "      background-color: #3B4455;\n",
              "      fill: #D2E3FC;\n",
              "    }\n",
              "\n",
              "    [theme=dark] .colab-df-convert:hover {\n",
              "      background-color: #434B5C;\n",
              "      box-shadow: 0px 1px 3px 1px rgba(0, 0, 0, 0.15);\n",
              "      filter: drop-shadow(0px 1px 2px rgba(0, 0, 0, 0.3));\n",
              "      fill: #FFFFFF;\n",
              "    }\n",
              "  </style>\n",
              "\n",
              "      <script>\n",
              "        const buttonEl =\n",
              "          document.querySelector('#df-a026e936-8e18-4caf-a66d-71c395f566ee button.colab-df-convert');\n",
              "        buttonEl.style.display =\n",
              "          google.colab.kernel.accessAllowed ? 'block' : 'none';\n",
              "\n",
              "        async function convertToInteractive(key) {\n",
              "          const element = document.querySelector('#df-a026e936-8e18-4caf-a66d-71c395f566ee');\n",
              "          const dataTable =\n",
              "            await google.colab.kernel.invokeFunction('convertToInteractive',\n",
              "                                                     [key], {});\n",
              "          if (!dataTable) return;\n",
              "\n",
              "          const docLinkHtml = 'Like what you see? Visit the ' +\n",
              "            '<a target=\"_blank\" href=https://colab.research.google.com/notebooks/data_table.ipynb>data table notebook</a>'\n",
              "            + ' to learn more about interactive tables.';\n",
              "          element.innerHTML = '';\n",
              "          dataTable['output_type'] = 'display_data';\n",
              "          await google.colab.output.renderOutput(dataTable, element);\n",
              "          const docLink = document.createElement('div');\n",
              "          docLink.innerHTML = docLinkHtml;\n",
              "          element.appendChild(docLink);\n",
              "        }\n",
              "      </script>\n",
              "    </div>\n",
              "  </div>\n",
              "  "
            ]
          },
          "metadata": {},
          "execution_count": 98
        }
      ],
      "source": [
        "res.loc[res.shape[0]]=['Labelenc_KNR',\n",
        "                        max_error(y_train, y_KNR_train_predict),\n",
        "                        mean_absolute_error(y_train, y_KNR_train_predict),\n",
        "                        max_error(y_valid, y_KNR_valid_predict),\n",
        "                        mean_absolute_error(y_valid, y_KNR_valid_predict)\n",
        "                      ]\n",
        "res"
      ]
    },
    {
      "cell_type": "code",
      "source": [
        "KNR.fit(X_train_ohe_scaled, y_train)"
      ],
      "metadata": {
        "colab": {
          "base_uri": "https://localhost:8080/"
        },
        "id": "biUms-1vJSjd",
        "outputId": "9152e60e-3c9a-42e6-e42b-30e997449ad4"
      },
      "execution_count": null,
      "outputs": [
        {
          "output_type": "execute_result",
          "data": {
            "text/plain": [
              "KNeighborsRegressor(n_jobs=-1, n_neighbors=3)"
            ]
          },
          "metadata": {},
          "execution_count": 99
        }
      ]
    },
    {
      "cell_type": "code",
      "source": [
        "y_KNR_train_predict_ohe = KNR.predict(X_train_ohe_scaled)\n",
        "y_KNR_valid_predict_ohe = KNR.predict(X_valid_ohe_scaled)"
      ],
      "metadata": {
        "id": "37faRn2GI6rU"
      },
      "execution_count": null,
      "outputs": []
    },
    {
      "cell_type": "code",
      "source": [
        "res.loc[res.shape[0]]=['OHE_KNR',\n",
        "                        max_error(y_train, y_KNR_train_predict_ohe),\n",
        "                        mean_absolute_error(y_train, y_KNR_train_predict_ohe),\n",
        "                        max_error(y_valid, y_KNR_valid_predict_ohe),\n",
        "                        mean_absolute_error(y_valid, y_KNR_valid_predict_ohe)\n",
        "                      ]\n",
        "res"
      ],
      "metadata": {
        "colab": {
          "base_uri": "https://localhost:8080/",
          "height": 206
        },
        "id": "R-XZrZ7zMxSA",
        "outputId": "b69fdb2a-8451-474f-ec75-46572f2507ae"
      },
      "execution_count": null,
      "outputs": [
        {
          "output_type": "execute_result",
          "data": {
            "text/plain": [
              "         encoder  train_max_error    train_mae  valid_max_error    valid_mae\n",
              "0  Label_encoder    688125.106203  1243.909242    116395.958735  1244.357701\n",
              "1            OHE    672668.688952   855.925124    106606.361048   848.885119\n",
              "2  TargetEncoder    707656.928857  1035.362177    110049.371101  1032.775156\n",
              "3   Labelenc_KNR    587627.913333   748.747671     48119.430000  1075.800130\n",
              "4        OHE_KNR    549341.053333   551.941944     29887.573333   826.785493"
            ],
            "text/html": [
              "\n",
              "  <div id=\"df-cdf1833a-986b-4840-a67d-9066e04f4406\">\n",
              "    <div class=\"colab-df-container\">\n",
              "      <div>\n",
              "<style scoped>\n",
              "    .dataframe tbody tr th:only-of-type {\n",
              "        vertical-align: middle;\n",
              "    }\n",
              "\n",
              "    .dataframe tbody tr th {\n",
              "        vertical-align: top;\n",
              "    }\n",
              "\n",
              "    .dataframe thead th {\n",
              "        text-align: right;\n",
              "    }\n",
              "</style>\n",
              "<table border=\"1\" class=\"dataframe\">\n",
              "  <thead>\n",
              "    <tr style=\"text-align: right;\">\n",
              "      <th></th>\n",
              "      <th>encoder</th>\n",
              "      <th>train_max_error</th>\n",
              "      <th>train_mae</th>\n",
              "      <th>valid_max_error</th>\n",
              "      <th>valid_mae</th>\n",
              "    </tr>\n",
              "  </thead>\n",
              "  <tbody>\n",
              "    <tr>\n",
              "      <th>0</th>\n",
              "      <td>Label_encoder</td>\n",
              "      <td>688125.106203</td>\n",
              "      <td>1243.909242</td>\n",
              "      <td>116395.958735</td>\n",
              "      <td>1244.357701</td>\n",
              "    </tr>\n",
              "    <tr>\n",
              "      <th>1</th>\n",
              "      <td>OHE</td>\n",
              "      <td>672668.688952</td>\n",
              "      <td>855.925124</td>\n",
              "      <td>106606.361048</td>\n",
              "      <td>848.885119</td>\n",
              "    </tr>\n",
              "    <tr>\n",
              "      <th>2</th>\n",
              "      <td>TargetEncoder</td>\n",
              "      <td>707656.928857</td>\n",
              "      <td>1035.362177</td>\n",
              "      <td>110049.371101</td>\n",
              "      <td>1032.775156</td>\n",
              "    </tr>\n",
              "    <tr>\n",
              "      <th>3</th>\n",
              "      <td>Labelenc_KNR</td>\n",
              "      <td>587627.913333</td>\n",
              "      <td>748.747671</td>\n",
              "      <td>48119.430000</td>\n",
              "      <td>1075.800130</td>\n",
              "    </tr>\n",
              "    <tr>\n",
              "      <th>4</th>\n",
              "      <td>OHE_KNR</td>\n",
              "      <td>549341.053333</td>\n",
              "      <td>551.941944</td>\n",
              "      <td>29887.573333</td>\n",
              "      <td>826.785493</td>\n",
              "    </tr>\n",
              "  </tbody>\n",
              "</table>\n",
              "</div>\n",
              "      <button class=\"colab-df-convert\" onclick=\"convertToInteractive('df-cdf1833a-986b-4840-a67d-9066e04f4406')\"\n",
              "              title=\"Convert this dataframe to an interactive table.\"\n",
              "              style=\"display:none;\">\n",
              "        \n",
              "  <svg xmlns=\"http://www.w3.org/2000/svg\" height=\"24px\"viewBox=\"0 0 24 24\"\n",
              "       width=\"24px\">\n",
              "    <path d=\"M0 0h24v24H0V0z\" fill=\"none\"/>\n",
              "    <path d=\"M18.56 5.44l.94 2.06.94-2.06 2.06-.94-2.06-.94-.94-2.06-.94 2.06-2.06.94zm-11 1L8.5 8.5l.94-2.06 2.06-.94-2.06-.94L8.5 2.5l-.94 2.06-2.06.94zm10 10l.94 2.06.94-2.06 2.06-.94-2.06-.94-.94-2.06-.94 2.06-2.06.94z\"/><path d=\"M17.41 7.96l-1.37-1.37c-.4-.4-.92-.59-1.43-.59-.52 0-1.04.2-1.43.59L10.3 9.45l-7.72 7.72c-.78.78-.78 2.05 0 2.83L4 21.41c.39.39.9.59 1.41.59.51 0 1.02-.2 1.41-.59l7.78-7.78 2.81-2.81c.8-.78.8-2.07 0-2.86zM5.41 20L4 18.59l7.72-7.72 1.47 1.35L5.41 20z\"/>\n",
              "  </svg>\n",
              "      </button>\n",
              "      \n",
              "  <style>\n",
              "    .colab-df-container {\n",
              "      display:flex;\n",
              "      flex-wrap:wrap;\n",
              "      gap: 12px;\n",
              "    }\n",
              "\n",
              "    .colab-df-convert {\n",
              "      background-color: #E8F0FE;\n",
              "      border: none;\n",
              "      border-radius: 50%;\n",
              "      cursor: pointer;\n",
              "      display: none;\n",
              "      fill: #1967D2;\n",
              "      height: 32px;\n",
              "      padding: 0 0 0 0;\n",
              "      width: 32px;\n",
              "    }\n",
              "\n",
              "    .colab-df-convert:hover {\n",
              "      background-color: #E2EBFA;\n",
              "      box-shadow: 0px 1px 2px rgba(60, 64, 67, 0.3), 0px 1px 3px 1px rgba(60, 64, 67, 0.15);\n",
              "      fill: #174EA6;\n",
              "    }\n",
              "\n",
              "    [theme=dark] .colab-df-convert {\n",
              "      background-color: #3B4455;\n",
              "      fill: #D2E3FC;\n",
              "    }\n",
              "\n",
              "    [theme=dark] .colab-df-convert:hover {\n",
              "      background-color: #434B5C;\n",
              "      box-shadow: 0px 1px 3px 1px rgba(0, 0, 0, 0.15);\n",
              "      filter: drop-shadow(0px 1px 2px rgba(0, 0, 0, 0.3));\n",
              "      fill: #FFFFFF;\n",
              "    }\n",
              "  </style>\n",
              "\n",
              "      <script>\n",
              "        const buttonEl =\n",
              "          document.querySelector('#df-cdf1833a-986b-4840-a67d-9066e04f4406 button.colab-df-convert');\n",
              "        buttonEl.style.display =\n",
              "          google.colab.kernel.accessAllowed ? 'block' : 'none';\n",
              "\n",
              "        async function convertToInteractive(key) {\n",
              "          const element = document.querySelector('#df-cdf1833a-986b-4840-a67d-9066e04f4406');\n",
              "          const dataTable =\n",
              "            await google.colab.kernel.invokeFunction('convertToInteractive',\n",
              "                                                     [key], {});\n",
              "          if (!dataTable) return;\n",
              "\n",
              "          const docLinkHtml = 'Like what you see? Visit the ' +\n",
              "            '<a target=\"_blank\" href=https://colab.research.google.com/notebooks/data_table.ipynb>data table notebook</a>'\n",
              "            + ' to learn more about interactive tables.';\n",
              "          element.innerHTML = '';\n",
              "          dataTable['output_type'] = 'display_data';\n",
              "          await google.colab.output.renderOutput(dataTable, element);\n",
              "          const docLink = document.createElement('div');\n",
              "          docLink.innerHTML = docLinkHtml;\n",
              "          element.appendChild(docLink);\n",
              "        }\n",
              "      </script>\n",
              "    </div>\n",
              "  </div>\n",
              "  "
            ]
          },
          "metadata": {},
          "execution_count": 101
        }
      ]
    },
    {
      "cell_type": "code",
      "source": [
        "KNR.fit(X_train_tenc_scaled, y_train)"
      ],
      "metadata": {
        "colab": {
          "base_uri": "https://localhost:8080/"
        },
        "id": "3rFYeOE4OHsW",
        "outputId": "54c2fdf3-2958-4dbd-9624-2b5df265786a"
      },
      "execution_count": null,
      "outputs": [
        {
          "output_type": "execute_result",
          "data": {
            "text/plain": [
              "KNeighborsRegressor(n_jobs=-1, n_neighbors=3)"
            ]
          },
          "metadata": {},
          "execution_count": 102
        }
      ]
    },
    {
      "cell_type": "code",
      "source": [
        "y_KNR_train_predict_tenc = KNR.predict(X_train_tenc_scaled)\n",
        "y_KNR_valid_predict_tenc = KNR.predict(X_valid_scaled)"
      ],
      "metadata": {
        "id": "a-ako3XMONCD"
      },
      "execution_count": null,
      "outputs": []
    },
    {
      "cell_type": "code",
      "source": [
        "res.loc[res.shape[0]]=['Target_KNR',\n",
        "                        max_error(y_train, y_KNR_train_predict_tenc),\n",
        "                        mean_absolute_error(y_train, y_KNR_train_predict_tenc),\n",
        "                        max_error(y_valid, y_KNR_valid_predict_tenc),\n",
        "                        mean_absolute_error(y_valid, y_KNR_valid_predict_tenc)\n",
        "                      ]\n",
        "res"
      ],
      "metadata": {
        "colab": {
          "base_uri": "https://localhost:8080/",
          "height": 237
        },
        "id": "F9Jq3Mc9QBD3",
        "outputId": "3884bb19-da73-42b7-dafb-5cc4c7230490"
      },
      "execution_count": null,
      "outputs": [
        {
          "output_type": "execute_result",
          "data": {
            "text/plain": [
              "         encoder  train_max_error    train_mae  valid_max_error    valid_mae\n",
              "0  Label_encoder    688125.106203  1243.909242    116395.958735  1244.357701\n",
              "1            OHE    672668.688952   855.925124    106606.361048   848.885119\n",
              "2  TargetEncoder    707656.928857  1035.362177    110049.371101  1032.775156\n",
              "3   Labelenc_KNR    587627.913333   748.747671     48119.430000  1075.800130\n",
              "4        OHE_KNR    549341.053333   551.941944     29887.573333   826.785493\n",
              "5     Target_KNR    549341.053333   460.883321     33838.643333   656.599134"
            ],
            "text/html": [
              "\n",
              "  <div id=\"df-3ecf3873-e570-4fab-af75-5c0355748afc\">\n",
              "    <div class=\"colab-df-container\">\n",
              "      <div>\n",
              "<style scoped>\n",
              "    .dataframe tbody tr th:only-of-type {\n",
              "        vertical-align: middle;\n",
              "    }\n",
              "\n",
              "    .dataframe tbody tr th {\n",
              "        vertical-align: top;\n",
              "    }\n",
              "\n",
              "    .dataframe thead th {\n",
              "        text-align: right;\n",
              "    }\n",
              "</style>\n",
              "<table border=\"1\" class=\"dataframe\">\n",
              "  <thead>\n",
              "    <tr style=\"text-align: right;\">\n",
              "      <th></th>\n",
              "      <th>encoder</th>\n",
              "      <th>train_max_error</th>\n",
              "      <th>train_mae</th>\n",
              "      <th>valid_max_error</th>\n",
              "      <th>valid_mae</th>\n",
              "    </tr>\n",
              "  </thead>\n",
              "  <tbody>\n",
              "    <tr>\n",
              "      <th>0</th>\n",
              "      <td>Label_encoder</td>\n",
              "      <td>688125.106203</td>\n",
              "      <td>1243.909242</td>\n",
              "      <td>116395.958735</td>\n",
              "      <td>1244.357701</td>\n",
              "    </tr>\n",
              "    <tr>\n",
              "      <th>1</th>\n",
              "      <td>OHE</td>\n",
              "      <td>672668.688952</td>\n",
              "      <td>855.925124</td>\n",
              "      <td>106606.361048</td>\n",
              "      <td>848.885119</td>\n",
              "    </tr>\n",
              "    <tr>\n",
              "      <th>2</th>\n",
              "      <td>TargetEncoder</td>\n",
              "      <td>707656.928857</td>\n",
              "      <td>1035.362177</td>\n",
              "      <td>110049.371101</td>\n",
              "      <td>1032.775156</td>\n",
              "    </tr>\n",
              "    <tr>\n",
              "      <th>3</th>\n",
              "      <td>Labelenc_KNR</td>\n",
              "      <td>587627.913333</td>\n",
              "      <td>748.747671</td>\n",
              "      <td>48119.430000</td>\n",
              "      <td>1075.800130</td>\n",
              "    </tr>\n",
              "    <tr>\n",
              "      <th>4</th>\n",
              "      <td>OHE_KNR</td>\n",
              "      <td>549341.053333</td>\n",
              "      <td>551.941944</td>\n",
              "      <td>29887.573333</td>\n",
              "      <td>826.785493</td>\n",
              "    </tr>\n",
              "    <tr>\n",
              "      <th>5</th>\n",
              "      <td>Target_KNR</td>\n",
              "      <td>549341.053333</td>\n",
              "      <td>460.883321</td>\n",
              "      <td>33838.643333</td>\n",
              "      <td>656.599134</td>\n",
              "    </tr>\n",
              "  </tbody>\n",
              "</table>\n",
              "</div>\n",
              "      <button class=\"colab-df-convert\" onclick=\"convertToInteractive('df-3ecf3873-e570-4fab-af75-5c0355748afc')\"\n",
              "              title=\"Convert this dataframe to an interactive table.\"\n",
              "              style=\"display:none;\">\n",
              "        \n",
              "  <svg xmlns=\"http://www.w3.org/2000/svg\" height=\"24px\"viewBox=\"0 0 24 24\"\n",
              "       width=\"24px\">\n",
              "    <path d=\"M0 0h24v24H0V0z\" fill=\"none\"/>\n",
              "    <path d=\"M18.56 5.44l.94 2.06.94-2.06 2.06-.94-2.06-.94-.94-2.06-.94 2.06-2.06.94zm-11 1L8.5 8.5l.94-2.06 2.06-.94-2.06-.94L8.5 2.5l-.94 2.06-2.06.94zm10 10l.94 2.06.94-2.06 2.06-.94-2.06-.94-.94-2.06-.94 2.06-2.06.94z\"/><path d=\"M17.41 7.96l-1.37-1.37c-.4-.4-.92-.59-1.43-.59-.52 0-1.04.2-1.43.59L10.3 9.45l-7.72 7.72c-.78.78-.78 2.05 0 2.83L4 21.41c.39.39.9.59 1.41.59.51 0 1.02-.2 1.41-.59l7.78-7.78 2.81-2.81c.8-.78.8-2.07 0-2.86zM5.41 20L4 18.59l7.72-7.72 1.47 1.35L5.41 20z\"/>\n",
              "  </svg>\n",
              "      </button>\n",
              "      \n",
              "  <style>\n",
              "    .colab-df-container {\n",
              "      display:flex;\n",
              "      flex-wrap:wrap;\n",
              "      gap: 12px;\n",
              "    }\n",
              "\n",
              "    .colab-df-convert {\n",
              "      background-color: #E8F0FE;\n",
              "      border: none;\n",
              "      border-radius: 50%;\n",
              "      cursor: pointer;\n",
              "      display: none;\n",
              "      fill: #1967D2;\n",
              "      height: 32px;\n",
              "      padding: 0 0 0 0;\n",
              "      width: 32px;\n",
              "    }\n",
              "\n",
              "    .colab-df-convert:hover {\n",
              "      background-color: #E2EBFA;\n",
              "      box-shadow: 0px 1px 2px rgba(60, 64, 67, 0.3), 0px 1px 3px 1px rgba(60, 64, 67, 0.15);\n",
              "      fill: #174EA6;\n",
              "    }\n",
              "\n",
              "    [theme=dark] .colab-df-convert {\n",
              "      background-color: #3B4455;\n",
              "      fill: #D2E3FC;\n",
              "    }\n",
              "\n",
              "    [theme=dark] .colab-df-convert:hover {\n",
              "      background-color: #434B5C;\n",
              "      box-shadow: 0px 1px 3px 1px rgba(0, 0, 0, 0.15);\n",
              "      filter: drop-shadow(0px 1px 2px rgba(0, 0, 0, 0.3));\n",
              "      fill: #FFFFFF;\n",
              "    }\n",
              "  </style>\n",
              "\n",
              "      <script>\n",
              "        const buttonEl =\n",
              "          document.querySelector('#df-3ecf3873-e570-4fab-af75-5c0355748afc button.colab-df-convert');\n",
              "        buttonEl.style.display =\n",
              "          google.colab.kernel.accessAllowed ? 'block' : 'none';\n",
              "\n",
              "        async function convertToInteractive(key) {\n",
              "          const element = document.querySelector('#df-3ecf3873-e570-4fab-af75-5c0355748afc');\n",
              "          const dataTable =\n",
              "            await google.colab.kernel.invokeFunction('convertToInteractive',\n",
              "                                                     [key], {});\n",
              "          if (!dataTable) return;\n",
              "\n",
              "          const docLinkHtml = 'Like what you see? Visit the ' +\n",
              "            '<a target=\"_blank\" href=https://colab.research.google.com/notebooks/data_table.ipynb>data table notebook</a>'\n",
              "            + ' to learn more about interactive tables.';\n",
              "          element.innerHTML = '';\n",
              "          dataTable['output_type'] = 'display_data';\n",
              "          await google.colab.output.renderOutput(dataTable, element);\n",
              "          const docLink = document.createElement('div');\n",
              "          docLink.innerHTML = docLinkHtml;\n",
              "          element.appendChild(docLink);\n",
              "        }\n",
              "      </script>\n",
              "    </div>\n",
              "  </div>\n",
              "  "
            ]
          },
          "metadata": {},
          "execution_count": 104
        }
      ]
    },
    {
      "cell_type": "markdown",
      "source": [
        "KNN показала себя лучше, чем линейная регрессия на всех энкодерах"
      ],
      "metadata": {
        "id": "VIdCnBidUDi1"
      }
    },
    {
      "cell_type": "markdown",
      "metadata": {
        "id": "fLAsZpEeIsyk"
      },
      "source": [
        "## Классификация"
      ]
    },
    {
      "cell_type": "markdown",
      "metadata": {
        "id": "exzgWs8TGVwz"
      },
      "source": [
        "Загрузите датасет bodyPerformance\n",
        "\n",
        "Описание:\n",
        "\n",
        "https://www.kaggle.com/datasets/kukuroo3/body-performance-data"
      ]
    },
    {
      "cell_type": "code",
      "execution_count": null,
      "metadata": {
        "id": "HiRlpeObIw30",
        "colab": {
          "base_uri": "https://localhost:8080/"
        },
        "outputId": "53b8f034-9850-4092-9c6d-b6b0666737cd"
      },
      "outputs": [
        {
          "output_type": "stream",
          "name": "stdout",
          "text": [
            "Mounted at /content/drive\n"
          ]
        }
      ],
      "source": [
        "from google.colab import drive\n",
        "drive.mount('/content/drive')\n",
        "\n",
        "path = 'drive/MyDrive/'"
      ]
    },
    {
      "cell_type": "code",
      "execution_count": null,
      "metadata": {
        "id": "8icMo8BR8eJL"
      },
      "outputs": [],
      "source": [
        "df_ml = pd.read_csv(path + 'bodyPerformance.csv') #укажите свой путь"
      ]
    },
    {
      "cell_type": "code",
      "source": [
        "# Посмотрим есть ли в нашем датасете пропуски при помощи метода info\n",
        "df_ml.info()"
      ],
      "metadata": {
        "colab": {
          "base_uri": "https://localhost:8080/"
        },
        "id": "alPbZlQx-Ued",
        "outputId": "9a51e63e-93c5-473c-c030-012317e52510"
      },
      "execution_count": null,
      "outputs": [
        {
          "output_type": "stream",
          "name": "stdout",
          "text": [
            "<class 'pandas.core.frame.DataFrame'>\n",
            "RangeIndex: 13393 entries, 0 to 13392\n",
            "Data columns (total 12 columns):\n",
            " #   Column                   Non-Null Count  Dtype  \n",
            "---  ------                   --------------  -----  \n",
            " 0   age                      13393 non-null  float64\n",
            " 1   gender                   13393 non-null  object \n",
            " 2   height_cm                13393 non-null  float64\n",
            " 3   weight_kg                13393 non-null  float64\n",
            " 4   body fat_%               13393 non-null  float64\n",
            " 5   diastolic                13393 non-null  float64\n",
            " 6   systolic                 13393 non-null  float64\n",
            " 7   gripForce                13393 non-null  float64\n",
            " 8   sit and bend forward_cm  13393 non-null  float64\n",
            " 9   sit-ups counts           13393 non-null  float64\n",
            " 10  broad jump_cm            13393 non-null  float64\n",
            " 11  class                    13393 non-null  object \n",
            "dtypes: float64(10), object(2)\n",
            "memory usage: 1.2+ MB\n"
          ]
        }
      ]
    },
    {
      "cell_type": "code",
      "source": [
        "df_ml.head()"
      ],
      "metadata": {
        "colab": {
          "base_uri": "https://localhost:8080/",
          "height": 267
        },
        "id": "opR4SWbr-s-b",
        "outputId": "b15f52f9-40af-4409-da17-c1b75a6319ce"
      },
      "execution_count": null,
      "outputs": [
        {
          "output_type": "execute_result",
          "data": {
            "text/plain": [
              "    age gender  height_cm  weight_kg  body fat_%  diastolic  systolic  \\\n",
              "0  27.0      M      172.3      75.24        21.3       80.0     130.0   \n",
              "1  25.0      M      165.0      55.80        15.7       77.0     126.0   \n",
              "2  31.0      M      179.6      78.00        20.1       92.0     152.0   \n",
              "3  32.0      M      174.5      71.10        18.4       76.0     147.0   \n",
              "4  28.0      M      173.8      67.70        17.1       70.0     127.0   \n",
              "\n",
              "   gripForce  sit and bend forward_cm  sit-ups counts  broad jump_cm class  \n",
              "0       54.9                     18.4            60.0          217.0     C  \n",
              "1       36.4                     16.3            53.0          229.0     A  \n",
              "2       44.8                     12.0            49.0          181.0     C  \n",
              "3       41.4                     15.2            53.0          219.0     B  \n",
              "4       43.5                     27.1            45.0          217.0     B  "
            ],
            "text/html": [
              "\n",
              "  <div id=\"df-96519cf1-ebf4-43a6-8afa-7bcfb60a8646\">\n",
              "    <div class=\"colab-df-container\">\n",
              "      <div>\n",
              "<style scoped>\n",
              "    .dataframe tbody tr th:only-of-type {\n",
              "        vertical-align: middle;\n",
              "    }\n",
              "\n",
              "    .dataframe tbody tr th {\n",
              "        vertical-align: top;\n",
              "    }\n",
              "\n",
              "    .dataframe thead th {\n",
              "        text-align: right;\n",
              "    }\n",
              "</style>\n",
              "<table border=\"1\" class=\"dataframe\">\n",
              "  <thead>\n",
              "    <tr style=\"text-align: right;\">\n",
              "      <th></th>\n",
              "      <th>age</th>\n",
              "      <th>gender</th>\n",
              "      <th>height_cm</th>\n",
              "      <th>weight_kg</th>\n",
              "      <th>body fat_%</th>\n",
              "      <th>diastolic</th>\n",
              "      <th>systolic</th>\n",
              "      <th>gripForce</th>\n",
              "      <th>sit and bend forward_cm</th>\n",
              "      <th>sit-ups counts</th>\n",
              "      <th>broad jump_cm</th>\n",
              "      <th>class</th>\n",
              "    </tr>\n",
              "  </thead>\n",
              "  <tbody>\n",
              "    <tr>\n",
              "      <th>0</th>\n",
              "      <td>27.0</td>\n",
              "      <td>M</td>\n",
              "      <td>172.3</td>\n",
              "      <td>75.24</td>\n",
              "      <td>21.3</td>\n",
              "      <td>80.0</td>\n",
              "      <td>130.0</td>\n",
              "      <td>54.9</td>\n",
              "      <td>18.4</td>\n",
              "      <td>60.0</td>\n",
              "      <td>217.0</td>\n",
              "      <td>C</td>\n",
              "    </tr>\n",
              "    <tr>\n",
              "      <th>1</th>\n",
              "      <td>25.0</td>\n",
              "      <td>M</td>\n",
              "      <td>165.0</td>\n",
              "      <td>55.80</td>\n",
              "      <td>15.7</td>\n",
              "      <td>77.0</td>\n",
              "      <td>126.0</td>\n",
              "      <td>36.4</td>\n",
              "      <td>16.3</td>\n",
              "      <td>53.0</td>\n",
              "      <td>229.0</td>\n",
              "      <td>A</td>\n",
              "    </tr>\n",
              "    <tr>\n",
              "      <th>2</th>\n",
              "      <td>31.0</td>\n",
              "      <td>M</td>\n",
              "      <td>179.6</td>\n",
              "      <td>78.00</td>\n",
              "      <td>20.1</td>\n",
              "      <td>92.0</td>\n",
              "      <td>152.0</td>\n",
              "      <td>44.8</td>\n",
              "      <td>12.0</td>\n",
              "      <td>49.0</td>\n",
              "      <td>181.0</td>\n",
              "      <td>C</td>\n",
              "    </tr>\n",
              "    <tr>\n",
              "      <th>3</th>\n",
              "      <td>32.0</td>\n",
              "      <td>M</td>\n",
              "      <td>174.5</td>\n",
              "      <td>71.10</td>\n",
              "      <td>18.4</td>\n",
              "      <td>76.0</td>\n",
              "      <td>147.0</td>\n",
              "      <td>41.4</td>\n",
              "      <td>15.2</td>\n",
              "      <td>53.0</td>\n",
              "      <td>219.0</td>\n",
              "      <td>B</td>\n",
              "    </tr>\n",
              "    <tr>\n",
              "      <th>4</th>\n",
              "      <td>28.0</td>\n",
              "      <td>M</td>\n",
              "      <td>173.8</td>\n",
              "      <td>67.70</td>\n",
              "      <td>17.1</td>\n",
              "      <td>70.0</td>\n",
              "      <td>127.0</td>\n",
              "      <td>43.5</td>\n",
              "      <td>27.1</td>\n",
              "      <td>45.0</td>\n",
              "      <td>217.0</td>\n",
              "      <td>B</td>\n",
              "    </tr>\n",
              "  </tbody>\n",
              "</table>\n",
              "</div>\n",
              "      <button class=\"colab-df-convert\" onclick=\"convertToInteractive('df-96519cf1-ebf4-43a6-8afa-7bcfb60a8646')\"\n",
              "              title=\"Convert this dataframe to an interactive table.\"\n",
              "              style=\"display:none;\">\n",
              "        \n",
              "  <svg xmlns=\"http://www.w3.org/2000/svg\" height=\"24px\"viewBox=\"0 0 24 24\"\n",
              "       width=\"24px\">\n",
              "    <path d=\"M0 0h24v24H0V0z\" fill=\"none\"/>\n",
              "    <path d=\"M18.56 5.44l.94 2.06.94-2.06 2.06-.94-2.06-.94-.94-2.06-.94 2.06-2.06.94zm-11 1L8.5 8.5l.94-2.06 2.06-.94-2.06-.94L8.5 2.5l-.94 2.06-2.06.94zm10 10l.94 2.06.94-2.06 2.06-.94-2.06-.94-.94-2.06-.94 2.06-2.06.94z\"/><path d=\"M17.41 7.96l-1.37-1.37c-.4-.4-.92-.59-1.43-.59-.52 0-1.04.2-1.43.59L10.3 9.45l-7.72 7.72c-.78.78-.78 2.05 0 2.83L4 21.41c.39.39.9.59 1.41.59.51 0 1.02-.2 1.41-.59l7.78-7.78 2.81-2.81c.8-.78.8-2.07 0-2.86zM5.41 20L4 18.59l7.72-7.72 1.47 1.35L5.41 20z\"/>\n",
              "  </svg>\n",
              "      </button>\n",
              "      \n",
              "  <style>\n",
              "    .colab-df-container {\n",
              "      display:flex;\n",
              "      flex-wrap:wrap;\n",
              "      gap: 12px;\n",
              "    }\n",
              "\n",
              "    .colab-df-convert {\n",
              "      background-color: #E8F0FE;\n",
              "      border: none;\n",
              "      border-radius: 50%;\n",
              "      cursor: pointer;\n",
              "      display: none;\n",
              "      fill: #1967D2;\n",
              "      height: 32px;\n",
              "      padding: 0 0 0 0;\n",
              "      width: 32px;\n",
              "    }\n",
              "\n",
              "    .colab-df-convert:hover {\n",
              "      background-color: #E2EBFA;\n",
              "      box-shadow: 0px 1px 2px rgba(60, 64, 67, 0.3), 0px 1px 3px 1px rgba(60, 64, 67, 0.15);\n",
              "      fill: #174EA6;\n",
              "    }\n",
              "\n",
              "    [theme=dark] .colab-df-convert {\n",
              "      background-color: #3B4455;\n",
              "      fill: #D2E3FC;\n",
              "    }\n",
              "\n",
              "    [theme=dark] .colab-df-convert:hover {\n",
              "      background-color: #434B5C;\n",
              "      box-shadow: 0px 1px 3px 1px rgba(0, 0, 0, 0.15);\n",
              "      filter: drop-shadow(0px 1px 2px rgba(0, 0, 0, 0.3));\n",
              "      fill: #FFFFFF;\n",
              "    }\n",
              "  </style>\n",
              "\n",
              "      <script>\n",
              "        const buttonEl =\n",
              "          document.querySelector('#df-96519cf1-ebf4-43a6-8afa-7bcfb60a8646 button.colab-df-convert');\n",
              "        buttonEl.style.display =\n",
              "          google.colab.kernel.accessAllowed ? 'block' : 'none';\n",
              "\n",
              "        async function convertToInteractive(key) {\n",
              "          const element = document.querySelector('#df-96519cf1-ebf4-43a6-8afa-7bcfb60a8646');\n",
              "          const dataTable =\n",
              "            await google.colab.kernel.invokeFunction('convertToInteractive',\n",
              "                                                     [key], {});\n",
              "          if (!dataTable) return;\n",
              "\n",
              "          const docLinkHtml = 'Like what you see? Visit the ' +\n",
              "            '<a target=\"_blank\" href=https://colab.research.google.com/notebooks/data_table.ipynb>data table notebook</a>'\n",
              "            + ' to learn more about interactive tables.';\n",
              "          element.innerHTML = '';\n",
              "          dataTable['output_type'] = 'display_data';\n",
              "          await google.colab.output.renderOutput(dataTable, element);\n",
              "          const docLink = document.createElement('div');\n",
              "          docLink.innerHTML = docLinkHtml;\n",
              "          element.appendChild(docLink);\n",
              "        }\n",
              "      </script>\n",
              "    </div>\n",
              "  </div>\n",
              "  "
            ]
          },
          "metadata": {},
          "execution_count": 107
        }
      ]
    },
    {
      "cell_type": "code",
      "source": [
        "(df_ml == ' ?').sum()"
      ],
      "metadata": {
        "colab": {
          "base_uri": "https://localhost:8080/"
        },
        "id": "ZOQDTiAkBU9v",
        "outputId": "0cfefcfc-4e0a-41ae-aba2-723b44763f74"
      },
      "execution_count": null,
      "outputs": [
        {
          "output_type": "execute_result",
          "data": {
            "text/plain": [
              "age                        0\n",
              "gender                     0\n",
              "height_cm                  0\n",
              "weight_kg                  0\n",
              "body fat_%                 0\n",
              "diastolic                  0\n",
              "systolic                   0\n",
              "gripForce                  0\n",
              "sit and bend forward_cm    0\n",
              "sit-ups counts             0\n",
              "broad jump_cm              0\n",
              "class                      0\n",
              "dtype: int64"
            ]
          },
          "metadata": {},
          "execution_count": 108
        }
      ]
    },
    {
      "cell_type": "code",
      "source": [
        "# Посмотрим на число уникальных значений в каждом из столбцов при помощи метода nunique()\n",
        "df_ml.nunique()"
      ],
      "metadata": {
        "colab": {
          "base_uri": "https://localhost:8080/"
        },
        "id": "_MPkGQ0MBZN0",
        "outputId": "5461aa1a-0ce4-4837-cf5d-95dc4e5e5dac"
      },
      "execution_count": null,
      "outputs": [
        {
          "output_type": "execute_result",
          "data": {
            "text/plain": [
              "age                          44\n",
              "gender                        2\n",
              "height_cm                   467\n",
              "weight_kg                  1398\n",
              "body fat_%                  527\n",
              "diastolic                    89\n",
              "systolic                    102\n",
              "gripForce                   550\n",
              "sit and bend forward_cm     528\n",
              "sit-ups counts               81\n",
              "broad jump_cm               245\n",
              "class                         4\n",
              "dtype: int64"
            ]
          },
          "metadata": {},
          "execution_count": 109
        }
      ]
    },
    {
      "cell_type": "code",
      "source": [
        "#Посмотрим баланс классов\n",
        "df_ml['gender'].value_counts()"
      ],
      "metadata": {
        "colab": {
          "base_uri": "https://localhost:8080/"
        },
        "id": "-WGaq2KxCtqZ",
        "outputId": "192b7b67-a6d6-4935-878c-9720af2c8330"
      },
      "execution_count": null,
      "outputs": [
        {
          "output_type": "execute_result",
          "data": {
            "text/plain": [
              "M    8467\n",
              "F    4926\n",
              "Name: gender, dtype: int64"
            ]
          },
          "metadata": {},
          "execution_count": 110
        }
      ]
    },
    {
      "cell_type": "markdown",
      "source": [
        "Видим дисбаланс классов"
      ],
      "metadata": {
        "id": "4tV938dsC1YC"
      }
    },
    {
      "cell_type": "markdown",
      "metadata": {
        "id": "mIT8KyvrGFI7"
      },
      "source": [
        "### Задание 1: Определение гендера"
      ]
    },
    {
      "cell_type": "markdown",
      "metadata": {
        "id": "P7hR4HE2GOjH"
      },
      "source": [
        "Постройте модель, которая будет определять гендер."
      ]
    },
    {
      "cell_type": "markdown",
      "metadata": {
        "id": "aAQJ1WhfGhQf"
      },
      "source": [
        "Для этого определите две метрики качества, на которые вы будете смотреть. Аргументируйте свой выбор.\n",
        "\n",
        "После чего преобразуйте категориальные переменные и постройте модель бинарной классификации на основе линейного классификатора и сравните с KNN.\n",
        "\n",
        "P.S.: не забудте про нормализацию."
      ]
    },
    {
      "cell_type": "code",
      "source": [
        "df_ml.head()"
      ],
      "metadata": {
        "colab": {
          "base_uri": "https://localhost:8080/",
          "height": 267
        },
        "id": "Y2JGnY08FELj",
        "outputId": "7aab7daf-a6fb-4d6c-8699-327b8b30110d"
      },
      "execution_count": null,
      "outputs": [
        {
          "output_type": "execute_result",
          "data": {
            "text/plain": [
              "    age gender  height_cm  weight_kg  body fat_%  diastolic  systolic  \\\n",
              "0  27.0      M      172.3      75.24        21.3       80.0     130.0   \n",
              "1  25.0      M      165.0      55.80        15.7       77.0     126.0   \n",
              "2  31.0      M      179.6      78.00        20.1       92.0     152.0   \n",
              "3  32.0      M      174.5      71.10        18.4       76.0     147.0   \n",
              "4  28.0      M      173.8      67.70        17.1       70.0     127.0   \n",
              "\n",
              "   gripForce  sit and bend forward_cm  sit-ups counts  broad jump_cm class  \n",
              "0       54.9                     18.4            60.0          217.0     C  \n",
              "1       36.4                     16.3            53.0          229.0     A  \n",
              "2       44.8                     12.0            49.0          181.0     C  \n",
              "3       41.4                     15.2            53.0          219.0     B  \n",
              "4       43.5                     27.1            45.0          217.0     B  "
            ],
            "text/html": [
              "\n",
              "  <div id=\"df-937ee6ad-eefb-4f9c-8637-bd85e6c1e863\">\n",
              "    <div class=\"colab-df-container\">\n",
              "      <div>\n",
              "<style scoped>\n",
              "    .dataframe tbody tr th:only-of-type {\n",
              "        vertical-align: middle;\n",
              "    }\n",
              "\n",
              "    .dataframe tbody tr th {\n",
              "        vertical-align: top;\n",
              "    }\n",
              "\n",
              "    .dataframe thead th {\n",
              "        text-align: right;\n",
              "    }\n",
              "</style>\n",
              "<table border=\"1\" class=\"dataframe\">\n",
              "  <thead>\n",
              "    <tr style=\"text-align: right;\">\n",
              "      <th></th>\n",
              "      <th>age</th>\n",
              "      <th>gender</th>\n",
              "      <th>height_cm</th>\n",
              "      <th>weight_kg</th>\n",
              "      <th>body fat_%</th>\n",
              "      <th>diastolic</th>\n",
              "      <th>systolic</th>\n",
              "      <th>gripForce</th>\n",
              "      <th>sit and bend forward_cm</th>\n",
              "      <th>sit-ups counts</th>\n",
              "      <th>broad jump_cm</th>\n",
              "      <th>class</th>\n",
              "    </tr>\n",
              "  </thead>\n",
              "  <tbody>\n",
              "    <tr>\n",
              "      <th>0</th>\n",
              "      <td>27.0</td>\n",
              "      <td>M</td>\n",
              "      <td>172.3</td>\n",
              "      <td>75.24</td>\n",
              "      <td>21.3</td>\n",
              "      <td>80.0</td>\n",
              "      <td>130.0</td>\n",
              "      <td>54.9</td>\n",
              "      <td>18.4</td>\n",
              "      <td>60.0</td>\n",
              "      <td>217.0</td>\n",
              "      <td>C</td>\n",
              "    </tr>\n",
              "    <tr>\n",
              "      <th>1</th>\n",
              "      <td>25.0</td>\n",
              "      <td>M</td>\n",
              "      <td>165.0</td>\n",
              "      <td>55.80</td>\n",
              "      <td>15.7</td>\n",
              "      <td>77.0</td>\n",
              "      <td>126.0</td>\n",
              "      <td>36.4</td>\n",
              "      <td>16.3</td>\n",
              "      <td>53.0</td>\n",
              "      <td>229.0</td>\n",
              "      <td>A</td>\n",
              "    </tr>\n",
              "    <tr>\n",
              "      <th>2</th>\n",
              "      <td>31.0</td>\n",
              "      <td>M</td>\n",
              "      <td>179.6</td>\n",
              "      <td>78.00</td>\n",
              "      <td>20.1</td>\n",
              "      <td>92.0</td>\n",
              "      <td>152.0</td>\n",
              "      <td>44.8</td>\n",
              "      <td>12.0</td>\n",
              "      <td>49.0</td>\n",
              "      <td>181.0</td>\n",
              "      <td>C</td>\n",
              "    </tr>\n",
              "    <tr>\n",
              "      <th>3</th>\n",
              "      <td>32.0</td>\n",
              "      <td>M</td>\n",
              "      <td>174.5</td>\n",
              "      <td>71.10</td>\n",
              "      <td>18.4</td>\n",
              "      <td>76.0</td>\n",
              "      <td>147.0</td>\n",
              "      <td>41.4</td>\n",
              "      <td>15.2</td>\n",
              "      <td>53.0</td>\n",
              "      <td>219.0</td>\n",
              "      <td>B</td>\n",
              "    </tr>\n",
              "    <tr>\n",
              "      <th>4</th>\n",
              "      <td>28.0</td>\n",
              "      <td>M</td>\n",
              "      <td>173.8</td>\n",
              "      <td>67.70</td>\n",
              "      <td>17.1</td>\n",
              "      <td>70.0</td>\n",
              "      <td>127.0</td>\n",
              "      <td>43.5</td>\n",
              "      <td>27.1</td>\n",
              "      <td>45.0</td>\n",
              "      <td>217.0</td>\n",
              "      <td>B</td>\n",
              "    </tr>\n",
              "  </tbody>\n",
              "</table>\n",
              "</div>\n",
              "      <button class=\"colab-df-convert\" onclick=\"convertToInteractive('df-937ee6ad-eefb-4f9c-8637-bd85e6c1e863')\"\n",
              "              title=\"Convert this dataframe to an interactive table.\"\n",
              "              style=\"display:none;\">\n",
              "        \n",
              "  <svg xmlns=\"http://www.w3.org/2000/svg\" height=\"24px\"viewBox=\"0 0 24 24\"\n",
              "       width=\"24px\">\n",
              "    <path d=\"M0 0h24v24H0V0z\" fill=\"none\"/>\n",
              "    <path d=\"M18.56 5.44l.94 2.06.94-2.06 2.06-.94-2.06-.94-.94-2.06-.94 2.06-2.06.94zm-11 1L8.5 8.5l.94-2.06 2.06-.94-2.06-.94L8.5 2.5l-.94 2.06-2.06.94zm10 10l.94 2.06.94-2.06 2.06-.94-2.06-.94-.94-2.06-.94 2.06-2.06.94z\"/><path d=\"M17.41 7.96l-1.37-1.37c-.4-.4-.92-.59-1.43-.59-.52 0-1.04.2-1.43.59L10.3 9.45l-7.72 7.72c-.78.78-.78 2.05 0 2.83L4 21.41c.39.39.9.59 1.41.59.51 0 1.02-.2 1.41-.59l7.78-7.78 2.81-2.81c.8-.78.8-2.07 0-2.86zM5.41 20L4 18.59l7.72-7.72 1.47 1.35L5.41 20z\"/>\n",
              "  </svg>\n",
              "      </button>\n",
              "      \n",
              "  <style>\n",
              "    .colab-df-container {\n",
              "      display:flex;\n",
              "      flex-wrap:wrap;\n",
              "      gap: 12px;\n",
              "    }\n",
              "\n",
              "    .colab-df-convert {\n",
              "      background-color: #E8F0FE;\n",
              "      border: none;\n",
              "      border-radius: 50%;\n",
              "      cursor: pointer;\n",
              "      display: none;\n",
              "      fill: #1967D2;\n",
              "      height: 32px;\n",
              "      padding: 0 0 0 0;\n",
              "      width: 32px;\n",
              "    }\n",
              "\n",
              "    .colab-df-convert:hover {\n",
              "      background-color: #E2EBFA;\n",
              "      box-shadow: 0px 1px 2px rgba(60, 64, 67, 0.3), 0px 1px 3px 1px rgba(60, 64, 67, 0.15);\n",
              "      fill: #174EA6;\n",
              "    }\n",
              "\n",
              "    [theme=dark] .colab-df-convert {\n",
              "      background-color: #3B4455;\n",
              "      fill: #D2E3FC;\n",
              "    }\n",
              "\n",
              "    [theme=dark] .colab-df-convert:hover {\n",
              "      background-color: #434B5C;\n",
              "      box-shadow: 0px 1px 3px 1px rgba(0, 0, 0, 0.15);\n",
              "      filter: drop-shadow(0px 1px 2px rgba(0, 0, 0, 0.3));\n",
              "      fill: #FFFFFF;\n",
              "    }\n",
              "  </style>\n",
              "\n",
              "      <script>\n",
              "        const buttonEl =\n",
              "          document.querySelector('#df-937ee6ad-eefb-4f9c-8637-bd85e6c1e863 button.colab-df-convert');\n",
              "        buttonEl.style.display =\n",
              "          google.colab.kernel.accessAllowed ? 'block' : 'none';\n",
              "\n",
              "        async function convertToInteractive(key) {\n",
              "          const element = document.querySelector('#df-937ee6ad-eefb-4f9c-8637-bd85e6c1e863');\n",
              "          const dataTable =\n",
              "            await google.colab.kernel.invokeFunction('convertToInteractive',\n",
              "                                                     [key], {});\n",
              "          if (!dataTable) return;\n",
              "\n",
              "          const docLinkHtml = 'Like what you see? Visit the ' +\n",
              "            '<a target=\"_blank\" href=https://colab.research.google.com/notebooks/data_table.ipynb>data table notebook</a>'\n",
              "            + ' to learn more about interactive tables.';\n",
              "          element.innerHTML = '';\n",
              "          dataTable['output_type'] = 'display_data';\n",
              "          await google.colab.output.renderOutput(dataTable, element);\n",
              "          const docLink = document.createElement('div');\n",
              "          docLink.innerHTML = docLinkHtml;\n",
              "          element.appendChild(docLink);\n",
              "        }\n",
              "      </script>\n",
              "    </div>\n",
              "  </div>\n",
              "  "
            ]
          },
          "metadata": {},
          "execution_count": 111
        }
      ]
    },
    {
      "cell_type": "code",
      "source": [
        "#Посмотрим пропуски\n",
        "print(df_ml.isna().sum())"
      ],
      "metadata": {
        "colab": {
          "base_uri": "https://localhost:8080/"
        },
        "id": "TujPCLyXFX76",
        "outputId": "eae50e41-1eec-4ef8-fb41-832295d8149a"
      },
      "execution_count": null,
      "outputs": [
        {
          "output_type": "stream",
          "name": "stdout",
          "text": [
            "age                        0\n",
            "gender                     0\n",
            "height_cm                  0\n",
            "weight_kg                  0\n",
            "body fat_%                 0\n",
            "diastolic                  0\n",
            "systolic                   0\n",
            "gripForce                  0\n",
            "sit and bend forward_cm    0\n",
            "sit-ups counts             0\n",
            "broad jump_cm              0\n",
            "class                      0\n",
            "dtype: int64\n"
          ]
        }
      ]
    },
    {
      "cell_type": "code",
      "source": [
        "# Посмотрим на соотношение классов в нашем датасете\n",
        "print(f\"Всего класса 0 в датастее: {(df_ml['gender'] == 'M').sum()}, а класса 1: {(df_ml['gender'] == 'F').sum()}\")"
      ],
      "metadata": {
        "colab": {
          "base_uri": "https://localhost:8080/"
        },
        "id": "JUvTrqP2FSM7",
        "outputId": "3115ea39-7682-46f9-b03f-534a00c5eb76"
      },
      "execution_count": null,
      "outputs": [
        {
          "output_type": "stream",
          "name": "stdout",
          "text": [
            "Всего класса 0 в датастее: 8467, а класса 1: 4926\n"
          ]
        }
      ]
    },
    {
      "cell_type": "markdown",
      "source": [
        "Будем использовать ROC-AUC и F1, т.к. они хорошо подходят для несбалансированных классов"
      ],
      "metadata": {
        "id": "wD_5o2daC7FG"
      }
    },
    {
      "cell_type": "code",
      "source": [
        "# Создадим объект класса LabelEncoder\n",
        "enc = LabelEncoder()\n",
        "df_1 = df_ml.copy()\n",
        "df_1[['gender', 'class']] = df_1[['gender', 'class']].apply(LabelEncoder().fit_transform)"
      ],
      "metadata": {
        "id": "ZeqPMG-lbxbK"
      },
      "execution_count": null,
      "outputs": []
    },
    {
      "cell_type": "code",
      "execution_count": null,
      "metadata": {
        "id": "Mhj3I_MuBbFy"
      },
      "outputs": [],
      "source": [
        "from sklearn.neighbors import KNeighborsClassifier\n",
        "from sklearn.model_selection import train_test_split\n",
        "from sklearn.linear_model import LogisticRegression\n",
        "from sklearn import metrics\n",
        "from sklearn.preprocessing import StandardScaler\n",
        "from sklearn.metrics import roc_auc_score\n",
        "\n",
        "X = df_1.drop(columns=[\"gender\"])\n",
        "y = df_1[\"gender\"]\n",
        "\n",
        "X_train, X_valid, y_train, y_test = train_test_split(X, y, test_size=0.2, random_state=13)"
      ]
    },
    {
      "cell_type": "code",
      "source": [
        "X_train = pd.get_dummies(\n",
        "    X_train,\n",
        "    columns=X_train.select_dtypes(object).columns,\n",
        "    drop_first=True\n",
        ")"
      ],
      "metadata": {
        "id": "6mnQyiGSZqQX"
      },
      "execution_count": null,
      "outputs": []
    },
    {
      "cell_type": "code",
      "source": [
        "X_valid = pd.get_dummies(\n",
        "    X_valid,\n",
        "    columns=X_valid.select_dtypes(object).columns,\n",
        "    drop_first=True\n",
        ")"
      ],
      "metadata": {
        "id": "eU3JTeKjZwhi"
      },
      "execution_count": null,
      "outputs": []
    },
    {
      "cell_type": "code",
      "source": [
        "# Отмасштабируем наши признаки\n",
        "# Создадим объект класса StandardScaler\n",
        "\n",
        "scaler = StandardScaler()\n",
        "\n",
        "X_train = scaler.fit_transform(X_train)\n",
        "X_test  = scaler.transform(X_valid)"
      ],
      "metadata": {
        "id": "_s2VIJrAFlfj"
      },
      "execution_count": null,
      "outputs": []
    },
    {
      "cell_type": "code",
      "source": [
        "# Построим логистическую регрессию на новых данных\n",
        "\n",
        "# Создадим объект класса LogisticRegression с параметрами по умолчанию\n",
        "model_LR = LogisticRegression(class_weight = 'balanced')\n",
        "\n",
        "# Обучим его на обучающем датасете\n",
        "model_LR.fit(X_train, y_train)\n",
        "\n",
        "# Получим предсказания и посмотрим на долю правильных ответов:\n",
        "y_pred_test_LR = model_LR.predict(X_test)\n",
        "y_pred_train_LR = model_LR.predict(X_train)\n",
        "\n",
        "print(f\"Доля врено угаданных объектов {(y_pred_test_LR == y_test).sum() / len(y_test)}\")"
      ],
      "metadata": {
        "colab": {
          "base_uri": "https://localhost:8080/"
        },
        "id": "jCOz6-8-Os0R",
        "outputId": "ced8706d-bc1e-4429-e0bf-fe46a775099f"
      },
      "execution_count": null,
      "outputs": [
        {
          "output_type": "stream",
          "name": "stdout",
          "text": [
            "Доля врено угаданных объектов 0.9906681597611049\n"
          ]
        }
      ]
    },
    {
      "cell_type": "code",
      "source": [
        "# Создадим объект класса KNeighborsClassifier \n",
        "model_knn = KNeighborsClassifier(3)\n",
        "\n",
        "# Обучим его на обучающем сете \n",
        "model_knn.fit(X_train, y_train)\n",
        "\n",
        "# Получим предсказания для обучающего и тестового датасета\n",
        "y_pred_train_KNN = model_knn.predict(X_train)\n",
        "y_pred_test_KNN  = model_knn.predict(X_test)"
      ],
      "metadata": {
        "id": "BxZey_1nQSSK"
      },
      "execution_count": null,
      "outputs": []
    },
    {
      "cell_type": "code",
      "source": [
        "# импортируем функцию confusion_matrix из модуля metrics библиотеки sklearn\n",
        "from sklearn.metrics import confusion_matrix\n",
        "\n",
        "# Для нашей задачи матрица ошибок\n",
        "mp_mtx = confusion_matrix(y_test, y_pred_test_LR)\n",
        "font = {'family' : 'Calibri', 'weight' : 'bold', 'size'   :22}\n",
        "plt.rc('font', **font)\n",
        "fig = plt.figure(figsize=(10,8))\n",
        "sns.heatmap(mp_mtx, annot=True, fmt=\"d\", \n",
        "            xticklabels=df_1[\"gender\"].unique(), \n",
        "            yticklabels=df_1[\"gender\"].unique())\n",
        "plt.ylabel(\"Real value\")\n",
        "plt.xlabel(\"Predicted value\");"
      ],
      "metadata": {
        "colab": {
          "base_uri": "https://localhost:8080/",
          "height": 552
        },
        "id": "ZeOw0cprP-D7",
        "outputId": "df21e1ef-0da9-4663-c2d7-2d526b95927b"
      },
      "execution_count": null,
      "outputs": [
        {
          "output_type": "stream",
          "name": "stderr",
          "text": [
            "WARNING:matplotlib.font_manager:findfont: Font family ['Calibri'] not found. Falling back to DejaVu Sans.\n",
            "WARNING:matplotlib.font_manager:findfont: Font family ['Calibri'] not found. Falling back to DejaVu Sans.\n"
          ]
        },
        {
          "output_type": "display_data",
          "data": {
            "text/plain": [
              "<Figure size 720x576 with 2 Axes>"
            ],
            "image/png": "[encoded data removed]"
          },
          "metadata": {
            "needs_background": "light"
          }
        }
      ]
    },
    {
      "cell_type": "code",
      "source": [
        "from sklearn.metrics import f1_score"
      ],
      "metadata": {
        "id": "mRVMYivJPNmH"
      },
      "execution_count": null,
      "outputs": []
    },
    {
      "cell_type": "code",
      "source": [
        "# Посчитаем для нашей модели LogisticRegression на обучающем и тестировочном кусках \n",
        "print(f\"TEST:  F1 -- {f1_score(y_test, y_pred_test_LR)}\")\n",
        "print(f\"TRAIN: F1 -- {f1_score(y_train, y_pred_train_LR)}\")"
      ],
      "metadata": {
        "colab": {
          "base_uri": "https://localhost:8080/"
        },
        "id": "xuKLDRjJPOPg",
        "outputId": "da5d1cd6-41e2-481b-9cd3-4e02b2d47e57"
      },
      "execution_count": null,
      "outputs": [
        {
          "output_type": "stream",
          "name": "stdout",
          "text": [
            "TEST:  F1 -- 0.9926750659244066\n",
            "TRAIN: F1 -- 0.9899859060900527\n"
          ]
        }
      ]
    },
    {
      "cell_type": "code",
      "source": [
        "# Посчитаем для нашей модели knn на обучающем и тестировочном кусках \n",
        "print(f\"TEST:  F1 -- {f1_score(y_test, y_pred_test_KNN)}\")\n",
        "print(f\"TRAIN: F1 -- {f1_score(y_train, y_pred_train_KNN)}\")"
      ],
      "metadata": {
        "colab": {
          "base_uri": "https://localhost:8080/"
        },
        "id": "TJzfhaV6QYnN",
        "outputId": "0b1c4d0b-0cd3-43e0-fd1a-010ffae61247"
      },
      "execution_count": null,
      "outputs": [
        {
          "output_type": "stream",
          "name": "stdout",
          "text": [
            "TEST:  F1 -- 0.9915229465068693\n",
            "TRAIN: F1 -- 0.9933353080568721\n"
          ]
        }
      ]
    },
    {
      "cell_type": "code",
      "source": [
        "# Посмотрим эту метрику и для логистической регрессии и для knn (несмотря на то, что мы опустили алгоримт нахождения вероятностей для knn)\n",
        "\n",
        "# Для ROC-AUC нам нужны вероятности принадлежности положительному классу\n",
        "# Для получения вероятностей воспользуемся методом predict_proba и нам нужен второй столбец\n",
        "y_pred_prob_test_LR = model_LR.predict_proba(X_test)[:, 1]\n",
        "y_pred_prob_test_KNN = model_knn.predict_proba(X_test)[:, 1]\n",
        "y_pred_prob_train_LR = model_LR.predict_proba(X_train)[:, 1]\n",
        "y_pred_prob_train_KNN = model_knn.predict_proba(X_train)[:, 1]\n",
        "\n",
        "# Посчитаем для нашей модели knn на обучающем и тестировочном кусках \n",
        "print(\"Logistic Regression\")\n",
        "print(f\"TEST:  ROC-AUC -- {roc_auc_score(y_test, y_pred_prob_test_LR)}\")\n",
        "print(f\"TRAIN: ROC-AUC -- {roc_auc_score(y_train, y_pred_prob_train_LR)}\")\n",
        "print(\"kNN\")\n",
        "print(f\"TEST:  ROC-AUC -- {roc_auc_score(y_test, y_pred_prob_test_KNN)}\")\n",
        "print(f\"TRAIN: ROC-AUC -- {roc_auc_score(y_train, y_pred_prob_train_KNN)}\")"
      ],
      "metadata": {
        "colab": {
          "base_uri": "https://localhost:8080/"
        },
        "id": "X2qBMkvDPSCb",
        "outputId": "68157169-3b60-4401-868c-80d57ee2f8b5"
      },
      "execution_count": null,
      "outputs": [
        {
          "output_type": "stream",
          "name": "stdout",
          "text": [
            "Logistic Regression\n",
            "TEST:  ROC-AUC -- 0.9971405248489357\n",
            "TRAIN: ROC-AUC -- 0.9980615363028795\n",
            "kNN\n",
            "TEST:  ROC-AUC -- 0.9949805222406307\n",
            "TRAIN: ROC-AUC -- 0.9997226465513709\n"
          ]
        }
      ]
    },
    {
      "cell_type": "code",
      "source": [
        "# построим ROC-кривую. Это наглядный способ понять как хорошо работает алгоритм\n",
        "\n",
        "from sklearn.metrics import roc_curve, auc\n",
        "\n",
        "fpr_lr, tpr_lr, _ = roc_curve(y_test, y_pred_prob_test_LR)\n",
        "fpr_knn, tpr_knn, _ = roc_curve(y_test, y_pred_prob_test_KNN)\n",
        "\n",
        "plt.figure(figsize=(10, 7))\n",
        "plt.plot([0, 1], [0, 1], 'k--')\n",
        "plt.plot(fpr_lr, tpr_lr, label=\"LogReg\")\n",
        "plt.plot(fpr_knn, tpr_knn, label=\"kNN\")\n",
        "plt.title(f'ROC AUC = {auc(fpr_lr, tpr_lr):.2f} |{auc(fpr_knn, tpr_knn):.2f}')\n",
        "plt.ylabel(\"True Positive Rate\", fontsize=20)\n",
        "plt.xlabel(\"False Positive Rate\", fontsize=20)\n",
        "plt.legend()\n",
        "plt.show()"
      ],
      "metadata": {
        "colab": {
          "base_uri": "https://localhost:8080/",
          "height": 523
        },
        "id": "DGLA6BUAPdd8",
        "outputId": "ba4d5a41-7fb0-45d7-dbe7-9e80a5708053"
      },
      "execution_count": null,
      "outputs": [
        {
          "output_type": "stream",
          "name": "stderr",
          "text": [
            "WARNING:matplotlib.font_manager:findfont: Font family ['Calibri'] not found. Falling back to DejaVu Sans.\n",
            "WARNING:matplotlib.font_manager:findfont: Font family ['Calibri'] not found. Falling back to DejaVu Sans.\n"
          ]
        },
        {
          "output_type": "display_data",
          "data": {
            "text/plain": [
              "<Figure size 720x504 with 1 Axes>"
            ],
            "image/png": "[encoded data removed]"
          },
          "metadata": {
            "needs_background": "light"
          }
        }
      ]
    },
    {
      "cell_type": "markdown",
      "source": [
        "Задача линейно разделима, метрики LR на тестовой выборке лучше, чем у KNN"
      ],
      "metadata": {
        "id": "tV9-c9o5bAs6"
      }
    },
    {
      "cell_type": "markdown",
      "metadata": {
        "id": "9m0SK6JzKHof"
      },
      "source": [
        "### Задание 2: Определение класса"
      ]
    },
    {
      "cell_type": "markdown",
      "metadata": {
        "id": "s5Hge2C2JSxG"
      },
      "source": [
        "Теперь опробуем построить модель, которая будет предсказывать class физической формы.\n",
        "\n",
        "Для этого определите метрики качества для задачи мультиклассификации (аргументируйте выбор).\n",
        "\n",
        "Постройте модель мультиклассовой классификации на основе линейного классификатора и сравните с KNN."
      ]
    },
    {
      "cell_type": "markdown",
      "source": [
        "Нам бы хотелось пользоваться такими же метриками, как и при бинарной классификации, но поскольку у нас большее число классов, нам нужно как-то считать метрики в бинарном случае и потом из усреднять. На этой идее и строятся два основных подхода подсчета:\n",
        "\n",
        "macro -- подсчет метрик в биноризированном случае и их дальнейшее усреднение\n",
        "micro -- подсчет TP, TN, FP, FN для каждого класса в бинарном случае, а затем использование их суммы в соответствующих формулах метрик.\n",
        "Рассчитаем руками macro и micro precision для матрицы ошибок в нашей задаче."
      ],
      "metadata": {
        "id": "AQGw7HeUSghR"
      }
    },
    {
      "cell_type": "markdown",
      "source": [
        "При подсчете Macro Average мы теряем информацию о кол-ве наблюдений, поэтому ее лучше не использовать при дисбалансе классов."
      ],
      "metadata": {
        "id": "Sk8lfYY2SptD"
      }
    },
    {
      "cell_type": "code",
      "source": [
        "# закодируем категориальные столбцы label-энкодером\n",
        "from sklearn.preprocessing import LabelEncoder\n",
        "\n",
        "# Создадим объект класса LabelEncoder\n",
        "enc = LabelEncoder()\n",
        "df_2 = df_ml.copy()\n",
        "df_2[['gender', 'class']] = df_2[['gender', 'class']].apply(LabelEncoder().fit_transform)"
      ],
      "metadata": {
        "id": "s4S4KVodSCcg"
      },
      "execution_count": null,
      "outputs": []
    },
    {
      "cell_type": "code",
      "execution_count": null,
      "metadata": {
        "id": "dgvhCM7HKDWu"
      },
      "outputs": [],
      "source": [
        "X = df_2.drop(columns=[\"class\"]) # укажите новый таргет\n",
        "y = df_2[\"class\"]\n",
        "\n",
        "X_train, X_valid, y_train, y_valid = train_test_split(X, y, test_size=0.2, random_state=13)"
      ]
    },
    {
      "cell_type": "code",
      "source": [
        "multi_log_reg = LogisticRegression().fit(X_train, y_train)"
      ],
      "metadata": {
        "colab": {
          "base_uri": "https://localhost:8080/"
        },
        "id": "5UFDLyv_RPCd",
        "outputId": "0722b6eb-ee0b-415d-b14f-ad81add94afb"
      },
      "execution_count": null,
      "outputs": [
        {
          "output_type": "stream",
          "name": "stderr",
          "text": [
            "/usr/local/lib/python3.7/dist-packages/sklearn/linear_model/_logistic.py:818: ConvergenceWarning: lbfgs failed to converge (status=1):\n",
            "STOP: TOTAL NO. of ITERATIONS REACHED LIMIT.\n",
            "\n",
            "Increase the number of iterations (max_iter) or scale the data as shown in:\n",
            "    https://scikit-learn.org/stable/modules/preprocessing.html\n",
            "Please also refer to the documentation for alternative solver options:\n",
            "    https://scikit-learn.org/stable/modules/linear_model.html#logistic-regression\n",
            "  extra_warning_msg=_LOGISTIC_SOLVER_CONVERGENCE_MSG,\n"
          ]
        }
      ]
    },
    {
      "cell_type": "code",
      "source": [
        "multi_knn =  KNeighborsClassifier(3).fit(X_train, y_train)"
      ],
      "metadata": {
        "id": "AETIppxqVi94"
      },
      "execution_count": null,
      "outputs": []
    },
    {
      "cell_type": "code",
      "source": [
        "# Сделаем предсказания\n",
        "multi_y_log_reg = multi_log_reg.predict(X_valid)\n",
        "multi_y_log_reg_proba = multi_log_reg.predict_proba(X_valid)"
      ],
      "metadata": {
        "id": "VtfXf5mfTJpG"
      },
      "execution_count": null,
      "outputs": []
    },
    {
      "cell_type": "code",
      "source": [
        "# Сделаем предсказания\n",
        "multi_y_knn = multi_knn.predict(X_valid)\n",
        "multi_y_knn_proba = multi_knn.predict_proba(X_valid)"
      ],
      "metadata": {
        "id": "LEMIoX5jV0kz"
      },
      "execution_count": null,
      "outputs": []
    },
    {
      "cell_type": "code",
      "source": [
        "# Построим матрицу ошибок, чтобы понять как справляется наш алгоритм\n",
        "mp_mtx = confusion_matrix(y_valid, multi_y_log_reg)\n",
        "knn_mtx = confusion_matrix(y_valid, multi_y_knn)\n",
        "f,(ax1,ax2) = plt.subplots(1,2, figsize=(10, 6))\n",
        "ax1.get_shared_y_axes().join(ax2)\n",
        "plt.rc('xtick', labelsize=15) \n",
        "plt.rc('ytick', labelsize=15)\n",
        "g1 = sns.heatmap(mp_mtx, annot=True, fmt=\"d\", \n",
        "            xticklabels=df_2[\"class\"].unique(), \n",
        "            yticklabels=df_2[\"class\"].unique(),ax=ax1)\n",
        "g1.set_ylabel('')\n",
        "g1.set_xlabel('')\n",
        "g1.set_title('LogisticRegression')\n",
        "g2 = sns.heatmap(knn_mtx, annot=True, fmt=\"d\", \n",
        "            xticklabels=df_2[\"class\"].unique(), \n",
        "            yticklabels=df_2[\"class\"].unique(),ax=ax2)\n",
        "g2.set_ylabel('')\n",
        "g2.set_xlabel('')\n",
        "g2.set_title('KNeighborsClassifier')\n",
        "g2.set_yticks([])\n",
        "for ax in [g1,g2]:\n",
        "    tl = ax.get_xticklabels()\n",
        "    ax.set_xticklabels(tl, rotation=90)\n",
        "    tly = ax.get_yticklabels()\n",
        "    ax.set_yticklabels(tly, rotation=0)\n",
        "plt.show();"
      ],
      "metadata": {
        "colab": {
          "base_uri": "https://localhost:8080/",
          "height": 422
        },
        "id": "YqSyYzqMTrNz",
        "outputId": "ce0c6913-efa5-42f6-b6a5-dfbac3538d2f"
      },
      "execution_count": null,
      "outputs": [
        {
          "output_type": "stream",
          "name": "stderr",
          "text": [
            "WARNING:matplotlib.font_manager:findfont: Font family ['Calibri'] not found. Falling back to DejaVu Sans.\n"
          ]
        },
        {
          "output_type": "display_data",
          "data": {
            "text/plain": [
              "<Figure size 720x432 with 4 Axes>"
            ],
            "image/png": "[encoded data removed]"
          },
          "metadata": {
            "needs_background": "light"
          }
        }
      ]
    },
    {
      "cell_type": "code",
      "source": [
        "# Проверим себя\n",
        "from sklearn.metrics import precision_score\n",
        "print(f\"MACRO PRECISION LR: {precision_score(y_valid, multi_y_log_reg, average='macro')}\")\n",
        "print(f\"MICRO PRECISION LR: {precision_score(y_valid, multi_y_log_reg, average='micro')}\")\n",
        "print(f\"MACRO PRECISION KNN: {precision_score(y_valid, multi_y_knn, average='macro')}\")\n",
        "print(f\"MICRO PRECISION KNN: {precision_score(y_valid, multi_y_knn, average='micro')}\")"
      ],
      "metadata": {
        "colab": {
          "base_uri": "https://localhost:8080/"
        },
        "id": "cy7whOdRTv3E",
        "outputId": "be9c8f34-f9ec-4e54-a5b7-dc051bafe489"
      },
      "execution_count": null,
      "outputs": [
        {
          "output_type": "stream",
          "name": "stdout",
          "text": [
            "MACRO PRECISION LR: 0.59554276503062\n",
            "MICRO PRECISION LR: 0.5968645016797313\n",
            "MACRO PRECISION KNN: 0.5718743171972933\n",
            "MICRO PRECISION KNN: 0.5453527435610303\n"
          ]
        }
      ]
    },
    {
      "cell_type": "code",
      "source": [
        "# Рассчитаем ROC-AUC разными стратегиями\n",
        "\n",
        "print(f\"OvO LR: {roc_auc_score(y_valid, multi_y_log_reg_proba, multi_class='ovo')}\")\n",
        "print(f\"OvR LR: {roc_auc_score(y_valid, multi_y_log_reg_proba, multi_class='ovr')}\")\n",
        "print(f\"OvO KNN: {roc_auc_score(y_valid, multi_y_knn_proba, multi_class='ovo')}\")\n",
        "print(f\"OvR KNN: {roc_auc_score(y_valid, multi_y_knn_proba, multi_class='ovr')}\")"
      ],
      "metadata": {
        "colab": {
          "base_uri": "https://localhost:8080/"
        },
        "id": "jgd6hhVrTzpW",
        "outputId": "e922813f-1d34-4a82-b91f-8069308da30d"
      },
      "execution_count": null,
      "outputs": [
        {
          "output_type": "stream",
          "name": "stdout",
          "text": [
            "OvO LR: 0.8413374485260402\n",
            "OvR LR: 0.8412932624925269\n",
            "OvO KNN: 0.7722532979323082\n",
            "OvR KNN: 0.772192689399915\n"
          ]
        }
      ]
    },
    {
      "cell_type": "code",
      "source": [
        "from yellowbrick.classifier import ROCAUC\n",
        "visualizer = ROCAUC(multi_log_reg, classes=[\"A\", \"B\", \"C\", \"D\"])\n",
        "visualizer.fit(X_train, y_train)        \n",
        "visualizer.score(X_valid, y_valid)        \n",
        "visualizer.show();"
      ],
      "metadata": {
        "colab": {
          "base_uri": "https://localhost:8080/",
          "height": 431
        },
        "id": "bPtWjs-ljznS",
        "outputId": "c5fc6623-125e-4d18-9bfb-10135b936705"
      },
      "execution_count": null,
      "outputs": [
        {
          "output_type": "stream",
          "name": "stderr",
          "text": [
            "/usr/local/lib/python3.7/dist-packages/sklearn/base.py:451: UserWarning: X does not have valid feature names, but LogisticRegression was fitted with feature names\n",
            "  \"X does not have valid feature names, but\"\n"
          ]
        },
        {
          "output_type": "display_data",
          "data": {
            "text/plain": [
              "<Figure size 576x396 with 1 Axes>"
            ],
            "image/png": "[encoded data removed]"
          },
          "metadata": {}
        }
      ]
    },
    {
      "cell_type": "code",
      "source": [
        "visualizer_knn = ROCAUC(multi_knn, classes=[\"A\", \"B\", \"C\", \"D\"])\n",
        "visualizer_knn.fit(X_train, y_train)       \n",
        "visualizer_knn.score(X_valid, y_valid)        \n",
        "visualizer_knn.show();"
      ],
      "metadata": {
        "colab": {
          "base_uri": "https://localhost:8080/",
          "height": 431
        },
        "id": "XIEzNZFSnP7d",
        "outputId": "4c0ba18b-c5c7-4e5e-8a29-404b77eee52f"
      },
      "execution_count": null,
      "outputs": [
        {
          "output_type": "stream",
          "name": "stderr",
          "text": [
            "/usr/local/lib/python3.7/dist-packages/sklearn/base.py:451: UserWarning: X does not have valid feature names, but KNeighborsClassifier was fitted with feature names\n",
            "  \"X does not have valid feature names, but\"\n"
          ]
        },
        {
          "output_type": "display_data",
          "data": {
            "text/plain": [
              "<Figure size 576x396 with 1 Axes>"
            ],
            "image/png": "[encoded data removed]"
          },
          "metadata": {}
        }
      ]
    },
    {
      "cell_type": "markdown",
      "source": [
        "В задаче мультиклассификации базовая модель LR показала себя лучше Knn и имеет лучшие показатели метрик"
      ],
      "metadata": {
        "id": "jnEx4qN1bStB"
      }
    }
  ],
  "metadata": {
    "colab": {
      "provenance": []
    },
    "kernelspec": {
      "display_name": "Python 3",
      "name": "python3"
    },
    "language_info": {
      "name": "python"
    }
  },
  "nbformat": 4,
  "nbformat_minor": 0
}