{
 "cells": [
  {
   "cell_type": "markdown",
   "metadata": {
    "toc": true
   },
   "source": [
    "<h1>Содержание<span class=\"tocSkip\"></span></h1>\n",
    "<div class=\"toc\"><ul class=\"toc-item\"><li><span><a href=\"#Подготовка-данных\" data-toc-modified-id=\"Подготовка-данных-1\"><span class=\"toc-item-num\">1&nbsp;&nbsp;</span>Подготовка данных</a></span><ul class=\"toc-item\"><li><span><a href=\"#Вывод\" data-toc-modified-id=\"Вывод-1.1\"><span class=\"toc-item-num\">1.1&nbsp;&nbsp;</span>Вывод</a></span></li></ul></li><li><span><a href=\"#Исследование-задачи\" data-toc-modified-id=\"Исследование-задачи-2\"><span class=\"toc-item-num\">2&nbsp;&nbsp;</span>Исследование задачи</a></span><ul class=\"toc-item\"><li><span><a href=\"#Дерево-решений\" data-toc-modified-id=\"Дерево-решений-2.1\"><span class=\"toc-item-num\">2.1&nbsp;&nbsp;</span>Дерево решений</a></span></li><li><span><a href=\"#Случайный-лес\" data-toc-modified-id=\"Случайный-лес-2.2\"><span class=\"toc-item-num\">2.2&nbsp;&nbsp;</span>Случайный лес</a></span></li><li><span><a href=\"#Логистическая-регрессия\" data-toc-modified-id=\"Логистическая-регрессия-2.3\"><span class=\"toc-item-num\">2.3&nbsp;&nbsp;</span>Логистическая регрессия</a></span></li><li><span><a href=\"#Вывод\" data-toc-modified-id=\"Вывод-2.4\"><span class=\"toc-item-num\">2.4&nbsp;&nbsp;</span>Вывод</a></span></li></ul></li><li><span><a href=\"#Борьба-с-дисбалансом\" data-toc-modified-id=\"Борьба-с-дисбалансом-3\"><span class=\"toc-item-num\">3&nbsp;&nbsp;</span>Борьба с дисбалансом</a></span><ul class=\"toc-item\"><li><span><a href=\"#Upsampling\" data-toc-modified-id=\"Upsampling-3.1\"><span class=\"toc-item-num\">3.1&nbsp;&nbsp;</span>Upsampling</a></span></li><li><span><a href=\"#Downsampling\" data-toc-modified-id=\"Downsampling-3.2\"><span class=\"toc-item-num\">3.2&nbsp;&nbsp;</span>Downsampling</a></span></li><li><span><a href=\"#Вывод\" data-toc-modified-id=\"Вывод-3.3\"><span class=\"toc-item-num\">3.3&nbsp;&nbsp;</span>Вывод</a></span></li></ul></li><li><span><a href=\"#Тестирование-модели\" data-toc-modified-id=\"Тестирование-модели-4\"><span class=\"toc-item-num\">4&nbsp;&nbsp;</span>Тестирование модели</a></span><ul class=\"toc-item\"><li><span><a href=\"#Вывод\" data-toc-modified-id=\"Вывод-4.1\"><span class=\"toc-item-num\">4.1&nbsp;&nbsp;</span>Вывод</a></span></li></ul></li></ul></div>"
   ]
  },
  {
   "cell_type": "markdown",
   "metadata": {},
   "source": [
    "# Отток клиентов"
   ]
  },
  {
   "cell_type": "markdown",
   "metadata": {},
   "source": [
    "Из «Бета-Банка» стали уходить клиенты. Каждый месяц. Немного, но заметно. Банковские маркетологи посчитали: сохранять текущих клиентов дешевле, чем привлекать новых.\n",
    "\n",
    "Нужно спрогнозировать, уйдёт клиент из банка в ближайшее время или нет. Вам предоставлены исторические данные о поведении клиентов и расторжении договоров с банком. \n",
    "\n",
    "Постройте модель с предельно большим значением *F1*-меры. Чтобы сдать проект успешно, нужно довести метрику до 0.59. Проверьте *F1*-меру на тестовой выборке самостоятельно.\n",
    "\n",
    "Дополнительно измеряйте *AUC-ROC*, сравнивайте её значение с *F1*-мерой.\n",
    "\n",
    "Источник данных: [https://www.kaggle.com/barelydedicated/bank-customer-churn-modeling](https://www.kaggle.com/barelydedicated/bank-customer-churn-modeling)"
   ]
  },
  {
   "cell_type": "markdown",
   "metadata": {},
   "source": [
    "## Подготовка данных"
   ]
  },
  {
   "cell_type": "code",
   "execution_count": 1,
   "metadata": {},
   "outputs": [],
   "source": [
    "import pandas as pd\n",
    "from sklearn.preprocessing import StandardScaler\n",
    "from sklearn.utils import shuffle\n",
    "from sklearn.model_selection import train_test_split\n",
    "from sklearn.metrics import accuracy_score, f1_score\n",
    "from sklearn.linear_model import LogisticRegression\n",
    "from sklearn.ensemble import RandomForestClassifier\n",
    "from sklearn.tree import DecisionTreeClassifier\n",
    "from sklearn.metrics import roc_auc_score\n",
    "from sklearn.metrics import roc_curve\n",
    "import matplotlib.pyplot as plt\n",
    "from sklearn.dummy import DummyClassifier\n",
    "import warnings\n",
    "warnings.filterwarnings(\"ignore\")"
   ]
  },
  {
   "cell_type": "code",
   "execution_count": 2,
   "metadata": {},
   "outputs": [],
   "source": [
    "df = pd.read_csv('/datasets/Churn.csv')"
   ]
  },
  {
   "cell_type": "code",
   "execution_count": 3,
   "metadata": {},
   "outputs": [
    {
     "data": {
      "text/html": [
       "<div>\n",
       "<style scoped>\n",
       "    .dataframe tbody tr th:only-of-type {\n",
       "        vertical-align: middle;\n",
       "    }\n",
       "\n",
       "    .dataframe tbody tr th {\n",
       "        vertical-align: top;\n",
       "    }\n",
       "\n",
       "    .dataframe thead th {\n",
       "        text-align: right;\n",
       "    }\n",
       "</style>\n",
       "<table border=\"1\" class=\"dataframe\">\n",
       "  <thead>\n",
       "    <tr style=\"text-align: right;\">\n",
       "      <th></th>\n",
       "      <th>RowNumber</th>\n",
       "      <th>CustomerId</th>\n",
       "      <th>Surname</th>\n",
       "      <th>CreditScore</th>\n",
       "      <th>Geography</th>\n",
       "      <th>Gender</th>\n",
       "      <th>Age</th>\n",
       "      <th>Tenure</th>\n",
       "      <th>Balance</th>\n",
       "      <th>NumOfProducts</th>\n",
       "      <th>HasCrCard</th>\n",
       "      <th>IsActiveMember</th>\n",
       "      <th>EstimatedSalary</th>\n",
       "      <th>Exited</th>\n",
       "    </tr>\n",
       "  </thead>\n",
       "  <tbody>\n",
       "    <tr>\n",
       "      <th>0</th>\n",
       "      <td>1</td>\n",
       "      <td>15634602</td>\n",
       "      <td>Hargrave</td>\n",
       "      <td>619</td>\n",
       "      <td>France</td>\n",
       "      <td>Female</td>\n",
       "      <td>42</td>\n",
       "      <td>2.0</td>\n",
       "      <td>0.00</td>\n",
       "      <td>1</td>\n",
       "      <td>1</td>\n",
       "      <td>1</td>\n",
       "      <td>101348.88</td>\n",
       "      <td>1</td>\n",
       "    </tr>\n",
       "    <tr>\n",
       "      <th>1</th>\n",
       "      <td>2</td>\n",
       "      <td>15647311</td>\n",
       "      <td>Hill</td>\n",
       "      <td>608</td>\n",
       "      <td>Spain</td>\n",
       "      <td>Female</td>\n",
       "      <td>41</td>\n",
       "      <td>1.0</td>\n",
       "      <td>83807.86</td>\n",
       "      <td>1</td>\n",
       "      <td>0</td>\n",
       "      <td>1</td>\n",
       "      <td>112542.58</td>\n",
       "      <td>0</td>\n",
       "    </tr>\n",
       "    <tr>\n",
       "      <th>2</th>\n",
       "      <td>3</td>\n",
       "      <td>15619304</td>\n",
       "      <td>Onio</td>\n",
       "      <td>502</td>\n",
       "      <td>France</td>\n",
       "      <td>Female</td>\n",
       "      <td>42</td>\n",
       "      <td>8.0</td>\n",
       "      <td>159660.80</td>\n",
       "      <td>3</td>\n",
       "      <td>1</td>\n",
       "      <td>0</td>\n",
       "      <td>113931.57</td>\n",
       "      <td>1</td>\n",
       "    </tr>\n",
       "    <tr>\n",
       "      <th>3</th>\n",
       "      <td>4</td>\n",
       "      <td>15701354</td>\n",
       "      <td>Boni</td>\n",
       "      <td>699</td>\n",
       "      <td>France</td>\n",
       "      <td>Female</td>\n",
       "      <td>39</td>\n",
       "      <td>1.0</td>\n",
       "      <td>0.00</td>\n",
       "      <td>2</td>\n",
       "      <td>0</td>\n",
       "      <td>0</td>\n",
       "      <td>93826.63</td>\n",
       "      <td>0</td>\n",
       "    </tr>\n",
       "    <tr>\n",
       "      <th>4</th>\n",
       "      <td>5</td>\n",
       "      <td>15737888</td>\n",
       "      <td>Mitchell</td>\n",
       "      <td>850</td>\n",
       "      <td>Spain</td>\n",
       "      <td>Female</td>\n",
       "      <td>43</td>\n",
       "      <td>2.0</td>\n",
       "      <td>125510.82</td>\n",
       "      <td>1</td>\n",
       "      <td>1</td>\n",
       "      <td>1</td>\n",
       "      <td>79084.10</td>\n",
       "      <td>0</td>\n",
       "    </tr>\n",
       "  </tbody>\n",
       "</table>\n",
       "</div>"
      ],
      "text/plain": [
       "   RowNumber  CustomerId   Surname  CreditScore Geography  Gender  Age  \\\n",
       "0          1    15634602  Hargrave          619    France  Female   42   \n",
       "1          2    15647311      Hill          608     Spain  Female   41   \n",
       "2          3    15619304      Onio          502    France  Female   42   \n",
       "3          4    15701354      Boni          699    France  Female   39   \n",
       "4          5    15737888  Mitchell          850     Spain  Female   43   \n",
       "\n",
       "   Tenure    Balance  NumOfProducts  HasCrCard  IsActiveMember  \\\n",
       "0     2.0       0.00              1          1               1   \n",
       "1     1.0   83807.86              1          0               1   \n",
       "2     8.0  159660.80              3          1               0   \n",
       "3     1.0       0.00              2          0               0   \n",
       "4     2.0  125510.82              1          1               1   \n",
       "\n",
       "   EstimatedSalary  Exited  \n",
       "0        101348.88       1  \n",
       "1        112542.58       0  \n",
       "2        113931.57       1  \n",
       "3         93826.63       0  \n",
       "4         79084.10       0  "
      ]
     },
     "execution_count": 3,
     "metadata": {},
     "output_type": "execute_result"
    }
   ],
   "source": [
    "df.head()"
   ]
  },
  {
   "cell_type": "markdown",
   "metadata": {},
   "source": [
    "Уберём столбцы, которые нам не понадобятся"
   ]
  },
  {
   "cell_type": "code",
   "execution_count": 4,
   "metadata": {},
   "outputs": [],
   "source": [
    "df.drop([\"RowNumber\", \"CustomerId\", \"Surname\"], axis=1, inplace=True)"
   ]
  },
  {
   "cell_type": "code",
   "execution_count": 5,
   "metadata": {},
   "outputs": [
    {
     "name": "stdout",
     "output_type": "stream",
     "text": [
      "<class 'pandas.core.frame.DataFrame'>\n",
      "RangeIndex: 10000 entries, 0 to 9999\n",
      "Data columns (total 11 columns):\n",
      " #   Column           Non-Null Count  Dtype  \n",
      "---  ------           --------------  -----  \n",
      " 0   CreditScore      10000 non-null  int64  \n",
      " 1   Geography        10000 non-null  object \n",
      " 2   Gender           10000 non-null  object \n",
      " 3   Age              10000 non-null  int64  \n",
      " 4   Tenure           9091 non-null   float64\n",
      " 5   Balance          10000 non-null  float64\n",
      " 6   NumOfProducts    10000 non-null  int64  \n",
      " 7   HasCrCard        10000 non-null  int64  \n",
      " 8   IsActiveMember   10000 non-null  int64  \n",
      " 9   EstimatedSalary  10000 non-null  float64\n",
      " 10  Exited           10000 non-null  int64  \n",
      "dtypes: float64(3), int64(6), object(2)\n",
      "memory usage: 859.5+ KB\n"
     ]
    }
   ],
   "source": [
    "df.info()"
   ]
  },
  {
   "cell_type": "code",
   "execution_count": 6,
   "metadata": {},
   "outputs": [
    {
     "data": {
      "text/html": [
       "<div>\n",
       "<style scoped>\n",
       "    .dataframe tbody tr th:only-of-type {\n",
       "        vertical-align: middle;\n",
       "    }\n",
       "\n",
       "    .dataframe tbody tr th {\n",
       "        vertical-align: top;\n",
       "    }\n",
       "\n",
       "    .dataframe thead th {\n",
       "        text-align: right;\n",
       "    }\n",
       "</style>\n",
       "<table border=\"1\" class=\"dataframe\">\n",
       "  <thead>\n",
       "    <tr style=\"text-align: right;\">\n",
       "      <th></th>\n",
       "      <th>CreditScore</th>\n",
       "      <th>Age</th>\n",
       "      <th>Tenure</th>\n",
       "      <th>Balance</th>\n",
       "      <th>NumOfProducts</th>\n",
       "      <th>HasCrCard</th>\n",
       "      <th>IsActiveMember</th>\n",
       "      <th>EstimatedSalary</th>\n",
       "      <th>Exited</th>\n",
       "    </tr>\n",
       "  </thead>\n",
       "  <tbody>\n",
       "    <tr>\n",
       "      <th>count</th>\n",
       "      <td>10000.000000</td>\n",
       "      <td>10000.000000</td>\n",
       "      <td>9091.000000</td>\n",
       "      <td>10000.000000</td>\n",
       "      <td>10000.000000</td>\n",
       "      <td>10000.00000</td>\n",
       "      <td>10000.000000</td>\n",
       "      <td>10000.000000</td>\n",
       "      <td>10000.000000</td>\n",
       "    </tr>\n",
       "    <tr>\n",
       "      <th>mean</th>\n",
       "      <td>650.528800</td>\n",
       "      <td>38.921800</td>\n",
       "      <td>4.997690</td>\n",
       "      <td>76485.889288</td>\n",
       "      <td>1.530200</td>\n",
       "      <td>0.70550</td>\n",
       "      <td>0.515100</td>\n",
       "      <td>100090.239881</td>\n",
       "      <td>0.203700</td>\n",
       "    </tr>\n",
       "    <tr>\n",
       "      <th>std</th>\n",
       "      <td>96.653299</td>\n",
       "      <td>10.487806</td>\n",
       "      <td>2.894723</td>\n",
       "      <td>62397.405202</td>\n",
       "      <td>0.581654</td>\n",
       "      <td>0.45584</td>\n",
       "      <td>0.499797</td>\n",
       "      <td>57510.492818</td>\n",
       "      <td>0.402769</td>\n",
       "    </tr>\n",
       "    <tr>\n",
       "      <th>min</th>\n",
       "      <td>350.000000</td>\n",
       "      <td>18.000000</td>\n",
       "      <td>0.000000</td>\n",
       "      <td>0.000000</td>\n",
       "      <td>1.000000</td>\n",
       "      <td>0.00000</td>\n",
       "      <td>0.000000</td>\n",
       "      <td>11.580000</td>\n",
       "      <td>0.000000</td>\n",
       "    </tr>\n",
       "    <tr>\n",
       "      <th>25%</th>\n",
       "      <td>584.000000</td>\n",
       "      <td>32.000000</td>\n",
       "      <td>2.000000</td>\n",
       "      <td>0.000000</td>\n",
       "      <td>1.000000</td>\n",
       "      <td>0.00000</td>\n",
       "      <td>0.000000</td>\n",
       "      <td>51002.110000</td>\n",
       "      <td>0.000000</td>\n",
       "    </tr>\n",
       "    <tr>\n",
       "      <th>50%</th>\n",
       "      <td>652.000000</td>\n",
       "      <td>37.000000</td>\n",
       "      <td>5.000000</td>\n",
       "      <td>97198.540000</td>\n",
       "      <td>1.000000</td>\n",
       "      <td>1.00000</td>\n",
       "      <td>1.000000</td>\n",
       "      <td>100193.915000</td>\n",
       "      <td>0.000000</td>\n",
       "    </tr>\n",
       "    <tr>\n",
       "      <th>75%</th>\n",
       "      <td>718.000000</td>\n",
       "      <td>44.000000</td>\n",
       "      <td>7.000000</td>\n",
       "      <td>127644.240000</td>\n",
       "      <td>2.000000</td>\n",
       "      <td>1.00000</td>\n",
       "      <td>1.000000</td>\n",
       "      <td>149388.247500</td>\n",
       "      <td>0.000000</td>\n",
       "    </tr>\n",
       "    <tr>\n",
       "      <th>max</th>\n",
       "      <td>850.000000</td>\n",
       "      <td>92.000000</td>\n",
       "      <td>10.000000</td>\n",
       "      <td>250898.090000</td>\n",
       "      <td>4.000000</td>\n",
       "      <td>1.00000</td>\n",
       "      <td>1.000000</td>\n",
       "      <td>199992.480000</td>\n",
       "      <td>1.000000</td>\n",
       "    </tr>\n",
       "  </tbody>\n",
       "</table>\n",
       "</div>"
      ],
      "text/plain": [
       "        CreditScore           Age       Tenure        Balance  NumOfProducts  \\\n",
       "count  10000.000000  10000.000000  9091.000000   10000.000000   10000.000000   \n",
       "mean     650.528800     38.921800     4.997690   76485.889288       1.530200   \n",
       "std       96.653299     10.487806     2.894723   62397.405202       0.581654   \n",
       "min      350.000000     18.000000     0.000000       0.000000       1.000000   \n",
       "25%      584.000000     32.000000     2.000000       0.000000       1.000000   \n",
       "50%      652.000000     37.000000     5.000000   97198.540000       1.000000   \n",
       "75%      718.000000     44.000000     7.000000  127644.240000       2.000000   \n",
       "max      850.000000     92.000000    10.000000  250898.090000       4.000000   \n",
       "\n",
       "         HasCrCard  IsActiveMember  EstimatedSalary        Exited  \n",
       "count  10000.00000    10000.000000     10000.000000  10000.000000  \n",
       "mean       0.70550        0.515100    100090.239881      0.203700  \n",
       "std        0.45584        0.499797     57510.492818      0.402769  \n",
       "min        0.00000        0.000000        11.580000      0.000000  \n",
       "25%        0.00000        0.000000     51002.110000      0.000000  \n",
       "50%        1.00000        1.000000    100193.915000      0.000000  \n",
       "75%        1.00000        1.000000    149388.247500      0.000000  \n",
       "max        1.00000        1.000000    199992.480000      1.000000  "
      ]
     },
     "execution_count": 6,
     "metadata": {},
     "output_type": "execute_result"
    }
   ],
   "source": [
    "df.describe()"
   ]
  },
  {
   "cell_type": "code",
   "execution_count": 7,
   "metadata": {
    "scrolled": true
   },
   "outputs": [
    {
     "data": {
      "text/plain": [
       "Index(['creditscore', 'geography', 'gender', 'age', 'tenure', 'balance',\n",
       "       'numofproducts', 'hascrcard', 'isactivemember', 'estimatedsalary',\n",
       "       'exited'],\n",
       "      dtype='object')"
      ]
     },
     "execution_count": 7,
     "metadata": {},
     "output_type": "execute_result"
    }
   ],
   "source": [
    "#Приведение столбцов к нижнему регистру\n",
    "df.columns = df.columns.str.lower()\n",
    "df.columns"
   ]
  },
  {
   "cell_type": "code",
   "execution_count": 8,
   "metadata": {},
   "outputs": [
    {
     "data": {
      "text/plain": [
       "0"
      ]
     },
     "execution_count": 8,
     "metadata": {},
     "output_type": "execute_result"
    }
   ],
   "source": [
    "#Проверка дупликатов\n",
    "df.duplicated().sum()"
   ]
  },
  {
   "cell_type": "code",
   "execution_count": 9,
   "metadata": {
    "scrolled": false
   },
   "outputs": [
    {
     "data": {
      "text/plain": [
       "creditscore          0\n",
       "geography            0\n",
       "gender               0\n",
       "age                  0\n",
       "tenure             909\n",
       "balance              0\n",
       "numofproducts        0\n",
       "hascrcard            0\n",
       "isactivemember       0\n",
       "estimatedsalary      0\n",
       "exited               0\n",
       "dtype: int64"
      ]
     },
     "execution_count": 9,
     "metadata": {},
     "output_type": "execute_result"
    }
   ],
   "source": [
    "df.isna().sum()"
   ]
  },
  {
   "cell_type": "code",
   "execution_count": 10,
   "metadata": {},
   "outputs": [
    {
     "data": {
      "text/plain": [
       "0.20369999999999389"
      ]
     },
     "execution_count": 10,
     "metadata": {},
     "output_type": "execute_result"
    }
   ],
   "source": [
    "#Доля объектов положительного класса:\n",
    "sum(df[\"exited\"]/len(df))"
   ]
  },
  {
   "cell_type": "code",
   "execution_count": 11,
   "metadata": {
    "scrolled": true
   },
   "outputs": [
    {
     "data": {
      "text/plain": [
       "0.7963000000000061"
      ]
     },
     "execution_count": 11,
     "metadata": {},
     "output_type": "execute_result"
    }
   ],
   "source": [
    "#Доля объектов отрицательного класса:\n",
    "1 - sum(df[\"exited\"]/len(df))"
   ]
  },
  {
   "cell_type": "code",
   "execution_count": 12,
   "metadata": {},
   "outputs": [],
   "source": [
    "#Преобразуем категориальные признаки в численные\n",
    "gender_one_hot = pd.get_dummies(df[\"gender\"], drop_first=True)\n",
    "country_one_hot = pd.get_dummies(df[\"geography\"], drop_first=True)\n",
    "df.drop([\"gender\", \"geography\"], axis=1, inplace=True)\n",
    "df_one_hot = pd.concat([df, gender_one_hot, country_one_hot], axis=1)"
   ]
  },
  {
   "cell_type": "markdown",
   "metadata": {},
   "source": [
    "### Вывод\n",
    "- Пропущенные значения в столбце tenure\n",
    "- Типы столбцов в порядке\n",
    "- Дубликатов нет\n",
    "- Объектов отрицательного класса намного больше, соотношение 1 к 4"
   ]
  },
  {
   "cell_type": "markdown",
   "metadata": {},
   "source": [
    "Пропуски в столбце Tenure — сколько лет человек является клиентом банка"
   ]
  },
  {
   "cell_type": "markdown",
   "metadata": {},
   "source": [
    "## Исследование задачи"
   ]
  },
  {
   "cell_type": "code",
   "execution_count": 14,
   "metadata": {},
   "outputs": [],
   "source": [
    "#Разделим объекты и целевой признак\n",
    "features = df.drop(\"exited\", axis=1)\n",
    "target = df[\"exited\"]"
   ]
  },
  {
   "cell_type": "code",
   "execution_count": 15,
   "metadata": {},
   "outputs": [],
   "source": [
    "#Заполним пропуски\n",
    "features.fillna(-1, inplace=True)\n",
    "features['tenure'] = features['tenure'].astype('object')"
   ]
  },
  {
   "cell_type": "code",
   "execution_count": 16,
   "metadata": {},
   "outputs": [
    {
     "data": {
      "text/html": [
       "<div>\n",
       "<style scoped>\n",
       "    .dataframe tbody tr th:only-of-type {\n",
       "        vertical-align: middle;\n",
       "    }\n",
       "\n",
       "    .dataframe tbody tr th {\n",
       "        vertical-align: top;\n",
       "    }\n",
       "\n",
       "    .dataframe thead th {\n",
       "        text-align: right;\n",
       "    }\n",
       "</style>\n",
       "<table border=\"1\" class=\"dataframe\">\n",
       "  <thead>\n",
       "    <tr style=\"text-align: right;\">\n",
       "      <th></th>\n",
       "      <th>creditscore</th>\n",
       "      <th>age</th>\n",
       "      <th>balance</th>\n",
       "      <th>numofproducts</th>\n",
       "      <th>hascrcard</th>\n",
       "      <th>isactivemember</th>\n",
       "      <th>estimatedsalary</th>\n",
       "      <th>exited</th>\n",
       "      <th>1.0</th>\n",
       "      <th>2.0</th>\n",
       "      <th>3.0</th>\n",
       "      <th>4.0</th>\n",
       "      <th>5.0</th>\n",
       "      <th>6.0</th>\n",
       "      <th>7.0</th>\n",
       "      <th>8.0</th>\n",
       "      <th>9.0</th>\n",
       "      <th>10.0</th>\n",
       "    </tr>\n",
       "  </thead>\n",
       "  <tbody>\n",
       "    <tr>\n",
       "      <th>0</th>\n",
       "      <td>619</td>\n",
       "      <td>42</td>\n",
       "      <td>0.00</td>\n",
       "      <td>1</td>\n",
       "      <td>1</td>\n",
       "      <td>1</td>\n",
       "      <td>101348.88</td>\n",
       "      <td>1</td>\n",
       "      <td>0</td>\n",
       "      <td>1</td>\n",
       "      <td>0</td>\n",
       "      <td>0</td>\n",
       "      <td>0</td>\n",
       "      <td>0</td>\n",
       "      <td>0</td>\n",
       "      <td>0</td>\n",
       "      <td>0</td>\n",
       "      <td>0</td>\n",
       "    </tr>\n",
       "    <tr>\n",
       "      <th>1</th>\n",
       "      <td>608</td>\n",
       "      <td>41</td>\n",
       "      <td>83807.86</td>\n",
       "      <td>1</td>\n",
       "      <td>0</td>\n",
       "      <td>1</td>\n",
       "      <td>112542.58</td>\n",
       "      <td>0</td>\n",
       "      <td>1</td>\n",
       "      <td>0</td>\n",
       "      <td>0</td>\n",
       "      <td>0</td>\n",
       "      <td>0</td>\n",
       "      <td>0</td>\n",
       "      <td>0</td>\n",
       "      <td>0</td>\n",
       "      <td>0</td>\n",
       "      <td>0</td>\n",
       "    </tr>\n",
       "    <tr>\n",
       "      <th>2</th>\n",
       "      <td>502</td>\n",
       "      <td>42</td>\n",
       "      <td>159660.80</td>\n",
       "      <td>3</td>\n",
       "      <td>1</td>\n",
       "      <td>0</td>\n",
       "      <td>113931.57</td>\n",
       "      <td>1</td>\n",
       "      <td>0</td>\n",
       "      <td>0</td>\n",
       "      <td>0</td>\n",
       "      <td>0</td>\n",
       "      <td>0</td>\n",
       "      <td>0</td>\n",
       "      <td>0</td>\n",
       "      <td>1</td>\n",
       "      <td>0</td>\n",
       "      <td>0</td>\n",
       "    </tr>\n",
       "    <tr>\n",
       "      <th>3</th>\n",
       "      <td>699</td>\n",
       "      <td>39</td>\n",
       "      <td>0.00</td>\n",
       "      <td>2</td>\n",
       "      <td>0</td>\n",
       "      <td>0</td>\n",
       "      <td>93826.63</td>\n",
       "      <td>0</td>\n",
       "      <td>1</td>\n",
       "      <td>0</td>\n",
       "      <td>0</td>\n",
       "      <td>0</td>\n",
       "      <td>0</td>\n",
       "      <td>0</td>\n",
       "      <td>0</td>\n",
       "      <td>0</td>\n",
       "      <td>0</td>\n",
       "      <td>0</td>\n",
       "    </tr>\n",
       "    <tr>\n",
       "      <th>4</th>\n",
       "      <td>850</td>\n",
       "      <td>43</td>\n",
       "      <td>125510.82</td>\n",
       "      <td>1</td>\n",
       "      <td>1</td>\n",
       "      <td>1</td>\n",
       "      <td>79084.10</td>\n",
       "      <td>0</td>\n",
       "      <td>0</td>\n",
       "      <td>1</td>\n",
       "      <td>0</td>\n",
       "      <td>0</td>\n",
       "      <td>0</td>\n",
       "      <td>0</td>\n",
       "      <td>0</td>\n",
       "      <td>0</td>\n",
       "      <td>0</td>\n",
       "      <td>0</td>\n",
       "    </tr>\n",
       "    <tr>\n",
       "      <th>...</th>\n",
       "      <td>...</td>\n",
       "      <td>...</td>\n",
       "      <td>...</td>\n",
       "      <td>...</td>\n",
       "      <td>...</td>\n",
       "      <td>...</td>\n",
       "      <td>...</td>\n",
       "      <td>...</td>\n",
       "      <td>...</td>\n",
       "      <td>...</td>\n",
       "      <td>...</td>\n",
       "      <td>...</td>\n",
       "      <td>...</td>\n",
       "      <td>...</td>\n",
       "      <td>...</td>\n",
       "      <td>...</td>\n",
       "      <td>...</td>\n",
       "      <td>...</td>\n",
       "    </tr>\n",
       "    <tr>\n",
       "      <th>9995</th>\n",
       "      <td>771</td>\n",
       "      <td>39</td>\n",
       "      <td>0.00</td>\n",
       "      <td>2</td>\n",
       "      <td>1</td>\n",
       "      <td>0</td>\n",
       "      <td>96270.64</td>\n",
       "      <td>0</td>\n",
       "      <td>0</td>\n",
       "      <td>0</td>\n",
       "      <td>0</td>\n",
       "      <td>0</td>\n",
       "      <td>1</td>\n",
       "      <td>0</td>\n",
       "      <td>0</td>\n",
       "      <td>0</td>\n",
       "      <td>0</td>\n",
       "      <td>0</td>\n",
       "    </tr>\n",
       "    <tr>\n",
       "      <th>9996</th>\n",
       "      <td>516</td>\n",
       "      <td>35</td>\n",
       "      <td>57369.61</td>\n",
       "      <td>1</td>\n",
       "      <td>1</td>\n",
       "      <td>1</td>\n",
       "      <td>101699.77</td>\n",
       "      <td>0</td>\n",
       "      <td>0</td>\n",
       "      <td>0</td>\n",
       "      <td>0</td>\n",
       "      <td>0</td>\n",
       "      <td>0</td>\n",
       "      <td>0</td>\n",
       "      <td>0</td>\n",
       "      <td>0</td>\n",
       "      <td>0</td>\n",
       "      <td>1</td>\n",
       "    </tr>\n",
       "    <tr>\n",
       "      <th>9997</th>\n",
       "      <td>709</td>\n",
       "      <td>36</td>\n",
       "      <td>0.00</td>\n",
       "      <td>1</td>\n",
       "      <td>0</td>\n",
       "      <td>1</td>\n",
       "      <td>42085.58</td>\n",
       "      <td>1</td>\n",
       "      <td>0</td>\n",
       "      <td>0</td>\n",
       "      <td>0</td>\n",
       "      <td>0</td>\n",
       "      <td>0</td>\n",
       "      <td>0</td>\n",
       "      <td>1</td>\n",
       "      <td>0</td>\n",
       "      <td>0</td>\n",
       "      <td>0</td>\n",
       "    </tr>\n",
       "    <tr>\n",
       "      <th>9998</th>\n",
       "      <td>772</td>\n",
       "      <td>42</td>\n",
       "      <td>75075.31</td>\n",
       "      <td>2</td>\n",
       "      <td>1</td>\n",
       "      <td>0</td>\n",
       "      <td>92888.52</td>\n",
       "      <td>1</td>\n",
       "      <td>0</td>\n",
       "      <td>0</td>\n",
       "      <td>1</td>\n",
       "      <td>0</td>\n",
       "      <td>0</td>\n",
       "      <td>0</td>\n",
       "      <td>0</td>\n",
       "      <td>0</td>\n",
       "      <td>0</td>\n",
       "      <td>0</td>\n",
       "    </tr>\n",
       "    <tr>\n",
       "      <th>9999</th>\n",
       "      <td>792</td>\n",
       "      <td>28</td>\n",
       "      <td>130142.79</td>\n",
       "      <td>1</td>\n",
       "      <td>1</td>\n",
       "      <td>0</td>\n",
       "      <td>38190.78</td>\n",
       "      <td>0</td>\n",
       "      <td>0</td>\n",
       "      <td>0</td>\n",
       "      <td>0</td>\n",
       "      <td>0</td>\n",
       "      <td>0</td>\n",
       "      <td>0</td>\n",
       "      <td>0</td>\n",
       "      <td>0</td>\n",
       "      <td>0</td>\n",
       "      <td>0</td>\n",
       "    </tr>\n",
       "  </tbody>\n",
       "</table>\n",
       "<p>10000 rows × 18 columns</p>\n",
       "</div>"
      ],
      "text/plain": [
       "      creditscore  age    balance  numofproducts  hascrcard  isactivemember  \\\n",
       "0             619   42       0.00              1          1               1   \n",
       "1             608   41   83807.86              1          0               1   \n",
       "2             502   42  159660.80              3          1               0   \n",
       "3             699   39       0.00              2          0               0   \n",
       "4             850   43  125510.82              1          1               1   \n",
       "...           ...  ...        ...            ...        ...             ...   \n",
       "9995          771   39       0.00              2          1               0   \n",
       "9996          516   35   57369.61              1          1               1   \n",
       "9997          709   36       0.00              1          0               1   \n",
       "9998          772   42   75075.31              2          1               0   \n",
       "9999          792   28  130142.79              1          1               0   \n",
       "\n",
       "      estimatedsalary  exited  1.0  2.0  3.0  4.0  5.0  6.0  7.0  8.0  9.0  \\\n",
       "0           101348.88       1    0    1    0    0    0    0    0    0    0   \n",
       "1           112542.58       0    1    0    0    0    0    0    0    0    0   \n",
       "2           113931.57       1    0    0    0    0    0    0    0    1    0   \n",
       "3            93826.63       0    1    0    0    0    0    0    0    0    0   \n",
       "4            79084.10       0    0    1    0    0    0    0    0    0    0   \n",
       "...               ...     ...  ...  ...  ...  ...  ...  ...  ...  ...  ...   \n",
       "9995         96270.64       0    0    0    0    0    1    0    0    0    0   \n",
       "9996        101699.77       0    0    0    0    0    0    0    0    0    0   \n",
       "9997         42085.58       1    0    0    0    0    0    0    1    0    0   \n",
       "9998         92888.52       1    0    0    1    0    0    0    0    0    0   \n",
       "9999         38190.78       0    0    0    0    0    0    0    0    0    0   \n",
       "\n",
       "      10.0  \n",
       "0        0  \n",
       "1        0  \n",
       "2        0  \n",
       "3        0  \n",
       "4        0  \n",
       "...    ...  \n",
       "9995     0  \n",
       "9996     1  \n",
       "9997     0  \n",
       "9998     0  \n",
       "9999     0  \n",
       "\n",
       "[10000 rows x 18 columns]"
      ]
     },
     "execution_count": 16,
     "metadata": {},
     "output_type": "execute_result"
    }
   ],
   "source": [
    "#Применим OHE для столбца tenure\n",
    "tenure_one_hot = pd.get_dummies(df[\"tenure\"], drop_first=True)\n",
    "df = df.drop('tenure',axis = 1)\n",
    "df = df.join(tenure_one_hot)\n",
    "df"
   ]
  },
  {
   "cell_type": "markdown",
   "metadata": {},
   "source": [
    "Т.к. у нас один датасет, то делить его будем на 3 части: обучаемая(60%), валидационная (20%) и тестовая (20%)"
   ]
  },
  {
   "cell_type": "code",
   "execution_count": 17,
   "metadata": {},
   "outputs": [],
   "source": [
    "#Отделение тестовой части\n",
    "x, features_test, y, target_test = train_test_split(features, target, test_size=0.2, train_size=0.8)"
   ]
  },
  {
   "cell_type": "code",
   "execution_count": 18,
   "metadata": {},
   "outputs": [],
   "source": [
    "#Отделения валидационной и обучающей выборки\n",
    "features_train, features_valid, target_train, target_valid = train_test_split(x, y, test_size = 0.25, train_size =0.75)"
   ]
  },
  {
   "cell_type": "code",
   "execution_count": 19,
   "metadata": {},
   "outputs": [],
   "source": [
    "#Скалирование\n",
    "scaler = StandardScaler()\n",
    "scaler.fit(features_train) \n",
    "features_train_scaled = scaler.transform(features_train)\n",
    "features_valid_scaled = scaler.transform(features_valid)\n",
    "features_test_scaled = scaler.transform(features_test)"
   ]
  },
  {
   "cell_type": "code",
   "execution_count": 20,
   "metadata": {},
   "outputs": [],
   "source": [
    "#Преобразуем nparray в dataframe\n",
    "def nptodf(data, ind, column):\n",
    "    frame = pd.DataFrame(data, index = ind.index, columns = column.columns)\n",
    "    return frame\n",
    "features_train_scaled = nptodf(features_train_scaled, target_train, features)\n",
    "features_valid_scaled = nptodf(features_valid_scaled, target_valid, features)\n",
    "features_test_scaled = nptodf(features_test_scaled, target_test, features)"
   ]
  },
  {
   "cell_type": "code",
   "execution_count": 21,
   "metadata": {},
   "outputs": [
    {
     "name": "stdout",
     "output_type": "stream",
     "text": [
      "Процент выборки: 0.6 , Количество строк и столбцов: (6000, 8)\n",
      "Процент выборки: 0.2 , Количество строк и столбцов: (2000, 8)\n",
      "Процент выборки: 0.6 , Количество строк и столбцов: (6000,)\n",
      "Процент выборки: 0.2 , Количество строк и столбцов: (2000,)\n",
      "Процент выборки: 0.2 , Количество строк и столбцов: (2000, 8)\n",
      "Процент выборки: 0.2 , Количество строк и столбцов: (2000,)\n"
     ]
    }
   ],
   "source": [
    "#Проверка разделения\n",
    "def check(data):\n",
    "    res = len(data)/len(df)\n",
    "    print('Процент выборки:', res, ', Количество строк и столбцов:', data.shape)\n",
    "    \n",
    "data_list = [features_train_scaled, features_valid_scaled, target_train, target_valid, features_test_scaled, target_test]\n",
    "for i in data_list:\n",
    "    check(i)"
   ]
  },
  {
   "cell_type": "markdown",
   "metadata": {},
   "source": [
    "### Дерево решений"
   ]
  },
  {
   "cell_type": "code",
   "execution_count": 22,
   "metadata": {},
   "outputs": [
    {
     "name": "stdout",
     "output_type": "stream",
     "text": [
      "F1 мера дерево решений: 0.49541284403669733\n",
      "Лучший результат: 0.8555 Гиперпараметры: max_depth: 5 , min_samples_leaf: 3\n"
     ]
    }
   ],
   "source": [
    "best_model_dt = None\n",
    "best_model_dt_depth = 0\n",
    "best_model_dt_leaf = 0\n",
    "best_result_dt = 0\n",
    "for depth in range(1, 13):\n",
    "    for i in range(1, 50):\n",
    "       \n",
    "            model_dt = DecisionTreeClassifier(random_state=12345, max_depth = depth, min_samples_leaf = i) \n",
    "            model_dt.fit(features_train_scaled, target_train) \n",
    "            predictions_dt = model_dt.predict(features_valid_scaled) \n",
    "            result_dt = accuracy_score(target_valid, predictions_dt)\n",
    "            if result_dt > best_result_dt:\n",
    "                best_model_dt = model_dt\n",
    "                best_model_dt_depth = depth\n",
    "                best_model_dt_leaf = i\n",
    "                best_result_dt = result_dt\n",
    "result_f1_dt = f1_score(target_valid, predictions_dt)\n",
    "print('F1 мера дерево решений:', result_f1_dt)\n",
    "print(\"Лучший результат:\", best_result_dt, end='') \n",
    "print(\" Гиперпараметры:\", \"max_depth:\", best_model_dt_depth, \", min_samples_leaf:\", best_model_dt_leaf)"
   ]
  },
  {
   "cell_type": "markdown",
   "metadata": {},
   "source": [
    "### Случайный лес"
   ]
  },
  {
   "cell_type": "code",
   "execution_count": 23,
   "metadata": {},
   "outputs": [
    {
     "name": "stdout",
     "output_type": "stream",
     "text": [
      "F1 мера случайный лес: 0.5398773006134969\n",
      "Лучший результат: 0.858 Гиперпараметры: n_estimators: 21 , max_depth: 11\n"
     ]
    }
   ],
   "source": [
    "best_model_rf = None\n",
    "best_model_rf_est = 0\n",
    "best_model_rf_depth = 0\n",
    "best_result_rf = 0\n",
    "for est in range(1, 60):\n",
    "    for dpth in range(1, 30):\n",
    "        model_rf = RandomForestClassifier(random_state=12345, n_estimators=est, max_depth = dpth) \n",
    "        model_rf.fit(features_train_scaled, target_train) \n",
    "        predictions_rf = model_rf.predict(features_valid_scaled) \n",
    "        result_rf = model_rf.score(features_valid_scaled, target_valid)\n",
    "        if result_rf > best_result_rf:\n",
    "            best_model_rf = model_rf\n",
    "            best_result_rf = result_rf\n",
    "            best_model_rf_est = est\n",
    "            best_model_rf_depth = dpth\n",
    "result_f1_rf = f1_score(target_valid, predictions_rf)\n",
    "print('F1 мера случайный лес:', result_f1_rf)\n",
    "print(\"Лучший результат:\", best_result_rf, end='') \n",
    "print(\" Гиперпараметры:\", \"n_estimators:\", best_model_rf_est, \", max_depth:\", best_model_rf_depth)"
   ]
  },
  {
   "cell_type": "markdown",
   "metadata": {},
   "source": [
    "### Логистическая регрессия"
   ]
  },
  {
   "cell_type": "code",
   "execution_count": 24,
   "metadata": {},
   "outputs": [
    {
     "name": "stdout",
     "output_type": "stream",
     "text": [
      "F1 мера логистическая регрессия: 0.2608695652173913\n",
      "Лучший результат: 0.8045 Гиперпараметры: n_estimators: 100\n"
     ]
    }
   ],
   "source": [
    "best_model_lg = None\n",
    "best_model_lg_it = 0\n",
    "best_result_lg = 0\n",
    "for it in range(100, 10000, 100):\n",
    "    model_lg = LogisticRegression(random_state=12345, solver='lbfgs', max_iter = it) \n",
    "    model_lg.fit(features_train_scaled, target_train) \n",
    "    predictions_lg = model_lg.predict(features_valid_scaled) \n",
    "    result_lg = model_lg.score(features_valid_scaled, target_valid)\n",
    "    if result_lg > best_result_lg:\n",
    "        best_model_lg = model_lg\n",
    "        best_result_lg = result_lg\n",
    "        best_model_lg_it = it\n",
    "result_f1_lg = f1_score(target_valid, predictions_lg)\n",
    "print('F1 мера логистическая регрессия:', result_f1_lg)\n",
    "print(\"Лучший результат:\", best_result_lg, end='') \n",
    "print(\" Гиперпараметры:\", \"n_estimators:\", best_model_lg_it)"
   ]
  },
  {
   "cell_type": "markdown",
   "metadata": {},
   "source": [
    "### Вывод"
   ]
  },
  {
   "cell_type": "markdown",
   "metadata": {},
   "source": [
    "- Лучший результат по точности и f1-мере у случайного леса"
   ]
  },
  {
   "cell_type": "markdown",
   "metadata": {},
   "source": [
    "## Борьба с дисбалансом"
   ]
  },
  {
   "cell_type": "markdown",
   "metadata": {},
   "source": [
    "Так как лучшие результаты показала модель случайного леса, будем работать с ней"
   ]
  },
  {
   "cell_type": "markdown",
   "metadata": {},
   "source": [
    "### Upsampling"
   ]
  },
  {
   "cell_type": "code",
   "execution_count": 25,
   "metadata": {},
   "outputs": [],
   "source": [
    "def upsample(features, target, repeat):\n",
    "    features_zeros = features[target == 0]\n",
    "    features_ones = features[target == 1]\n",
    "    target_zeros = target[target == 0]\n",
    "    target_ones = target[target == 1]\n",
    "\n",
    "    features_upsampled = pd.concat([features_zeros] + [features_ones] * repeat)\n",
    "    target_upsampled = pd.concat([target_zeros] + [target_ones] * repeat)\n",
    "    \n",
    "    features_upsampled, target_upsampled = shuffle(\n",
    "        features_upsampled, target_upsampled, random_state=12345)\n",
    "    \n",
    "    return features_upsampled, target_upsampled"
   ]
  },
  {
   "cell_type": "code",
   "execution_count": 26,
   "metadata": {},
   "outputs": [],
   "source": [
    "features_upsampled, target_upsampled = upsample(features_train_scaled, target_train, 4)"
   ]
  },
  {
   "cell_type": "code",
   "execution_count": 27,
   "metadata": {},
   "outputs": [
    {
     "name": "stdout",
     "output_type": "stream",
     "text": [
      "F1 мера случайный лес: 0.5939933259176864\n",
      "Лучший результат: 0.815 Гиперпараметры: n_estimators: 39 , max_depth: 11\n"
     ]
    }
   ],
   "source": [
    "best_model_rf_up = None\n",
    "best_model_rf_est = 0\n",
    "best_model_rf_depth = 0\n",
    "best_result_rf = 0\n",
    "for est in range(1, 40):\n",
    "    for dpth in range(1, 15):\n",
    "        model_rf = RandomForestClassifier(random_state=12345, n_estimators=est, max_depth = dpth) \n",
    "        model_rf.fit(features_upsampled, target_upsampled) \n",
    "        predictions_rf = model_rf.predict(features_valid_scaled) \n",
    "        result_f1_rf = f1_score(target_valid, predictions_rf)\n",
    "        if result_f1_rf > best_result_rf:\n",
    "            best_model_rf_up = model_rf\n",
    "            best_result_rf = result_f1_rf\n",
    "            best_model_rf_est = est\n",
    "            best_model_rf_depth = dpth\n",
    "result_rf = model_rf.score(features_valid_scaled, target_valid)\n",
    "print('F1 мера случайный лес:', best_result_rf)\n",
    "print(\"Лучший результат:\", result_rf, end='') \n",
    "print(\" Гиперпараметры:\", \"n_estimators:\", best_model_rf_est, \", max_depth:\", best_model_rf_depth)"
   ]
  },
  {
   "cell_type": "markdown",
   "metadata": {},
   "source": [
    "### Downsampling"
   ]
  },
  {
   "cell_type": "code",
   "execution_count": 28,
   "metadata": {},
   "outputs": [],
   "source": [
    "def downsample(features, target, fraction):\n",
    "    features_zeros = features[target == 0]\n",
    "    features_ones = features[target == 1]\n",
    "    target_zeros = target[target == 0]\n",
    "    target_ones = target[target == 1]\n",
    "\n",
    "    features_downsampled = pd.concat(\n",
    "        [features_zeros.sample(frac=fraction, random_state=12345)] + [features_ones])\n",
    "    target_downsampled = pd.concat(\n",
    "        [target_zeros.sample(frac=fraction, random_state=12345)] + [target_ones])\n",
    "    \n",
    "    features_downsampled, target_downsampled = shuffle(\n",
    "        features_downsampled, target_downsampled, random_state=12345)\n",
    "    \n",
    "    return features_downsampled, target_downsampled"
   ]
  },
  {
   "cell_type": "code",
   "execution_count": 30,
   "metadata": {},
   "outputs": [],
   "source": [
    "features_downsampled_train, target_downsampled_train = downsample(features_train_scaled, target_train, fraction=0.5)"
   ]
  },
  {
   "cell_type": "code",
   "execution_count": 31,
   "metadata": {},
   "outputs": [
    {
     "name": "stdout",
     "output_type": "stream",
     "text": [
      "F1 мера случайный лес: 0.5958005249343833\n",
      "Лучший результат: 0.828 Гиперпараметры: n_estimators: 34 , max_depth: 9\n"
     ]
    }
   ],
   "source": [
    "best_model_rf_down = None\n",
    "best_model_rf_est = 0\n",
    "best_model_rf_depth = 0\n",
    "best_result_rf = 0\n",
    "for est in range(1, 40):\n",
    "    for dpth in range(1, 15):\n",
    "        model_rf = RandomForestClassifier(random_state=12345, n_estimators=est, max_depth = dpth) \n",
    "        model_rf.fit(features_downsampled_train, target_downsampled_train) \n",
    "        predictions_rf = model_rf.predict(features_valid_scaled) \n",
    "        result_f1_rf = f1_score(target_valid, predictions_rf)\n",
    "        if result_f1_rf > best_result_rf:\n",
    "            best_model_rf_down = model_rf\n",
    "            best_result_rf = result_f1_rf\n",
    "            best_model_rf_est = est\n",
    "            best_model_rf_depth = dpth\n",
    "result_rf = model_rf.score(features_valid_scaled, target_valid)\n",
    "print('F1 мера случайный лес:', best_result_rf)\n",
    "print(\"Лучший результат:\", result_rf, end='') \n",
    "print(\" Гиперпараметры:\", \"n_estimators:\", best_model_rf_est, \", max_depth:\", best_model_rf_depth)"
   ]
  },
  {
   "cell_type": "code",
   "execution_count": 32,
   "metadata": {},
   "outputs": [],
   "source": [
    "def roc(model): \n",
    "    probabilities_valid = model.predict_proba(features_valid_scaled)\n",
    "    probabilities_one_valid = probabilities_valid[:, 1]\n",
    "    fpr, tpr, thresholds = roc_curve(target_valid, probabilities_one_valid)\n",
    "    plt.figure()\n",
    "    plt.plot(fpr, tpr)\n",
    "    plt.xlim([0.0, 1.0])\n",
    "    plt.ylim([0.0, 1.0])\n",
    "    plt.xlabel('False Positive Rate')\n",
    "    plt.ylabel('True Positive Rate')\n",
    "    plt.title('ROC-кривая')\n",
    "    plt.show() \n",
    "    auc_roc = roc_auc_score(target_valid, probabilities_one_valid)\n",
    "    print(auc_roc)"
   ]
  },
  {
   "cell_type": "code",
   "execution_count": 33,
   "metadata": {},
   "outputs": [
    {
     "data": {
      "image/png": "[encoded data removed]",
      "text/plain": [
       "<Figure size 432x288 with 1 Axes>"
      ]
     },
     "metadata": {
      "needs_background": "light"
     },
     "output_type": "display_data"
    },
    {
     "name": "stdout",
     "output_type": "stream",
     "text": [
      "0.8398023640302535\n"
     ]
    }
   ],
   "source": [
    "roc(best_model_rf_up)"
   ]
  },
  {
   "cell_type": "code",
   "execution_count": 34,
   "metadata": {},
   "outputs": [
    {
     "data": {
      "image/png": "[encoded data removed]",
      "text/plain": [
       "<Figure size 432x288 with 1 Axes>"
      ]
     },
     "metadata": {
      "needs_background": "light"
     },
     "output_type": "display_data"
    },
    {
     "name": "stdout",
     "output_type": "stream",
     "text": [
      "0.8403587852989243\n"
     ]
    }
   ],
   "source": [
    "roc(best_model_rf_down)"
   ]
  },
  {
   "cell_type": "markdown",
   "metadata": {},
   "source": [
    "### Вывод"
   ]
  },
  {
   "cell_type": "markdown",
   "metadata": {},
   "source": [
    "- Модель случайного леса до борьбы с дисбалансом показывала результат метрики f1 - 54%.\n",
    "- Произвели upsampling положительного класса, благодаря чему удалось повысить f1 меру до 60.9%. Dowmsampling до 60%."
   ]
  },
  {
   "cell_type": "markdown",
   "metadata": {},
   "source": [
    "## Тестирование модели"
   ]
  },
  {
   "cell_type": "code",
   "execution_count": 35,
   "metadata": {},
   "outputs": [
    {
     "name": "stdout",
     "output_type": "stream",
     "text": [
      "Accuracy: 0.827\n",
      "F1: 0.5967365967365967\n"
     ]
    }
   ],
   "source": [
    "predictions = best_model_rf_up.predict(features_test_scaled)\n",
    "print(\"Accuracy:\", accuracy_score(target_test, predictions))\n",
    "print(\"F1:\", f1_score(predictions, target_test))"
   ]
  },
  {
   "cell_type": "code",
   "execution_count": 36,
   "metadata": {},
   "outputs": [
    {
     "name": "stdout",
     "output_type": "stream",
     "text": [
      "Accuracy: 0.842\n",
      "F1: 0.5694822888283378\n"
     ]
    }
   ],
   "source": [
    "predictions = best_model_rf_down.predict(features_test_scaled)\n",
    "print(\"Accuracy:\", accuracy_score(target_test, predictions))\n",
    "print(\"F1:\", f1_score(predictions, target_test))"
   ]
  },
  {
   "cell_type": "code",
   "execution_count": 37,
   "metadata": {},
   "outputs": [
    {
     "name": "stdout",
     "output_type": "stream",
     "text": [
      "Точность Dummy: 0.802\n"
     ]
    }
   ],
   "source": [
    "clf = DummyClassifier(strategy='most_frequent', random_state=0)\n",
    "clf.fit(features_train_scaled, target_train)\n",
    "DummyClassifier(random_state=0, strategy='most_frequent')\n",
    "score = clf.score(features_test_scaled, target_test)\n",
    "print('Точность Dummy:', score)"
   ]
  },
  {
   "cell_type": "markdown",
   "metadata": {},
   "source": [
    "### Вывод"
   ]
  },
  {
   "cell_type": "markdown",
   "metadata": {},
   "source": [
    "- Нами был проведен первичный анализ данных, выявлен явный дисбаланс классов, отрицательного к положительному - 4 к 1.\n",
    "- Произвели предобработку данных, заполнили пропуски модой, прошкалировали количественные переменные, сделали One_hot_encoding. \n",
    "- Модель случайного леса до борьбы с дисбалансом показывала результат метрики f1 - 53.98%.\n",
    "- Произвели upsampling положительного класса, благодаря чему удалось повысить f1 меру до 59.39%. Dowmsampling до 56.94%.\n",
    "- Проверка на тестовой выборке подтверждает, что upsampling помог справиться с дисбалансом классов и удалось увеличить метрику f1 до 59.67%."
   ]
  }
 ],
 "metadata": {
  "ExecuteTimeLog": [
   {
    "duration": 1456,
    "start_time": "2022-07-09T21:07:50.154Z"
   },
   {
    "duration": 59,
    "start_time": "2022-07-09T21:08:22.262Z"
   },
   {
    "duration": 18,
    "start_time": "2022-07-09T21:08:28.217Z"
   },
   {
    "duration": 13,
    "start_time": "2022-07-09T21:08:46.629Z"
   },
   {
    "duration": 38,
    "start_time": "2022-07-09T21:11:39.165Z"
   },
   {
    "duration": 3,
    "start_time": "2022-07-09T21:12:44.562Z"
   },
   {
    "duration": 4,
    "start_time": "2022-07-09T21:12:49.806Z"
   },
   {
    "duration": 3,
    "start_time": "2022-07-09T21:12:55.560Z"
   },
   {
    "duration": 5,
    "start_time": "2022-07-09T21:12:56.322Z"
   },
   {
    "duration": 5,
    "start_time": "2022-07-09T21:13:03.094Z"
   },
   {
    "duration": 8,
    "start_time": "2022-07-09T21:15:02.542Z"
   },
   {
    "duration": 11,
    "start_time": "2022-07-09T21:16:17.970Z"
   },
   {
    "duration": 6,
    "start_time": "2022-07-09T21:16:49.265Z"
   },
   {
    "duration": 21,
    "start_time": "2022-07-09T21:17:10.049Z"
   },
   {
    "duration": 8,
    "start_time": "2022-07-09T21:18:55.801Z"
   },
   {
    "duration": 107,
    "start_time": "2022-07-09T21:24:38.757Z"
   },
   {
    "duration": 197,
    "start_time": "2022-07-09T21:24:43.426Z"
   },
   {
    "duration": 218,
    "start_time": "2022-07-09T21:24:48.326Z"
   },
   {
    "duration": 4,
    "start_time": "2022-07-09T21:26:53.025Z"
   },
   {
    "duration": 7,
    "start_time": "2022-07-09T21:27:11.626Z"
   },
   {
    "duration": 6,
    "start_time": "2022-07-09T21:27:19.699Z"
   },
   {
    "duration": 20,
    "start_time": "2022-07-09T21:32:31.161Z"
   },
   {
    "duration": 17,
    "start_time": "2022-07-09T21:37:57.106Z"
   },
   {
    "duration": 1091,
    "start_time": "2022-07-09T21:38:09.642Z"
   },
   {
    "duration": 29,
    "start_time": "2022-07-09T21:38:10.735Z"
   },
   {
    "duration": 21,
    "start_time": "2022-07-09T21:38:11.093Z"
   },
   {
    "duration": 5,
    "start_time": "2022-07-09T21:38:14.754Z"
   },
   {
    "duration": 13,
    "start_time": "2022-07-09T21:38:15.587Z"
   },
   {
    "duration": 35,
    "start_time": "2022-07-09T21:38:39.585Z"
   },
   {
    "duration": 5,
    "start_time": "2022-07-09T21:38:41.285Z"
   },
   {
    "duration": 9,
    "start_time": "2022-07-09T21:38:41.717Z"
   },
   {
    "duration": 7,
    "start_time": "2022-07-09T21:38:42.053Z"
   },
   {
    "duration": 950,
    "start_time": "2022-07-09T21:38:56.525Z"
   },
   {
    "duration": 7,
    "start_time": "2022-07-09T21:39:01.914Z"
   },
   {
    "duration": 4,
    "start_time": "2022-07-09T21:39:21.478Z"
   },
   {
    "duration": 925,
    "start_time": "2022-07-09T21:40:17.698Z"
   },
   {
    "duration": 12,
    "start_time": "2022-07-09T21:40:59.643Z"
   },
   {
    "duration": 18,
    "start_time": "2022-07-09T21:41:56.099Z"
   },
   {
    "duration": 24,
    "start_time": "2022-07-09T21:42:08.515Z"
   },
   {
    "duration": 20,
    "start_time": "2022-07-09T21:42:15.559Z"
   },
   {
    "duration": 15,
    "start_time": "2022-07-09T21:43:10.702Z"
   },
   {
    "duration": 8,
    "start_time": "2022-07-09T21:43:25.683Z"
   },
   {
    "duration": 7,
    "start_time": "2022-07-09T21:43:29.942Z"
   },
   {
    "duration": 14,
    "start_time": "2022-07-09T21:44:00.240Z"
   },
   {
    "duration": 9,
    "start_time": "2022-07-09T21:44:07.428Z"
   },
   {
    "duration": 3,
    "start_time": "2022-07-09T21:44:11.018Z"
   },
   {
    "duration": 996,
    "start_time": "2022-07-10T10:14:19.935Z"
   },
   {
    "duration": 56,
    "start_time": "2022-07-10T10:14:20.933Z"
   },
   {
    "duration": 20,
    "start_time": "2022-07-10T10:14:20.990Z"
   },
   {
    "duration": 6,
    "start_time": "2022-07-10T10:14:21.697Z"
   },
   {
    "duration": 12,
    "start_time": "2022-07-10T10:14:21.909Z"
   },
   {
    "duration": 47,
    "start_time": "2022-07-10T10:14:22.325Z"
   },
   {
    "duration": 4,
    "start_time": "2022-07-10T10:14:22.849Z"
   },
   {
    "duration": 10,
    "start_time": "2022-07-10T10:14:23.949Z"
   },
   {
    "duration": 7,
    "start_time": "2022-07-10T10:14:24.281Z"
   },
   {
    "duration": 6,
    "start_time": "2022-07-10T10:14:26.061Z"
   },
   {
    "duration": 5,
    "start_time": "2022-07-10T10:14:26.296Z"
   },
   {
    "duration": 8,
    "start_time": "2022-07-10T10:14:27.709Z"
   },
   {
    "duration": 12,
    "start_time": "2022-07-10T10:14:27.864Z"
   },
   {
    "duration": 8,
    "start_time": "2022-07-10T10:14:29.212Z"
   },
   {
    "duration": 5,
    "start_time": "2022-07-10T10:14:31.621Z"
   },
   {
    "duration": 2,
    "start_time": "2022-07-10T10:14:32.149Z"
   },
   {
    "duration": 5,
    "start_time": "2022-07-10T10:14:34.060Z"
   },
   {
    "duration": 7,
    "start_time": "2022-07-10T10:14:34.501Z"
   },
   {
    "duration": 39,
    "start_time": "2022-07-10T10:15:49.018Z"
   },
   {
    "duration": 7,
    "start_time": "2022-07-10T10:16:50.189Z"
   },
   {
    "duration": 955,
    "start_time": "2022-07-10T10:21:32.961Z"
   },
   {
    "duration": 28,
    "start_time": "2022-07-10T10:21:33.918Z"
   },
   {
    "duration": 18,
    "start_time": "2022-07-10T10:21:33.947Z"
   },
   {
    "duration": 4,
    "start_time": "2022-07-10T10:21:33.967Z"
   },
   {
    "duration": 16,
    "start_time": "2022-07-10T10:21:33.973Z"
   },
   {
    "duration": 31,
    "start_time": "2022-07-10T10:21:33.990Z"
   },
   {
    "duration": 4,
    "start_time": "2022-07-10T10:21:34.022Z"
   },
   {
    "duration": 8,
    "start_time": "2022-07-10T10:21:34.041Z"
   },
   {
    "duration": 5,
    "start_time": "2022-07-10T10:21:34.051Z"
   },
   {
    "duration": 6,
    "start_time": "2022-07-10T10:21:34.057Z"
   },
   {
    "duration": 7,
    "start_time": "2022-07-10T10:21:34.064Z"
   },
   {
    "duration": 9,
    "start_time": "2022-07-10T10:21:34.072Z"
   },
   {
    "duration": 11,
    "start_time": "2022-07-10T10:21:34.082Z"
   },
   {
    "duration": 6,
    "start_time": "2022-07-10T10:21:34.095Z"
   },
   {
    "duration": 42,
    "start_time": "2022-07-10T10:21:34.102Z"
   },
   {
    "duration": 3,
    "start_time": "2022-07-10T10:21:34.146Z"
   },
   {
    "duration": 6,
    "start_time": "2022-07-10T10:21:34.151Z"
   },
   {
    "duration": 5,
    "start_time": "2022-07-10T10:21:34.159Z"
   },
   {
    "duration": 6,
    "start_time": "2022-07-10T10:21:34.165Z"
   },
   {
    "duration": 9939,
    "start_time": "2022-07-10T10:21:34.172Z"
   },
   {
    "duration": 84,
    "start_time": "2022-07-10T10:22:55.760Z"
   },
   {
    "duration": 6,
    "start_time": "2022-07-10T10:23:04.456Z"
   },
   {
    "duration": 9757,
    "start_time": "2022-07-10T10:23:32.363Z"
   },
   {
    "duration": 311583,
    "start_time": "2022-07-10T10:25:54.584Z"
   },
   {
    "duration": 39539,
    "start_time": "2022-07-10T10:32:45.804Z"
   },
   {
    "duration": 4,
    "start_time": "2022-07-10T10:38:44.945Z"
   },
   {
    "duration": 11,
    "start_time": "2022-07-10T10:38:50.440Z"
   },
   {
    "duration": 418102,
    "start_time": "2022-07-10T10:42:11.597Z"
   },
   {
    "duration": 399729,
    "start_time": "2022-07-10T10:52:31.854Z"
   },
   {
    "duration": 4,
    "start_time": "2022-07-10T10:59:11.585Z"
   },
   {
    "duration": 14,
    "start_time": "2022-07-10T10:59:11.590Z"
   },
   {
    "duration": 209161,
    "start_time": "2022-07-10T10:59:11.606Z"
   },
   {
    "duration": 16,
    "start_time": "2022-07-10T11:04:28.664Z"
   },
   {
    "duration": 17,
    "start_time": "2022-07-10T11:05:52.595Z"
   },
   {
    "duration": 17,
    "start_time": "2022-07-10T11:06:02.999Z"
   },
   {
    "duration": 23,
    "start_time": "2022-07-10T11:06:10.354Z"
   },
   {
    "duration": 1137,
    "start_time": "2022-07-10T11:06:26.390Z"
   },
   {
    "duration": 32,
    "start_time": "2022-07-10T11:06:27.528Z"
   },
   {
    "duration": 21,
    "start_time": "2022-07-10T11:06:27.562Z"
   },
   {
    "duration": 3,
    "start_time": "2022-07-10T11:06:27.585Z"
   },
   {
    "duration": 30,
    "start_time": "2022-07-10T11:06:27.591Z"
   },
   {
    "duration": 38,
    "start_time": "2022-07-10T11:06:27.622Z"
   },
   {
    "duration": 4,
    "start_time": "2022-07-10T11:06:27.662Z"
   },
   {
    "duration": 22,
    "start_time": "2022-07-10T11:06:27.668Z"
   },
   {
    "duration": 15,
    "start_time": "2022-07-10T11:06:27.692Z"
   },
   {
    "duration": 10,
    "start_time": "2022-07-10T11:06:27.709Z"
   },
   {
    "duration": 9,
    "start_time": "2022-07-10T11:06:27.721Z"
   },
   {
    "duration": 26,
    "start_time": "2022-07-10T11:06:27.731Z"
   },
   {
    "duration": 27,
    "start_time": "2022-07-10T11:06:27.759Z"
   },
   {
    "duration": 8,
    "start_time": "2022-07-10T11:06:27.789Z"
   },
   {
    "duration": 16,
    "start_time": "2022-07-10T11:06:27.798Z"
   },
   {
    "duration": 21,
    "start_time": "2022-07-10T11:06:27.816Z"
   },
   {
    "duration": 23,
    "start_time": "2022-07-10T11:06:27.838Z"
   },
   {
    "duration": 10,
    "start_time": "2022-07-10T11:06:27.863Z"
   },
   {
    "duration": 14,
    "start_time": "2022-07-10T11:06:27.875Z"
   },
   {
    "duration": 10585,
    "start_time": "2022-07-10T11:06:27.890Z"
   },
   {
    "duration": 318502,
    "start_time": "2022-07-10T11:06:38.477Z"
   },
   {
    "duration": 46767,
    "start_time": "2022-07-10T11:11:56.981Z"
   },
   {
    "duration": 96,
    "start_time": "2022-07-10T11:12:43.750Z"
   },
   {
    "duration": 104,
    "start_time": "2022-07-10T11:12:43.847Z"
   },
   {
    "duration": 391536,
    "start_time": "2022-07-10T11:12:43.953Z"
   },
   {
    "duration": 4,
    "start_time": "2022-07-10T11:19:15.491Z"
   },
   {
    "duration": 13,
    "start_time": "2022-07-10T11:19:15.497Z"
   },
   {
    "duration": 201327,
    "start_time": "2022-07-10T11:19:15.512Z"
   },
   {
    "duration": 22,
    "start_time": "2022-07-10T11:22:36.842Z"
   },
   {
    "duration": 18,
    "start_time": "2022-07-10T11:22:36.866Z"
   },
   {
    "duration": 4,
    "start_time": "2022-07-10T11:23:30.592Z"
   },
   {
    "duration": 3,
    "start_time": "2022-07-10T11:23:41.479Z"
   },
   {
    "duration": 110,
    "start_time": "2022-07-10T11:23:42.608Z"
   },
   {
    "duration": 359,
    "start_time": "2022-07-10T11:24:04.307Z"
   },
   {
    "duration": 5,
    "start_time": "2022-07-10T11:24:11.447Z"
   },
   {
    "duration": 198,
    "start_time": "2022-07-10T11:24:12.494Z"
   },
   {
    "duration": 121,
    "start_time": "2022-07-10T11:24:15.063Z"
   },
   {
    "duration": 24,
    "start_time": "2022-07-10T11:24:29.078Z"
   },
   {
    "duration": 21,
    "start_time": "2022-07-10T11:24:30.042Z"
   },
   {
    "duration": 12,
    "start_time": "2022-07-10T11:27:24.271Z"
   },
   {
    "duration": 76412,
    "start_time": "2022-07-10T11:27:25.499Z"
   },
   {
    "duration": 19,
    "start_time": "2022-07-10T11:28:53.555Z"
   },
   {
    "duration": 11,
    "start_time": "2022-07-10T11:29:08.258Z"
   },
   {
    "duration": 63649,
    "start_time": "2022-07-10T11:29:08.802Z"
   },
   {
    "duration": 10,
    "start_time": "2022-07-10T11:30:12.453Z"
   },
   {
    "duration": 31840,
    "start_time": "2022-07-10T11:30:12.465Z"
   },
   {
    "duration": 13,
    "start_time": "2022-07-10T11:30:44.306Z"
   },
   {
    "duration": 32,
    "start_time": "2022-07-10T11:30:44.320Z"
   },
   {
    "duration": 4,
    "start_time": "2022-07-10T11:30:44.353Z"
   },
   {
    "duration": 7,
    "start_time": "2022-07-10T11:30:44.358Z"
   },
   {
    "duration": 10,
    "start_time": "2022-07-10T11:32:20.724Z"
   },
   {
    "duration": 37175,
    "start_time": "2022-07-10T11:32:21.271Z"
   },
   {
    "duration": 14,
    "start_time": "2022-07-10T11:40:36.768Z"
   },
   {
    "duration": 20,
    "start_time": "2022-07-10T11:40:37.370Z"
   },
   {
    "duration": 1301,
    "start_time": "2022-07-10T12:00:34.144Z"
   },
   {
    "duration": 27,
    "start_time": "2022-07-10T12:00:35.447Z"
   },
   {
    "duration": 15,
    "start_time": "2022-07-10T12:00:35.475Z"
   },
   {
    "duration": 3,
    "start_time": "2022-07-10T12:00:35.492Z"
   },
   {
    "duration": 16,
    "start_time": "2022-07-10T12:00:35.497Z"
   },
   {
    "duration": 42,
    "start_time": "2022-07-10T12:00:35.514Z"
   },
   {
    "duration": 5,
    "start_time": "2022-07-10T12:00:35.558Z"
   },
   {
    "duration": 10,
    "start_time": "2022-07-10T12:00:35.564Z"
   },
   {
    "duration": 7,
    "start_time": "2022-07-10T12:00:35.576Z"
   },
   {
    "duration": 7,
    "start_time": "2022-07-10T12:00:35.585Z"
   },
   {
    "duration": 5,
    "start_time": "2022-07-10T12:00:35.593Z"
   },
   {
    "duration": 11,
    "start_time": "2022-07-10T12:00:35.599Z"
   },
   {
    "duration": 11,
    "start_time": "2022-07-10T12:00:35.643Z"
   },
   {
    "duration": 6,
    "start_time": "2022-07-10T12:00:35.657Z"
   },
   {
    "duration": 6,
    "start_time": "2022-07-10T12:00:35.664Z"
   },
   {
    "duration": 7,
    "start_time": "2022-07-10T12:00:35.671Z"
   },
   {
    "duration": 6,
    "start_time": "2022-07-10T12:00:35.679Z"
   },
   {
    "duration": 10,
    "start_time": "2022-07-10T12:00:35.686Z"
   },
   {
    "duration": 6,
    "start_time": "2022-07-10T12:00:35.698Z"
   },
   {
    "duration": 10134,
    "start_time": "2022-07-10T12:00:35.706Z"
   },
   {
    "duration": 329518,
    "start_time": "2022-07-10T12:00:45.842Z"
   },
   {
    "duration": 36182,
    "start_time": "2022-07-10T12:06:15.362Z"
   },
   {
    "duration": 4,
    "start_time": "2022-07-10T12:06:51.546Z"
   },
   {
    "duration": 105,
    "start_time": "2022-07-10T12:06:51.552Z"
   },
   {
    "duration": 68923,
    "start_time": "2022-07-10T12:06:51.659Z"
   },
   {
    "duration": 4,
    "start_time": "2022-07-10T12:08:00.584Z"
   },
   {
    "duration": 27,
    "start_time": "2022-07-10T12:08:00.589Z"
   },
   {
    "duration": 37616,
    "start_time": "2022-07-10T12:08:00.618Z"
   },
   {
    "duration": 7,
    "start_time": "2022-07-10T12:08:38.236Z"
   },
   {
    "duration": 134,
    "start_time": "2022-07-10T12:08:38.245Z"
   },
   {
    "duration": 121,
    "start_time": "2022-07-10T12:08:38.381Z"
   },
   {
    "duration": 22,
    "start_time": "2022-07-10T12:08:38.504Z"
   },
   {
    "duration": 14,
    "start_time": "2022-07-10T12:08:38.543Z"
   },
   {
    "duration": 6,
    "start_time": "2022-07-10T12:08:38.559Z"
   },
   {
    "duration": 3,
    "start_time": "2022-07-11T08:41:39.960Z"
   },
   {
    "duration": 47,
    "start_time": "2022-07-11T08:41:48.626Z"
   },
   {
    "duration": 1469,
    "start_time": "2022-07-11T08:41:56.329Z"
   },
   {
    "duration": 65,
    "start_time": "2022-07-11T08:42:00.224Z"
   },
   {
    "duration": 18,
    "start_time": "2022-07-11T08:42:00.673Z"
   },
   {
    "duration": 4,
    "start_time": "2022-07-11T08:42:03.716Z"
   },
   {
    "duration": 14,
    "start_time": "2022-07-11T08:42:04.523Z"
   },
   {
    "duration": 44,
    "start_time": "2022-07-11T08:42:06.622Z"
   },
   {
    "duration": 4,
    "start_time": "2022-07-11T08:42:09.860Z"
   },
   {
    "duration": 12,
    "start_time": "2022-07-11T08:42:12.458Z"
   },
   {
    "duration": 11,
    "start_time": "2022-07-11T08:42:20.181Z"
   },
   {
    "duration": 7,
    "start_time": "2022-07-11T08:42:34.016Z"
   },
   {
    "duration": 7,
    "start_time": "2022-07-11T08:42:36.472Z"
   },
   {
    "duration": 5,
    "start_time": "2022-07-11T08:42:36.916Z"
   },
   {
    "duration": 10,
    "start_time": "2022-07-11T08:45:14.572Z"
   },
   {
    "duration": 8,
    "start_time": "2022-07-11T08:45:15.154Z"
   },
   {
    "duration": 5,
    "start_time": "2022-07-11T08:45:18.463Z"
   },
   {
    "duration": 10,
    "start_time": "2022-07-11T08:45:18.948Z"
   },
   {
    "duration": 8,
    "start_time": "2022-07-11T08:45:27.887Z"
   },
   {
    "duration": 3,
    "start_time": "2022-07-11T08:45:29.267Z"
   },
   {
    "duration": 4,
    "start_time": "2022-07-11T08:45:34.539Z"
   },
   {
    "duration": 5,
    "start_time": "2022-07-11T08:45:35.103Z"
   },
   {
    "duration": 1040,
    "start_time": "2022-07-11T08:47:56.641Z"
   },
   {
    "duration": 12,
    "start_time": "2022-07-11T08:48:04.298Z"
   },
   {
    "duration": 16,
    "start_time": "2022-07-11T08:48:53.621Z"
   },
   {
    "duration": 26,
    "start_time": "2022-07-11T08:49:44.673Z"
   },
   {
    "duration": 883,
    "start_time": "2022-07-11T08:50:30.122Z"
   },
   {
    "duration": 1199,
    "start_time": "2022-07-11T08:51:17.269Z"
   },
   {
    "duration": 26,
    "start_time": "2022-07-11T08:51:18.470Z"
   },
   {
    "duration": 14,
    "start_time": "2022-07-11T08:51:18.498Z"
   },
   {
    "duration": 4,
    "start_time": "2022-07-11T08:51:18.514Z"
   },
   {
    "duration": 12,
    "start_time": "2022-07-11T08:51:18.520Z"
   },
   {
    "duration": 37,
    "start_time": "2022-07-11T08:51:18.533Z"
   },
   {
    "duration": 4,
    "start_time": "2022-07-11T08:51:18.571Z"
   },
   {
    "duration": 10,
    "start_time": "2022-07-11T08:51:18.576Z"
   },
   {
    "duration": 6,
    "start_time": "2022-07-11T08:51:18.588Z"
   },
   {
    "duration": 5,
    "start_time": "2022-07-11T08:51:18.596Z"
   },
   {
    "duration": 39,
    "start_time": "2022-07-11T08:51:18.603Z"
   },
   {
    "duration": 9,
    "start_time": "2022-07-11T08:51:18.644Z"
   },
   {
    "duration": 3,
    "start_time": "2022-07-11T08:51:18.654Z"
   },
   {
    "duration": 4,
    "start_time": "2022-07-11T08:51:18.659Z"
   },
   {
    "duration": 7,
    "start_time": "2022-07-11T08:51:18.664Z"
   },
   {
    "duration": 22,
    "start_time": "2022-07-11T08:51:18.672Z"
   },
   {
    "duration": 5,
    "start_time": "2022-07-11T08:51:18.695Z"
   },
   {
    "duration": 9,
    "start_time": "2022-07-11T08:51:18.701Z"
   },
   {
    "duration": 116,
    "start_time": "2022-07-11T08:51:18.711Z"
   },
   {
    "duration": 0,
    "start_time": "2022-07-11T08:51:18.828Z"
   },
   {
    "duration": 0,
    "start_time": "2022-07-11T08:51:18.830Z"
   },
   {
    "duration": 0,
    "start_time": "2022-07-11T08:51:18.831Z"
   },
   {
    "duration": 0,
    "start_time": "2022-07-11T08:51:18.832Z"
   },
   {
    "duration": 0,
    "start_time": "2022-07-11T08:51:18.832Z"
   },
   {
    "duration": 0,
    "start_time": "2022-07-11T08:51:18.833Z"
   },
   {
    "duration": 0,
    "start_time": "2022-07-11T08:51:18.834Z"
   },
   {
    "duration": 0,
    "start_time": "2022-07-11T08:51:18.834Z"
   },
   {
    "duration": 0,
    "start_time": "2022-07-11T08:51:18.834Z"
   },
   {
    "duration": 0,
    "start_time": "2022-07-11T08:51:18.835Z"
   },
   {
    "duration": 0,
    "start_time": "2022-07-11T08:51:18.841Z"
   },
   {
    "duration": 0,
    "start_time": "2022-07-11T08:51:18.842Z"
   },
   {
    "duration": 0,
    "start_time": "2022-07-11T08:51:18.843Z"
   },
   {
    "duration": 0,
    "start_time": "2022-07-11T08:51:18.845Z"
   },
   {
    "duration": 0,
    "start_time": "2022-07-11T08:51:18.846Z"
   },
   {
    "duration": 0,
    "start_time": "2022-07-11T08:51:18.846Z"
   },
   {
    "duration": 1246,
    "start_time": "2022-07-11T08:52:10.410Z"
   },
   {
    "duration": 26,
    "start_time": "2022-07-11T08:52:11.658Z"
   },
   {
    "duration": 15,
    "start_time": "2022-07-11T08:52:11.686Z"
   },
   {
    "duration": 4,
    "start_time": "2022-07-11T08:52:11.703Z"
   },
   {
    "duration": 16,
    "start_time": "2022-07-11T08:52:11.708Z"
   },
   {
    "duration": 53,
    "start_time": "2022-07-11T08:52:11.725Z"
   },
   {
    "duration": 4,
    "start_time": "2022-07-11T08:52:11.780Z"
   },
   {
    "duration": 15,
    "start_time": "2022-07-11T08:52:11.786Z"
   },
   {
    "duration": 7,
    "start_time": "2022-07-11T08:52:11.803Z"
   },
   {
    "duration": 30,
    "start_time": "2022-07-11T08:52:11.814Z"
   },
   {
    "duration": 8,
    "start_time": "2022-07-11T08:52:11.846Z"
   },
   {
    "duration": 8,
    "start_time": "2022-07-11T08:52:11.856Z"
   },
   {
    "duration": 3,
    "start_time": "2022-07-11T08:52:11.865Z"
   },
   {
    "duration": 5,
    "start_time": "2022-07-11T08:52:11.869Z"
   },
   {
    "duration": 5,
    "start_time": "2022-07-11T08:52:11.876Z"
   },
   {
    "duration": 21,
    "start_time": "2022-07-11T08:52:11.883Z"
   },
   {
    "duration": 40,
    "start_time": "2022-07-11T08:52:11.905Z"
   },
   {
    "duration": 5,
    "start_time": "2022-07-11T08:52:11.946Z"
   },
   {
    "duration": 29,
    "start_time": "2022-07-11T08:52:11.952Z"
   },
   {
    "duration": 10,
    "start_time": "2022-07-11T08:52:11.983Z"
   },
   {
    "duration": 9787,
    "start_time": "2022-07-11T08:52:11.994Z"
   },
   {
    "duration": 11013,
    "start_time": "2022-07-11T08:52:21.783Z"
   },
   {
    "duration": 0,
    "start_time": "2022-07-11T08:52:32.798Z"
   },
   {
    "duration": 0,
    "start_time": "2022-07-11T08:52:32.799Z"
   },
   {
    "duration": 1,
    "start_time": "2022-07-11T08:52:32.800Z"
   },
   {
    "duration": 0,
    "start_time": "2022-07-11T08:52:32.802Z"
   },
   {
    "duration": 0,
    "start_time": "2022-07-11T08:52:32.803Z"
   },
   {
    "duration": 0,
    "start_time": "2022-07-11T08:52:32.803Z"
   },
   {
    "duration": 0,
    "start_time": "2022-07-11T08:52:32.804Z"
   },
   {
    "duration": 0,
    "start_time": "2022-07-11T08:52:32.805Z"
   },
   {
    "duration": 0,
    "start_time": "2022-07-11T08:52:32.806Z"
   },
   {
    "duration": 0,
    "start_time": "2022-07-11T08:52:32.807Z"
   },
   {
    "duration": 0,
    "start_time": "2022-07-11T08:52:32.808Z"
   },
   {
    "duration": 0,
    "start_time": "2022-07-11T08:52:32.809Z"
   },
   {
    "duration": 0,
    "start_time": "2022-07-11T08:52:32.810Z"
   },
   {
    "duration": 1451,
    "start_time": "2022-07-11T09:05:17.415Z"
   },
   {
    "duration": 76,
    "start_time": "2022-07-11T09:05:18.867Z"
   },
   {
    "duration": 15,
    "start_time": "2022-07-11T09:05:18.944Z"
   },
   {
    "duration": 3,
    "start_time": "2022-07-11T09:05:18.961Z"
   },
   {
    "duration": 14,
    "start_time": "2022-07-11T09:05:18.965Z"
   },
   {
    "duration": 81,
    "start_time": "2022-07-11T09:05:18.980Z"
   },
   {
    "duration": 4,
    "start_time": "2022-07-11T09:05:19.063Z"
   },
   {
    "duration": 12,
    "start_time": "2022-07-11T09:05:19.068Z"
   },
   {
    "duration": 5,
    "start_time": "2022-07-11T09:05:19.081Z"
   },
   {
    "duration": 6,
    "start_time": "2022-07-11T09:05:19.141Z"
   },
   {
    "duration": 5,
    "start_time": "2022-07-11T09:05:19.149Z"
   },
   {
    "duration": 10,
    "start_time": "2022-07-11T09:05:19.155Z"
   },
   {
    "duration": 2,
    "start_time": "2022-07-11T09:05:19.166Z"
   },
   {
    "duration": 5,
    "start_time": "2022-07-11T09:05:19.170Z"
   },
   {
    "duration": 6,
    "start_time": "2022-07-11T09:05:19.177Z"
   },
   {
    "duration": 71,
    "start_time": "2022-07-11T09:05:19.185Z"
   },
   {
    "duration": 5,
    "start_time": "2022-07-11T09:05:19.258Z"
   },
   {
    "duration": 8,
    "start_time": "2022-07-11T09:05:19.265Z"
   },
   {
    "duration": 72,
    "start_time": "2022-07-11T09:05:19.275Z"
   },
   {
    "duration": 5,
    "start_time": "2022-07-11T09:05:19.349Z"
   },
   {
    "duration": 6790,
    "start_time": "2022-07-11T09:05:19.356Z"
   },
   {
    "duration": 168784,
    "start_time": "2022-07-11T09:05:26.148Z"
   },
   {
    "duration": 0,
    "start_time": "2022-07-11T09:08:14.934Z"
   },
   {
    "duration": 0,
    "start_time": "2022-07-11T09:08:14.935Z"
   },
   {
    "duration": 0,
    "start_time": "2022-07-11T09:08:14.942Z"
   },
   {
    "duration": 1,
    "start_time": "2022-07-11T09:08:14.943Z"
   },
   {
    "duration": 0,
    "start_time": "2022-07-11T09:08:14.945Z"
   },
   {
    "duration": 0,
    "start_time": "2022-07-11T09:08:14.946Z"
   },
   {
    "duration": 0,
    "start_time": "2022-07-11T09:08:14.947Z"
   },
   {
    "duration": 0,
    "start_time": "2022-07-11T09:08:14.949Z"
   },
   {
    "duration": 0,
    "start_time": "2022-07-11T09:08:14.950Z"
   },
   {
    "duration": 0,
    "start_time": "2022-07-11T09:08:14.951Z"
   },
   {
    "duration": 0,
    "start_time": "2022-07-11T09:08:14.953Z"
   },
   {
    "duration": 0,
    "start_time": "2022-07-11T09:08:14.954Z"
   },
   {
    "duration": 0,
    "start_time": "2022-07-11T09:08:14.956Z"
   },
   {
    "duration": 1252,
    "start_time": "2022-07-11T09:09:39.906Z"
   },
   {
    "duration": 29,
    "start_time": "2022-07-11T09:09:41.160Z"
   },
   {
    "duration": 15,
    "start_time": "2022-07-11T09:09:41.191Z"
   },
   {
    "duration": 4,
    "start_time": "2022-07-11T09:09:41.208Z"
   },
   {
    "duration": 13,
    "start_time": "2022-07-11T09:09:41.213Z"
   },
   {
    "duration": 37,
    "start_time": "2022-07-11T09:09:41.227Z"
   },
   {
    "duration": 4,
    "start_time": "2022-07-11T09:09:41.265Z"
   },
   {
    "duration": 12,
    "start_time": "2022-07-11T09:09:41.271Z"
   },
   {
    "duration": 6,
    "start_time": "2022-07-11T09:09:41.284Z"
   },
   {
    "duration": 6,
    "start_time": "2022-07-11T09:09:41.292Z"
   },
   {
    "duration": 5,
    "start_time": "2022-07-11T09:09:41.299Z"
   },
   {
    "duration": 37,
    "start_time": "2022-07-11T09:09:41.305Z"
   },
   {
    "duration": 2,
    "start_time": "2022-07-11T09:09:41.344Z"
   },
   {
    "duration": 6,
    "start_time": "2022-07-11T09:09:41.348Z"
   },
   {
    "duration": 7,
    "start_time": "2022-07-11T09:09:41.355Z"
   },
   {
    "duration": 21,
    "start_time": "2022-07-11T09:09:41.363Z"
   },
   {
    "duration": 6,
    "start_time": "2022-07-11T09:09:41.386Z"
   },
   {
    "duration": 6,
    "start_time": "2022-07-11T09:09:41.393Z"
   },
   {
    "duration": 50,
    "start_time": "2022-07-11T09:09:41.400Z"
   },
   {
    "duration": 6,
    "start_time": "2022-07-11T09:09:41.452Z"
   },
   {
    "duration": 6355,
    "start_time": "2022-07-11T09:09:41.459Z"
   },
   {
    "duration": 263010,
    "start_time": "2022-07-11T09:09:47.816Z"
   },
   {
    "duration": 10114,
    "start_time": "2022-07-11T09:14:10.828Z"
   },
   {
    "duration": 4,
    "start_time": "2022-07-11T09:14:20.944Z"
   },
   {
    "duration": 200,
    "start_time": "2022-07-11T09:14:20.950Z"
   },
   {
    "duration": 0,
    "start_time": "2022-07-11T09:14:21.152Z"
   },
   {
    "duration": 0,
    "start_time": "2022-07-11T09:14:21.153Z"
   },
   {
    "duration": 0,
    "start_time": "2022-07-11T09:14:21.154Z"
   },
   {
    "duration": 0,
    "start_time": "2022-07-11T09:14:21.155Z"
   },
   {
    "duration": 0,
    "start_time": "2022-07-11T09:14:21.156Z"
   },
   {
    "duration": 0,
    "start_time": "2022-07-11T09:14:21.157Z"
   },
   {
    "duration": 0,
    "start_time": "2022-07-11T09:14:21.157Z"
   },
   {
    "duration": 0,
    "start_time": "2022-07-11T09:14:21.158Z"
   },
   {
    "duration": 0,
    "start_time": "2022-07-11T09:14:21.159Z"
   },
   {
    "duration": 0,
    "start_time": "2022-07-11T09:14:21.160Z"
   },
   {
    "duration": 16,
    "start_time": "2022-07-11T09:19:40.201Z"
   },
   {
    "duration": 3,
    "start_time": "2022-07-11T09:24:11.924Z"
   },
   {
    "duration": 22,
    "start_time": "2022-07-11T09:24:14.422Z"
   },
   {
    "duration": 13,
    "start_time": "2022-07-11T09:24:26.753Z"
   },
   {
    "duration": 5,
    "start_time": "2022-07-11T09:24:41.437Z"
   },
   {
    "duration": 2,
    "start_time": "2022-07-11T09:27:13.030Z"
   },
   {
    "duration": 15,
    "start_time": "2022-07-11T09:27:15.230Z"
   },
   {
    "duration": 3,
    "start_time": "2022-07-11T09:29:23.541Z"
   },
   {
    "duration": 16,
    "start_time": "2022-07-11T09:29:25.165Z"
   },
   {
    "duration": 15,
    "start_time": "2022-07-11T09:30:42.574Z"
   },
   {
    "duration": 4,
    "start_time": "2022-07-11T09:31:15.645Z"
   },
   {
    "duration": 4,
    "start_time": "2022-07-11T09:31:28.045Z"
   },
   {
    "duration": 4,
    "start_time": "2022-07-11T09:32:50.478Z"
   },
   {
    "duration": 4,
    "start_time": "2022-07-11T09:32:51.417Z"
   },
   {
    "duration": 5,
    "start_time": "2022-07-11T09:32:52.741Z"
   },
   {
    "duration": 17,
    "start_time": "2022-07-11T09:32:57.759Z"
   },
   {
    "duration": 7,
    "start_time": "2022-07-11T09:33:27.389Z"
   },
   {
    "duration": 1213,
    "start_time": "2022-07-11T09:34:13.689Z"
   },
   {
    "duration": 30,
    "start_time": "2022-07-11T09:34:14.904Z"
   },
   {
    "duration": 16,
    "start_time": "2022-07-11T09:34:15.068Z"
   },
   {
    "duration": 4,
    "start_time": "2022-07-11T09:34:16.029Z"
   },
   {
    "duration": 13,
    "start_time": "2022-07-11T09:34:16.688Z"
   },
   {
    "duration": 33,
    "start_time": "2022-07-11T09:34:17.148Z"
   },
   {
    "duration": 5,
    "start_time": "2022-07-11T09:34:17.553Z"
   },
   {
    "duration": 10,
    "start_time": "2022-07-11T09:34:18.248Z"
   },
   {
    "duration": 8,
    "start_time": "2022-07-11T09:34:18.524Z"
   },
   {
    "duration": 7,
    "start_time": "2022-07-11T09:34:18.696Z"
   },
   {
    "duration": 5,
    "start_time": "2022-07-11T09:34:18.839Z"
   },
   {
    "duration": 8,
    "start_time": "2022-07-11T09:34:19.388Z"
   },
   {
    "duration": 2,
    "start_time": "2022-07-11T09:34:20.229Z"
   },
   {
    "duration": 4,
    "start_time": "2022-07-11T09:34:21.756Z"
   },
   {
    "duration": 5,
    "start_time": "2022-07-11T09:34:22.056Z"
   },
   {
    "duration": 23,
    "start_time": "2022-07-11T09:34:22.348Z"
   },
   {
    "duration": 6,
    "start_time": "2022-07-11T09:34:23.975Z"
   },
   {
    "duration": 7,
    "start_time": "2022-07-11T09:34:24.412Z"
   },
   {
    "duration": 19,
    "start_time": "2022-07-11T09:34:24.980Z"
   },
   {
    "duration": 4,
    "start_time": "2022-07-11T09:34:26.556Z"
   },
   {
    "duration": 104,
    "start_time": "2022-07-11T09:35:23.325Z"
   },
   {
    "duration": 3,
    "start_time": "2022-07-11T09:35:30.389Z"
   },
   {
    "duration": 13,
    "start_time": "2022-07-11T09:35:33.513Z"
   },
   {
    "duration": 5,
    "start_time": "2022-07-11T09:35:43.332Z"
   },
   {
    "duration": 4,
    "start_time": "2022-07-11T09:36:51.633Z"
   },
   {
    "duration": 14,
    "start_time": "2022-07-11T09:36:56.264Z"
   },
   {
    "duration": 6,
    "start_time": "2022-07-11T09:37:03.093Z"
   },
   {
    "duration": 3,
    "start_time": "2022-07-11T09:37:11.625Z"
   },
   {
    "duration": 16,
    "start_time": "2022-07-11T09:37:12.964Z"
   },
   {
    "duration": 18,
    "start_time": "2022-07-11T09:37:40.145Z"
   },
   {
    "duration": 1235,
    "start_time": "2022-07-11T09:37:49.324Z"
   },
   {
    "duration": 27,
    "start_time": "2022-07-11T09:37:51.284Z"
   },
   {
    "duration": 18,
    "start_time": "2022-07-11T09:37:51.963Z"
   },
   {
    "duration": 4,
    "start_time": "2022-07-11T09:37:52.608Z"
   },
   {
    "duration": 13,
    "start_time": "2022-07-11T09:37:52.972Z"
   },
   {
    "duration": 32,
    "start_time": "2022-07-11T09:37:53.124Z"
   },
   {
    "duration": 5,
    "start_time": "2022-07-11T09:37:53.359Z"
   },
   {
    "duration": 9,
    "start_time": "2022-07-11T09:37:53.775Z"
   },
   {
    "duration": 6,
    "start_time": "2022-07-11T09:37:53.948Z"
   },
   {
    "duration": 5,
    "start_time": "2022-07-11T09:37:54.112Z"
   },
   {
    "duration": 5,
    "start_time": "2022-07-11T09:37:54.273Z"
   },
   {
    "duration": 10,
    "start_time": "2022-07-11T09:37:54.652Z"
   },
   {
    "duration": 2,
    "start_time": "2022-07-11T09:37:55.032Z"
   },
   {
    "duration": 4,
    "start_time": "2022-07-11T09:37:56.388Z"
   },
   {
    "duration": 5,
    "start_time": "2022-07-11T09:37:56.631Z"
   },
   {
    "duration": 28,
    "start_time": "2022-07-11T09:37:56.824Z"
   },
   {
    "duration": 5,
    "start_time": "2022-07-11T09:37:58.284Z"
   },
   {
    "duration": 6,
    "start_time": "2022-07-11T09:37:58.680Z"
   },
   {
    "duration": 24,
    "start_time": "2022-07-11T09:37:59.396Z"
   },
   {
    "duration": 4,
    "start_time": "2022-07-11T09:38:00.281Z"
   },
   {
    "duration": 5,
    "start_time": "2022-07-11T09:38:00.944Z"
   },
   {
    "duration": 5,
    "start_time": "2022-07-11T09:38:04.985Z"
   },
   {
    "duration": 9,
    "start_time": "2022-07-11T09:38:05.736Z"
   },
   {
    "duration": 45,
    "start_time": "2022-07-11T09:40:19.232Z"
   },
   {
    "duration": 1202,
    "start_time": "2022-07-11T09:40:24.411Z"
   },
   {
    "duration": 26,
    "start_time": "2022-07-11T09:40:26.645Z"
   },
   {
    "duration": 16,
    "start_time": "2022-07-11T09:40:26.988Z"
   },
   {
    "duration": 4,
    "start_time": "2022-07-11T09:40:27.509Z"
   },
   {
    "duration": 12,
    "start_time": "2022-07-11T09:40:27.976Z"
   },
   {
    "duration": 33,
    "start_time": "2022-07-11T09:40:28.225Z"
   },
   {
    "duration": 4,
    "start_time": "2022-07-11T09:40:28.393Z"
   },
   {
    "duration": 9,
    "start_time": "2022-07-11T09:40:28.886Z"
   },
   {
    "duration": 7,
    "start_time": "2022-07-11T09:40:29.032Z"
   },
   {
    "duration": 7,
    "start_time": "2022-07-11T09:40:29.189Z"
   },
   {
    "duration": 5,
    "start_time": "2022-07-11T09:40:29.605Z"
   },
   {
    "duration": 10,
    "start_time": "2022-07-11T09:40:30.013Z"
   },
   {
    "duration": 2,
    "start_time": "2022-07-11T09:40:30.929Z"
   },
   {
    "duration": 4,
    "start_time": "2022-07-11T09:40:33.393Z"
   },
   {
    "duration": 5,
    "start_time": "2022-07-11T09:40:34.245Z"
   },
   {
    "duration": 30,
    "start_time": "2022-07-11T09:40:34.512Z"
   },
   {
    "duration": 5,
    "start_time": "2022-07-11T09:40:36.725Z"
   },
   {
    "duration": 5,
    "start_time": "2022-07-11T09:40:37.025Z"
   },
   {
    "duration": 18,
    "start_time": "2022-07-11T09:40:37.473Z"
   },
   {
    "duration": 4,
    "start_time": "2022-07-11T09:40:41.352Z"
   },
   {
    "duration": 13,
    "start_time": "2022-07-11T09:40:49.773Z"
   },
   {
    "duration": 4,
    "start_time": "2022-07-11T09:41:33.789Z"
   },
   {
    "duration": 13,
    "start_time": "2022-07-11T09:41:39.857Z"
   },
   {
    "duration": 12,
    "start_time": "2022-07-11T09:41:42.945Z"
   },
   {
    "duration": 6,
    "start_time": "2022-07-11T09:41:47.445Z"
   },
   {
    "duration": 1265,
    "start_time": "2022-07-11T09:41:55.226Z"
   },
   {
    "duration": 32,
    "start_time": "2022-07-11T09:41:56.494Z"
   },
   {
    "duration": 16,
    "start_time": "2022-07-11T09:41:56.528Z"
   },
   {
    "duration": 4,
    "start_time": "2022-07-11T09:41:56.545Z"
   },
   {
    "duration": 14,
    "start_time": "2022-07-11T09:41:56.551Z"
   },
   {
    "duration": 42,
    "start_time": "2022-07-11T09:41:56.566Z"
   },
   {
    "duration": 5,
    "start_time": "2022-07-11T09:41:56.610Z"
   },
   {
    "duration": 9,
    "start_time": "2022-07-11T09:41:56.642Z"
   },
   {
    "duration": 6,
    "start_time": "2022-07-11T09:41:56.653Z"
   },
   {
    "duration": 6,
    "start_time": "2022-07-11T09:41:56.660Z"
   },
   {
    "duration": 5,
    "start_time": "2022-07-11T09:41:56.668Z"
   },
   {
    "duration": 9,
    "start_time": "2022-07-11T09:41:56.674Z"
   },
   {
    "duration": 2,
    "start_time": "2022-07-11T09:41:56.685Z"
   },
   {
    "duration": 8,
    "start_time": "2022-07-11T09:41:56.689Z"
   },
   {
    "duration": 44,
    "start_time": "2022-07-11T09:41:56.698Z"
   },
   {
    "duration": 22,
    "start_time": "2022-07-11T09:41:56.744Z"
   },
   {
    "duration": 6,
    "start_time": "2022-07-11T09:41:56.769Z"
   },
   {
    "duration": 8,
    "start_time": "2022-07-11T09:41:56.776Z"
   },
   {
    "duration": 28,
    "start_time": "2022-07-11T09:41:56.785Z"
   },
   {
    "duration": 5,
    "start_time": "2022-07-11T09:41:56.814Z"
   },
   {
    "duration": 25,
    "start_time": "2022-07-11T09:41:56.820Z"
   },
   {
    "duration": 7996,
    "start_time": "2022-07-11T09:41:56.847Z"
   },
   {
    "duration": 277031,
    "start_time": "2022-07-11T09:42:04.845Z"
   },
   {
    "duration": 8966,
    "start_time": "2022-07-11T09:46:41.878Z"
   },
   {
    "duration": 5,
    "start_time": "2022-07-11T09:46:50.845Z"
   },
   {
    "duration": 107,
    "start_time": "2022-07-11T09:46:50.852Z"
   },
   {
    "duration": 58197,
    "start_time": "2022-07-11T09:46:50.961Z"
   },
   {
    "duration": 3,
    "start_time": "2022-07-11T09:47:49.160Z"
   },
   {
    "duration": 100,
    "start_time": "2022-07-11T09:47:49.164Z"
   },
   {
    "duration": 0,
    "start_time": "2022-07-11T09:47:49.266Z"
   },
   {
    "duration": 0,
    "start_time": "2022-07-11T09:47:49.267Z"
   },
   {
    "duration": 0,
    "start_time": "2022-07-11T09:47:49.268Z"
   },
   {
    "duration": 0,
    "start_time": "2022-07-11T09:47:49.269Z"
   },
   {
    "duration": 0,
    "start_time": "2022-07-11T09:47:49.270Z"
   },
   {
    "duration": 0,
    "start_time": "2022-07-11T09:47:49.271Z"
   },
   {
    "duration": 0,
    "start_time": "2022-07-11T09:47:49.272Z"
   },
   {
    "duration": 10,
    "start_time": "2022-07-11T10:06:24.568Z"
   },
   {
    "duration": 35841,
    "start_time": "2022-07-11T10:06:28.332Z"
   },
   {
    "duration": 4,
    "start_time": "2022-07-11T10:07:53.193Z"
   },
   {
    "duration": 127,
    "start_time": "2022-07-11T10:07:55.410Z"
   },
   {
    "duration": 112,
    "start_time": "2022-07-11T10:07:56.110Z"
   },
   {
    "duration": 23,
    "start_time": "2022-07-11T10:07:58.907Z"
   },
   {
    "duration": 20,
    "start_time": "2022-07-11T10:08:01.032Z"
   },
   {
    "duration": 5,
    "start_time": "2022-07-11T10:08:06.944Z"
   }
  ],
  "kernelspec": {
   "display_name": "Python 3 (ipykernel)",
   "language": "python",
   "name": "python3"
  },
  "language_info": {
   "codemirror_mode": {
    "name": "ipython",
    "version": 3
   },
   "file_extension": ".py",
   "mimetype": "text/x-python",
   "name": "python",
   "nbconvert_exporter": "python",
   "pygments_lexer": "ipython3",
   "version": "3.9.5"
  },
  "toc": {
   "base_numbering": 1,
   "nav_menu": {},
   "number_sections": true,
   "sideBar": true,
   "skip_h1_title": true,
   "title_cell": "Содержание",
   "title_sidebar": "Contents",
   "toc_cell": true,
   "toc_position": {
    "height": "calc(100% - 180px)",
    "left": "10px",
    "top": "150px",
    "width": "165px"
   },
   "toc_section_display": true,
   "toc_window_display": true
  }
 },
 "nbformat": 4,
 "nbformat_minor": 2
}
