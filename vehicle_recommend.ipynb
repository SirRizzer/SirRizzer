{
 "cells": [
  {
   "cell_type": "markdown",
   "metadata": {},
   "source": [
    "<h1>Содержание<span class=\"tocSkip\"></span></h1>\n",
    "<div class=\"toc\"><ul class=\"toc-item\"><li><span><a href=\"#Подготовка-данных\" data-toc-modified-id=\"Подготовка-данных-1\"><span class=\"toc-item-num\">1&nbsp;&nbsp;</span>Подготовка данных</a></span><ul class=\"toc-item\"><li><span><a href=\"#Подготовка-к-обучению\" data-toc-modified-id=\"Подготовка-к-обучению-1.1\"><span class=\"toc-item-num\">1.1&nbsp;&nbsp;</span>Подготовка к обучению</a></span></li><li><span><a href=\"#Вывод\" data-toc-modified-id=\"Вывод-1.2\"><span class=\"toc-item-num\">1.2&nbsp;&nbsp;</span>Вывод</a></span></li></ul></li><li><span><a href=\"#Обучение-моделей\" data-toc-modified-id=\"Обучение-моделей-2\"><span class=\"toc-item-num\">2&nbsp;&nbsp;</span>Обучение моделей</a></span><ul class=\"toc-item\"><li><span><a href=\"#LinearRegression\" data-toc-modified-id=\"LinearRegression-2.1\"><span class=\"toc-item-num\">2.1&nbsp;&nbsp;</span>LinearRegression</a></span></li><li><span><a href=\"#LightGBM\" data-toc-modified-id=\"LightGBM-2.2\"><span class=\"toc-item-num\">2.2&nbsp;&nbsp;</span>LightGBM</a></span></li><li><span><a href=\"#Catboost\" data-toc-modified-id=\"Catboost-2.3\"><span class=\"toc-item-num\">2.3&nbsp;&nbsp;</span>Catboost</a></span></li></ul></li><li><span><a href=\"#Анализ-моделей\" data-toc-modified-id=\"Анализ-моделей-3\"><span class=\"toc-item-num\">3&nbsp;&nbsp;</span>Анализ моделей</a></span></li><li><span><a href=\"#Вывод\" data-toc-modified-id=\"Вывод-4\"><span class=\"toc-item-num\">4&nbsp;&nbsp;</span>Вывод</a></span></li><li><span><a href=\"#Чек-лист-проверки\" data-toc-modified-id=\"Чек-лист-проверки-5\"><span class=\"toc-item-num\">5&nbsp;&nbsp;</span>Чек-лист проверки</a></span></li></ul></div>"
   ]
  },
  {
   "cell_type": "markdown",
   "metadata": {},
   "source": [
    "# Определение стоимости автомобилей"
   ]
  },
  {
   "cell_type": "markdown",
   "metadata": {},
   "source": [
    "Сервис по продаже автомобилей с пробегом «Не бит, не крашен» разрабатывает приложение для привлечения новых клиентов. В нём можно быстро узнать рыночную стоимость своего автомобиля. В вашем распоряжении исторические данные: технические характеристики, комплектации и цены автомобилей. Вам нужно построить модель для определения стоимости. \n",
    "\n",
    "Заказчику важны:\n",
    "\n",
    "- качество предсказания;\n",
    "- скорость предсказания;\n",
    "- время обучения."
   ]
  },
  {
   "cell_type": "markdown",
   "metadata": {},
   "source": [
    "## Подготовка данных"
   ]
  },
  {
   "cell_type": "code",
   "execution_count": 10,
   "metadata": {},
   "outputs": [],
   "source": [
    "import pandas as pd\n",
    "import matplotlib.pyplot as plt\n",
    "import numpy as np\n",
    "import warnings\n",
    "import time\n",
    "from sklearn.metrics import make_scorer\n",
    "from sklearn.model_selection import train_test_split\n",
    "from sklearn.preprocessing import OrdinalEncoder \n",
    "from sklearn.linear_model import LinearRegression\n",
    "from catboost import CatBoostRegressor\n",
    "from lightgbm import LGBMRegressor\n",
    "from sklearn.metrics import mean_squared_error as mse\n",
    "from sklearn.preprocessing import StandardScaler\n",
    "from sklearn.model_selection import GridSearchCV\n",
    "import warnings\n",
    "warnings.filterwarnings(\"ignore\")"
   ]
  },
  {
   "cell_type": "code",
   "execution_count": 11,
   "metadata": {},
   "outputs": [],
   "source": [
    "data = pd.read_csv('/datasets/autos.csv')"
   ]
  },
  {
   "cell_type": "code",
   "execution_count": 12,
   "metadata": {},
   "outputs": [],
   "source": [
    "#Функция информации о таблицах\n",
    "def check(df):\n",
    "\n",
    "    print('Первые пять строк: \\n', df.head())\n",
    "    print('########################')\n",
    "    print('Информация о талице: \\n', df.info())\n",
    "    print('########################')\n",
    "    print('Описание данных: \\n', df.describe())\n",
    "    print('########################')\n",
    "    display(pd.DataFrame(round((df.isna().mean()*100),2), columns=['NaNs, %']).sort_values(by='NaNs, %', ascending=False).style.format(\n",
    "    '{:.2f}').background_gradient('coolwarm'))\n",
    "    print('########################')\n",
    "    print('Количество дупликатов в таблице: \\n', df.duplicated().sum())\n",
    "    print('########################')"
   ]
  },
  {
   "cell_type": "code",
   "execution_count": 13,
   "metadata": {},
   "outputs": [
    {
     "name": "stdout",
     "output_type": "stream",
     "text": [
      "Первые пять строк: \n",
      "            DateCrawled  Price VehicleType  RegistrationYear Gearbox  Power  \\\n",
      "0  2016-03-24 11:52:17    480         NaN              1993  manual      0   \n",
      "1  2016-03-24 10:58:45  18300       coupe              2011  manual    190   \n",
      "2  2016-03-14 12:52:21   9800         suv              2004    auto    163   \n",
      "3  2016-03-17 16:54:04   1500       small              2001  manual     75   \n",
      "4  2016-03-31 17:25:20   3600       small              2008  manual     69   \n",
      "\n",
      "   Model  Kilometer  RegistrationMonth  FuelType       Brand Repaired  \\\n",
      "0   golf     150000                  0    petrol  volkswagen      NaN   \n",
      "1    NaN     125000                  5  gasoline        audi      yes   \n",
      "2  grand     125000                  8  gasoline        jeep      NaN   \n",
      "3   golf     150000                  6    petrol  volkswagen       no   \n",
      "4  fabia      90000                  7  gasoline       skoda       no   \n",
      "\n",
      "           DateCreated  NumberOfPictures  PostalCode             LastSeen  \n",
      "0  2016-03-24 00:00:00                 0       70435  2016-04-07 03:16:57  \n",
      "1  2016-03-24 00:00:00                 0       66954  2016-04-07 01:46:50  \n",
      "2  2016-03-14 00:00:00                 0       90480  2016-04-05 12:47:46  \n",
      "3  2016-03-17 00:00:00                 0       91074  2016-03-17 17:40:17  \n",
      "4  2016-03-31 00:00:00                 0       60437  2016-04-06 10:17:21  \n",
      "########################\n",
      "<class 'pandas.core.frame.DataFrame'>\n",
      "RangeIndex: 354369 entries, 0 to 354368\n",
      "Data columns (total 16 columns):\n",
      " #   Column             Non-Null Count   Dtype \n",
      "---  ------             --------------   ----- \n",
      " 0   DateCrawled        354369 non-null  object\n",
      " 1   Price              354369 non-null  int64 \n",
      " 2   VehicleType        316879 non-null  object\n",
      " 3   RegistrationYear   354369 non-null  int64 \n",
      " 4   Gearbox            334536 non-null  object\n",
      " 5   Power              354369 non-null  int64 \n",
      " 6   Model              334664 non-null  object\n",
      " 7   Kilometer          354369 non-null  int64 \n",
      " 8   RegistrationMonth  354369 non-null  int64 \n",
      " 9   FuelType           321474 non-null  object\n",
      " 10  Brand              354369 non-null  object\n",
      " 11  Repaired           283215 non-null  object\n",
      " 12  DateCreated        354369 non-null  object\n",
      " 13  NumberOfPictures   354369 non-null  int64 \n",
      " 14  PostalCode         354369 non-null  int64 \n",
      " 15  LastSeen           354369 non-null  object\n",
      "dtypes: int64(7), object(9)\n",
      "memory usage: 43.3+ MB\n",
      "Информация о талице: \n",
      " None\n",
      "########################\n",
      "Описание данных: \n",
      "                Price  RegistrationYear          Power      Kilometer  \\\n",
      "count  354369.000000     354369.000000  354369.000000  354369.000000   \n",
      "mean     4416.656776       2004.234448     110.094337  128211.172535   \n",
      "std      4514.158514         90.227958     189.850405   37905.341530   \n",
      "min         0.000000       1000.000000       0.000000    5000.000000   \n",
      "25%      1050.000000       1999.000000      69.000000  125000.000000   \n",
      "50%      2700.000000       2003.000000     105.000000  150000.000000   \n",
      "75%      6400.000000       2008.000000     143.000000  150000.000000   \n",
      "max     20000.000000       9999.000000   20000.000000  150000.000000   \n",
      "\n",
      "       RegistrationMonth  NumberOfPictures     PostalCode  \n",
      "count      354369.000000          354369.0  354369.000000  \n",
      "mean            5.714645               0.0   50508.689087  \n",
      "std             3.726421               0.0   25783.096248  \n",
      "min             0.000000               0.0    1067.000000  \n",
      "25%             3.000000               0.0   30165.000000  \n",
      "50%             6.000000               0.0   49413.000000  \n",
      "75%             9.000000               0.0   71083.000000  \n",
      "max            12.000000               0.0   99998.000000  \n",
      "########################\n"
     ]
    },
    {
     "data": {
      "text/html": [
       "<style  type=\"text/css\" >\n",
       "#T_3ec89_row0_col0{\n",
       "            background-color:  #b40426;\n",
       "            color:  #f1f1f1;\n",
       "        }#T_3ec89_row1_col0{\n",
       "            background-color:  #e3d9d3;\n",
       "            color:  #000000;\n",
       "        }#T_3ec89_row2_col0{\n",
       "            background-color:  #d3dbe7;\n",
       "            color:  #000000;\n",
       "        }#T_3ec89_row3_col0{\n",
       "            background-color:  #97b8ff;\n",
       "            color:  #000000;\n",
       "        }#T_3ec89_row4_col0{\n",
       "            background-color:  #96b7ff;\n",
       "            color:  #000000;\n",
       "        }#T_3ec89_row5_col0,#T_3ec89_row6_col0,#T_3ec89_row7_col0,#T_3ec89_row8_col0,#T_3ec89_row9_col0,#T_3ec89_row10_col0,#T_3ec89_row11_col0,#T_3ec89_row12_col0,#T_3ec89_row13_col0,#T_3ec89_row14_col0,#T_3ec89_row15_col0{\n",
       "            background-color:  #3b4cc0;\n",
       "            color:  #f1f1f1;\n",
       "        }</style><table id=\"T_3ec89_\" ><thead>    <tr>        <th class=\"blank level0\" ></th>        <th class=\"col_heading level0 col0\" >NaNs, %</th>    </tr></thead><tbody>\n",
       "                <tr>\n",
       "                        <th id=\"T_3ec89_level0_row0\" class=\"row_heading level0 row0\" >Repaired</th>\n",
       "                        <td id=\"T_3ec89_row0_col0\" class=\"data row0 col0\" >20.08</td>\n",
       "            </tr>\n",
       "            <tr>\n",
       "                        <th id=\"T_3ec89_level0_row1\" class=\"row_heading level0 row1\" >VehicleType</th>\n",
       "                        <td id=\"T_3ec89_row1_col0\" class=\"data row1 col0\" >10.58</td>\n",
       "            </tr>\n",
       "            <tr>\n",
       "                        <th id=\"T_3ec89_level0_row2\" class=\"row_heading level0 row2\" >FuelType</th>\n",
       "                        <td id=\"T_3ec89_row2_col0\" class=\"data row2 col0\" >9.28</td>\n",
       "            </tr>\n",
       "            <tr>\n",
       "                        <th id=\"T_3ec89_level0_row3\" class=\"row_heading level0 row3\" >Gearbox</th>\n",
       "                        <td id=\"T_3ec89_row3_col0\" class=\"data row3 col0\" >5.60</td>\n",
       "            </tr>\n",
       "            <tr>\n",
       "                        <th id=\"T_3ec89_level0_row4\" class=\"row_heading level0 row4\" >Model</th>\n",
       "                        <td id=\"T_3ec89_row4_col0\" class=\"data row4 col0\" >5.56</td>\n",
       "            </tr>\n",
       "            <tr>\n",
       "                        <th id=\"T_3ec89_level0_row5\" class=\"row_heading level0 row5\" >DateCrawled</th>\n",
       "                        <td id=\"T_3ec89_row5_col0\" class=\"data row5 col0\" >0.00</td>\n",
       "            </tr>\n",
       "            <tr>\n",
       "                        <th id=\"T_3ec89_level0_row6\" class=\"row_heading level0 row6\" >Price</th>\n",
       "                        <td id=\"T_3ec89_row6_col0\" class=\"data row6 col0\" >0.00</td>\n",
       "            </tr>\n",
       "            <tr>\n",
       "                        <th id=\"T_3ec89_level0_row7\" class=\"row_heading level0 row7\" >RegistrationYear</th>\n",
       "                        <td id=\"T_3ec89_row7_col0\" class=\"data row7 col0\" >0.00</td>\n",
       "            </tr>\n",
       "            <tr>\n",
       "                        <th id=\"T_3ec89_level0_row8\" class=\"row_heading level0 row8\" >Power</th>\n",
       "                        <td id=\"T_3ec89_row8_col0\" class=\"data row8 col0\" >0.00</td>\n",
       "            </tr>\n",
       "            <tr>\n",
       "                        <th id=\"T_3ec89_level0_row9\" class=\"row_heading level0 row9\" >Kilometer</th>\n",
       "                        <td id=\"T_3ec89_row9_col0\" class=\"data row9 col0\" >0.00</td>\n",
       "            </tr>\n",
       "            <tr>\n",
       "                        <th id=\"T_3ec89_level0_row10\" class=\"row_heading level0 row10\" >RegistrationMonth</th>\n",
       "                        <td id=\"T_3ec89_row10_col0\" class=\"data row10 col0\" >0.00</td>\n",
       "            </tr>\n",
       "            <tr>\n",
       "                        <th id=\"T_3ec89_level0_row11\" class=\"row_heading level0 row11\" >Brand</th>\n",
       "                        <td id=\"T_3ec89_row11_col0\" class=\"data row11 col0\" >0.00</td>\n",
       "            </tr>\n",
       "            <tr>\n",
       "                        <th id=\"T_3ec89_level0_row12\" class=\"row_heading level0 row12\" >DateCreated</th>\n",
       "                        <td id=\"T_3ec89_row12_col0\" class=\"data row12 col0\" >0.00</td>\n",
       "            </tr>\n",
       "            <tr>\n",
       "                        <th id=\"T_3ec89_level0_row13\" class=\"row_heading level0 row13\" >NumberOfPictures</th>\n",
       "                        <td id=\"T_3ec89_row13_col0\" class=\"data row13 col0\" >0.00</td>\n",
       "            </tr>\n",
       "            <tr>\n",
       "                        <th id=\"T_3ec89_level0_row14\" class=\"row_heading level0 row14\" >PostalCode</th>\n",
       "                        <td id=\"T_3ec89_row14_col0\" class=\"data row14 col0\" >0.00</td>\n",
       "            </tr>\n",
       "            <tr>\n",
       "                        <th id=\"T_3ec89_level0_row15\" class=\"row_heading level0 row15\" >LastSeen</th>\n",
       "                        <td id=\"T_3ec89_row15_col0\" class=\"data row15 col0\" >0.00</td>\n",
       "            </tr>\n",
       "    </tbody></table>"
      ],
      "text/plain": [
       "<pandas.io.formats.style.Styler at 0x7f1c7013c6a0>"
      ]
     },
     "metadata": {},
     "output_type": "display_data"
    },
    {
     "name": "stdout",
     "output_type": "stream",
     "text": [
      "########################\n",
      "Количество дупликатов в таблице: \n",
      " 4\n",
      "########################\n"
     ]
    }
   ],
   "source": [
    "check(data)"
   ]
  },
  {
   "cell_type": "code",
   "execution_count": 14,
   "metadata": {},
   "outputs": [],
   "source": [
    "start_len = len(data)"
   ]
  },
  {
   "cell_type": "code",
   "execution_count": 15,
   "metadata": {},
   "outputs": [
    {
     "data": {
      "text/html": [
       "<div>\n",
       "<style scoped>\n",
       "    .dataframe tbody tr th:only-of-type {\n",
       "        vertical-align: middle;\n",
       "    }\n",
       "\n",
       "    .dataframe tbody tr th {\n",
       "        vertical-align: top;\n",
       "    }\n",
       "\n",
       "    .dataframe thead th {\n",
       "        text-align: right;\n",
       "    }\n",
       "</style>\n",
       "<table border=\"1\" class=\"dataframe\">\n",
       "  <thead>\n",
       "    <tr style=\"text-align: right;\">\n",
       "      <th></th>\n",
       "      <th>Price</th>\n",
       "      <th>VehicleType</th>\n",
       "      <th>RegistrationYear</th>\n",
       "      <th>Gearbox</th>\n",
       "      <th>Power</th>\n",
       "      <th>Model</th>\n",
       "      <th>Kilometer</th>\n",
       "      <th>FuelType</th>\n",
       "      <th>Brand</th>\n",
       "      <th>Repaired</th>\n",
       "    </tr>\n",
       "  </thead>\n",
       "  <tbody>\n",
       "    <tr>\n",
       "      <th>0</th>\n",
       "      <td>480</td>\n",
       "      <td>NaN</td>\n",
       "      <td>1993</td>\n",
       "      <td>manual</td>\n",
       "      <td>0</td>\n",
       "      <td>golf</td>\n",
       "      <td>150000</td>\n",
       "      <td>petrol</td>\n",
       "      <td>volkswagen</td>\n",
       "      <td>NaN</td>\n",
       "    </tr>\n",
       "    <tr>\n",
       "      <th>1</th>\n",
       "      <td>18300</td>\n",
       "      <td>coupe</td>\n",
       "      <td>2011</td>\n",
       "      <td>manual</td>\n",
       "      <td>190</td>\n",
       "      <td>NaN</td>\n",
       "      <td>125000</td>\n",
       "      <td>gasoline</td>\n",
       "      <td>audi</td>\n",
       "      <td>yes</td>\n",
       "    </tr>\n",
       "    <tr>\n",
       "      <th>2</th>\n",
       "      <td>9800</td>\n",
       "      <td>suv</td>\n",
       "      <td>2004</td>\n",
       "      <td>auto</td>\n",
       "      <td>163</td>\n",
       "      <td>grand</td>\n",
       "      <td>125000</td>\n",
       "      <td>gasoline</td>\n",
       "      <td>jeep</td>\n",
       "      <td>NaN</td>\n",
       "    </tr>\n",
       "    <tr>\n",
       "      <th>3</th>\n",
       "      <td>1500</td>\n",
       "      <td>small</td>\n",
       "      <td>2001</td>\n",
       "      <td>manual</td>\n",
       "      <td>75</td>\n",
       "      <td>golf</td>\n",
       "      <td>150000</td>\n",
       "      <td>petrol</td>\n",
       "      <td>volkswagen</td>\n",
       "      <td>no</td>\n",
       "    </tr>\n",
       "    <tr>\n",
       "      <th>4</th>\n",
       "      <td>3600</td>\n",
       "      <td>small</td>\n",
       "      <td>2008</td>\n",
       "      <td>manual</td>\n",
       "      <td>69</td>\n",
       "      <td>fabia</td>\n",
       "      <td>90000</td>\n",
       "      <td>gasoline</td>\n",
       "      <td>skoda</td>\n",
       "      <td>no</td>\n",
       "    </tr>\n",
       "    <tr>\n",
       "      <th>...</th>\n",
       "      <td>...</td>\n",
       "      <td>...</td>\n",
       "      <td>...</td>\n",
       "      <td>...</td>\n",
       "      <td>...</td>\n",
       "      <td>...</td>\n",
       "      <td>...</td>\n",
       "      <td>...</td>\n",
       "      <td>...</td>\n",
       "      <td>...</td>\n",
       "    </tr>\n",
       "    <tr>\n",
       "      <th>354364</th>\n",
       "      <td>0</td>\n",
       "      <td>NaN</td>\n",
       "      <td>2005</td>\n",
       "      <td>manual</td>\n",
       "      <td>0</td>\n",
       "      <td>colt</td>\n",
       "      <td>150000</td>\n",
       "      <td>petrol</td>\n",
       "      <td>mitsubishi</td>\n",
       "      <td>yes</td>\n",
       "    </tr>\n",
       "    <tr>\n",
       "      <th>354365</th>\n",
       "      <td>2200</td>\n",
       "      <td>NaN</td>\n",
       "      <td>2005</td>\n",
       "      <td>NaN</td>\n",
       "      <td>0</td>\n",
       "      <td>NaN</td>\n",
       "      <td>20000</td>\n",
       "      <td>NaN</td>\n",
       "      <td>sonstige_autos</td>\n",
       "      <td>NaN</td>\n",
       "    </tr>\n",
       "    <tr>\n",
       "      <th>354366</th>\n",
       "      <td>1199</td>\n",
       "      <td>convertible</td>\n",
       "      <td>2000</td>\n",
       "      <td>auto</td>\n",
       "      <td>101</td>\n",
       "      <td>fortwo</td>\n",
       "      <td>125000</td>\n",
       "      <td>petrol</td>\n",
       "      <td>smart</td>\n",
       "      <td>no</td>\n",
       "    </tr>\n",
       "    <tr>\n",
       "      <th>354367</th>\n",
       "      <td>9200</td>\n",
       "      <td>bus</td>\n",
       "      <td>1996</td>\n",
       "      <td>manual</td>\n",
       "      <td>102</td>\n",
       "      <td>transporter</td>\n",
       "      <td>150000</td>\n",
       "      <td>gasoline</td>\n",
       "      <td>volkswagen</td>\n",
       "      <td>no</td>\n",
       "    </tr>\n",
       "    <tr>\n",
       "      <th>354368</th>\n",
       "      <td>3400</td>\n",
       "      <td>wagon</td>\n",
       "      <td>2002</td>\n",
       "      <td>manual</td>\n",
       "      <td>100</td>\n",
       "      <td>golf</td>\n",
       "      <td>150000</td>\n",
       "      <td>gasoline</td>\n",
       "      <td>volkswagen</td>\n",
       "      <td>NaN</td>\n",
       "    </tr>\n",
       "  </tbody>\n",
       "</table>\n",
       "<p>354369 rows × 10 columns</p>\n",
       "</div>"
      ],
      "text/plain": [
       "        Price  VehicleType  RegistrationYear Gearbox  Power        Model  \\\n",
       "0         480          NaN              1993  manual      0         golf   \n",
       "1       18300        coupe              2011  manual    190          NaN   \n",
       "2        9800          suv              2004    auto    163        grand   \n",
       "3        1500        small              2001  manual     75         golf   \n",
       "4        3600        small              2008  manual     69        fabia   \n",
       "...       ...          ...               ...     ...    ...          ...   \n",
       "354364      0          NaN              2005  manual      0         colt   \n",
       "354365   2200          NaN              2005     NaN      0          NaN   \n",
       "354366   1199  convertible              2000    auto    101       fortwo   \n",
       "354367   9200          bus              1996  manual    102  transporter   \n",
       "354368   3400        wagon              2002  manual    100         golf   \n",
       "\n",
       "        Kilometer  FuelType           Brand Repaired  \n",
       "0          150000    petrol      volkswagen      NaN  \n",
       "1          125000  gasoline            audi      yes  \n",
       "2          125000  gasoline            jeep      NaN  \n",
       "3          150000    petrol      volkswagen       no  \n",
       "4           90000  gasoline           skoda       no  \n",
       "...           ...       ...             ...      ...  \n",
       "354364     150000    petrol      mitsubishi      yes  \n",
       "354365      20000       NaN  sonstige_autos      NaN  \n",
       "354366     125000    petrol           smart       no  \n",
       "354367     150000  gasoline      volkswagen       no  \n",
       "354368     150000  gasoline      volkswagen      NaN  \n",
       "\n",
       "[354369 rows x 10 columns]"
      ]
     },
     "execution_count": 15,
     "metadata": {},
     "output_type": "execute_result"
    }
   ],
   "source": [
    "#Удалим ненужные для обучения столбцы\n",
    "data = data.drop(columns=['LastSeen', 'DateCrawled', 'RegistrationMonth', 'DateCreated', 'NumberOfPictures', 'PostalCode'])\n",
    "data"
   ]
  },
  {
   "cell_type": "code",
   "execution_count": 16,
   "metadata": {},
   "outputs": [],
   "source": [
    "data.columns = data.columns.str.lower()"
   ]
  },
  {
   "cell_type": "code",
   "execution_count": 17,
   "metadata": {},
   "outputs": [
    {
     "name": "stdout",
     "output_type": "stream",
     "text": [
      "price : [    0     1     2 ... 19998 19999 20000]\n",
      "\n"
     ]
    },
    {
     "data": {
      "image/png": "[encoded data removed]",
      "text/plain": [
       "<Figure size 432x288 with 1 Axes>"
      ]
     },
     "metadata": {
      "needs_background": "light"
     },
     "output_type": "display_data"
    },
    {
     "name": "stdout",
     "output_type": "stream",
     "text": [
      "vehicletype : ['bus' 'convertible' 'coupe' 'other' 'sedan' 'small' 'suv' 'wagon' nan]\n",
      "\n",
      "registrationyear : [1000 1001 1039 1111 1200 1234 1253 1255 1300 1400 1500 1600 1602 1688\n",
      " 1800 1910 1915 1919 1920 1923 1925 1927 1928 1929 1930 1931 1932 1933\n",
      " 1934 1935 1936 1937 1938 1940 1941 1942 1943 1944 1945 1946 1947 1948\n",
      " 1949 1950 1951 1952 1953 1954 1955 1956 1957 1958 1959 1960 1961 1962\n",
      " 1963 1964 1965 1966 1967 1968 1969 1970 1971 1972 1973 1974 1975 1976\n",
      " 1977 1978 1979 1980 1981 1982 1983 1984 1985 1986 1987 1988 1989 1990\n",
      " 1991 1992 1993 1994 1995 1996 1997 1998 1999 2000 2001 2002 2003 2004\n",
      " 2005 2006 2007 2008 2009 2010 2011 2012 2013 2014 2015 2016 2017 2018\n",
      " 2019 2066 2200 2222 2290 2500 2800 2900 3000 3200 3500 3700 3800 4000\n",
      " 4100 4500 4800 5000 5300 5555 5600 5900 5911 6000 6500 7000 7100 7500\n",
      " 7800 8000 8200 8455 8500 8888 9000 9229 9450 9996 9999]\n",
      "\n"
     ]
    },
    {
     "data": {
      "image/png": "[encoded data removed]",
      "text/plain": [
       "<Figure size 432x288 with 1 Axes>"
      ]
     },
     "metadata": {
      "needs_background": "light"
     },
     "output_type": "display_data"
    },
    {
     "name": "stdout",
     "output_type": "stream",
     "text": [
      "gearbox : ['auto' 'manual' nan]\n",
      "\n",
      "power : [    0     1     2     3     4     5     6     7     8     9    10    11\n",
      "    12    13    14    15    16    17    18    19    20    21    22    23\n",
      "    24    25    26    27    28    29    30    31    32    33    34    35\n",
      "    36    37    38    39    40    41    42    43    44    45    46    47\n",
      "    48    49    50    51    52    53    54    55    56    57    58    59\n",
      "    60    61    62    63    64    65    66    67    68    69    70    71\n",
      "    72    73    74    75    76    77    78    79    80    81    82    83\n",
      "    84    85    86    87    88    89    90    91    92    93    94    95\n",
      "    96    97    98    99   100   101   102   103   104   105   106   107\n",
      "   108   109   110   111   112   113   114   115   116   117   118   119\n",
      "   120   121   122   123   124   125   126   127   128   129   130   131\n",
      "   132   133   134   135   136   137   138   139   140   141   142   143\n",
      "   144   145   146   147   148   149   150   151   152   153   154   155\n",
      "   156   157   158   159   160   161   162   163   164   165   166   167\n",
      "   168   169   170   171   172   173   174   175   176   177   178   179\n",
      "   180   181   182   183   184   185   186   187   188   189   190   191\n",
      "   192   193   194   195   196   197   198   199   200   201   202   203\n",
      "   204   205   206   207   208   209   210   211   212   213   214   215\n",
      "   216   217   218   219   220   221   222   223   224   225   226   227\n",
      "   228   229   230   231   232   233   234   235   236   237   238   239\n",
      "   240   241   242   243   244   245   246   247   248   249   250   251\n",
      "   252   253   254   255   256   257   258   259   260   261   262   264\n",
      "   265   266   267   268   269   270   271   272   273   274   275   276\n",
      "   277   278   279   280   281   282   283   284   285   286   287   288\n",
      "   289   290   292   293   294   295   296   297   298   299   300   301\n",
      "   303   304   305   306   307   308   309   310   311   313   314   315\n",
      "   316   317   318   320   321   322   323   324   325   326   327   328\n",
      "   329   330   331   332   333   334   335   336   337   338   339   340\n",
      "   341   343   344   345   346   347   348   349   350   351   352   353\n",
      "   354   355   356   357   358   360   361   362   363   364   365   367\n",
      "   368   370   371   374   375   376   377   379   380   381   382   385\n",
      "   386   387   388   390   392   394   396   398   399   400   401   402\n",
      "   405   408   409   411   416   420   421   425   426   428   430   431\n",
      "   435   440   442   445   449   450   454   457   459   460   475   476\n",
      "   485   487   489   490   500   504   505   507   508   510   514   515\n",
      "   517   519   520   521   525   530   540   541   544   550   551   553\n",
      "   560   572   574   579   580   584   585   599   600   601   602   603\n",
      "   604   606   607   610   612   620   640   645   650   651   671   678\n",
      "   682   685   696   700   702   703   732   743   750   751   754   771\n",
      "   776   800   805   808   850   851   871   900   901   902   903   907\n",
      "   909   923   950   952   953   960   998   999  1000  1001  1002  1003\n",
      "  1004  1005  1011  1012  1016  1017  1021  1024  1054  1055  1056  1062\n",
      "  1079  1082  1090  1100  1102  1103  1105  1111  1115  1120  1149  1151\n",
      "  1158  1160  1162  1164  1199  1200  1202  1221  1223  1230  1239  1240\n",
      "  1241  1250  1252  1256  1275  1288  1299  1300  1312  1317  1324  1339\n",
      "  1351  1360  1362  1363  1367  1390  1394  1398  1399  1400  1401  1403\n",
      "  1405  1416  1432  1433  1436  1500  1501  1502  1503  1506  1521  1548\n",
      "  1595  1596  1597  1598  1600  1625  1631  1653  1659  1689  1700  1701\n",
      "  1703  1704  1707  1753  1771  1779  1780  1781  1783  1793  1796  1799\n",
      "  1800  1801  1870  1895  1896  1900  1910  1920  1922  1933  1937  1968\n",
      "  1986  1988  1992  1993  1995  1998  1999  2000  2004  2005  2007  2009\n",
      "  2016  2017  2018  2172  2200  2201  2331  2340  2389  2402  2461  2598\n",
      "  2729  2789  2792  2799  3000  3199  3454  3500  3750  4400  4507  4700\n",
      "  5000  5411  5420  5575  5809  5815  5867  6006  6010  6011  6012  6018\n",
      "  6045  6062  6226  6512  6920  7508  7511  7512  7515  7518  7529  7544\n",
      "  8011  8259  8404  8500  9000  9007  9010  9011  9012  9013  9710 10000\n",
      " 10110 10218 10311 10317 10520 10522 10710 10910 10912 11011 11025 11111\n",
      " 11509 11530 11635 12012 12510 12512 12684 13616 13636 14009 15001 15016\n",
      " 15017 15020 15033 16011 16051 16311 16312 17011 17019 17410 17700 17932\n",
      " 19208 19211 19312 20000]\n",
      "\n"
     ]
    },
    {
     "data": {
      "image/png": "[encoded data removed]",
      "text/plain": [
       "<Figure size 432x288 with 1 Axes>"
      ]
     },
     "metadata": {
      "needs_background": "light"
     },
     "output_type": "display_data"
    },
    {
     "name": "stdout",
     "output_type": "stream",
     "text": [
      "model : ['100' '145' '147' '156' '159' '1_reihe' '1er' '200' '2_reihe' '300c'\n",
      " '3_reihe' '3er' '4_reihe' '500' '5_reihe' '5er' '601' '6_reihe' '6er'\n",
      " '7er' '80' '850' '90' '900' '9000' '911' 'a1' 'a2' 'a3' 'a4' 'a5' 'a6'\n",
      " 'a8' 'a_klasse' 'accord' 'agila' 'alhambra' 'almera' 'altea' 'amarok'\n",
      " 'antara' 'arosa' 'astra' 'auris' 'avensis' 'aveo' 'aygo' 'b_klasse'\n",
      " 'b_max' 'beetle' 'berlingo' 'bora' 'boxster' 'bravo' 'c1' 'c2' 'c3' 'c4'\n",
      " 'c5' 'c_klasse' 'c_max' 'c_reihe' 'caddy' 'calibra' 'captiva' 'carisma'\n",
      " 'carnival' 'cayenne' 'cc' 'ceed' 'charade' 'cherokee' 'citigo' 'civic'\n",
      " 'cl' 'clio' 'clk' 'clubman' 'colt' 'combo' 'cooper' 'cordoba' 'corolla'\n",
      " 'corsa' 'cr_reihe' 'croma' 'crossfire' 'cuore' 'cx_reihe' 'defender'\n",
      " 'delta' 'discovery' 'doblo' 'ducato' 'duster' 'e_klasse' 'elefantino'\n",
      " 'eos' 'escort' 'espace' 'exeo' 'fabia' 'fiesta' 'focus' 'forester'\n",
      " 'forfour' 'fortwo' 'fox' 'freelander' 'fusion' 'g_klasse' 'galant'\n",
      " 'galaxy' 'getz' 'gl' 'glk' 'golf' 'grand' 'i3' 'i_reihe' 'ibiza'\n",
      " 'impreza' 'insignia' 'jazz' 'jetta' 'jimny' 'juke' 'justy' 'ka' 'kadett'\n",
      " 'kaefer' 'kalina' 'kalos' 'kangoo' 'kappa' 'kuga' 'laguna' 'lancer'\n",
      " 'lanos' 'legacy' 'leon' 'lodgy' 'logan' 'lupo' 'lybra' 'm_klasse'\n",
      " 'm_reihe' 'materia' 'matiz' 'megane' 'meriva' 'micra' 'mii' 'modus'\n",
      " 'mondeo' 'move' 'musa' 'mustang' 'mx_reihe' 'navara' 'niva' 'note'\n",
      " 'nubira' 'octavia' 'omega' 'one' 'other' 'outlander' 'pajero' 'panda'\n",
      " 'passat' 'phaeton' 'picanto' 'polo' 'primera' 'ptcruiser' 'punto' 'q3'\n",
      " 'q5' 'q7' 'qashqai' 'r19' 'range_rover' 'range_rover_evoque'\n",
      " 'range_rover_sport' 'rangerover' 'rav' 'rio' 'roadster' 'roomster'\n",
      " 'rx_reihe' 's60' 's_klasse' 's_max' 's_type' 'samara' 'sandero' 'santa'\n",
      " 'scenic' 'scirocco' 'seicento' 'serie_1' 'serie_2' 'serie_3' 'sharan'\n",
      " 'signum' 'sirion' 'sl' 'slk' 'sorento' 'spark' 'spider' 'sportage'\n",
      " 'sprinter' 'stilo' 'superb' 'swift' 'terios' 'tigra' 'tiguan' 'toledo'\n",
      " 'touareg' 'touran' 'transit' 'transporter' 'tt' 'tucson' 'twingo' 'up'\n",
      " 'v40' 'v50' 'v60' 'v70' 'v_klasse' 'vectra' 'verso' 'viano' 'vito'\n",
      " 'vivaro' 'voyager' 'wrangler' 'x_reihe' 'x_trail' 'x_type' 'xc_reihe'\n",
      " 'yaris' 'yeti' 'ypsilon' 'z_reihe' 'zafira' nan]\n",
      "\n",
      "kilometer : [  5000  10000  20000  30000  40000  50000  60000  70000  80000  90000\n",
      " 100000 125000 150000]\n",
      "\n"
     ]
    },
    {
     "data": {
      "image/png": "[encoded data removed]",
      "text/plain": [
       "<Figure size 432x288 with 1 Axes>"
      ]
     },
     "metadata": {
      "needs_background": "light"
     },
     "output_type": "display_data"
    },
    {
     "name": "stdout",
     "output_type": "stream",
     "text": [
      "fueltype : ['cng' 'electric' 'gasoline' 'hybrid' 'lpg' 'other' 'petrol' nan]\n",
      "\n",
      "brand : ['alfa_romeo' 'audi' 'bmw' 'chevrolet' 'chrysler' 'citroen' 'dacia'\n",
      " 'daewoo' 'daihatsu' 'fiat' 'ford' 'honda' 'hyundai' 'jaguar' 'jeep' 'kia'\n",
      " 'lada' 'lancia' 'land_rover' 'mazda' 'mercedes_benz' 'mini' 'mitsubishi'\n",
      " 'nissan' 'opel' 'peugeot' 'porsche' 'renault' 'rover' 'saab' 'seat'\n",
      " 'skoda' 'smart' 'sonstige_autos' 'subaru' 'suzuki' 'toyota' 'trabant'\n",
      " 'volkswagen' 'volvo']\n",
      "\n",
      "repaired : ['no' 'yes' nan]\n",
      "\n"
     ]
    }
   ],
   "source": [
    "#Посмотрим значения в колонках\n",
    "def inf(col):\n",
    "    for i in col:\n",
    "        print(i, ':', data[i].sort_values().unique())\n",
    "        print()\n",
    "        if data[i].dtypes == 'int64':\n",
    "            plt.boxplot(data[i])\n",
    "            plt.show()\n",
    "    \n",
    "inf(data.columns)\n"
   ]
  },
  {
   "cell_type": "markdown",
   "metadata": {},
   "source": [
    "Видно, что есть цены 0 и ниже 100 евро за машину, что маловероятно. В столбцах registrationyear, power есть аномальные значения В столбцах vehicletype, gearbox, model, fueltype, notrepaired заполним nan unknown"
   ]
  },
  {
   "cell_type": "code",
   "execution_count": 18,
   "metadata": {},
   "outputs": [],
   "source": [
    "def fill(column):\n",
    "    for i in column:\n",
    "        data[i] = data[i].fillna('unknown')\n",
    "fill(['vehicletype', 'repaired', 'fueltype', 'gearbox', 'model'])"
   ]
  },
  {
   "cell_type": "code",
   "execution_count": 19,
   "metadata": {},
   "outputs": [
    {
     "name": "stdout",
     "output_type": "stream",
     "text": [
      "Первые пять строк: \n",
      "    price vehicletype  registrationyear gearbox  power    model  kilometer  \\\n",
      "0    480     unknown              1993  manual      0     golf     150000   \n",
      "1  18300       coupe              2011  manual    190  unknown     125000   \n",
      "2   9800         suv              2004    auto    163    grand     125000   \n",
      "3   1500       small              2001  manual     75     golf     150000   \n",
      "4   3600       small              2008  manual     69    fabia      90000   \n",
      "\n",
      "   fueltype       brand repaired  \n",
      "0    petrol  volkswagen  unknown  \n",
      "1  gasoline        audi      yes  \n",
      "2  gasoline        jeep  unknown  \n",
      "3    petrol  volkswagen       no  \n",
      "4  gasoline       skoda       no  \n",
      "########################\n",
      "<class 'pandas.core.frame.DataFrame'>\n",
      "RangeIndex: 354369 entries, 0 to 354368\n",
      "Data columns (total 10 columns):\n",
      " #   Column            Non-Null Count   Dtype \n",
      "---  ------            --------------   ----- \n",
      " 0   price             354369 non-null  int64 \n",
      " 1   vehicletype       354369 non-null  object\n",
      " 2   registrationyear  354369 non-null  int64 \n",
      " 3   gearbox           354369 non-null  object\n",
      " 4   power             354369 non-null  int64 \n",
      " 5   model             354369 non-null  object\n",
      " 6   kilometer         354369 non-null  int64 \n",
      " 7   fueltype          354369 non-null  object\n",
      " 8   brand             354369 non-null  object\n",
      " 9   repaired          354369 non-null  object\n",
      "dtypes: int64(4), object(6)\n",
      "memory usage: 27.0+ MB\n",
      "Информация о талице: \n",
      " None\n",
      "########################\n",
      "Описание данных: \n",
      "                price  registrationyear          power      kilometer\n",
      "count  354369.000000     354369.000000  354369.000000  354369.000000\n",
      "mean     4416.656776       2004.234448     110.094337  128211.172535\n",
      "std      4514.158514         90.227958     189.850405   37905.341530\n",
      "min         0.000000       1000.000000       0.000000    5000.000000\n",
      "25%      1050.000000       1999.000000      69.000000  125000.000000\n",
      "50%      2700.000000       2003.000000     105.000000  150000.000000\n",
      "75%      6400.000000       2008.000000     143.000000  150000.000000\n",
      "max     20000.000000       9999.000000   20000.000000  150000.000000\n",
      "########################\n"
     ]
    },
    {
     "data": {
      "text/html": [
       "<style  type=\"text/css\" >\n",
       "#T_7db0d_row0_col0,#T_7db0d_row1_col0,#T_7db0d_row2_col0,#T_7db0d_row3_col0,#T_7db0d_row4_col0,#T_7db0d_row5_col0,#T_7db0d_row6_col0,#T_7db0d_row7_col0,#T_7db0d_row8_col0,#T_7db0d_row9_col0{\n",
       "            background-color:  #3b4cc0;\n",
       "            color:  #f1f1f1;\n",
       "        }</style><table id=\"T_7db0d_\" ><thead>    <tr>        <th class=\"blank level0\" ></th>        <th class=\"col_heading level0 col0\" >NaNs, %</th>    </tr></thead><tbody>\n",
       "                <tr>\n",
       "                        <th id=\"T_7db0d_level0_row0\" class=\"row_heading level0 row0\" >price</th>\n",
       "                        <td id=\"T_7db0d_row0_col0\" class=\"data row0 col0\" >0.00</td>\n",
       "            </tr>\n",
       "            <tr>\n",
       "                        <th id=\"T_7db0d_level0_row1\" class=\"row_heading level0 row1\" >vehicletype</th>\n",
       "                        <td id=\"T_7db0d_row1_col0\" class=\"data row1 col0\" >0.00</td>\n",
       "            </tr>\n",
       "            <tr>\n",
       "                        <th id=\"T_7db0d_level0_row2\" class=\"row_heading level0 row2\" >registrationyear</th>\n",
       "                        <td id=\"T_7db0d_row2_col0\" class=\"data row2 col0\" >0.00</td>\n",
       "            </tr>\n",
       "            <tr>\n",
       "                        <th id=\"T_7db0d_level0_row3\" class=\"row_heading level0 row3\" >gearbox</th>\n",
       "                        <td id=\"T_7db0d_row3_col0\" class=\"data row3 col0\" >0.00</td>\n",
       "            </tr>\n",
       "            <tr>\n",
       "                        <th id=\"T_7db0d_level0_row4\" class=\"row_heading level0 row4\" >power</th>\n",
       "                        <td id=\"T_7db0d_row4_col0\" class=\"data row4 col0\" >0.00</td>\n",
       "            </tr>\n",
       "            <tr>\n",
       "                        <th id=\"T_7db0d_level0_row5\" class=\"row_heading level0 row5\" >model</th>\n",
       "                        <td id=\"T_7db0d_row5_col0\" class=\"data row5 col0\" >0.00</td>\n",
       "            </tr>\n",
       "            <tr>\n",
       "                        <th id=\"T_7db0d_level0_row6\" class=\"row_heading level0 row6\" >kilometer</th>\n",
       "                        <td id=\"T_7db0d_row6_col0\" class=\"data row6 col0\" >0.00</td>\n",
       "            </tr>\n",
       "            <tr>\n",
       "                        <th id=\"T_7db0d_level0_row7\" class=\"row_heading level0 row7\" >fueltype</th>\n",
       "                        <td id=\"T_7db0d_row7_col0\" class=\"data row7 col0\" >0.00</td>\n",
       "            </tr>\n",
       "            <tr>\n",
       "                        <th id=\"T_7db0d_level0_row8\" class=\"row_heading level0 row8\" >brand</th>\n",
       "                        <td id=\"T_7db0d_row8_col0\" class=\"data row8 col0\" >0.00</td>\n",
       "            </tr>\n",
       "            <tr>\n",
       "                        <th id=\"T_7db0d_level0_row9\" class=\"row_heading level0 row9\" >repaired</th>\n",
       "                        <td id=\"T_7db0d_row9_col0\" class=\"data row9 col0\" >0.00</td>\n",
       "            </tr>\n",
       "    </tbody></table>"
      ],
      "text/plain": [
       "<pandas.io.formats.style.Styler at 0x7f1be0d67cd0>"
      ]
     },
     "metadata": {},
     "output_type": "display_data"
    },
    {
     "name": "stdout",
     "output_type": "stream",
     "text": [
      "########################\n",
      "Количество дупликатов в таблице: \n",
      " 45040\n",
      "########################\n"
     ]
    }
   ],
   "source": [
    "check(data)"
   ]
  },
  {
   "cell_type": "code",
   "execution_count": 20,
   "metadata": {},
   "outputs": [],
   "source": [
    "data = data.drop_duplicates()"
   ]
  },
  {
   "cell_type": "code",
   "execution_count": 21,
   "metadata": {},
   "outputs": [
    {
     "data": {
      "text/plain": [
       "0        8904\n",
       "1        1075\n",
       "2          12\n",
       "3           7\n",
       "4           1\n",
       "         ... \n",
       "19995       9\n",
       "19997       1\n",
       "19998       5\n",
       "19999     252\n",
       "20000     223\n",
       "Name: price, Length: 3731, dtype: int64"
      ]
     },
     "execution_count": 21,
     "metadata": {},
     "output_type": "execute_result"
    }
   ],
   "source": [
    "data['price'].value_counts().sort_index()"
   ]
  },
  {
   "cell_type": "markdown",
   "metadata": {},
   "source": [
    "Видим, что много значений 0, и около него, так что рассмотрим до 100 евро"
   ]
  },
  {
   "cell_type": "code",
   "execution_count": 22,
   "metadata": {},
   "outputs": [
    {
     "data": {
      "text/plain": [
       "0    8904\n",
       "1    1075\n",
       "2      12\n",
       "3       7\n",
       "4       1\n",
       "Name: price, dtype: int64"
      ]
     },
     "execution_count": 22,
     "metadata": {},
     "output_type": "execute_result"
    }
   ],
   "source": [
    "data[data['price']<100]['price'].value_counts().sort_index().head()"
   ]
  },
  {
   "cell_type": "code",
   "execution_count": 23,
   "metadata": {
    "scrolled": true
   },
   "outputs": [
    {
     "data": {
      "image/png": "[encoded data removed]",
      "text/plain": [
       "<Figure size 432x288 with 1 Axes>"
      ]
     },
     "metadata": {
      "needs_background": "light"
     },
     "output_type": "display_data"
    }
   ],
   "source": [
    "data[data['price']<100]['price'].hist(bins = 100);"
   ]
  },
  {
   "cell_type": "code",
   "execution_count": 24,
   "metadata": {},
   "outputs": [],
   "source": [
    "#Удалим строки, где price <1\n",
    "data = data[data['price']>1]"
   ]
  },
  {
   "cell_type": "code",
   "execution_count": 25,
   "metadata": {},
   "outputs": [
    {
     "data": {
      "text/plain": [
       "0        32552\n",
       "1           24\n",
       "2            9\n",
       "3            9\n",
       "4           26\n",
       "         ...  \n",
       "17932        1\n",
       "19208        1\n",
       "19211        1\n",
       "19312        1\n",
       "20000        1\n",
       "Name: power, Length: 698, dtype: int64"
      ]
     },
     "execution_count": 25,
     "metadata": {},
     "output_type": "execute_result"
    }
   ],
   "source": [
    "data['power'].value_counts().sort_index()"
   ]
  },
  {
   "cell_type": "markdown",
   "metadata": {},
   "source": [
    "Видим, что много строк, где мощность равна нулю или около него, так же есть выборы, где мощность более 1000"
   ]
  },
  {
   "cell_type": "code",
   "execution_count": 26,
   "metadata": {},
   "outputs": [
    {
     "data": {
      "image/png": "[encoded data removed]",
      "text/plain": [
       "<Figure size 432x288 with 1 Axes>"
      ]
     },
     "metadata": {
      "needs_background": "light"
     },
     "output_type": "display_data"
    }
   ],
   "source": [
    "data[data['power']<1000]['power'].hist(bins = 30);"
   ]
  },
  {
   "cell_type": "markdown",
   "metadata": {},
   "source": [
    "Видим, что больше 450 мощности - это выбросы"
   ]
  },
  {
   "cell_type": "code",
   "execution_count": 27,
   "metadata": {},
   "outputs": [
    {
     "data": {
      "text/plain": [
       "33232"
      ]
     },
     "execution_count": 27,
     "metadata": {},
     "output_type": "execute_result"
    }
   ],
   "source": [
    "#Количество строк с мощностью меньше 10 и больше 450\n",
    "len(data[(data['power']>450) | (data['power']<10)]['power'])"
   ]
  },
  {
   "cell_type": "code",
   "execution_count": 28,
   "metadata": {
    "scrolled": true
   },
   "outputs": [
    {
     "data": {
      "image/png": "[encoded data removed]",
      "text/plain": [
       "<Figure size 432x288 with 1 Axes>"
      ]
     },
     "metadata": {
      "needs_background": "light"
     },
     "output_type": "display_data"
    }
   ],
   "source": [
    "data = data[(data['power']<500) & (data['power']>10)]\n",
    "plt.boxplot(data['power'])\n",
    "plt.show()"
   ]
  },
  {
   "cell_type": "code",
   "execution_count": 29,
   "metadata": {},
   "outputs": [
    {
     "data": {
      "text/plain": [
       "1000    2\n",
       "1234    1\n",
       "1500    1\n",
       "1800    2\n",
       "1910    5\n",
       "       ..\n",
       "5000    6\n",
       "5911    1\n",
       "6000    2\n",
       "8200    1\n",
       "9999    1\n",
       "Name: registrationyear, Length: 105, dtype: int64"
      ]
     },
     "execution_count": 29,
     "metadata": {},
     "output_type": "execute_result"
    }
   ],
   "source": [
    "data['registrationyear'].value_counts().sort_index()"
   ]
  },
  {
   "cell_type": "code",
   "execution_count": 30,
   "metadata": {},
   "outputs": [
    {
     "data": {
      "image/png": "[encoded data removed]",
      "text/plain": [
       "<Figure size 432x288 with 1 Axes>"
      ]
     },
     "metadata": {
      "needs_background": "light"
     },
     "output_type": "display_data"
    }
   ],
   "source": [
    "data[(data['registrationyear']>1950) & (data['registrationyear']<2022)]['registrationyear'].hist(bins = 90);"
   ]
  },
  {
   "cell_type": "code",
   "execution_count": 31,
   "metadata": {},
   "outputs": [],
   "source": [
    "data = data[(data['registrationyear']>1960) & (data['registrationyear']<2016)]"
   ]
  },
  {
   "cell_type": "code",
   "execution_count": 32,
   "metadata": {},
   "outputs": [
    {
     "name": "stdout",
     "output_type": "stream",
     "text": [
      "Первые пять строк: \n",
      "    price vehicletype  registrationyear gearbox  power    model  kilometer  \\\n",
      "1  18300       coupe              2011  manual    190  unknown     125000   \n",
      "2   9800         suv              2004    auto    163    grand     125000   \n",
      "3   1500       small              2001  manual     75     golf     150000   \n",
      "4   3600       small              2008  manual     69    fabia      90000   \n",
      "5    650       sedan              1995  manual    102      3er     150000   \n",
      "\n",
      "   fueltype       brand repaired  \n",
      "1  gasoline        audi      yes  \n",
      "2  gasoline        jeep  unknown  \n",
      "3    petrol  volkswagen       no  \n",
      "4  gasoline       skoda       no  \n",
      "5    petrol         bmw      yes  \n",
      "########################\n",
      "<class 'pandas.core.frame.DataFrame'>\n",
      "Int64Index: 250378 entries, 1 to 354368\n",
      "Data columns (total 10 columns):\n",
      " #   Column            Non-Null Count   Dtype \n",
      "---  ------            --------------   ----- \n",
      " 0   price             250378 non-null  int64 \n",
      " 1   vehicletype       250378 non-null  object\n",
      " 2   registrationyear  250378 non-null  int64 \n",
      " 3   gearbox           250378 non-null  object\n",
      " 4   power             250378 non-null  int64 \n",
      " 5   model             250378 non-null  object\n",
      " 6   kilometer         250378 non-null  int64 \n",
      " 7   fueltype          250378 non-null  object\n",
      " 8   brand             250378 non-null  object\n",
      " 9   repaired          250378 non-null  object\n",
      "dtypes: int64(4), object(6)\n",
      "memory usage: 21.0+ MB\n",
      "Информация о талице: \n",
      " None\n",
      "########################\n",
      "Описание данных: \n",
      "                price  registrationyear          power      kilometer\n",
      "count  250378.000000     250378.000000  250378.000000  250378.000000\n",
      "mean     5004.372788       2002.597257     121.920344  127155.061547\n",
      "std      4670.352046          6.297288      53.656258   37356.178840\n",
      "min         2.000000       1961.000000      11.000000    5000.000000\n",
      "25%      1400.000000       1999.000000      80.000000  125000.000000\n",
      "50%      3350.000000       2003.000000     115.000000  150000.000000\n",
      "75%      7250.000000       2007.000000     150.000000  150000.000000\n",
      "max     20000.000000       2015.000000     490.000000  150000.000000\n",
      "########################\n"
     ]
    },
    {
     "data": {
      "text/html": [
       "<style  type=\"text/css\" >\n",
       "#T_84f3f_row0_col0,#T_84f3f_row1_col0,#T_84f3f_row2_col0,#T_84f3f_row3_col0,#T_84f3f_row4_col0,#T_84f3f_row5_col0,#T_84f3f_row6_col0,#T_84f3f_row7_col0,#T_84f3f_row8_col0,#T_84f3f_row9_col0{\n",
       "            background-color:  #3b4cc0;\n",
       "            color:  #f1f1f1;\n",
       "        }</style><table id=\"T_84f3f_\" ><thead>    <tr>        <th class=\"blank level0\" ></th>        <th class=\"col_heading level0 col0\" >NaNs, %</th>    </tr></thead><tbody>\n",
       "                <tr>\n",
       "                        <th id=\"T_84f3f_level0_row0\" class=\"row_heading level0 row0\" >price</th>\n",
       "                        <td id=\"T_84f3f_row0_col0\" class=\"data row0 col0\" >0.00</td>\n",
       "            </tr>\n",
       "            <tr>\n",
       "                        <th id=\"T_84f3f_level0_row1\" class=\"row_heading level0 row1\" >vehicletype</th>\n",
       "                        <td id=\"T_84f3f_row1_col0\" class=\"data row1 col0\" >0.00</td>\n",
       "            </tr>\n",
       "            <tr>\n",
       "                        <th id=\"T_84f3f_level0_row2\" class=\"row_heading level0 row2\" >registrationyear</th>\n",
       "                        <td id=\"T_84f3f_row2_col0\" class=\"data row2 col0\" >0.00</td>\n",
       "            </tr>\n",
       "            <tr>\n",
       "                        <th id=\"T_84f3f_level0_row3\" class=\"row_heading level0 row3\" >gearbox</th>\n",
       "                        <td id=\"T_84f3f_row3_col0\" class=\"data row3 col0\" >0.00</td>\n",
       "            </tr>\n",
       "            <tr>\n",
       "                        <th id=\"T_84f3f_level0_row4\" class=\"row_heading level0 row4\" >power</th>\n",
       "                        <td id=\"T_84f3f_row4_col0\" class=\"data row4 col0\" >0.00</td>\n",
       "            </tr>\n",
       "            <tr>\n",
       "                        <th id=\"T_84f3f_level0_row5\" class=\"row_heading level0 row5\" >model</th>\n",
       "                        <td id=\"T_84f3f_row5_col0\" class=\"data row5 col0\" >0.00</td>\n",
       "            </tr>\n",
       "            <tr>\n",
       "                        <th id=\"T_84f3f_level0_row6\" class=\"row_heading level0 row6\" >kilometer</th>\n",
       "                        <td id=\"T_84f3f_row6_col0\" class=\"data row6 col0\" >0.00</td>\n",
       "            </tr>\n",
       "            <tr>\n",
       "                        <th id=\"T_84f3f_level0_row7\" class=\"row_heading level0 row7\" >fueltype</th>\n",
       "                        <td id=\"T_84f3f_row7_col0\" class=\"data row7 col0\" >0.00</td>\n",
       "            </tr>\n",
       "            <tr>\n",
       "                        <th id=\"T_84f3f_level0_row8\" class=\"row_heading level0 row8\" >brand</th>\n",
       "                        <td id=\"T_84f3f_row8_col0\" class=\"data row8 col0\" >0.00</td>\n",
       "            </tr>\n",
       "            <tr>\n",
       "                        <th id=\"T_84f3f_level0_row9\" class=\"row_heading level0 row9\" >repaired</th>\n",
       "                        <td id=\"T_84f3f_row9_col0\" class=\"data row9 col0\" >0.00</td>\n",
       "            </tr>\n",
       "    </tbody></table>"
      ],
      "text/plain": [
       "<pandas.io.formats.style.Styler at 0x7f1be0f25eb0>"
      ]
     },
     "metadata": {},
     "output_type": "display_data"
    },
    {
     "name": "stdout",
     "output_type": "stream",
     "text": [
      "########################\n",
      "Количество дупликатов в таблице: \n",
      " 0\n",
      "########################\n"
     ]
    }
   ],
   "source": [
    "check(data)"
   ]
  },
  {
   "cell_type": "code",
   "execution_count": 33,
   "metadata": {
    "scrolled": true
   },
   "outputs": [
    {
     "name": "stdout",
     "output_type": "stream",
     "text": [
      "Удалено данных: 29.35% или 103991 строк\n"
     ]
    }
   ],
   "source": [
    "print('Удалено данных:', f\"{1-len(data)/start_len:.2%}\", 'или', start_len- len(data), 'строк')"
   ]
  },
  {
   "cell_type": "markdown",
   "metadata": {},
   "source": [
    "### Подготовка к обучению"
   ]
  },
  {
   "cell_type": "markdown",
   "metadata": {},
   "source": [
    "Так как в столбце model много значений, то преобразуем его методом ordinal, а остальные методом OHE"
   ]
  },
  {
   "cell_type": "code",
   "execution_count": 25,
   "metadata": {
    "scrolled": true
   },
   "outputs": [],
   "source": [
    "#Преобразуем столбец model\n",
    "encoder = OrdinalEncoder()\n",
    "encoder.fit(data[['model']])\n",
    "data['model'] = encoder.transform(data[['model']])"
   ]
  },
  {
   "cell_type": "code",
   "execution_count": 26,
   "metadata": {},
   "outputs": [
    {
     "data": {
      "text/html": [
       "<div>\n",
       "<style scoped>\n",
       "    .dataframe tbody tr th:only-of-type {\n",
       "        vertical-align: middle;\n",
       "    }\n",
       "\n",
       "    .dataframe tbody tr th {\n",
       "        vertical-align: top;\n",
       "    }\n",
       "\n",
       "    .dataframe thead th {\n",
       "        text-align: right;\n",
       "    }\n",
       "</style>\n",
       "<table border=\"1\" class=\"dataframe\">\n",
       "  <thead>\n",
       "    <tr style=\"text-align: right;\">\n",
       "      <th></th>\n",
       "      <th>price</th>\n",
       "      <th>registrationyear</th>\n",
       "      <th>power</th>\n",
       "      <th>model</th>\n",
       "      <th>kilometer</th>\n",
       "      <th>vehicletype_convertible</th>\n",
       "      <th>vehicletype_coupe</th>\n",
       "      <th>vehicletype_other</th>\n",
       "      <th>vehicletype_sedan</th>\n",
       "      <th>vehicletype_small</th>\n",
       "      <th>...</th>\n",
       "      <th>brand_smart</th>\n",
       "      <th>brand_sonstige_autos</th>\n",
       "      <th>brand_subaru</th>\n",
       "      <th>brand_suzuki</th>\n",
       "      <th>brand_toyota</th>\n",
       "      <th>brand_trabant</th>\n",
       "      <th>brand_volkswagen</th>\n",
       "      <th>brand_volvo</th>\n",
       "      <th>notrepaired_unknown</th>\n",
       "      <th>notrepaired_yes</th>\n",
       "    </tr>\n",
       "  </thead>\n",
       "  <tbody>\n",
       "    <tr>\n",
       "      <th>1</th>\n",
       "      <td>18300</td>\n",
       "      <td>2011</td>\n",
       "      <td>190</td>\n",
       "      <td>227.0</td>\n",
       "      <td>125000</td>\n",
       "      <td>0</td>\n",
       "      <td>1</td>\n",
       "      <td>0</td>\n",
       "      <td>0</td>\n",
       "      <td>0</td>\n",
       "      <td>...</td>\n",
       "      <td>0</td>\n",
       "      <td>0</td>\n",
       "      <td>0</td>\n",
       "      <td>0</td>\n",
       "      <td>0</td>\n",
       "      <td>0</td>\n",
       "      <td>0</td>\n",
       "      <td>0</td>\n",
       "      <td>0</td>\n",
       "      <td>1</td>\n",
       "    </tr>\n",
       "    <tr>\n",
       "      <th>2</th>\n",
       "      <td>9800</td>\n",
       "      <td>2004</td>\n",
       "      <td>163</td>\n",
       "      <td>117.0</td>\n",
       "      <td>125000</td>\n",
       "      <td>0</td>\n",
       "      <td>0</td>\n",
       "      <td>0</td>\n",
       "      <td>0</td>\n",
       "      <td>0</td>\n",
       "      <td>...</td>\n",
       "      <td>0</td>\n",
       "      <td>0</td>\n",
       "      <td>0</td>\n",
       "      <td>0</td>\n",
       "      <td>0</td>\n",
       "      <td>0</td>\n",
       "      <td>0</td>\n",
       "      <td>0</td>\n",
       "      <td>1</td>\n",
       "      <td>0</td>\n",
       "    </tr>\n",
       "    <tr>\n",
       "      <th>3</th>\n",
       "      <td>1500</td>\n",
       "      <td>2001</td>\n",
       "      <td>75</td>\n",
       "      <td>116.0</td>\n",
       "      <td>150000</td>\n",
       "      <td>0</td>\n",
       "      <td>0</td>\n",
       "      <td>0</td>\n",
       "      <td>0</td>\n",
       "      <td>1</td>\n",
       "      <td>...</td>\n",
       "      <td>0</td>\n",
       "      <td>0</td>\n",
       "      <td>0</td>\n",
       "      <td>0</td>\n",
       "      <td>0</td>\n",
       "      <td>0</td>\n",
       "      <td>1</td>\n",
       "      <td>0</td>\n",
       "      <td>0</td>\n",
       "      <td>0</td>\n",
       "    </tr>\n",
       "    <tr>\n",
       "      <th>4</th>\n",
       "      <td>3600</td>\n",
       "      <td>2008</td>\n",
       "      <td>69</td>\n",
       "      <td>101.0</td>\n",
       "      <td>90000</td>\n",
       "      <td>0</td>\n",
       "      <td>0</td>\n",
       "      <td>0</td>\n",
       "      <td>0</td>\n",
       "      <td>1</td>\n",
       "      <td>...</td>\n",
       "      <td>0</td>\n",
       "      <td>0</td>\n",
       "      <td>0</td>\n",
       "      <td>0</td>\n",
       "      <td>0</td>\n",
       "      <td>0</td>\n",
       "      <td>0</td>\n",
       "      <td>0</td>\n",
       "      <td>0</td>\n",
       "      <td>0</td>\n",
       "    </tr>\n",
       "    <tr>\n",
       "      <th>5</th>\n",
       "      <td>650</td>\n",
       "      <td>1995</td>\n",
       "      <td>102</td>\n",
       "      <td>11.0</td>\n",
       "      <td>150000</td>\n",
       "      <td>0</td>\n",
       "      <td>0</td>\n",
       "      <td>0</td>\n",
       "      <td>1</td>\n",
       "      <td>0</td>\n",
       "      <td>...</td>\n",
       "      <td>0</td>\n",
       "      <td>0</td>\n",
       "      <td>0</td>\n",
       "      <td>0</td>\n",
       "      <td>0</td>\n",
       "      <td>0</td>\n",
       "      <td>0</td>\n",
       "      <td>0</td>\n",
       "      <td>0</td>\n",
       "      <td>1</td>\n",
       "    </tr>\n",
       "    <tr>\n",
       "      <th>...</th>\n",
       "      <td>...</td>\n",
       "      <td>...</td>\n",
       "      <td>...</td>\n",
       "      <td>...</td>\n",
       "      <td>...</td>\n",
       "      <td>...</td>\n",
       "      <td>...</td>\n",
       "      <td>...</td>\n",
       "      <td>...</td>\n",
       "      <td>...</td>\n",
       "      <td>...</td>\n",
       "      <td>...</td>\n",
       "      <td>...</td>\n",
       "      <td>...</td>\n",
       "      <td>...</td>\n",
       "      <td>...</td>\n",
       "      <td>...</td>\n",
       "      <td>...</td>\n",
       "      <td>...</td>\n",
       "      <td>...</td>\n",
       "      <td>...</td>\n",
       "    </tr>\n",
       "    <tr>\n",
       "      <th>354357</th>\n",
       "      <td>1690</td>\n",
       "      <td>2004</td>\n",
       "      <td>55</td>\n",
       "      <td>101.0</td>\n",
       "      <td>150000</td>\n",
       "      <td>0</td>\n",
       "      <td>0</td>\n",
       "      <td>0</td>\n",
       "      <td>0</td>\n",
       "      <td>0</td>\n",
       "      <td>...</td>\n",
       "      <td>0</td>\n",
       "      <td>0</td>\n",
       "      <td>0</td>\n",
       "      <td>0</td>\n",
       "      <td>0</td>\n",
       "      <td>0</td>\n",
       "      <td>0</td>\n",
       "      <td>0</td>\n",
       "      <td>1</td>\n",
       "      <td>0</td>\n",
       "    </tr>\n",
       "    <tr>\n",
       "      <th>354362</th>\n",
       "      <td>3200</td>\n",
       "      <td>2004</td>\n",
       "      <td>225</td>\n",
       "      <td>140.0</td>\n",
       "      <td>150000</td>\n",
       "      <td>0</td>\n",
       "      <td>0</td>\n",
       "      <td>0</td>\n",
       "      <td>1</td>\n",
       "      <td>0</td>\n",
       "      <td>...</td>\n",
       "      <td>0</td>\n",
       "      <td>0</td>\n",
       "      <td>0</td>\n",
       "      <td>0</td>\n",
       "      <td>0</td>\n",
       "      <td>0</td>\n",
       "      <td>0</td>\n",
       "      <td>0</td>\n",
       "      <td>0</td>\n",
       "      <td>1</td>\n",
       "    </tr>\n",
       "    <tr>\n",
       "      <th>354366</th>\n",
       "      <td>1199</td>\n",
       "      <td>2000</td>\n",
       "      <td>101</td>\n",
       "      <td>106.0</td>\n",
       "      <td>125000</td>\n",
       "      <td>1</td>\n",
       "      <td>0</td>\n",
       "      <td>0</td>\n",
       "      <td>0</td>\n",
       "      <td>0</td>\n",
       "      <td>...</td>\n",
       "      <td>1</td>\n",
       "      <td>0</td>\n",
       "      <td>0</td>\n",
       "      <td>0</td>\n",
       "      <td>0</td>\n",
       "      <td>0</td>\n",
       "      <td>0</td>\n",
       "      <td>0</td>\n",
       "      <td>0</td>\n",
       "      <td>0</td>\n",
       "    </tr>\n",
       "    <tr>\n",
       "      <th>354367</th>\n",
       "      <td>9200</td>\n",
       "      <td>1996</td>\n",
       "      <td>102</td>\n",
       "      <td>223.0</td>\n",
       "      <td>150000</td>\n",
       "      <td>0</td>\n",
       "      <td>0</td>\n",
       "      <td>0</td>\n",
       "      <td>0</td>\n",
       "      <td>0</td>\n",
       "      <td>...</td>\n",
       "      <td>0</td>\n",
       "      <td>0</td>\n",
       "      <td>0</td>\n",
       "      <td>0</td>\n",
       "      <td>0</td>\n",
       "      <td>0</td>\n",
       "      <td>1</td>\n",
       "      <td>0</td>\n",
       "      <td>0</td>\n",
       "      <td>0</td>\n",
       "    </tr>\n",
       "    <tr>\n",
       "      <th>354368</th>\n",
       "      <td>3400</td>\n",
       "      <td>2002</td>\n",
       "      <td>100</td>\n",
       "      <td>116.0</td>\n",
       "      <td>150000</td>\n",
       "      <td>0</td>\n",
       "      <td>0</td>\n",
       "      <td>0</td>\n",
       "      <td>0</td>\n",
       "      <td>0</td>\n",
       "      <td>...</td>\n",
       "      <td>0</td>\n",
       "      <td>0</td>\n",
       "      <td>0</td>\n",
       "      <td>0</td>\n",
       "      <td>0</td>\n",
       "      <td>0</td>\n",
       "      <td>1</td>\n",
       "      <td>0</td>\n",
       "      <td>1</td>\n",
       "      <td>0</td>\n",
       "    </tr>\n",
       "  </tbody>\n",
       "</table>\n",
       "<p>250378 rows × 63 columns</p>\n",
       "</div>"
      ],
      "text/plain": [
       "        price  registrationyear  power  model  kilometer  \\\n",
       "1       18300              2011    190  227.0     125000   \n",
       "2        9800              2004    163  117.0     125000   \n",
       "3        1500              2001     75  116.0     150000   \n",
       "4        3600              2008     69  101.0      90000   \n",
       "5         650              1995    102   11.0     150000   \n",
       "...       ...               ...    ...    ...        ...   \n",
       "354357   1690              2004     55  101.0     150000   \n",
       "354362   3200              2004    225  140.0     150000   \n",
       "354366   1199              2000    101  106.0     125000   \n",
       "354367   9200              1996    102  223.0     150000   \n",
       "354368   3400              2002    100  116.0     150000   \n",
       "\n",
       "        vehicletype_convertible  vehicletype_coupe  vehicletype_other  \\\n",
       "1                             0                  1                  0   \n",
       "2                             0                  0                  0   \n",
       "3                             0                  0                  0   \n",
       "4                             0                  0                  0   \n",
       "5                             0                  0                  0   \n",
       "...                         ...                ...                ...   \n",
       "354357                        0                  0                  0   \n",
       "354362                        0                  0                  0   \n",
       "354366                        1                  0                  0   \n",
       "354367                        0                  0                  0   \n",
       "354368                        0                  0                  0   \n",
       "\n",
       "        vehicletype_sedan  vehicletype_small  ...  brand_smart  \\\n",
       "1                       0                  0  ...            0   \n",
       "2                       0                  0  ...            0   \n",
       "3                       0                  1  ...            0   \n",
       "4                       0                  1  ...            0   \n",
       "5                       1                  0  ...            0   \n",
       "...                   ...                ...  ...          ...   \n",
       "354357                  0                  0  ...            0   \n",
       "354362                  1                  0  ...            0   \n",
       "354366                  0                  0  ...            1   \n",
       "354367                  0                  0  ...            0   \n",
       "354368                  0                  0  ...            0   \n",
       "\n",
       "        brand_sonstige_autos  brand_subaru  brand_suzuki  brand_toyota  \\\n",
       "1                          0             0             0             0   \n",
       "2                          0             0             0             0   \n",
       "3                          0             0             0             0   \n",
       "4                          0             0             0             0   \n",
       "5                          0             0             0             0   \n",
       "...                      ...           ...           ...           ...   \n",
       "354357                     0             0             0             0   \n",
       "354362                     0             0             0             0   \n",
       "354366                     0             0             0             0   \n",
       "354367                     0             0             0             0   \n",
       "354368                     0             0             0             0   \n",
       "\n",
       "        brand_trabant  brand_volkswagen  brand_volvo  notrepaired_unknown  \\\n",
       "1                   0                 0            0                    0   \n",
       "2                   0                 0            0                    1   \n",
       "3                   0                 1            0                    0   \n",
       "4                   0                 0            0                    0   \n",
       "5                   0                 0            0                    0   \n",
       "...               ...               ...          ...                  ...   \n",
       "354357              0                 0            0                    1   \n",
       "354362              0                 0            0                    0   \n",
       "354366              0                 0            0                    0   \n",
       "354367              0                 1            0                    0   \n",
       "354368              0                 1            0                    1   \n",
       "\n",
       "        notrepaired_yes  \n",
       "1                     1  \n",
       "2                     0  \n",
       "3                     0  \n",
       "4                     0  \n",
       "5                     1  \n",
       "...                 ...  \n",
       "354357                0  \n",
       "354362                1  \n",
       "354366                0  \n",
       "354367                0  \n",
       "354368                0  \n",
       "\n",
       "[250378 rows x 63 columns]"
      ]
     },
     "execution_count": 26,
     "metadata": {},
     "output_type": "execute_result"
    }
   ],
   "source": [
    "#Преобразуем остальные категории в числа\n",
    "one_hot_list = ['vehicletype','gearbox', 'fueltype', 'brand', 'notrepaired']\n",
    "df = data.copy()\n",
    "tenure_one_hot = pd.get_dummies(df[one_hot_list], drop_first=True)\n",
    "df = df.drop(one_hot_list,axis = 1)\n",
    "df = df.join(tenure_one_hot, how='left')\n",
    "df"
   ]
  },
  {
   "cell_type": "code",
   "execution_count": 27,
   "metadata": {},
   "outputs": [],
   "source": [
    "features = df.drop(\"price\", axis=1)\n",
    "target = df[\"price\"]"
   ]
  },
  {
   "cell_type": "code",
   "execution_count": 28,
   "metadata": {},
   "outputs": [],
   "source": [
    "#Отделение тестовой части\n",
    "x, features_test, y, target_test = train_test_split(features, target, test_size=0.2, train_size=0.8)"
   ]
  },
  {
   "cell_type": "code",
   "execution_count": 29,
   "metadata": {},
   "outputs": [],
   "source": [
    "#Отделения валидационной и обучающей выборки\n",
    "features_train, features_valid, target_train, target_valid = train_test_split(x, y, test_size = 0.25, train_size =0.75)"
   ]
  },
  {
   "cell_type": "code",
   "execution_count": 30,
   "metadata": {},
   "outputs": [],
   "source": [
    "#Скалирование\n",
    "scaler = StandardScaler()\n",
    "scaler.fit(features_train) \n",
    "features_train_scaled = scaler.transform(features_train)\n",
    "features_valid_scaled = scaler.transform(features_valid)\n",
    "features_test_scaled = scaler.transform(features_test)"
   ]
  },
  {
   "cell_type": "code",
   "execution_count": 31,
   "metadata": {},
   "outputs": [],
   "source": [
    "#Преобразуем nparray в dataframe\n",
    "def nptodf(data, ind, column):\n",
    "    frame = pd.DataFrame(data, index = ind.index, columns = column.columns)\n",
    "    return frame\n",
    "features_train_scaled = nptodf(features_train_scaled, target_train, features)\n",
    "features_valid_scaled = nptodf(features_valid_scaled, target_valid, features)\n",
    "features_test_scaled = nptodf(features_test_scaled, target_test, features)"
   ]
  },
  {
   "cell_type": "code",
   "execution_count": 32,
   "metadata": {},
   "outputs": [
    {
     "name": "stdout",
     "output_type": "stream",
     "text": [
      "Процент выборки: 0.5999968048310954 , Количество строк и столбцов: (150226, 62)\n",
      "Процент выборки: 0.2000015975844523 , Количество строк и столбцов: (50076, 62)\n",
      "Процент выборки: 0.5999968048310954 , Количество строк и столбцов: (150226,)\n",
      "Процент выборки: 0.2000015975844523 , Количество строк и столбцов: (50076,)\n",
      "Процент выборки: 0.2000015975844523 , Количество строк и столбцов: (50076, 62)\n",
      "Процент выборки: 0.2000015975844523 , Количество строк и столбцов: (50076,)\n"
     ]
    }
   ],
   "source": [
    "#Проверка разделения\n",
    "def check(data):\n",
    "    res = len(data)/len(df)\n",
    "    print('Процент выборки:', res, ', Количество строк и столбцов:', data.shape)\n",
    "    \n",
    "data_list = [features_train_scaled, features_valid_scaled, target_train, target_valid, features_test_scaled, target_test]\n",
    "for i in data_list:\n",
    "    check(i)"
   ]
  },
  {
   "cell_type": "markdown",
   "metadata": {},
   "source": [
    "### Вывод"
   ]
  },
  {
   "cell_type": "markdown",
   "metadata": {},
   "source": [
    "- Были загружены и исследованы данные\n",
    "- Удалены аномальные значения, выбросы, лишние признаки\n",
    "- Было произведено encoding категориальных значений\n",
    "- Было произведено разделение выборок и их скалирование"
   ]
  },
  {
   "cell_type": "markdown",
   "metadata": {},
   "source": [
    "## Обучение моделей"
   ]
  },
  {
   "cell_type": "code",
   "execution_count": 33,
   "metadata": {},
   "outputs": [],
   "source": [
    "def rmse(predict, actual):\n",
    "    predict = np.array(predict)\n",
    "    actual = np.array(actual)\n",
    "\n",
    "    distance = predict - actual\n",
    "\n",
    "    square_distance = distance ** 2\n",
    "\n",
    "    mean_square_distance = square_distance.mean()\n",
    "\n",
    "    score = np.sqrt(mean_square_distance)\n",
    "\n",
    "    return score\n",
    "\n",
    "rmse_score = make_scorer(rmse, greater_is_better = False)"
   ]
  },
  {
   "cell_type": "markdown",
   "metadata": {},
   "source": [
    "### LinearRegression"
   ]
  },
  {
   "cell_type": "code",
   "execution_count": 34,
   "metadata": {},
   "outputs": [
    {
     "name": "stdout",
     "output_type": "stream",
     "text": [
      "RMSE LinearRegression: 2762.1421834534026\n"
     ]
    }
   ],
   "source": [
    "model_lr = LinearRegression().fit(features_train_scaled, target_train)\n",
    "lr_pred = model_lr.predict(features_valid_scaled)\n",
    "rmse_lr = np.sqrt(mse(target_valid, lr_pred))\n",
    "print('RMSE LinearRegression:', rmse_lr)"
   ]
  },
  {
   "cell_type": "code",
   "execution_count": 35,
   "metadata": {},
   "outputs": [
    {
     "name": "stdout",
     "output_type": "stream",
     "text": [
      "CPU times: user 27.9 s, sys: 24 s, total: 51.9 s\n",
      "Wall time: 52 s\n"
     ]
    },
    {
     "data": {
      "text/plain": [
       "{'copy_X': True, 'fit_intercept': True, 'normalize': False}"
      ]
     },
     "execution_count": 35,
     "metadata": {},
     "output_type": "execute_result"
    }
   ],
   "source": [
    "%%time\n",
    "parameters = {'fit_intercept':[True,False], 'normalize':[True,False], 'copy_X':[True, False]}\n",
    "grid = GridSearchCV(model_lr,parameters, cv=4, scoring = rmse_score, verbose=False)\n",
    "grid.fit(features_train_scaled, target_train)\n",
    "grid.best_params_"
   ]
  },
  {
   "cell_type": "code",
   "execution_count": 36,
   "metadata": {},
   "outputs": [
    {
     "name": "stdout",
     "output_type": "stream",
     "text": [
      "CPU times: user 1.05 s, sys: 761 ms, total: 1.81 s\n",
      "Wall time: 1.9 s\n"
     ]
    }
   ],
   "source": [
    "%%time\n",
    "lr_tuned = LinearRegression(**grid.best_params_).fit(features_train_scaled, target_train)"
   ]
  },
  {
   "cell_type": "code",
   "execution_count": 37,
   "metadata": {},
   "outputs": [
    {
     "name": "stdout",
     "output_type": "stream",
     "text": [
      "CPU times: user 27.4 ms, sys: 72.2 ms, total: 99.6 ms\n",
      "Wall time: 101 ms\n"
     ]
    }
   ],
   "source": [
    "%%time\n",
    "lr_pred = lr_tuned.predict(features_valid_scaled)"
   ]
  },
  {
   "cell_type": "code",
   "execution_count": 38,
   "metadata": {},
   "outputs": [
    {
     "name": "stdout",
     "output_type": "stream",
     "text": [
      "LinearRegression RMSE: 2762.14\n"
     ]
    }
   ],
   "source": [
    "rmse_lr_tuned = np.sqrt(mse(target_valid, lr_pred))\n",
    "print(\"LinearRegression RMSE: %.2f\" % rmse_lr_tuned) "
   ]
  },
  {
   "cell_type": "code",
   "execution_count": 39,
   "metadata": {},
   "outputs": [],
   "source": [
    "importances_lr = pd.DataFrame(data={\n",
    "    'Attribute': features_train_scaled.columns,\n",
    "    'Importance': lr_tuned.coef_\n",
    "})\n",
    "importances_lr = importances_lr.sort_values(by='Importance', ascending=False)"
   ]
  },
  {
   "cell_type": "code",
   "execution_count": 40,
   "metadata": {},
   "outputs": [],
   "source": [
    "plt.rcParams[\"figure.figsize\"] = (20,8)"
   ]
  },
  {
   "cell_type": "code",
   "execution_count": 41,
   "metadata": {},
   "outputs": [
    {
     "data": {
      "image/png": "[encoded data removed]",
      "text/plain": [
       "<Figure size 1440x576 with 1 Axes>"
      ]
     },
     "metadata": {
      "needs_background": "light"
     },
     "output_type": "display_data"
    }
   ],
   "source": [
    "plt.bar(x=importances_lr['Attribute'], height=importances_lr['Importance'], color='#087E8B')\n",
    "plt.title('Важность признаков', size=20)\n",
    "plt.xticks(rotation='vertical')\n",
    "plt.show()"
   ]
  },
  {
   "cell_type": "markdown",
   "metadata": {},
   "source": [
    "### LightGBM"
   ]
  },
  {
   "cell_type": "code",
   "execution_count": 42,
   "metadata": {},
   "outputs": [
    {
     "name": "stdout",
     "output_type": "stream",
     "text": [
      "RMSE LightGBM: 1687.7874350385248\n",
      "CPU times: user 6min 5s, sys: 3.18 s, total: 6min 8s\n",
      "Wall time: 6min 12s\n"
     ]
    }
   ],
   "source": [
    "%%time\n",
    "lgb_model = LGBMRegressor().fit(features_train_scaled, target_train)\n",
    "y_pred = lgb_model.predict(features_valid_scaled)\n",
    "rmse_lgbm = np.sqrt(mse(target_valid, y_pred))\n",
    "print('RMSE LightGBM:', rmse_lgbm)"
   ]
  },
  {
   "cell_type": "code",
   "execution_count": 43,
   "metadata": {},
   "outputs": [
    {
     "name": "stdout",
     "output_type": "stream",
     "text": [
      "CPU times: user 32min 47s, sys: 15 s, total: 33min 2s\n",
      "Wall time: 33min 17s\n"
     ]
    },
    {
     "data": {
      "text/plain": [
       "{'max_depth': 12, 'n_estimators': 1000}"
      ]
     },
     "execution_count": 43,
     "metadata": {},
     "output_type": "execute_result"
    }
   ],
   "source": [
    "%%time\n",
    "lgbm_params = {\"n_estimators\": [1000, 1200],\n",
    "               \"max_depth\": [12, 14]\n",
    "              }\n",
    "\n",
    "lgbm_cv_model = GridSearchCV(lgb_model,\n",
    "                             lgbm_params,\n",
    "                             cv=4,\n",
    "                             scoring = rmse,\n",
    "                             n_jobs=-1,\n",
    "                             verbose=False).fit(features_train_scaled, target_train)\n",
    "\n",
    "lgbm_cv_model.best_params_"
   ]
  },
  {
   "cell_type": "code",
   "execution_count": 44,
   "metadata": {},
   "outputs": [
    {
     "name": "stdout",
     "output_type": "stream",
     "text": [
      "CPU times: user 26.8 s, sys: 159 ms, total: 26.9 s\n",
      "Wall time: 27.2 s\n"
     ]
    }
   ],
   "source": [
    "%%time\n",
    "lgbm_tuned = LGBMRegressor(**lgbm_cv_model.best_params_).fit(features_train_scaled, target_train)"
   ]
  },
  {
   "cell_type": "code",
   "execution_count": 45,
   "metadata": {},
   "outputs": [
    {
     "name": "stdout",
     "output_type": "stream",
     "text": [
      "CPU times: user 4.65 s, sys: 0 ns, total: 4.65 s\n",
      "Wall time: 4.62 s\n"
     ]
    }
   ],
   "source": [
    "%%time\n",
    "y_pred = lgbm_tuned.predict(features_valid_scaled)"
   ]
  },
  {
   "cell_type": "code",
   "execution_count": 46,
   "metadata": {},
   "outputs": [
    {
     "name": "stdout",
     "output_type": "stream",
     "text": [
      "RMSE: 1581.59\n"
     ]
    }
   ],
   "source": [
    "rmse_lgb = np.sqrt(mse(target_valid, y_pred))\n",
    "print(\"RMSE: %.2f\" % rmse_lgb) "
   ]
  },
  {
   "cell_type": "code",
   "execution_count": 47,
   "metadata": {},
   "outputs": [],
   "source": [
    "importances_lgb = pd.DataFrame(data={\n",
    "    'Attribute': features_train_scaled.columns,\n",
    "    'Importance': lgbm_tuned.feature_importances_\n",
    "})\n",
    "importances_lgb = importances_lgb.sort_values(by='Importance', ascending=False)"
   ]
  },
  {
   "cell_type": "code",
   "execution_count": 48,
   "metadata": {},
   "outputs": [
    {
     "data": {
      "image/png": "[encoded data removed]",
      "text/plain": [
       "<Figure size 1440x576 with 1 Axes>"
      ]
     },
     "metadata": {
      "needs_background": "light"
     },
     "output_type": "display_data"
    }
   ],
   "source": [
    "plt.bar(x=importances_lgb['Attribute'], height=importances_lgb['Importance'], color='#087E8B')\n",
    "plt.title('Важность признаков', size=20)\n",
    "plt.xticks(rotation='vertical')\n",
    "plt.show()"
   ]
  },
  {
   "cell_type": "markdown",
   "metadata": {},
   "source": [
    "### Catboost"
   ]
  },
  {
   "cell_type": "code",
   "execution_count": 49,
   "metadata": {
    "scrolled": true
   },
   "outputs": [
    {
     "name": "stdout",
     "output_type": "stream",
     "text": [
      "CPU times: user 16.9 s, sys: 114 ms, total: 17 s\n",
      "Wall time: 18 s\n"
     ]
    }
   ],
   "source": [
    "%%time\n",
    "cbr_model = CatBoostRegressor(logging_level='Silent').fit(features_train_scaled, target_train)"
   ]
  },
  {
   "cell_type": "code",
   "execution_count": 50,
   "metadata": {},
   "outputs": [
    {
     "name": "stdout",
     "output_type": "stream",
     "text": [
      "CPU times: user 62.1 ms, sys: 3.85 ms, total: 65.9 ms\n",
      "Wall time: 63.4 ms\n"
     ]
    }
   ],
   "source": [
    "%%time\n",
    "cbr_pred = cbr_model.predict(features_valid_scaled)"
   ]
  },
  {
   "cell_type": "code",
   "execution_count": 51,
   "metadata": {},
   "outputs": [
    {
     "name": "stdout",
     "output_type": "stream",
     "text": [
      "RMSE CatBoostRegressor: 1607.3686140283023\n"
     ]
    }
   ],
   "source": [
    "rmse_cbr = np.sqrt(mse(target_valid, cbr_pred))\n",
    "print('RMSE CatBoostRegressor:', rmse_cbr)"
   ]
  },
  {
   "cell_type": "code",
   "execution_count": 52,
   "metadata": {},
   "outputs": [
    {
     "name": "stdout",
     "output_type": "stream",
     "text": [
      "CPU times: user 8min 3s, sys: 4.62 s, total: 8min 8s\n",
      "Wall time: 8min 44s\n"
     ]
    },
    {
     "data": {
      "text/plain": [
       "{'depth': 6, 'iterations': 1000, 'l2_leaf_reg': 1, 'learning_rate': 0.03}"
      ]
     },
     "execution_count": 52,
     "metadata": {},
     "output_type": "execute_result"
    }
   ],
   "source": [
    "%%time\n",
    "parameters_cb = {'iterations': [1000],\n",
    "        'learning_rate': [0.03, 0.1],\n",
    "        'depth': [6, 8],\n",
    "        'l2_leaf_reg': [1, 3]\n",
    "              }\n",
    "model_CBR = CatBoostRegressor(loss_function='RMSE', eval_metric = 'RMSE', logging_level='Silent')\n",
    "cb_model = GridSearchCV(estimator = model_CBR, param_grid = parameters_cb, cv = 4, n_jobs=-1, scoring=rmse)\n",
    "cb_model.fit(features_train_scaled, target_train)\n",
    "cb_model.best_params_"
   ]
  },
  {
   "cell_type": "code",
   "execution_count": 53,
   "metadata": {},
   "outputs": [
    {
     "name": "stdout",
     "output_type": "stream",
     "text": [
      "CPU times: user 17.6 s, sys: 153 ms, total: 17.7 s\n",
      "Wall time: 18.6 s\n"
     ]
    }
   ],
   "source": [
    "%%time\n",
    "cb_tuned = CatBoostRegressor(**cb_model.best_params_, logging_level='Silent').fit(features_train_scaled, target_train)"
   ]
  },
  {
   "cell_type": "code",
   "execution_count": 54,
   "metadata": {},
   "outputs": [
    {
     "name": "stdout",
     "output_type": "stream",
     "text": [
      "CPU times: user 55.5 ms, sys: 61 µs, total: 55.6 ms\n",
      "Wall time: 54.1 ms\n"
     ]
    }
   ],
   "source": [
    "%%time\n",
    "y_pred_cat = cb_tuned.predict(features_valid_scaled)"
   ]
  },
  {
   "cell_type": "code",
   "execution_count": 55,
   "metadata": {},
   "outputs": [
    {
     "name": "stdout",
     "output_type": "stream",
     "text": [
      "RMSE: 1674.65\n"
     ]
    }
   ],
   "source": [
    "cbr_rmse = np.sqrt(mse(target_valid, y_pred_cat))\n",
    "print(\"RMSE: %.2f\" % cbr_rmse) "
   ]
  },
  {
   "cell_type": "code",
   "execution_count": 56,
   "metadata": {},
   "outputs": [],
   "source": [
    "importances_cat = pd.DataFrame(data={\n",
    "    'Attribute': features_train_scaled.columns,\n",
    "    'Importance': cb_tuned.feature_importances_\n",
    "})\n",
    "importances_cat = importances_cat.sort_values(by='Importance', ascending=False)"
   ]
  },
  {
   "cell_type": "code",
   "execution_count": 57,
   "metadata": {},
   "outputs": [
    {
     "data": {
      "image/png": "[encoded data removed]",
      "text/plain": [
       "<Figure size 1440x576 with 1 Axes>"
      ]
     },
     "metadata": {
      "needs_background": "light"
     },
     "output_type": "display_data"
    }
   ],
   "source": [
    "plt.bar(x=importances_cat['Attribute'], height=importances_cat['Importance'], color='#087E8B')\n",
    "plt.title('Важность признаков', size=20)\n",
    "plt.xticks(rotation='vertical')\n",
    "plt.show()"
   ]
  },
  {
   "cell_type": "markdown",
   "metadata": {},
   "source": [
    "## Анализ моделей"
   ]
  },
  {
   "cell_type": "code",
   "execution_count": 58,
   "metadata": {},
   "outputs": [
    {
     "name": "stdout",
     "output_type": "stream",
     "text": [
      "LinearRegression:\n",
      "RMSE:2762.1421834534026, скорость предсказания: 13 ms, время обучения: 1.9 s\n",
      "LightGBM:\n",
      "RMSE:1581.5905703024666, скорость предсказания: 5 s, время обучения: 29.4 s\n",
      "Catboost:\n",
      "RMSE:1674.6520885491814, скорость предсказания: 68.6 ms, время обучения: 21 s\n"
     ]
    }
   ],
   "source": [
    "print('LinearRegression:', end = '')\n",
    "print()\n",
    "print(f'RMSE:{rmse_lr_tuned}, скорость предсказания: 13 ms, время обучения: 1.9 s')\n",
    "print('LightGBM:', end = '')\n",
    "print()\n",
    "print(f'RMSE:{rmse_lgb}, скорость предсказания: 5 s, время обучения: 29.4 s')\n",
    "print('Catboost:', end = '')\n",
    "print()\n",
    "print(f'RMSE:{cbr_rmse}, скорость предсказания: 68.6 ms, время обучения: 21 s')"
   ]
  },
  {
   "cell_type": "markdown",
   "metadata": {},
   "source": [
    "Лучшая модель - LightGBM"
   ]
  },
  {
   "cell_type": "code",
   "execution_count": 59,
   "metadata": {},
   "outputs": [
    {
     "name": "stdout",
     "output_type": "stream",
     "text": [
      "CPU times: user 4.62 s, sys: 0 ns, total: 4.62 s\n",
      "Wall time: 4.6 s\n"
     ]
    }
   ],
   "source": [
    "%%time\n",
    "final_lgb_pred = lgbm_tuned.predict(features_test_scaled)"
   ]
  },
  {
   "cell_type": "code",
   "execution_count": 60,
   "metadata": {},
   "outputs": [
    {
     "name": "stdout",
     "output_type": "stream",
     "text": [
      "RMSE: 1532.35\n"
     ]
    }
   ],
   "source": [
    "final_lgb_rmse = np.sqrt(mse(target_test, final_lgb_pred))\n",
    "print(\"RMSE: %.2f\" % final_lgb_rmse)"
   ]
  },
  {
   "cell_type": "markdown",
   "metadata": {},
   "source": [
    "## Вывод"
   ]
  },
  {
   "cell_type": "markdown",
   "metadata": {},
   "source": [
    "- В данных были пропуски, лишние признаки, аномальные значения и выбросы\n",
    "- Было обучено две модели градиентного бустинга и одна регрессии\n",
    "- Наилучшая модель по времени - catboost\n",
    "- Наилучшая модель по RMSE - lightgbm\n",
    "- Худшая модель по всем показателям - linearregression"
   ]
  }
 ],
 "metadata": {
  "ExecuteTimeLog": [
   {
    "duration": 2001,
    "start_time": "2022-09-01T08:20:22.262Z"
   },
   {
    "duration": 3261,
    "start_time": "2022-09-01T08:21:19.082Z"
   },
   {
    "duration": 5,
    "start_time": "2022-09-01T08:21:29.155Z"
   },
   {
    "duration": 863,
    "start_time": "2022-09-01T08:21:40.360Z"
   },
   {
    "duration": 4,
    "start_time": "2022-09-01T08:21:46.702Z"
   },
   {
    "duration": 791,
    "start_time": "2022-09-01T08:21:55.247Z"
   },
   {
    "duration": 7,
    "start_time": "2022-09-01T08:23:21.812Z"
   },
   {
    "duration": 21,
    "start_time": "2022-09-01T08:23:43.670Z"
   },
   {
    "duration": 5,
    "start_time": "2022-09-01T08:24:09.855Z"
   },
   {
    "duration": 134,
    "start_time": "2022-09-01T08:24:55.828Z"
   },
   {
    "duration": 151,
    "start_time": "2022-09-01T08:25:06.012Z"
   },
   {
    "duration": 122,
    "start_time": "2022-09-01T08:25:13.094Z"
   },
   {
    "duration": 150,
    "start_time": "2022-09-01T08:25:28.615Z"
   },
   {
    "duration": 204,
    "start_time": "2022-09-01T08:26:16.482Z"
   },
   {
    "duration": 108,
    "start_time": "2022-09-01T08:26:22.067Z"
   },
   {
    "duration": 185,
    "start_time": "2022-09-01T08:26:58.032Z"
   },
   {
    "duration": 192,
    "start_time": "2022-09-01T08:27:07.643Z"
   },
   {
    "duration": 191,
    "start_time": "2022-09-01T08:27:14.411Z"
   },
   {
    "duration": 253,
    "start_time": "2022-09-01T08:27:21.712Z"
   },
   {
    "duration": 187,
    "start_time": "2022-09-01T08:27:40.569Z"
   },
   {
    "duration": 200,
    "start_time": "2022-09-01T08:27:52.006Z"
   },
   {
    "duration": 278,
    "start_time": "2022-09-01T08:27:54.751Z"
   },
   {
    "duration": 134,
    "start_time": "2022-09-01T08:28:52.703Z"
   },
   {
    "duration": 116,
    "start_time": "2022-09-01T08:29:15.075Z"
   },
   {
    "duration": 151,
    "start_time": "2022-09-01T08:30:04.068Z"
   },
   {
    "duration": 186,
    "start_time": "2022-09-01T08:30:51.483Z"
   },
   {
    "duration": 184,
    "start_time": "2022-09-01T08:31:19.059Z"
   },
   {
    "duration": 113,
    "start_time": "2022-09-01T08:32:48.008Z"
   },
   {
    "duration": 158,
    "start_time": "2022-09-01T08:35:23.428Z"
   },
   {
    "duration": 726,
    "start_time": "2022-09-01T08:35:32.513Z"
   },
   {
    "duration": 847,
    "start_time": "2022-09-01T08:35:46.696Z"
   },
   {
    "duration": 685,
    "start_time": "2022-09-01T08:35:47.546Z"
   },
   {
    "duration": 31,
    "start_time": "2022-09-01T08:36:55.104Z"
   },
   {
    "duration": 50,
    "start_time": "2022-09-01T08:37:04.101Z"
   },
   {
    "duration": 1479,
    "start_time": "2022-09-01T08:38:03.377Z"
   },
   {
    "duration": 32,
    "start_time": "2022-09-01T08:38:09.632Z"
   },
   {
    "duration": 122,
    "start_time": "2022-09-01T08:38:40.546Z"
   },
   {
    "duration": 213,
    "start_time": "2022-09-01T08:39:01.736Z"
   },
   {
    "duration": 137,
    "start_time": "2022-09-01T08:39:22.957Z"
   },
   {
    "duration": 137,
    "start_time": "2022-09-01T08:39:50.264Z"
   },
   {
    "duration": 154,
    "start_time": "2022-09-01T08:39:55.890Z"
   },
   {
    "duration": 265,
    "start_time": "2022-09-01T08:40:09.635Z"
   },
   {
    "duration": 840,
    "start_time": "2022-09-01T08:40:35.061Z"
   },
   {
    "duration": 4,
    "start_time": "2022-09-01T08:40:35.903Z"
   },
   {
    "duration": 697,
    "start_time": "2022-09-01T08:40:36.463Z"
   },
   {
    "duration": 640,
    "start_time": "2022-09-01T08:40:37.977Z"
   },
   {
    "duration": 690,
    "start_time": "2022-09-01T08:40:40.536Z"
   },
   {
    "duration": 39,
    "start_time": "2022-09-01T08:40:43.030Z"
   },
   {
    "duration": 138,
    "start_time": "2022-09-01T08:40:57.698Z"
   },
   {
    "duration": 5,
    "start_time": "2022-09-01T08:41:53.831Z"
   },
   {
    "duration": 82,
    "start_time": "2022-09-01T08:42:16.147Z"
   },
   {
    "duration": 3,
    "start_time": "2022-09-01T08:42:22.461Z"
   },
   {
    "duration": 5,
    "start_time": "2022-09-01T08:42:28.658Z"
   },
   {
    "duration": 11,
    "start_time": "2022-09-01T08:42:48.236Z"
   },
   {
    "duration": 10,
    "start_time": "2022-09-01T08:44:05.752Z"
   },
   {
    "duration": 5,
    "start_time": "2022-09-01T08:44:11.475Z"
   },
   {
    "duration": 4,
    "start_time": "2022-09-01T08:44:15.104Z"
   },
   {
    "duration": 9,
    "start_time": "2022-09-01T08:44:19.612Z"
   },
   {
    "duration": 11,
    "start_time": "2022-09-01T08:45:28.258Z"
   },
   {
    "duration": 3,
    "start_time": "2022-09-01T08:45:55.736Z"
   },
   {
    "duration": 11,
    "start_time": "2022-09-01T08:46:08.001Z"
   },
   {
    "duration": 4,
    "start_time": "2022-09-01T08:47:14.840Z"
   },
   {
    "duration": 4,
    "start_time": "2022-09-01T08:47:22.180Z"
   },
   {
    "duration": 1359,
    "start_time": "2022-09-01T08:48:00.293Z"
   },
   {
    "duration": 0,
    "start_time": "2022-09-01T08:48:01.654Z"
   },
   {
    "duration": 1503,
    "start_time": "2022-09-01T08:48:19.029Z"
   },
   {
    "duration": 945,
    "start_time": "2022-09-01T08:48:21.379Z"
   },
   {
    "duration": 4,
    "start_time": "2022-09-01T08:48:23.469Z"
   },
   {
    "duration": 821,
    "start_time": "2022-09-01T08:48:25.467Z"
   },
   {
    "duration": 538,
    "start_time": "2022-09-01T08:48:30.956Z"
   },
   {
    "duration": 4,
    "start_time": "2022-09-01T08:48:32.834Z"
   },
   {
    "duration": 1519,
    "start_time": "2022-09-01T08:48:36.624Z"
   },
   {
    "duration": 1721,
    "start_time": "2022-09-01T08:48:58.105Z"
   },
   {
    "duration": 14,
    "start_time": "2022-09-01T08:49:14.080Z"
   },
   {
    "duration": 1328,
    "start_time": "2022-09-01T08:49:25.364Z"
   },
   {
    "duration": 1204,
    "start_time": "2022-09-01T08:49:33.833Z"
   },
   {
    "duration": 1624,
    "start_time": "2022-09-01T08:49:43.815Z"
   },
   {
    "duration": 1490,
    "start_time": "2022-09-01T08:51:05.925Z"
   },
   {
    "duration": 837,
    "start_time": "2022-09-01T08:51:07.418Z"
   },
   {
    "duration": 4,
    "start_time": "2022-09-01T08:51:08.317Z"
   },
   {
    "duration": 844,
    "start_time": "2022-09-01T08:51:09.510Z"
   },
   {
    "duration": 527,
    "start_time": "2022-09-01T08:51:10.774Z"
   },
   {
    "duration": 3,
    "start_time": "2022-09-01T08:51:12.022Z"
   },
   {
    "duration": 22,
    "start_time": "2022-09-01T08:51:13.769Z"
   },
   {
    "duration": 737,
    "start_time": "2022-09-01T08:51:14.645Z"
   },
   {
    "duration": 1439,
    "start_time": "2022-09-01T08:51:30.111Z"
   },
   {
    "duration": 42,
    "start_time": "2022-09-01T08:51:35.690Z"
   },
   {
    "duration": 202,
    "start_time": "2022-09-01T08:51:47.629Z"
   },
   {
    "duration": 1504,
    "start_time": "2022-09-01T08:52:01.161Z"
   },
   {
    "duration": 135,
    "start_time": "2022-09-01T08:52:07.486Z"
   },
   {
    "duration": 264,
    "start_time": "2022-09-01T08:53:05.194Z"
   },
   {
    "duration": 499,
    "start_time": "2022-09-01T08:53:28.981Z"
   },
   {
    "duration": 11,
    "start_time": "2022-09-01T08:59:58.252Z"
   },
   {
    "duration": 16,
    "start_time": "2022-09-01T09:00:13.655Z"
   },
   {
    "duration": 1542,
    "start_time": "2022-09-01T09:00:32.173Z"
   },
   {
    "duration": 881,
    "start_time": "2022-09-01T09:00:33.717Z"
   },
   {
    "duration": 4,
    "start_time": "2022-09-01T09:00:34.600Z"
   },
   {
    "duration": 829,
    "start_time": "2022-09-01T09:00:34.629Z"
   },
   {
    "duration": 557,
    "start_time": "2022-09-01T09:00:35.460Z"
   },
   {
    "duration": 63,
    "start_time": "2022-09-01T09:00:37.711Z"
   },
   {
    "duration": 3,
    "start_time": "2022-09-01T09:01:03.969Z"
   },
   {
    "duration": 25,
    "start_time": "2022-09-01T09:01:05.117Z"
   },
   {
    "duration": 391,
    "start_time": "2022-09-01T09:01:06.169Z"
   },
   {
    "duration": 92,
    "start_time": "2022-09-01T09:03:05.386Z"
   },
   {
    "duration": 348,
    "start_time": "2022-09-01T09:03:10.654Z"
   },
   {
    "duration": 166,
    "start_time": "2022-09-01T09:04:14.802Z"
   },
   {
    "duration": 151,
    "start_time": "2022-09-01T09:04:15.678Z"
   },
   {
    "duration": 112,
    "start_time": "2022-09-01T09:04:28.558Z"
   },
   {
    "duration": 384,
    "start_time": "2022-09-01T09:04:37.192Z"
   },
   {
    "duration": 19,
    "start_time": "2022-09-01T09:04:45.204Z"
   },
   {
    "duration": 75,
    "start_time": "2022-09-01T09:04:47.564Z"
   },
   {
    "duration": 127,
    "start_time": "2022-09-01T09:05:25.546Z"
   },
   {
    "duration": 152,
    "start_time": "2022-09-01T09:05:37.847Z"
   },
   {
    "duration": 462,
    "start_time": "2022-09-01T09:05:42.186Z"
   },
   {
    "duration": 126,
    "start_time": "2022-09-01T09:05:48.499Z"
   },
   {
    "duration": 129,
    "start_time": "2022-09-01T09:06:29.172Z"
   },
   {
    "duration": 266,
    "start_time": "2022-09-01T09:06:40.863Z"
   },
   {
    "duration": 146,
    "start_time": "2022-09-01T09:06:56.408Z"
   },
   {
    "duration": 1526,
    "start_time": "2022-09-01T09:07:24.255Z"
   },
   {
    "duration": 5,
    "start_time": "2022-09-01T09:07:30.608Z"
   },
   {
    "duration": 6,
    "start_time": "2022-09-01T09:07:37.915Z"
   },
   {
    "duration": 11,
    "start_time": "2022-09-01T09:07:45.674Z"
   },
   {
    "duration": 5,
    "start_time": "2022-09-01T09:07:51.022Z"
   },
   {
    "duration": 6,
    "start_time": "2022-09-01T09:07:57.987Z"
   },
   {
    "duration": 5,
    "start_time": "2022-09-01T09:08:01.535Z"
   },
   {
    "duration": 119,
    "start_time": "2022-09-01T09:08:44.267Z"
   },
   {
    "duration": 116,
    "start_time": "2022-09-01T09:09:25.660Z"
   },
   {
    "duration": 107,
    "start_time": "2022-09-01T09:09:52.351Z"
   },
   {
    "duration": 269,
    "start_time": "2022-09-01T09:10:05.055Z"
   },
   {
    "duration": 811,
    "start_time": "2022-09-01T09:10:12.731Z"
   },
   {
    "duration": 254,
    "start_time": "2022-09-01T09:10:27.272Z"
   },
   {
    "duration": 1534,
    "start_time": "2022-09-01T09:10:57.419Z"
   },
   {
    "duration": 884,
    "start_time": "2022-09-01T09:10:58.955Z"
   },
   {
    "duration": 6,
    "start_time": "2022-09-01T09:10:59.841Z"
   },
   {
    "duration": 860,
    "start_time": "2022-09-01T09:10:59.848Z"
   },
   {
    "duration": 66,
    "start_time": "2022-09-01T09:11:00.709Z"
   },
   {
    "duration": 3,
    "start_time": "2022-09-01T09:11:00.862Z"
   },
   {
    "duration": 95,
    "start_time": "2022-09-01T09:11:01.374Z"
   },
   {
    "duration": 446,
    "start_time": "2022-09-01T09:11:01.795Z"
   },
   {
    "duration": 184,
    "start_time": "2022-09-01T09:11:02.243Z"
   },
   {
    "duration": 154,
    "start_time": "2022-09-01T09:11:02.618Z"
   },
   {
    "duration": 355,
    "start_time": "2022-09-01T09:11:02.947Z"
   },
   {
    "duration": 197,
    "start_time": "2022-09-01T09:11:07.865Z"
   },
   {
    "duration": 120,
    "start_time": "2022-09-01T09:11:12.587Z"
   },
   {
    "duration": 78,
    "start_time": "2022-09-01T09:11:21.439Z"
   },
   {
    "duration": 20,
    "start_time": "2022-09-01T09:11:53.233Z"
   },
   {
    "duration": 19,
    "start_time": "2022-09-01T09:12:31.698Z"
   },
   {
    "duration": 19,
    "start_time": "2022-09-01T09:12:49.345Z"
   },
   {
    "duration": 22,
    "start_time": "2022-09-01T09:13:05.155Z"
   },
   {
    "duration": 291,
    "start_time": "2022-09-01T09:20:32.878Z"
   },
   {
    "duration": 14694,
    "start_time": "2022-09-01T09:21:56.228Z"
   },
   {
    "duration": 5,
    "start_time": "2022-09-01T09:22:23.216Z"
   },
   {
    "duration": 102,
    "start_time": "2022-09-01T09:22:38.768Z"
   },
   {
    "duration": 119,
    "start_time": "2022-09-01T09:22:44.670Z"
   },
   {
    "duration": 125,
    "start_time": "2022-09-01T09:23:05.209Z"
   },
   {
    "duration": 117,
    "start_time": "2022-09-01T09:23:15.240Z"
   },
   {
    "duration": 112,
    "start_time": "2022-09-01T09:23:23.128Z"
   },
   {
    "duration": 121,
    "start_time": "2022-09-01T09:23:29.112Z"
   },
   {
    "duration": 1599,
    "start_time": "2022-09-01T09:23:59.600Z"
   },
   {
    "duration": 955,
    "start_time": "2022-09-01T09:24:01.201Z"
   },
   {
    "duration": 4,
    "start_time": "2022-09-01T09:24:02.158Z"
   },
   {
    "duration": 837,
    "start_time": "2022-09-01T09:24:02.164Z"
   },
   {
    "duration": 66,
    "start_time": "2022-09-01T09:24:03.003Z"
   },
   {
    "duration": 3,
    "start_time": "2022-09-01T09:24:03.398Z"
   },
   {
    "duration": 128,
    "start_time": "2022-09-01T09:24:04.613Z"
   },
   {
    "duration": 114,
    "start_time": "2022-09-01T09:28:28.870Z"
   },
   {
    "duration": 17,
    "start_time": "2022-09-01T09:28:36.218Z"
   },
   {
    "duration": 357,
    "start_time": "2022-09-01T09:28:45.137Z"
   },
   {
    "duration": 134,
    "start_time": "2022-09-01T09:29:23.883Z"
   },
   {
    "duration": 123,
    "start_time": "2022-09-01T09:29:32.845Z"
   },
   {
    "duration": 217,
    "start_time": "2022-09-01T09:29:45.037Z"
   },
   {
    "duration": 128,
    "start_time": "2022-09-01T09:30:44.908Z"
   },
   {
    "duration": 143,
    "start_time": "2022-09-01T09:30:56.885Z"
   },
   {
    "duration": 140,
    "start_time": "2022-09-01T09:31:05.394Z"
   },
   {
    "duration": 126,
    "start_time": "2022-09-01T09:31:11.009Z"
   },
   {
    "duration": 131,
    "start_time": "2022-09-01T09:31:46.568Z"
   },
   {
    "duration": 756,
    "start_time": "2022-09-01T09:32:19.614Z"
   },
   {
    "duration": 93,
    "start_time": "2022-09-01T09:33:11.066Z"
   },
   {
    "duration": 420,
    "start_time": "2022-09-01T09:33:11.837Z"
   },
   {
    "duration": 196,
    "start_time": "2022-09-01T09:33:16.763Z"
   },
   {
    "duration": 26,
    "start_time": "2022-09-01T09:33:34.011Z"
   },
   {
    "duration": 7,
    "start_time": "2022-09-01T09:34:14.966Z"
   },
   {
    "duration": 6,
    "start_time": "2022-09-01T09:34:40.745Z"
   },
   {
    "duration": 12,
    "start_time": "2022-09-01T09:34:48.920Z"
   },
   {
    "duration": 34,
    "start_time": "2022-09-01T09:34:53.260Z"
   },
   {
    "duration": 1976,
    "start_time": "2022-09-01T09:35:16.784Z"
   },
   {
    "duration": 3695,
    "start_time": "2022-09-01T09:35:31.120Z"
   },
   {
    "duration": 941,
    "start_time": "2022-09-01T09:35:34.819Z"
   },
   {
    "duration": 5,
    "start_time": "2022-09-01T09:35:35.762Z"
   },
   {
    "duration": 904,
    "start_time": "2022-09-01T09:35:35.769Z"
   },
   {
    "duration": 75,
    "start_time": "2022-09-01T09:35:36.675Z"
   },
   {
    "duration": 5,
    "start_time": "2022-09-01T09:35:43.599Z"
   },
   {
    "duration": 2478,
    "start_time": "2022-09-01T09:35:45.087Z"
   },
   {
    "duration": 93,
    "start_time": "2022-09-01T09:36:49.067Z"
   },
   {
    "duration": 366,
    "start_time": "2022-09-01T09:36:50.550Z"
   },
   {
    "duration": 172,
    "start_time": "2022-09-01T09:36:51.482Z"
   },
   {
    "duration": 26,
    "start_time": "2022-09-01T09:36:53.490Z"
   },
   {
    "duration": 322,
    "start_time": "2022-09-01T09:36:57.134Z"
   },
   {
    "duration": 27,
    "start_time": "2022-09-01T09:37:29.899Z"
   },
   {
    "duration": 313,
    "start_time": "2022-09-01T09:37:38.731Z"
   },
   {
    "duration": 2,
    "start_time": "2022-09-01T09:38:09.707Z"
   },
   {
    "duration": 1560,
    "start_time": "2022-09-01T09:38:41.179Z"
   },
   {
    "duration": 845,
    "start_time": "2022-09-01T09:38:42.741Z"
   },
   {
    "duration": 4,
    "start_time": "2022-09-01T09:38:43.588Z"
   },
   {
    "duration": 12,
    "start_time": "2022-09-01T09:38:43.593Z"
   },
   {
    "duration": 823,
    "start_time": "2022-09-01T09:38:43.607Z"
   },
   {
    "duration": 69,
    "start_time": "2022-09-01T09:38:44.432Z"
   },
   {
    "duration": 4,
    "start_time": "2022-09-01T09:38:44.503Z"
   },
   {
    "duration": 2174,
    "start_time": "2022-09-01T09:38:44.509Z"
   },
   {
    "duration": 95,
    "start_time": "2022-09-01T09:38:46.684Z"
   },
   {
    "duration": 375,
    "start_time": "2022-09-01T09:38:46.792Z"
   },
   {
    "duration": 184,
    "start_time": "2022-09-01T09:38:47.169Z"
   },
   {
    "duration": 26,
    "start_time": "2022-09-01T09:38:47.355Z"
   },
   {
    "duration": 332,
    "start_time": "2022-09-01T09:38:47.392Z"
   },
   {
    "duration": 22,
    "start_time": "2022-09-01T09:38:47.726Z"
   },
   {
    "duration": 296,
    "start_time": "2022-09-01T09:38:47.749Z"
   },
   {
    "duration": 4,
    "start_time": "2022-09-01T09:38:48.047Z"
   },
   {
    "duration": 4,
    "start_time": "2022-09-01T09:39:31.550Z"
   },
   {
    "duration": 4,
    "start_time": "2022-09-01T09:39:44.520Z"
   },
   {
    "duration": 4,
    "start_time": "2022-09-01T09:40:02.171Z"
   },
   {
    "duration": 3,
    "start_time": "2022-09-01T09:40:20.319Z"
   },
   {
    "duration": 162,
    "start_time": "2022-09-01T09:40:50.369Z"
   },
   {
    "duration": 114,
    "start_time": "2022-09-01T09:41:47.569Z"
   },
   {
    "duration": 4,
    "start_time": "2022-09-01T09:41:50.847Z"
   },
   {
    "duration": 3,
    "start_time": "2022-09-01T09:41:56.750Z"
   },
   {
    "duration": 5,
    "start_time": "2022-09-01T09:42:32.330Z"
   },
   {
    "duration": 4,
    "start_time": "2022-09-01T09:42:39.474Z"
   },
   {
    "duration": 1536,
    "start_time": "2022-09-01T09:44:03.169Z"
   },
   {
    "duration": 904,
    "start_time": "2022-09-01T09:44:04.707Z"
   },
   {
    "duration": 3,
    "start_time": "2022-09-01T09:44:05.613Z"
   },
   {
    "duration": 13,
    "start_time": "2022-09-01T09:44:05.618Z"
   },
   {
    "duration": 839,
    "start_time": "2022-09-01T09:44:05.634Z"
   },
   {
    "duration": 75,
    "start_time": "2022-09-01T09:44:06.476Z"
   },
   {
    "duration": 3,
    "start_time": "2022-09-01T09:44:06.553Z"
   },
   {
    "duration": 2250,
    "start_time": "2022-09-01T09:44:06.563Z"
   },
   {
    "duration": 98,
    "start_time": "2022-09-01T09:44:08.816Z"
   },
   {
    "duration": 376,
    "start_time": "2022-09-01T09:44:08.915Z"
   },
   {
    "duration": 206,
    "start_time": "2022-09-01T09:44:09.294Z"
   },
   {
    "duration": 28,
    "start_time": "2022-09-01T09:44:09.502Z"
   },
   {
    "duration": 328,
    "start_time": "2022-09-01T09:44:09.532Z"
   },
   {
    "duration": 0,
    "start_time": "2022-09-01T09:44:09.862Z"
   },
   {
    "duration": 0,
    "start_time": "2022-09-01T09:44:09.863Z"
   },
   {
    "duration": 0,
    "start_time": "2022-09-01T09:44:09.864Z"
   },
   {
    "duration": 249,
    "start_time": "2022-09-01T09:44:38.343Z"
   },
   {
    "duration": 20,
    "start_time": "2022-09-01T09:44:52.830Z"
   },
   {
    "duration": 263,
    "start_time": "2022-09-01T09:44:53.246Z"
   },
   {
    "duration": 4,
    "start_time": "2022-09-01T09:44:56.742Z"
   },
   {
    "duration": 1568,
    "start_time": "2022-09-01T11:39:58.271Z"
   },
   {
    "duration": 920,
    "start_time": "2022-09-01T11:39:59.841Z"
   },
   {
    "duration": 3,
    "start_time": "2022-09-01T11:40:00.763Z"
   },
   {
    "duration": 13,
    "start_time": "2022-09-01T11:40:00.768Z"
   },
   {
    "duration": 839,
    "start_time": "2022-09-01T11:40:00.782Z"
   },
   {
    "duration": 73,
    "start_time": "2022-09-01T11:40:01.623Z"
   },
   {
    "duration": 3,
    "start_time": "2022-09-01T11:40:01.698Z"
   },
   {
    "duration": 2275,
    "start_time": "2022-09-01T11:40:01.703Z"
   },
   {
    "duration": 103,
    "start_time": "2022-09-01T11:40:03.980Z"
   },
   {
    "duration": 365,
    "start_time": "2022-09-01T11:40:04.085Z"
   },
   {
    "duration": 169,
    "start_time": "2022-09-01T11:40:04.452Z"
   },
   {
    "duration": 24,
    "start_time": "2022-09-01T11:40:04.623Z"
   },
   {
    "duration": 326,
    "start_time": "2022-09-01T11:40:04.649Z"
   },
   {
    "duration": 29,
    "start_time": "2022-09-01T11:40:04.977Z"
   },
   {
    "duration": 275,
    "start_time": "2022-09-01T11:40:05.007Z"
   },
   {
    "duration": 11,
    "start_time": "2022-09-01T11:40:05.283Z"
   },
   {
    "duration": 4,
    "start_time": "2022-09-01T11:43:24.845Z"
   },
   {
    "duration": 112,
    "start_time": "2022-09-01T11:43:39.498Z"
   },
   {
    "duration": 5,
    "start_time": "2022-09-01T11:44:10.674Z"
   },
   {
    "duration": 1753,
    "start_time": "2022-09-01T11:44:11.087Z"
   },
   {
    "duration": 4,
    "start_time": "2022-09-01T11:44:27.954Z"
   },
   {
    "duration": 349,
    "start_time": "2022-09-01T11:44:28.523Z"
   },
   {
    "duration": 4,
    "start_time": "2022-09-01T11:44:46.168Z"
   },
   {
    "duration": 357,
    "start_time": "2022-09-01T11:44:46.717Z"
   },
   {
    "duration": 4,
    "start_time": "2022-09-01T11:45:30.432Z"
   },
   {
    "duration": 15467,
    "start_time": "2022-09-01T11:45:31.136Z"
   },
   {
    "duration": 4,
    "start_time": "2022-09-01T11:45:53.638Z"
   },
   {
    "duration": 3,
    "start_time": "2022-09-01T11:45:57.321Z"
   },
   {
    "duration": 4,
    "start_time": "2022-09-01T11:46:00.402Z"
   },
   {
    "duration": 4,
    "start_time": "2022-09-01T11:47:07.763Z"
   },
   {
    "duration": 4,
    "start_time": "2022-09-01T11:47:40.264Z"
   },
   {
    "duration": 4,
    "start_time": "2022-09-01T11:47:56.058Z"
   },
   {
    "duration": 1730,
    "start_time": "2022-09-01T11:48:11.636Z"
   },
   {
    "duration": 2666,
    "start_time": "2022-09-01T11:48:13.368Z"
   },
   {
    "duration": 2,
    "start_time": "2022-09-01T11:48:16.036Z"
   },
   {
    "duration": 6,
    "start_time": "2022-09-01T11:48:16.040Z"
   },
   {
    "duration": 888,
    "start_time": "2022-09-01T11:48:16.048Z"
   },
   {
    "duration": 75,
    "start_time": "2022-09-01T11:48:16.937Z"
   },
   {
    "duration": 4,
    "start_time": "2022-09-01T11:48:17.013Z"
   },
   {
    "duration": 2539,
    "start_time": "2022-09-01T11:48:17.018Z"
   },
   {
    "duration": 111,
    "start_time": "2022-09-01T11:48:19.559Z"
   },
   {
    "duration": 424,
    "start_time": "2022-09-01T11:48:19.673Z"
   },
   {
    "duration": 184,
    "start_time": "2022-09-01T11:48:20.103Z"
   },
   {
    "duration": 28,
    "start_time": "2022-09-01T11:48:20.289Z"
   },
   {
    "duration": 342,
    "start_time": "2022-09-01T11:48:20.319Z"
   },
   {
    "duration": 20,
    "start_time": "2022-09-01T11:48:20.663Z"
   },
   {
    "duration": 297,
    "start_time": "2022-09-01T11:48:20.692Z"
   },
   {
    "duration": 8,
    "start_time": "2022-09-01T11:48:20.998Z"
   },
   {
    "duration": 12,
    "start_time": "2022-09-01T11:48:21.009Z"
   },
   {
    "duration": 11539,
    "start_time": "2022-09-01T11:48:21.023Z"
   },
   {
    "duration": 3,
    "start_time": "2022-09-01T11:48:32.564Z"
   },
   {
    "duration": 19,
    "start_time": "2022-09-01T11:48:32.569Z"
   },
   {
    "duration": 1583,
    "start_time": "2022-09-01T11:48:39.959Z"
   },
   {
    "duration": 1007,
    "start_time": "2022-09-01T11:48:41.544Z"
   },
   {
    "duration": 3,
    "start_time": "2022-09-01T11:48:42.552Z"
   },
   {
    "duration": 10,
    "start_time": "2022-09-01T11:48:42.557Z"
   },
   {
    "duration": 881,
    "start_time": "2022-09-01T11:48:42.569Z"
   },
   {
    "duration": 72,
    "start_time": "2022-09-01T11:48:43.451Z"
   },
   {
    "duration": 3,
    "start_time": "2022-09-01T11:48:43.525Z"
   },
   {
    "duration": 2413,
    "start_time": "2022-09-01T11:48:43.530Z"
   },
   {
    "duration": 116,
    "start_time": "2022-09-01T11:48:45.945Z"
   },
   {
    "duration": 396,
    "start_time": "2022-09-01T11:48:46.063Z"
   },
   {
    "duration": 197,
    "start_time": "2022-09-01T11:48:46.461Z"
   },
   {
    "duration": 38,
    "start_time": "2022-09-01T11:48:46.660Z"
   },
   {
    "duration": 355,
    "start_time": "2022-09-01T11:48:46.699Z"
   },
   {
    "duration": 37,
    "start_time": "2022-09-01T11:48:47.056Z"
   },
   {
    "duration": 282,
    "start_time": "2022-09-01T11:48:47.100Z"
   },
   {
    "duration": 7,
    "start_time": "2022-09-01T11:48:47.392Z"
   },
   {
    "duration": 4,
    "start_time": "2022-09-01T11:48:47.409Z"
   },
   {
    "duration": 8,
    "start_time": "2022-09-01T11:48:47.414Z"
   },
   {
    "duration": 12062,
    "start_time": "2022-09-01T11:48:47.424Z"
   },
   {
    "duration": 27,
    "start_time": "2022-09-01T11:50:13.771Z"
   },
   {
    "duration": 29,
    "start_time": "2022-09-01T11:50:29.238Z"
   },
   {
    "duration": 3,
    "start_time": "2022-09-01T11:55:22.696Z"
   },
   {
    "duration": 3,
    "start_time": "2022-09-01T11:55:29.505Z"
   },
   {
    "duration": 123,
    "start_time": "2022-09-01T11:55:35.597Z"
   },
   {
    "duration": 414,
    "start_time": "2022-09-01T11:55:48.235Z"
   },
   {
    "duration": 450,
    "start_time": "2022-09-01T11:56:04.911Z"
   },
   {
    "duration": 32,
    "start_time": "2022-09-01T11:56:08.393Z"
   },
   {
    "duration": 541,
    "start_time": "2022-09-01T11:57:35.143Z"
   },
   {
    "duration": 23,
    "start_time": "2022-09-01T11:57:38.494Z"
   },
   {
    "duration": 1548,
    "start_time": "2022-09-01T11:58:32.244Z"
   },
   {
    "duration": 863,
    "start_time": "2022-09-01T11:58:33.794Z"
   },
   {
    "duration": 2,
    "start_time": "2022-09-01T11:58:34.659Z"
   },
   {
    "duration": 7,
    "start_time": "2022-09-01T11:58:34.663Z"
   },
   {
    "duration": 851,
    "start_time": "2022-09-01T11:58:34.672Z"
   },
   {
    "duration": 73,
    "start_time": "2022-09-01T11:58:35.525Z"
   },
   {
    "duration": 3,
    "start_time": "2022-09-01T11:58:35.600Z"
   },
   {
    "duration": 2271,
    "start_time": "2022-09-01T11:58:35.605Z"
   },
   {
    "duration": 98,
    "start_time": "2022-09-01T11:58:37.878Z"
   },
   {
    "duration": 364,
    "start_time": "2022-09-01T11:58:37.977Z"
   },
   {
    "duration": 180,
    "start_time": "2022-09-01T11:58:38.343Z"
   },
   {
    "duration": 25,
    "start_time": "2022-09-01T11:58:38.525Z"
   },
   {
    "duration": 321,
    "start_time": "2022-09-01T11:58:38.552Z"
   },
   {
    "duration": 29,
    "start_time": "2022-09-01T11:58:38.876Z"
   },
   {
    "duration": 285,
    "start_time": "2022-09-01T11:58:38.907Z"
   },
   {
    "duration": 4,
    "start_time": "2022-09-01T11:58:39.194Z"
   },
   {
    "duration": 6,
    "start_time": "2022-09-01T11:58:39.201Z"
   },
   {
    "duration": 11,
    "start_time": "2022-09-01T11:58:39.208Z"
   },
   {
    "duration": 909,
    "start_time": "2022-09-01T11:58:39.221Z"
   },
   {
    "duration": 4,
    "start_time": "2022-09-01T11:58:40.131Z"
   },
   {
    "duration": 130,
    "start_time": "2022-09-01T11:58:40.136Z"
   },
   {
    "duration": 0,
    "start_time": "2022-09-01T11:58:40.268Z"
   },
   {
    "duration": 29,
    "start_time": "2022-09-01T11:59:29.084Z"
   },
   {
    "duration": 3,
    "start_time": "2022-09-01T12:00:42.757Z"
   },
   {
    "duration": 528,
    "start_time": "2022-09-01T12:00:43.415Z"
   },
   {
    "duration": 21,
    "start_time": "2022-09-01T12:00:44.884Z"
   },
   {
    "duration": 565,
    "start_time": "2022-09-01T12:00:57.214Z"
   },
   {
    "duration": 9,
    "start_time": "2022-09-01T12:01:36.011Z"
   },
   {
    "duration": 551,
    "start_time": "2022-09-01T12:01:46.685Z"
   },
   {
    "duration": 8,
    "start_time": "2022-09-01T12:01:51.042Z"
   },
   {
    "duration": 41,
    "start_time": "2022-09-01T12:02:24.090Z"
   },
   {
    "duration": 31,
    "start_time": "2022-09-01T12:02:27.786Z"
   },
   {
    "duration": 11,
    "start_time": "2022-09-01T12:02:35.543Z"
   },
   {
    "duration": 5,
    "start_time": "2022-09-01T12:03:00.785Z"
   },
   {
    "duration": 67,
    "start_time": "2022-09-01T12:03:04.482Z"
   },
   {
    "duration": 4,
    "start_time": "2022-09-01T12:03:26.937Z"
   },
   {
    "duration": 6,
    "start_time": "2022-09-01T12:03:33.283Z"
   },
   {
    "duration": 12,
    "start_time": "2022-09-01T12:04:06.131Z"
   },
   {
    "duration": 12,
    "start_time": "2022-09-01T12:04:32.890Z"
   },
   {
    "duration": 5,
    "start_time": "2022-09-01T12:06:14.223Z"
   },
   {
    "duration": 12,
    "start_time": "2022-09-01T12:06:31.035Z"
   },
   {
    "duration": 78,
    "start_time": "2022-09-01T12:06:40.930Z"
   },
   {
    "duration": 120,
    "start_time": "2022-09-01T12:06:46.977Z"
   },
   {
    "duration": 127,
    "start_time": "2022-09-01T12:07:56.868Z"
   },
   {
    "duration": 54,
    "start_time": "2022-09-01T12:09:50.139Z"
   },
   {
    "duration": 88,
    "start_time": "2022-09-01T12:10:07.510Z"
   },
   {
    "duration": 11,
    "start_time": "2022-09-01T12:12:37.005Z"
   },
   {
    "duration": 4,
    "start_time": "2022-09-01T12:13:12.780Z"
   },
   {
    "duration": 12,
    "start_time": "2022-09-01T12:13:17.127Z"
   },
   {
    "duration": 44,
    "start_time": "2022-09-01T12:14:13.707Z"
   },
   {
    "duration": 10,
    "start_time": "2022-09-01T12:14:47.265Z"
   },
   {
    "duration": 3,
    "start_time": "2022-09-01T12:15:30.781Z"
   },
   {
    "duration": 4,
    "start_time": "2022-09-01T12:15:35.467Z"
   },
   {
    "duration": 4,
    "start_time": "2022-09-01T12:15:48.073Z"
   },
   {
    "duration": 3,
    "start_time": "2022-09-01T12:15:52.934Z"
   },
   {
    "duration": 2,
    "start_time": "2022-09-01T12:17:40.638Z"
   },
   {
    "duration": 13,
    "start_time": "2022-09-01T12:17:42.076Z"
   },
   {
    "duration": 3,
    "start_time": "2022-09-01T12:17:49.822Z"
   },
   {
    "duration": 11,
    "start_time": "2022-09-01T12:17:50.738Z"
   },
   {
    "duration": 3,
    "start_time": "2022-09-01T12:22:20.655Z"
   },
   {
    "duration": 15,
    "start_time": "2022-09-01T12:28:02.107Z"
   },
   {
    "duration": 2002,
    "start_time": "2022-09-01T12:30:23.600Z"
   },
   {
    "duration": 2239,
    "start_time": "2022-09-01T12:31:20.960Z"
   },
   {
    "duration": 2293,
    "start_time": "2022-09-01T12:31:30.999Z"
   },
   {
    "duration": 12,
    "start_time": "2022-09-01T12:33:11.972Z"
   },
   {
    "duration": 4,
    "start_time": "2022-09-01T12:33:22.482Z"
   },
   {
    "duration": 5,
    "start_time": "2022-09-01T12:33:29.747Z"
   },
   {
    "duration": 25380,
    "start_time": "2022-09-01T12:33:36.424Z"
   },
   {
    "duration": 23922,
    "start_time": "2022-09-01T12:34:34.183Z"
   },
   {
    "duration": 3,
    "start_time": "2022-09-01T12:36:40.592Z"
   },
   {
    "duration": 4446,
    "start_time": "2022-09-01T12:36:45.851Z"
   },
   {
    "duration": 4,
    "start_time": "2022-09-01T12:36:56.812Z"
   },
   {
    "duration": 4047,
    "start_time": "2022-09-01T12:36:57.053Z"
   },
   {
    "duration": 4,
    "start_time": "2022-09-01T12:37:11.742Z"
   },
   {
    "duration": 3845,
    "start_time": "2022-09-01T12:37:12.255Z"
   },
   {
    "duration": 282,
    "start_time": "2022-09-01T12:38:34.920Z"
   },
   {
    "duration": 3,
    "start_time": "2022-09-01T12:41:30.236Z"
   },
   {
    "duration": 3478,
    "start_time": "2022-09-01T12:41:37.122Z"
   },
   {
    "duration": 19,
    "start_time": "2022-09-01T12:45:00.039Z"
   },
   {
    "duration": 9,
    "start_time": "2022-09-01T12:45:14.350Z"
   },
   {
    "duration": 9,
    "start_time": "2022-09-01T12:46:51.123Z"
   },
   {
    "duration": 4765,
    "start_time": "2022-09-01T12:47:18.828Z"
   },
   {
    "duration": 403444,
    "start_time": "2022-09-01T12:47:37.683Z"
   },
   {
    "duration": 9153,
    "start_time": "2022-09-01T12:54:22.965Z"
   },
   {
    "duration": 63943,
    "start_time": "2022-09-01T12:54:33.355Z"
   },
   {
    "duration": 126799,
    "start_time": "2022-09-01T12:55:38.398Z"
   },
   {
    "duration": 109355,
    "start_time": "2022-09-01T12:57:47.440Z"
   },
   {
    "duration": 51162,
    "start_time": "2022-09-01T12:59:43.182Z"
   },
   {
    "duration": 107553,
    "start_time": "2022-09-01T13:00:35.551Z"
   },
   {
    "duration": 9374,
    "start_time": "2022-09-01T13:04:59.220Z"
   },
   {
    "duration": 736,
    "start_time": "2022-09-01T13:05:25.262Z"
   },
   {
    "duration": 662,
    "start_time": "2022-09-01T13:06:11.249Z"
   },
   {
    "duration": 474827,
    "start_time": "2022-09-01T13:07:23.483Z"
   },
   {
    "duration": 16493,
    "start_time": "2022-09-01T13:16:02.104Z"
   },
   {
    "duration": 2327,
    "start_time": "2022-09-01T13:16:22.871Z"
   },
   {
    "duration": 1065231,
    "start_time": "2022-09-01T13:16:30.672Z"
   },
   {
    "duration": 33093,
    "start_time": "2022-09-01T13:34:39.612Z"
   },
   {
    "duration": 7495,
    "start_time": "2022-09-01T13:36:28.629Z"
   },
   {
    "duration": 11,
    "start_time": "2022-09-01T13:37:19.953Z"
   },
   {
    "duration": 9,
    "start_time": "2022-09-01T13:37:31.916Z"
   },
   {
    "duration": 13,
    "start_time": "2022-09-01T13:38:59.742Z"
   },
   {
    "duration": 12,
    "start_time": "2022-09-01T13:39:07.094Z"
   },
   {
    "duration": 10,
    "start_time": "2022-09-01T13:39:11.797Z"
   },
   {
    "duration": 31,
    "start_time": "2022-09-01T13:39:32.730Z"
   },
   {
    "duration": 8,
    "start_time": "2022-09-01T13:39:39.057Z"
   },
   {
    "duration": 247,
    "start_time": "2022-09-01T13:40:08.153Z"
   },
   {
    "duration": 54,
    "start_time": "2022-09-01T13:40:15.889Z"
   },
   {
    "duration": 13,
    "start_time": "2022-09-01T13:40:24.761Z"
   },
   {
    "duration": 14,
    "start_time": "2022-09-01T13:40:56.446Z"
   },
   {
    "duration": 10,
    "start_time": "2022-09-01T13:41:11.065Z"
   },
   {
    "duration": 129,
    "start_time": "2022-09-01T13:41:16.570Z"
   },
   {
    "duration": 54,
    "start_time": "2022-09-01T13:42:22.546Z"
   },
   {
    "duration": 46,
    "start_time": "2022-09-01T13:42:37.549Z"
   },
   {
    "duration": 122,
    "start_time": "2022-09-01T13:42:54.277Z"
   },
   {
    "duration": 140,
    "start_time": "2022-09-01T13:46:14.457Z"
   },
   {
    "duration": 45,
    "start_time": "2022-09-01T13:50:18.452Z"
   },
   {
    "duration": 46,
    "start_time": "2022-09-01T13:50:31.645Z"
   },
   {
    "duration": 78,
    "start_time": "2022-09-01T13:50:35.620Z"
   },
   {
    "duration": 210,
    "start_time": "2022-09-01T13:51:35.782Z"
   },
   {
    "duration": 58,
    "start_time": "2022-09-01T13:51:38.633Z"
   },
   {
    "duration": 6419,
    "start_time": "2022-09-01T13:52:00.100Z"
   },
   {
    "duration": 87,
    "start_time": "2022-09-01T13:52:56.157Z"
   },
   {
    "duration": 6494,
    "start_time": "2022-09-01T13:54:02.429Z"
   },
   {
    "duration": 141,
    "start_time": "2022-09-01T13:54:45.237Z"
   },
   {
    "duration": 6485,
    "start_time": "2022-09-01T13:54:58.938Z"
   },
   {
    "duration": 6489,
    "start_time": "2022-09-01T13:55:24.536Z"
   },
   {
    "duration": 44,
    "start_time": "2022-09-01T13:55:50.666Z"
   },
   {
    "duration": 8,
    "start_time": "2022-09-01T13:55:57.565Z"
   },
   {
    "duration": 9,
    "start_time": "2022-09-01T13:58:22.919Z"
   },
   {
    "duration": 54,
    "start_time": "2022-09-01T13:58:51.486Z"
   },
   {
    "duration": 2,
    "start_time": "2022-09-01T13:59:05.923Z"
   },
   {
    "duration": 4,
    "start_time": "2022-09-01T14:00:25.836Z"
   },
   {
    "duration": 6482,
    "start_time": "2022-09-01T14:00:39.048Z"
   },
   {
    "duration": 45,
    "start_time": "2022-09-01T14:00:50.545Z"
   },
   {
    "duration": 15,
    "start_time": "2022-09-01T14:00:57.128Z"
   },
   {
    "duration": 45559,
    "start_time": "2022-09-01T14:01:18.659Z"
   },
   {
    "duration": 0,
    "start_time": "2022-09-01T14:02:04.220Z"
   },
   {
    "duration": 97,
    "start_time": "2022-09-01T14:02:14.185Z"
   },
   {
    "duration": 83,
    "start_time": "2022-09-01T14:02:24.642Z"
   },
   {
    "duration": 45,
    "start_time": "2022-09-01T14:02:45.941Z"
   },
   {
    "duration": 91,
    "start_time": "2022-09-01T14:03:00.113Z"
   },
   {
    "duration": 83,
    "start_time": "2022-09-01T14:03:21.682Z"
   },
   {
    "duration": 47,
    "start_time": "2022-09-01T14:03:52.725Z"
   },
   {
    "duration": 112,
    "start_time": "2022-09-01T14:04:05.929Z"
   },
   {
    "duration": 101,
    "start_time": "2022-09-01T14:04:34.766Z"
   },
   {
    "duration": 98,
    "start_time": "2022-09-01T14:04:40.702Z"
   },
   {
    "duration": 62,
    "start_time": "2022-09-01T14:06:45.746Z"
   },
   {
    "duration": 123,
    "start_time": "2022-09-01T14:07:04.870Z"
   },
   {
    "duration": 87,
    "start_time": "2022-09-01T14:09:04.955Z"
   },
   {
    "duration": 84,
    "start_time": "2022-09-01T14:09:20.002Z"
   },
   {
    "duration": 0,
    "start_time": "2022-09-01T14:10:33.912Z"
   },
   {
    "duration": 0,
    "start_time": "2022-09-01T14:10:33.913Z"
   },
   {
    "duration": 1544,
    "start_time": "2022-09-01T14:10:44.215Z"
   },
   {
    "duration": 919,
    "start_time": "2022-09-01T14:10:45.761Z"
   },
   {
    "duration": 3,
    "start_time": "2022-09-01T14:10:46.682Z"
   },
   {
    "duration": 5,
    "start_time": "2022-09-01T14:10:46.692Z"
   },
   {
    "duration": 928,
    "start_time": "2022-09-01T14:10:46.699Z"
   },
   {
    "duration": 74,
    "start_time": "2022-09-01T14:10:47.629Z"
   },
   {
    "duration": 3,
    "start_time": "2022-09-01T14:10:47.704Z"
   },
   {
    "duration": 2367,
    "start_time": "2022-09-01T14:10:47.709Z"
   },
   {
    "duration": 101,
    "start_time": "2022-09-01T14:10:50.078Z"
   },
   {
    "duration": 388,
    "start_time": "2022-09-01T14:10:50.192Z"
   },
   {
    "duration": 182,
    "start_time": "2022-09-01T14:10:50.591Z"
   },
   {
    "duration": 20,
    "start_time": "2022-09-01T14:10:50.775Z"
   },
   {
    "duration": 256,
    "start_time": "2022-09-01T14:10:50.797Z"
   },
   {
    "duration": 21,
    "start_time": "2022-09-01T14:10:51.055Z"
   },
   {
    "duration": 297,
    "start_time": "2022-09-01T14:10:51.078Z"
   },
   {
    "duration": 4,
    "start_time": "2022-09-01T14:10:51.377Z"
   },
   {
    "duration": 5,
    "start_time": "2022-09-01T14:10:51.393Z"
   },
   {
    "duration": 631,
    "start_time": "2022-09-01T14:10:51.400Z"
   },
   {
    "duration": 10,
    "start_time": "2022-09-01T14:10:52.034Z"
   },
   {
    "duration": 74,
    "start_time": "2022-09-01T14:10:52.046Z"
   },
   {
    "duration": 38,
    "start_time": "2022-09-01T14:10:52.125Z"
   },
   {
    "duration": 82,
    "start_time": "2022-09-01T14:10:52.165Z"
   },
   {
    "duration": 4,
    "start_time": "2022-09-01T14:10:52.249Z"
   },
   {
    "duration": 9,
    "start_time": "2022-09-01T14:10:52.255Z"
   },
   {
    "duration": 26,
    "start_time": "2022-09-01T14:10:52.266Z"
   },
   {
    "duration": 180,
    "start_time": "2022-09-01T14:10:52.294Z"
   },
   {
    "duration": 6532,
    "start_time": "2022-09-01T14:11:20.963Z"
   },
   {
    "duration": 258,
    "start_time": "2022-09-01T14:11:32.579Z"
   },
   {
    "duration": 52,
    "start_time": "2022-09-01T14:11:38.958Z"
   },
   {
    "duration": 0,
    "start_time": "2022-09-01T14:12:36.494Z"
   },
   {
    "duration": 1802,
    "start_time": "2022-09-01T14:17:14.029Z"
   },
   {
    "duration": 899,
    "start_time": "2022-09-01T14:17:15.833Z"
   },
   {
    "duration": 2,
    "start_time": "2022-09-01T14:17:16.734Z"
   },
   {
    "duration": 17,
    "start_time": "2022-09-01T14:17:16.738Z"
   },
   {
    "duration": 843,
    "start_time": "2022-09-01T14:17:16.758Z"
   },
   {
    "duration": 62,
    "start_time": "2022-09-01T14:17:17.604Z"
   },
   {
    "duration": 4,
    "start_time": "2022-09-01T14:17:17.668Z"
   },
   {
    "duration": 2350,
    "start_time": "2022-09-01T14:17:17.691Z"
   },
   {
    "duration": 104,
    "start_time": "2022-09-01T14:17:20.043Z"
   },
   {
    "duration": 372,
    "start_time": "2022-09-01T14:17:20.149Z"
   },
   {
    "duration": 175,
    "start_time": "2022-09-01T14:17:20.523Z"
   },
   {
    "duration": 16,
    "start_time": "2022-09-01T14:17:20.700Z"
   },
   {
    "duration": 284,
    "start_time": "2022-09-01T14:17:20.718Z"
   },
   {
    "duration": 23,
    "start_time": "2022-09-01T14:17:21.006Z"
   },
   {
    "duration": 296,
    "start_time": "2022-09-01T14:17:21.031Z"
   },
   {
    "duration": 4,
    "start_time": "2022-09-01T14:17:21.329Z"
   },
   {
    "duration": 5,
    "start_time": "2022-09-01T14:17:21.335Z"
   },
   {
    "duration": 640,
    "start_time": "2022-09-01T14:17:21.342Z"
   },
   {
    "duration": 16,
    "start_time": "2022-09-01T14:17:21.983Z"
   },
   {
    "duration": 73,
    "start_time": "2022-09-01T14:17:22.002Z"
   },
   {
    "duration": 52,
    "start_time": "2022-09-01T14:17:22.078Z"
   },
   {
    "duration": 97,
    "start_time": "2022-09-01T14:17:22.132Z"
   },
   {
    "duration": 5,
    "start_time": "2022-09-01T14:17:22.231Z"
   },
   {
    "duration": 22,
    "start_time": "2022-09-01T14:17:22.238Z"
   },
   {
    "duration": 4,
    "start_time": "2022-09-01T14:17:22.262Z"
   },
   {
    "duration": 257,
    "start_time": "2022-09-01T14:17:22.268Z"
   },
   {
    "duration": 0,
    "start_time": "2022-09-01T14:17:22.527Z"
   },
   {
    "duration": 0,
    "start_time": "2022-09-01T14:17:22.529Z"
   },
   {
    "duration": 0,
    "start_time": "2022-09-01T14:17:22.530Z"
   },
   {
    "duration": 0,
    "start_time": "2022-09-01T14:17:22.531Z"
   },
   {
    "duration": 0,
    "start_time": "2022-09-01T14:17:22.532Z"
   },
   {
    "duration": 0,
    "start_time": "2022-09-01T14:17:22.533Z"
   },
   {
    "duration": 1,
    "start_time": "2022-09-01T14:17:22.534Z"
   },
   {
    "duration": 0,
    "start_time": "2022-09-01T14:17:22.536Z"
   },
   {
    "duration": 0,
    "start_time": "2022-09-01T14:17:22.537Z"
   },
   {
    "duration": 101,
    "start_time": "2022-09-01T14:17:34.894Z"
   },
   {
    "duration": 6492,
    "start_time": "2022-09-01T14:17:38.232Z"
   },
   {
    "duration": 46,
    "start_time": "2022-09-01T14:17:50.761Z"
   },
   {
    "duration": 14,
    "start_time": "2022-09-01T14:17:52.670Z"
   },
   {
    "duration": 56974,
    "start_time": "2022-09-01T14:17:56.527Z"
   },
   {
    "duration": 1554,
    "start_time": "2022-09-01T14:39:55.859Z"
   },
   {
    "duration": 895,
    "start_time": "2022-09-01T14:39:57.415Z"
   },
   {
    "duration": 3,
    "start_time": "2022-09-01T14:39:58.313Z"
   },
   {
    "duration": 7,
    "start_time": "2022-09-01T14:39:58.318Z"
   },
   {
    "duration": 903,
    "start_time": "2022-09-01T14:39:58.327Z"
   },
   {
    "duration": 75,
    "start_time": "2022-09-01T14:39:59.233Z"
   },
   {
    "duration": 3,
    "start_time": "2022-09-01T14:39:59.310Z"
   },
   {
    "duration": 2368,
    "start_time": "2022-09-01T14:39:59.315Z"
   },
   {
    "duration": 94,
    "start_time": "2022-09-01T14:40:07.829Z"
   },
   {
    "duration": 359,
    "start_time": "2022-09-01T14:40:08.252Z"
   },
   {
    "duration": 171,
    "start_time": "2022-09-01T14:40:12.564Z"
   },
   {
    "duration": 6,
    "start_time": "2022-09-01T14:40:21.363Z"
   },
   {
    "duration": 9,
    "start_time": "2022-09-01T14:40:28.613Z"
   },
   {
    "duration": 14,
    "start_time": "2022-09-01T14:40:35.508Z"
   },
   {
    "duration": 15,
    "start_time": "2022-09-01T14:41:32.174Z"
   },
   {
    "duration": 11,
    "start_time": "2022-09-01T14:41:50.308Z"
   },
   {
    "duration": 28,
    "start_time": "2022-09-01T14:43:30.366Z"
   },
   {
    "duration": 8,
    "start_time": "2022-09-01T14:43:48.971Z"
   },
   {
    "duration": 1514,
    "start_time": "2022-09-01T15:29:49.174Z"
   },
   {
    "duration": 824,
    "start_time": "2022-09-01T15:29:50.690Z"
   },
   {
    "duration": 3,
    "start_time": "2022-09-01T15:29:51.516Z"
   },
   {
    "duration": 12,
    "start_time": "2022-09-01T15:29:51.521Z"
   },
   {
    "duration": 866,
    "start_time": "2022-09-01T15:29:51.534Z"
   },
   {
    "duration": 53,
    "start_time": "2022-09-01T15:29:52.402Z"
   },
   {
    "duration": 6,
    "start_time": "2022-09-01T15:29:52.457Z"
   },
   {
    "duration": 2267,
    "start_time": "2022-09-01T15:29:52.464Z"
   },
   {
    "duration": 103,
    "start_time": "2022-09-01T15:29:54.734Z"
   },
   {
    "duration": 369,
    "start_time": "2022-09-01T15:29:54.839Z"
   },
   {
    "duration": 171,
    "start_time": "2022-09-01T15:29:55.210Z"
   },
   {
    "duration": 11,
    "start_time": "2022-09-01T15:30:07.614Z"
   },
   {
    "duration": 15,
    "start_time": "2022-09-01T15:30:13.774Z"
   },
   {
    "duration": 132,
    "start_time": "2022-09-01T15:30:24.334Z"
   },
   {
    "duration": 192,
    "start_time": "2022-09-01T15:30:31.782Z"
   },
   {
    "duration": 140,
    "start_time": "2022-09-01T15:30:45.534Z"
   },
   {
    "duration": 120,
    "start_time": "2022-09-01T15:30:56.294Z"
   },
   {
    "duration": 165,
    "start_time": "2022-09-01T15:30:59.694Z"
   },
   {
    "duration": 10,
    "start_time": "2022-09-01T15:31:11.214Z"
   },
   {
    "duration": 153,
    "start_time": "2022-09-01T15:31:24.094Z"
   },
   {
    "duration": 136,
    "start_time": "2022-09-01T15:31:35.110Z"
   },
   {
    "duration": 124,
    "start_time": "2022-09-01T15:31:44.533Z"
   },
   {
    "duration": 242,
    "start_time": "2022-09-01T15:31:47.814Z"
   },
   {
    "duration": 330,
    "start_time": "2022-09-01T15:31:57.574Z"
   },
   {
    "duration": 27,
    "start_time": "2022-09-01T15:32:29.094Z"
   },
   {
    "duration": 9,
    "start_time": "2022-09-01T15:32:31.246Z"
   },
   {
    "duration": 254,
    "start_time": "2022-09-01T15:33:04.413Z"
   },
   {
    "duration": 267,
    "start_time": "2022-09-01T15:33:14.262Z"
   },
   {
    "duration": 227,
    "start_time": "2022-09-01T15:33:21.933Z"
   },
   {
    "duration": 229,
    "start_time": "2022-09-01T15:33:46.774Z"
   },
   {
    "duration": 196,
    "start_time": "2022-09-01T15:33:55.302Z"
   },
   {
    "duration": 240,
    "start_time": "2022-09-01T15:34:26.671Z"
   },
   {
    "duration": 167,
    "start_time": "2022-09-01T15:34:32.046Z"
   },
   {
    "duration": 1433,
    "start_time": "2022-09-01T15:34:35.654Z"
   },
   {
    "duration": 326,
    "start_time": "2022-09-01T15:34:42.293Z"
   },
   {
    "duration": 201,
    "start_time": "2022-09-01T15:34:50.894Z"
   },
   {
    "duration": 527,
    "start_time": "2022-09-01T15:34:59.374Z"
   },
   {
    "duration": 151,
    "start_time": "2022-09-01T15:35:09.934Z"
   },
   {
    "duration": 155,
    "start_time": "2022-09-01T15:35:12.973Z"
   },
   {
    "duration": 150,
    "start_time": "2022-09-01T15:35:15.693Z"
   },
   {
    "duration": 173,
    "start_time": "2022-09-01T15:35:18.934Z"
   },
   {
    "duration": 9,
    "start_time": "2022-09-01T15:36:26.254Z"
   },
   {
    "duration": 499,
    "start_time": "2022-09-01T15:37:18.700Z"
   },
   {
    "duration": 200,
    "start_time": "2022-09-01T15:37:36.652Z"
   },
   {
    "duration": 6,
    "start_time": "2022-09-01T15:38:22.923Z"
   },
   {
    "duration": 7,
    "start_time": "2022-09-01T15:38:37.124Z"
   },
   {
    "duration": 6,
    "start_time": "2022-09-01T15:39:14.237Z"
   },
   {
    "duration": 94,
    "start_time": "2022-09-01T15:39:24.836Z"
   },
   {
    "duration": 14,
    "start_time": "2022-09-01T15:39:27.669Z"
   },
   {
    "duration": 93,
    "start_time": "2022-09-01T15:39:43.544Z"
   },
   {
    "duration": 11,
    "start_time": "2022-09-01T15:40:09.878Z"
   },
   {
    "duration": 11,
    "start_time": "2022-09-01T15:40:32.203Z"
   },
   {
    "duration": 1438,
    "start_time": "2022-09-01T21:06:44.428Z"
   },
   {
    "duration": 2777,
    "start_time": "2022-09-01T21:06:45.867Z"
   },
   {
    "duration": 3,
    "start_time": "2022-09-01T21:06:49.307Z"
   },
   {
    "duration": 4,
    "start_time": "2022-09-01T21:06:50.066Z"
   },
   {
    "duration": 625,
    "start_time": "2022-09-01T21:06:51.425Z"
   },
   {
    "duration": 52,
    "start_time": "2022-09-01T21:06:52.373Z"
   },
   {
    "duration": 3,
    "start_time": "2022-09-01T21:06:54.163Z"
   },
   {
    "duration": 1812,
    "start_time": "2022-09-01T21:06:55.768Z"
   },
   {
    "duration": 70,
    "start_time": "2022-09-01T21:06:57.928Z"
   },
   {
    "duration": 275,
    "start_time": "2022-09-01T21:06:59.043Z"
   },
   {
    "duration": 157,
    "start_time": "2022-09-01T21:06:59.971Z"
   },
   {
    "duration": 9,
    "start_time": "2022-09-01T21:07:01.061Z"
   },
   {
    "duration": 10,
    "start_time": "2022-09-01T21:07:02.440Z"
   },
   {
    "duration": 210,
    "start_time": "2022-09-01T21:07:03.220Z"
   },
   {
    "duration": 22,
    "start_time": "2022-09-01T21:07:05.087Z"
   },
   {
    "duration": 141,
    "start_time": "2022-09-01T21:07:16.120Z"
   },
   {
    "duration": 161,
    "start_time": "2022-09-01T21:07:22.485Z"
   },
   {
    "duration": 9,
    "start_time": "2022-09-01T21:07:51.291Z"
   },
   {
    "duration": 103,
    "start_time": "2022-09-01T21:10:04.961Z"
   },
   {
    "duration": 7,
    "start_time": "2022-09-01T21:10:47.817Z"
   },
   {
    "duration": 113,
    "start_time": "2022-09-01T21:12:09.745Z"
   },
   {
    "duration": 145,
    "start_time": "2022-09-01T21:12:29.649Z"
   },
   {
    "duration": 124,
    "start_time": "2022-09-01T21:12:58.268Z"
   },
   {
    "duration": 158,
    "start_time": "2022-09-01T21:13:27.913Z"
   },
   {
    "duration": 221,
    "start_time": "2022-09-01T21:13:32.980Z"
   },
   {
    "duration": 310,
    "start_time": "2022-09-01T21:14:08.164Z"
   },
   {
    "duration": 17,
    "start_time": "2022-09-01T21:14:22.013Z"
   },
   {
    "duration": 198,
    "start_time": "2022-09-01T21:14:25.152Z"
   },
   {
    "duration": 4,
    "start_time": "2022-09-01T21:14:29.496Z"
   },
   {
    "duration": 3,
    "start_time": "2022-09-01T21:14:43.512Z"
   },
   {
    "duration": 458,
    "start_time": "2022-09-01T21:14:43.839Z"
   },
   {
    "duration": 9,
    "start_time": "2022-09-01T21:14:44.298Z"
   },
   {
    "duration": 41,
    "start_time": "2022-09-01T21:14:44.309Z"
   },
   {
    "duration": 26,
    "start_time": "2022-09-01T21:14:44.507Z"
   },
   {
    "duration": 57,
    "start_time": "2022-09-01T21:14:45.451Z"
   },
   {
    "duration": 4,
    "start_time": "2022-09-01T21:14:46.247Z"
   },
   {
    "duration": 5,
    "start_time": "2022-09-01T21:14:47.095Z"
   },
   {
    "duration": 4,
    "start_time": "2022-09-01T21:14:51.007Z"
   },
   {
    "duration": 67,
    "start_time": "2022-09-01T21:14:52.544Z"
   },
   {
    "duration": 6391,
    "start_time": "2022-09-01T21:14:54.431Z"
   },
   {
    "duration": 40,
    "start_time": "2022-09-01T21:15:05.047Z"
   },
   {
    "duration": 7,
    "start_time": "2022-09-01T21:15:08.975Z"
   },
   {
    "duration": 3763,
    "start_time": "2022-09-01T21:15:12.160Z"
   },
   {
    "duration": 39,
    "start_time": "2022-09-01T21:15:19.390Z"
   },
   {
    "duration": 379820,
    "start_time": "2022-09-01T21:15:27.296Z"
   },
   {
    "duration": 23048,
    "start_time": "2022-09-01T21:28:44.767Z"
   },
   {
    "duration": 5125,
    "start_time": "2022-09-01T21:29:12.086Z"
   },
   {
    "duration": 5065,
    "start_time": "2022-09-01T21:29:22.360Z"
   },
   {
    "duration": 81,
    "start_time": "2022-09-01T21:29:53.588Z"
   },
   {
    "duration": 203654,
    "start_time": "2022-09-01T21:30:03.039Z"
   },
   {
    "duration": 220708,
    "start_time": "2022-09-01T21:35:05.775Z"
   },
   {
    "duration": 201001,
    "start_time": "2022-09-01T21:39:50.147Z"
   },
   {
    "duration": 21103,
    "start_time": "2022-09-01T21:45:26.118Z"
   },
   {
    "duration": 67341,
    "start_time": "2022-09-01T21:52:54.248Z"
   },
   {
    "duration": 446046,
    "start_time": "2022-09-01T21:59:48.401Z"
   },
   {
    "duration": 104032,
    "start_time": "2022-09-01T22:07:54.463Z"
   },
   {
    "duration": 195398,
    "start_time": "2022-09-01T22:09:45.580Z"
   },
   {
    "duration": 1149,
    "start_time": "2022-09-01T22:13:05.970Z"
   },
   {
    "duration": 12,
    "start_time": "2022-09-01T22:13:11.806Z"
   },
   {
    "duration": 80,
    "start_time": "2022-09-01T22:15:42.612Z"
   },
   {
    "duration": 4143,
    "start_time": "2022-09-01T22:15:55.253Z"
   },
   {
    "duration": 25,
    "start_time": "2022-09-01T22:16:04.987Z"
   },
   {
    "duration": 191586,
    "start_time": "2022-09-01T22:19:21.725Z"
   },
   {
    "duration": 2486,
    "start_time": "2022-09-01T22:22:41.325Z"
   },
   {
    "duration": 13,
    "start_time": "2022-09-01T22:22:47.032Z"
   },
   {
    "duration": 1607,
    "start_time": "2022-09-02T06:35:33.488Z"
   },
   {
    "duration": 1107,
    "start_time": "2022-09-02T06:35:35.097Z"
   },
   {
    "duration": 1367,
    "start_time": "2022-09-02T06:36:21.412Z"
   },
   {
    "duration": 818,
    "start_time": "2022-09-02T06:36:22.781Z"
   },
   {
    "duration": 3,
    "start_time": "2022-09-02T06:36:23.601Z"
   },
   {
    "duration": 8,
    "start_time": "2022-09-02T06:36:23.606Z"
   },
   {
    "duration": 782,
    "start_time": "2022-09-02T06:36:23.616Z"
   },
   {
    "duration": 60,
    "start_time": "2022-09-02T06:36:24.402Z"
   },
   {
    "duration": 5,
    "start_time": "2022-09-02T06:36:24.464Z"
   },
   {
    "duration": 2027,
    "start_time": "2022-09-02T06:36:24.526Z"
   },
   {
    "duration": 87,
    "start_time": "2022-09-02T06:36:26.555Z"
   },
   {
    "duration": 315,
    "start_time": "2022-09-02T06:36:26.644Z"
   },
   {
    "duration": 175,
    "start_time": "2022-09-02T06:36:26.961Z"
   },
   {
    "duration": 11,
    "start_time": "2022-09-02T06:36:38.289Z"
   },
   {
    "duration": 11,
    "start_time": "2022-09-02T06:36:41.137Z"
   },
   {
    "duration": 242,
    "start_time": "2022-09-02T06:36:44.937Z"
   },
   {
    "duration": 26,
    "start_time": "2022-09-02T06:36:48.673Z"
   },
   {
    "duration": 10,
    "start_time": "2022-09-02T06:36:49.482Z"
   },
   {
    "duration": 184,
    "start_time": "2022-09-02T06:36:56.645Z"
   },
   {
    "duration": 11,
    "start_time": "2022-09-02T06:37:04.479Z"
   },
   {
    "duration": 115,
    "start_time": "2022-09-02T06:37:05.510Z"
   },
   {
    "duration": 8,
    "start_time": "2022-09-02T06:37:09.544Z"
   },
   {
    "duration": 318,
    "start_time": "2022-09-02T06:37:18.293Z"
   },
   {
    "duration": 22,
    "start_time": "2022-09-02T06:37:27.503Z"
   },
   {
    "duration": 248,
    "start_time": "2022-09-02T06:37:28.101Z"
   },
   {
    "duration": 4,
    "start_time": "2022-09-02T06:37:28.697Z"
   },
   {
    "duration": 2,
    "start_time": "2022-09-02T06:37:31.722Z"
   },
   {
    "duration": 511,
    "start_time": "2022-09-02T06:37:31.973Z"
   },
   {
    "duration": 8,
    "start_time": "2022-09-02T06:37:32.486Z"
   },
   {
    "duration": 45,
    "start_time": "2022-09-02T06:37:52.310Z"
   },
   {
    "duration": 29,
    "start_time": "2022-09-02T06:37:52.663Z"
   },
   {
    "duration": 65,
    "start_time": "2022-09-02T06:37:53.071Z"
   },
   {
    "duration": 4,
    "start_time": "2022-09-02T06:37:54.210Z"
   },
   {
    "duration": 6,
    "start_time": "2022-09-02T06:37:54.794Z"
   },
   {
    "duration": 4,
    "start_time": "2022-09-02T06:37:57.118Z"
   },
   {
    "duration": 146,
    "start_time": "2022-09-02T06:37:59.157Z"
   },
   {
    "duration": 6431,
    "start_time": "2022-09-02T06:38:00.702Z"
   },
   {
    "duration": 43,
    "start_time": "2022-09-02T06:38:08.501Z"
   },
   {
    "duration": 13,
    "start_time": "2022-09-02T06:38:10.426Z"
   },
   {
    "duration": 19405,
    "start_time": "2022-09-02T06:38:15.197Z"
   },
   {
    "duration": 1063545,
    "start_time": "2022-09-02T06:38:41.570Z"
   },
   {
    "duration": 29238,
    "start_time": "2022-09-02T06:56:37.178Z"
   },
   {
    "duration": 5374,
    "start_time": "2022-09-02T06:57:11.229Z"
   },
   {
    "duration": 23895,
    "start_time": "2022-09-02T06:57:24.692Z"
   },
   {
    "duration": 159942,
    "start_time": "2022-09-02T06:58:08.547Z"
   },
   {
    "duration": 5399,
    "start_time": "2022-09-02T07:00:49.916Z"
   },
   {
    "duration": 2152667,
    "start_time": "2022-09-02T07:00:58.310Z"
   },
   {
    "duration": 88001,
    "start_time": "2022-09-02T07:38:51.400Z"
   },
   {
    "duration": 50,
    "start_time": "2022-09-02T07:40:19.403Z"
   },
   {
    "duration": 664879,
    "start_time": "2022-09-02T07:42:26.810Z"
   },
   {
    "duration": 23761,
    "start_time": "2022-09-02T07:54:26.364Z"
   },
   {
    "duration": 59,
    "start_time": "2022-09-02T07:54:52.764Z"
   },
   {
    "duration": 10,
    "start_time": "2022-09-02T07:57:16.743Z"
   },
   {
    "duration": 8,
    "start_time": "2022-09-02T07:57:32.924Z"
   },
   {
    "duration": 68,
    "start_time": "2022-09-02T07:57:55.566Z"
   },
   {
    "duration": 12,
    "start_time": "2022-09-02T07:57:58.944Z"
   },
   {
    "duration": 70,
    "start_time": "2022-09-02T07:58:19.867Z"
   },
   {
    "duration": 5285,
    "start_time": "2022-09-02T07:58:43.432Z"
   },
   {
    "duration": 64,
    "start_time": "2022-09-02T07:59:15.221Z"
   },
   {
    "duration": 61,
    "start_time": "2022-09-02T07:59:43.805Z"
   },
   {
    "duration": 64,
    "start_time": "2022-09-02T07:59:58.771Z"
   },
   {
    "duration": 11,
    "start_time": "2022-09-02T08:01:58.993Z"
   },
   {
    "duration": 3,
    "start_time": "2022-09-02T08:02:12.705Z"
   },
   {
    "duration": 4,
    "start_time": "2022-09-02T08:02:25.681Z"
   },
   {
    "duration": 1454,
    "start_time": "2022-09-02T08:17:57.330Z"
   },
   {
    "duration": 857,
    "start_time": "2022-09-02T08:17:58.786Z"
   },
   {
    "duration": 3,
    "start_time": "2022-09-02T08:17:59.645Z"
   },
   {
    "duration": 6,
    "start_time": "2022-09-02T08:17:59.649Z"
   },
   {
    "duration": 757,
    "start_time": "2022-09-02T08:17:59.657Z"
   },
   {
    "duration": 57,
    "start_time": "2022-09-02T08:18:00.416Z"
   },
   {
    "duration": 3,
    "start_time": "2022-09-02T08:18:00.475Z"
   },
   {
    "duration": 2120,
    "start_time": "2022-09-02T08:18:00.480Z"
   },
   {
    "duration": 82,
    "start_time": "2022-09-02T08:18:02.603Z"
   },
   {
    "duration": 348,
    "start_time": "2022-09-02T08:18:02.688Z"
   },
   {
    "duration": 181,
    "start_time": "2022-09-02T08:18:03.038Z"
   },
   {
    "duration": 10,
    "start_time": "2022-09-02T08:18:03.221Z"
   },
   {
    "duration": 37,
    "start_time": "2022-09-02T08:18:03.232Z"
   },
   {
    "duration": 248,
    "start_time": "2022-09-02T08:18:03.271Z"
   },
   {
    "duration": 24,
    "start_time": "2022-09-02T08:18:03.521Z"
   },
   {
    "duration": 23,
    "start_time": "2022-09-02T08:18:03.547Z"
   },
   {
    "duration": 203,
    "start_time": "2022-09-02T08:18:03.572Z"
   },
   {
    "duration": 11,
    "start_time": "2022-09-02T08:18:03.777Z"
   },
   {
    "duration": 158,
    "start_time": "2022-09-02T08:18:03.790Z"
   },
   {
    "duration": 10,
    "start_time": "2022-09-02T08:18:03.950Z"
   },
   {
    "duration": 294,
    "start_time": "2022-09-02T08:18:03.962Z"
   },
   {
    "duration": 20,
    "start_time": "2022-09-02T08:18:04.258Z"
   },
   {
    "duration": 267,
    "start_time": "2022-09-02T08:18:04.280Z"
   },
   {
    "duration": 4,
    "start_time": "2022-09-02T08:18:04.549Z"
   },
   {
    "duration": 29,
    "start_time": "2022-09-02T08:18:04.555Z"
   },
   {
    "duration": 540,
    "start_time": "2022-09-02T08:18:04.586Z"
   },
   {
    "duration": 8,
    "start_time": "2022-09-02T08:18:05.128Z"
   },
   {
    "duration": 43,
    "start_time": "2022-09-02T08:18:05.140Z"
   },
   {
    "duration": 39,
    "start_time": "2022-09-02T08:18:05.185Z"
   },
   {
    "duration": 81,
    "start_time": "2022-09-02T08:18:05.226Z"
   },
   {
    "duration": 4,
    "start_time": "2022-09-02T08:18:05.309Z"
   },
   {
    "duration": 9,
    "start_time": "2022-09-02T08:18:05.315Z"
   },
   {
    "duration": 4,
    "start_time": "2022-09-02T08:18:05.326Z"
   },
   {
    "duration": 80,
    "start_time": "2022-09-02T08:18:05.332Z"
   },
   {
    "duration": 6515,
    "start_time": "2022-09-02T08:18:05.414Z"
   },
   {
    "duration": 95,
    "start_time": "2022-09-02T08:18:11.931Z"
   },
   {
    "duration": 79,
    "start_time": "2022-09-02T08:18:12.028Z"
   },
   {
    "duration": 4811,
    "start_time": "2022-09-02T08:18:12.109Z"
   },
   {
    "duration": 526993,
    "start_time": "2022-09-02T08:18:16.922Z"
   },
   {
    "duration": 35301,
    "start_time": "2022-09-02T08:27:03.917Z"
   },
   {
    "duration": 5383,
    "start_time": "2022-09-02T08:27:39.220Z"
   },
   {
    "duration": 23009,
    "start_time": "2022-09-02T08:27:44.605Z"
   },
   {
    "duration": 646023,
    "start_time": "2022-09-02T08:28:07.616Z"
   },
   {
    "duration": 23437,
    "start_time": "2022-09-02T08:38:53.640Z"
   },
   {
    "duration": 67,
    "start_time": "2022-09-02T08:39:17.079Z"
   },
   {
    "duration": 56,
    "start_time": "2022-09-02T08:39:17.148Z"
   },
   {
    "duration": 5425,
    "start_time": "2022-09-02T08:39:17.206Z"
   },
   {
    "duration": 123,
    "start_time": "2022-09-02T08:39:22.633Z"
   },
   {
    "duration": 66,
    "start_time": "2022-09-02T11:04:28.920Z"
   },
   {
    "duration": 6,
    "start_time": "2022-09-02T11:04:39.170Z"
   },
   {
    "duration": 1684,
    "start_time": "2022-09-02T11:04:42.254Z"
   },
   {
    "duration": 1135,
    "start_time": "2022-09-02T11:04:43.940Z"
   },
   {
    "duration": 4,
    "start_time": "2022-09-02T11:04:45.077Z"
   },
   {
    "duration": 12,
    "start_time": "2022-09-02T11:04:45.082Z"
   },
   {
    "duration": 756,
    "start_time": "2022-09-02T11:04:47.154Z"
   },
   {
    "duration": 80,
    "start_time": "2022-09-02T11:04:50.566Z"
   },
   {
    "duration": 11,
    "start_time": "2022-09-02T11:05:19.290Z"
   },
   {
    "duration": 64,
    "start_time": "2022-09-02T11:05:44.342Z"
   },
   {
    "duration": 3,
    "start_time": "2022-09-02T11:05:49.406Z"
   },
   {
    "duration": 2074,
    "start_time": "2022-09-02T11:05:50.186Z"
   },
   {
    "duration": 80,
    "start_time": "2022-09-02T11:05:54.418Z"
   },
   {
    "duration": 322,
    "start_time": "2022-09-02T11:05:58.291Z"
   },
   {
    "duration": 170,
    "start_time": "2022-09-02T11:06:02.212Z"
   },
   {
    "duration": 9,
    "start_time": "2022-09-02T11:06:03.681Z"
   },
   {
    "duration": 12,
    "start_time": "2022-09-02T11:06:05.993Z"
   },
   {
    "duration": 290,
    "start_time": "2022-09-02T11:06:08.990Z"
   },
   {
    "duration": 24,
    "start_time": "2022-09-02T11:06:24.049Z"
   },
   {
    "duration": 9,
    "start_time": "2022-09-02T11:06:27.733Z"
   },
   {
    "duration": 199,
    "start_time": "2022-09-02T11:06:30.673Z"
   },
   {
    "duration": 11,
    "start_time": "2022-09-02T11:06:33.312Z"
   },
   {
    "duration": 8,
    "start_time": "2022-09-02T11:09:16.962Z"
   },
   {
    "duration": 299,
    "start_time": "2022-09-02T11:09:17.437Z"
   },
   {
    "duration": 20,
    "start_time": "2022-09-02T11:09:29.797Z"
   },
   {
    "duration": 288,
    "start_time": "2022-09-02T11:09:48.921Z"
   },
   {
    "duration": 4,
    "start_time": "2022-09-02T11:09:52.367Z"
   },
   {
    "duration": 3,
    "start_time": "2022-09-02T11:09:57.847Z"
   },
   {
    "duration": 584,
    "start_time": "2022-09-02T11:09:58.421Z"
   },
   {
    "duration": 17,
    "start_time": "2022-09-02T11:16:52.225Z"
   },
   {
    "duration": 12,
    "start_time": "2022-09-02T11:20:27.845Z"
   },
   {
    "duration": 63,
    "start_time": "2022-09-02T11:20:38.479Z"
   },
   {
    "duration": 76,
    "start_time": "2022-09-02T11:21:06.030Z"
   },
   {
    "duration": 86,
    "start_time": "2022-09-02T11:21:34.611Z"
   },
   {
    "duration": 71,
    "start_time": "2022-09-02T11:21:42.203Z"
   },
   {
    "duration": 11,
    "start_time": "2022-09-02T11:22:29.438Z"
   },
   {
    "duration": 6,
    "start_time": "2022-09-02T11:22:38.174Z"
   },
   {
    "duration": 5,
    "start_time": "2022-09-02T11:23:10.514Z"
   },
   {
    "duration": 4527,
    "start_time": "2022-09-02T11:25:47.933Z"
   },
   {
    "duration": 23,
    "start_time": "2022-09-02T11:26:04.662Z"
   },
   {
    "duration": 20,
    "start_time": "2022-09-02T11:26:08.162Z"
   },
   {
    "duration": 4275,
    "start_time": "2022-09-02T11:26:34.103Z"
   },
   {
    "duration": 22,
    "start_time": "2022-09-02T11:26:41.229Z"
   },
   {
    "duration": 84,
    "start_time": "2022-09-02T11:30:14.307Z"
   },
   {
    "duration": 934,
    "start_time": "2022-09-02T11:30:29.264Z"
   },
   {
    "duration": 1416,
    "start_time": "2022-09-02T11:31:20.192Z"
   },
   {
    "duration": 1516,
    "start_time": "2022-09-02T11:31:48.617Z"
   },
   {
    "duration": 0,
    "start_time": "2022-09-02T11:31:50.135Z"
   },
   {
    "duration": 0,
    "start_time": "2022-09-02T11:31:50.137Z"
   },
   {
    "duration": 0,
    "start_time": "2022-09-02T11:31:50.138Z"
   },
   {
    "duration": 0,
    "start_time": "2022-09-02T11:31:50.139Z"
   },
   {
    "duration": 0,
    "start_time": "2022-09-02T11:31:50.141Z"
   },
   {
    "duration": 8,
    "start_time": "2022-09-02T11:31:50.253Z"
   },
   {
    "duration": 10,
    "start_time": "2022-09-02T11:31:50.364Z"
   },
   {
    "duration": 15,
    "start_time": "2022-09-02T11:31:50.628Z"
   },
   {
    "duration": 1418,
    "start_time": "2022-09-02T11:32:06.591Z"
   },
   {
    "duration": 848,
    "start_time": "2022-09-02T11:32:08.169Z"
   },
   {
    "duration": 4,
    "start_time": "2022-09-02T11:32:09.019Z"
   },
   {
    "duration": 6,
    "start_time": "2022-09-02T11:32:09.097Z"
   },
   {
    "duration": 763,
    "start_time": "2022-09-02T11:32:24.323Z"
   },
   {
    "duration": 60,
    "start_time": "2022-09-02T11:32:26.201Z"
   },
   {
    "duration": 4,
    "start_time": "2022-09-02T11:32:27.222Z"
   },
   {
    "duration": 2163,
    "start_time": "2022-09-02T11:32:28.037Z"
   },
   {
    "duration": 102,
    "start_time": "2022-09-02T11:32:30.203Z"
   },
   {
    "duration": 314,
    "start_time": "2022-09-02T11:32:32.078Z"
   },
   {
    "duration": 168,
    "start_time": "2022-09-02T11:32:32.809Z"
   },
   {
    "duration": 10,
    "start_time": "2022-09-02T11:32:35.011Z"
   },
   {
    "duration": 12,
    "start_time": "2022-09-02T11:32:36.321Z"
   },
   {
    "duration": 246,
    "start_time": "2022-09-02T11:32:36.540Z"
   },
   {
    "duration": 34,
    "start_time": "2022-09-02T11:32:36.788Z"
   },
   {
    "duration": 8,
    "start_time": "2022-09-02T11:32:38.181Z"
   },
   {
    "duration": 199,
    "start_time": "2022-09-02T11:32:38.655Z"
   },
   {
    "duration": 12,
    "start_time": "2022-09-02T11:32:39.341Z"
   },
   {
    "duration": 118,
    "start_time": "2022-09-02T11:32:39.768Z"
   },
   {
    "duration": 8,
    "start_time": "2022-09-02T11:32:41.123Z"
   },
   {
    "duration": 285,
    "start_time": "2022-09-02T11:32:41.312Z"
   },
   {
    "duration": 19,
    "start_time": "2022-09-02T11:32:52.229Z"
   },
   {
    "duration": 223,
    "start_time": "2022-09-02T11:32:53.416Z"
   },
   {
    "duration": 4,
    "start_time": "2022-09-02T11:32:54.301Z"
   },
   {
    "duration": 21,
    "start_time": "2022-09-02T11:33:07.448Z"
   },
   {
    "duration": 1295,
    "start_time": "2022-09-02T11:33:13.093Z"
   },
   {
    "duration": 2799,
    "start_time": "2022-09-02T11:34:23.565Z"
   },
   {
    "duration": 134,
    "start_time": "2022-09-02T11:35:18.075Z"
   },
   {
    "duration": 1670,
    "start_time": "2022-09-02T11:36:08.534Z"
   },
   {
    "duration": 12,
    "start_time": "2022-09-02T11:36:33.190Z"
   },
   {
    "duration": 1350,
    "start_time": "2022-09-02T11:36:38.462Z"
   },
   {
    "duration": 13,
    "start_time": "2022-09-02T11:37:05.902Z"
   },
   {
    "duration": 1415,
    "start_time": "2022-09-02T11:37:17.789Z"
   },
   {
    "duration": 121,
    "start_time": "2022-09-02T11:38:15.949Z"
   },
   {
    "duration": 4,
    "start_time": "2022-09-02T11:38:35.101Z"
   },
   {
    "duration": 10,
    "start_time": "2022-09-02T11:38:48.538Z"
   },
   {
    "duration": 100,
    "start_time": "2022-09-02T11:39:00.685Z"
   },
   {
    "duration": 109,
    "start_time": "2022-09-02T11:40:17.182Z"
   },
   {
    "duration": 99,
    "start_time": "2022-09-02T11:40:42.774Z"
   },
   {
    "duration": 48,
    "start_time": "2022-09-02T11:41:29.678Z"
   },
   {
    "duration": 61,
    "start_time": "2022-09-02T11:41:35.888Z"
   },
   {
    "duration": 416,
    "start_time": "2022-09-02T11:43:35.446Z"
   },
   {
    "duration": 563,
    "start_time": "2022-09-02T11:43:40.525Z"
   },
   {
    "duration": 68,
    "start_time": "2022-09-02T11:44:12.086Z"
   },
   {
    "duration": 551,
    "start_time": "2022-09-02T11:45:37.603Z"
   },
   {
    "duration": 99,
    "start_time": "2022-09-02T11:46:27.559Z"
   },
   {
    "duration": 9,
    "start_time": "2022-09-02T11:46:36.165Z"
   },
   {
    "duration": 4,
    "start_time": "2022-09-02T11:46:38.185Z"
   },
   {
    "duration": 4,
    "start_time": "2022-09-02T11:46:38.813Z"
   },
   {
    "duration": 26,
    "start_time": "2022-09-02T11:48:16.412Z"
   },
   {
    "duration": 24,
    "start_time": "2022-09-02T11:48:41.167Z"
   },
   {
    "duration": 557,
    "start_time": "2022-09-02T11:50:55.432Z"
   },
   {
    "duration": 36,
    "start_time": "2022-09-02T11:53:56.386Z"
   },
   {
    "duration": 14,
    "start_time": "2022-09-02T11:54:12.331Z"
   },
   {
    "duration": 1611,
    "start_time": "2022-09-02T11:57:30.902Z"
   },
   {
    "duration": 849,
    "start_time": "2022-09-02T11:57:32.937Z"
   },
   {
    "duration": 3,
    "start_time": "2022-09-02T11:57:33.789Z"
   },
   {
    "duration": 12,
    "start_time": "2022-09-02T11:57:33.793Z"
   },
   {
    "duration": 773,
    "start_time": "2022-09-02T11:57:33.904Z"
   },
   {
    "duration": 64,
    "start_time": "2022-09-02T11:57:36.881Z"
   },
   {
    "duration": 3,
    "start_time": "2022-09-02T11:57:41.186Z"
   },
   {
    "duration": 2157,
    "start_time": "2022-09-02T11:57:41.497Z"
   },
   {
    "duration": 87,
    "start_time": "2022-09-02T11:57:43.685Z"
   },
   {
    "duration": 343,
    "start_time": "2022-09-02T11:57:46.582Z"
   },
   {
    "duration": 173,
    "start_time": "2022-09-02T11:57:46.961Z"
   },
   {
    "duration": 13,
    "start_time": "2022-09-02T11:57:47.357Z"
   },
   {
    "duration": 12,
    "start_time": "2022-09-02T11:57:49.545Z"
   },
   {
    "duration": 257,
    "start_time": "2022-09-02T11:57:49.756Z"
   },
   {
    "duration": 25,
    "start_time": "2022-09-02T11:57:51.658Z"
   },
   {
    "duration": 11,
    "start_time": "2022-09-02T11:57:52.409Z"
   },
   {
    "duration": 198,
    "start_time": "2022-09-02T11:57:54.231Z"
   },
   {
    "duration": 11,
    "start_time": "2022-09-02T11:57:54.513Z"
   },
   {
    "duration": 124,
    "start_time": "2022-09-02T11:57:56.425Z"
   },
   {
    "duration": 9,
    "start_time": "2022-09-02T11:57:57.145Z"
   },
   {
    "duration": 309,
    "start_time": "2022-09-02T11:57:57.281Z"
   },
   {
    "duration": 20,
    "start_time": "2022-09-02T11:57:57.874Z"
   },
   {
    "duration": 252,
    "start_time": "2022-09-02T11:57:59.780Z"
   },
   {
    "duration": 4,
    "start_time": "2022-09-02T11:58:00.841Z"
   },
   {
    "duration": 114,
    "start_time": "2022-09-02T11:58:04.871Z"
   },
   {
    "duration": 19,
    "start_time": "2022-09-02T11:58:09.595Z"
   },
   {
    "duration": 19,
    "start_time": "2022-09-02T11:58:19.341Z"
   },
   {
    "duration": 31,
    "start_time": "2022-09-02T11:58:58.273Z"
   },
   {
    "duration": 28,
    "start_time": "2022-09-02T11:59:03.858Z"
   },
   {
    "duration": 70,
    "start_time": "2022-09-02T11:59:13.083Z"
   },
   {
    "duration": 24,
    "start_time": "2022-09-02T11:59:16.419Z"
   },
   {
    "duration": 25,
    "start_time": "2022-09-02T12:01:12.570Z"
   },
   {
    "duration": 227,
    "start_time": "2022-09-02T12:01:24.035Z"
   },
   {
    "duration": 204,
    "start_time": "2022-09-02T12:01:46.583Z"
   },
   {
    "duration": 28,
    "start_time": "2022-09-02T12:02:16.324Z"
   },
   {
    "duration": 59,
    "start_time": "2022-09-02T12:02:17.585Z"
   },
   {
    "duration": 51,
    "start_time": "2022-09-02T12:02:18.334Z"
   },
   {
    "duration": 303,
    "start_time": "2022-09-02T12:02:20.618Z"
   },
   {
    "duration": 4,
    "start_time": "2022-09-02T12:02:23.092Z"
   },
   {
    "duration": 7,
    "start_time": "2022-09-02T12:02:24.285Z"
   },
   {
    "duration": 4,
    "start_time": "2022-09-02T12:02:27.522Z"
   },
   {
    "duration": 1753,
    "start_time": "2022-09-02T12:02:32.354Z"
   },
   {
    "duration": 48401,
    "start_time": "2022-09-02T12:02:35.106Z"
   },
   {
    "duration": 1911,
    "start_time": "2022-09-02T12:03:40.796Z"
   },
   {
    "duration": 9,
    "start_time": "2022-09-02T12:03:47.071Z"
   },
   {
    "duration": 5,
    "start_time": "2022-09-02T12:03:50.014Z"
   },
   {
    "duration": 5913,
    "start_time": "2022-09-02T12:04:21.100Z"
   },
   {
    "duration": 655073,
    "start_time": "2022-09-02T12:04:34.134Z"
   },
   {
    "duration": 29588,
    "start_time": "2022-09-02T12:15:57.326Z"
   },
   {
    "duration": 5013,
    "start_time": "2022-09-02T12:17:03.690Z"
   },
   {
    "duration": 5,
    "start_time": "2022-09-02T12:17:23.233Z"
   },
   {
    "duration": 20946,
    "start_time": "2022-09-02T12:17:49.897Z"
   },
   {
    "duration": 68,
    "start_time": "2022-09-02T12:18:16.142Z"
   },
   {
    "duration": 5,
    "start_time": "2022-09-02T12:18:20.558Z"
   },
   {
    "duration": 623852,
    "start_time": "2022-09-02T12:18:29.958Z"
   },
   {
    "duration": 22019,
    "start_time": "2022-09-02T12:30:40.500Z"
   },
   {
    "duration": 65,
    "start_time": "2022-09-02T12:31:20.515Z"
   },
   {
    "duration": 5,
    "start_time": "2022-09-02T12:31:43.886Z"
   },
   {
    "duration": 71,
    "start_time": "2022-09-02T12:31:56.277Z"
   },
   {
    "duration": 4,
    "start_time": "2022-09-02T12:32:14.745Z"
   },
   {
    "duration": 106,
    "start_time": "2022-09-02T12:32:30.687Z"
   },
   {
    "duration": 5,
    "start_time": "2022-09-02T12:32:41.021Z"
   },
   {
    "duration": 5,
    "start_time": "2022-09-02T12:32:56.696Z"
   },
   {
    "duration": 7,
    "start_time": "2022-09-02T12:33:10.824Z"
   },
   {
    "duration": 1289,
    "start_time": "2022-09-02T12:33:25.750Z"
   },
   {
    "duration": 12,
    "start_time": "2022-09-02T12:34:01.714Z"
   },
   {
    "duration": 5,
    "start_time": "2022-09-02T12:34:44.757Z"
   },
   {
    "duration": 1124,
    "start_time": "2022-09-02T12:34:46.992Z"
   },
   {
    "duration": 10,
    "start_time": "2022-09-02T12:36:30.288Z"
   },
   {
    "duration": 6,
    "start_time": "2022-09-02T12:36:45.563Z"
   },
   {
    "duration": 1141,
    "start_time": "2022-09-02T12:36:49.864Z"
   },
   {
    "duration": 5,
    "start_time": "2022-09-02T12:37:00.889Z"
   },
   {
    "duration": 1115,
    "start_time": "2022-09-02T12:37:03.288Z"
   },
   {
    "duration": 1267,
    "start_time": "2022-09-02T12:37:12.581Z"
   },
   {
    "duration": 3,
    "start_time": "2022-09-02T12:37:36.965Z"
   },
   {
    "duration": 1180,
    "start_time": "2022-09-02T12:37:37.528Z"
   },
   {
    "duration": 3,
    "start_time": "2022-09-02T12:37:49.740Z"
   },
   {
    "duration": 1202,
    "start_time": "2022-09-02T12:37:50.836Z"
   },
   {
    "duration": 5,
    "start_time": "2022-09-02T12:39:05.624Z"
   },
   {
    "duration": 3,
    "start_time": "2022-09-02T12:39:07.668Z"
   },
   {
    "duration": 1251,
    "start_time": "2022-09-02T12:39:08.437Z"
   },
   {
    "duration": 5,
    "start_time": "2022-09-02T12:39:18.696Z"
   },
   {
    "duration": 3,
    "start_time": "2022-09-02T12:39:19.147Z"
   },
   {
    "duration": 1161,
    "start_time": "2022-09-02T12:39:19.652Z"
   },
   {
    "duration": 7,
    "start_time": "2022-09-02T12:39:29.011Z"
   },
   {
    "duration": 3,
    "start_time": "2022-09-02T12:39:38.834Z"
   },
   {
    "duration": 1228,
    "start_time": "2022-09-02T12:39:38.994Z"
   },
   {
    "duration": 5,
    "start_time": "2022-09-02T12:39:43.001Z"
   },
   {
    "duration": 3,
    "start_time": "2022-09-02T12:39:43.416Z"
   },
   {
    "duration": 1299,
    "start_time": "2022-09-02T12:39:43.833Z"
   },
   {
    "duration": 11,
    "start_time": "2022-09-02T12:40:58.829Z"
   },
   {
    "duration": 5,
    "start_time": "2022-09-02T12:41:10.802Z"
   },
   {
    "duration": 1200,
    "start_time": "2022-09-02T12:41:28.722Z"
   },
   {
    "duration": 5,
    "start_time": "2022-09-02T12:42:21.171Z"
   },
   {
    "duration": 1170,
    "start_time": "2022-09-02T12:42:40.823Z"
   },
   {
    "duration": 4976,
    "start_time": "2022-09-02T12:43:50.450Z"
   },
   {
    "duration": 5,
    "start_time": "2022-09-02T12:43:57.725Z"
   },
   {
    "duration": 13856,
    "start_time": "2022-09-02T14:27:40.987Z"
   },
   {
    "duration": 3617,
    "start_time": "2022-09-02T14:28:09.509Z"
   },
   {
    "duration": 164,
    "start_time": "2022-09-02T14:28:25.005Z"
   },
   {
    "duration": 3184,
    "start_time": "2022-09-02T14:28:31.440Z"
   },
   {
    "duration": 39958,
    "start_time": "2022-09-02T14:28:39.960Z"
   },
   {
    "duration": 5,
    "start_time": "2022-09-02T14:32:04.757Z"
   },
   {
    "duration": 737,
    "start_time": "2022-09-02T14:32:11.276Z"
   },
   {
    "duration": 38526,
    "start_time": "2022-09-02T14:32:24.428Z"
   },
   {
    "duration": 1832,
    "start_time": "2022-10-03T01:08:52.984Z"
   },
   {
    "duration": 795,
    "start_time": "2022-10-03T01:08:54.817Z"
   },
   {
    "duration": 2,
    "start_time": "2022-10-03T01:08:55.614Z"
   },
   {
    "duration": 6,
    "start_time": "2022-10-03T01:08:55.618Z"
   },
   {
    "duration": 1288,
    "start_time": "2022-10-03T01:08:55.626Z"
   },
   {
    "duration": 2046,
    "start_time": "2022-10-03T01:08:56.915Z"
   },
   {
    "duration": 20157,
    "start_time": "2022-10-03T01:08:58.963Z"
   },
   {
    "duration": 0,
    "start_time": "2022-10-03T01:09:19.123Z"
   },
   {
    "duration": 0,
    "start_time": "2022-10-03T01:09:19.124Z"
   },
   {
    "duration": 0,
    "start_time": "2022-10-03T01:09:19.125Z"
   },
   {
    "duration": 0,
    "start_time": "2022-10-03T01:09:19.126Z"
   },
   {
    "duration": 0,
    "start_time": "2022-10-03T01:09:19.127Z"
   },
   {
    "duration": 0,
    "start_time": "2022-10-03T01:09:19.128Z"
   },
   {
    "duration": 0,
    "start_time": "2022-10-03T01:09:19.129Z"
   },
   {
    "duration": 0,
    "start_time": "2022-10-03T01:09:19.130Z"
   },
   {
    "duration": 0,
    "start_time": "2022-10-03T01:09:19.131Z"
   },
   {
    "duration": 0,
    "start_time": "2022-10-03T01:09:19.132Z"
   },
   {
    "duration": 0,
    "start_time": "2022-10-03T01:09:19.134Z"
   },
   {
    "duration": 0,
    "start_time": "2022-10-03T01:09:19.135Z"
   },
   {
    "duration": 0,
    "start_time": "2022-10-03T01:09:19.135Z"
   },
   {
    "duration": 0,
    "start_time": "2022-10-03T01:09:19.136Z"
   },
   {
    "duration": 0,
    "start_time": "2022-10-03T01:09:19.137Z"
   },
   {
    "duration": 0,
    "start_time": "2022-10-03T01:09:19.138Z"
   },
   {
    "duration": 0,
    "start_time": "2022-10-03T01:09:19.139Z"
   },
   {
    "duration": 0,
    "start_time": "2022-10-03T01:09:19.140Z"
   },
   {
    "duration": 0,
    "start_time": "2022-10-03T01:09:19.142Z"
   },
   {
    "duration": 0,
    "start_time": "2022-10-03T01:09:19.143Z"
   },
   {
    "duration": 0,
    "start_time": "2022-10-03T01:09:19.144Z"
   },
   {
    "duration": 0,
    "start_time": "2022-10-03T01:09:19.145Z"
   },
   {
    "duration": 0,
    "start_time": "2022-10-03T01:09:19.146Z"
   },
   {
    "duration": 0,
    "start_time": "2022-10-03T01:09:19.147Z"
   },
   {
    "duration": 0,
    "start_time": "2022-10-03T01:09:19.148Z"
   },
   {
    "duration": 0,
    "start_time": "2022-10-03T01:09:19.149Z"
   },
   {
    "duration": 0,
    "start_time": "2022-10-03T01:09:19.150Z"
   },
   {
    "duration": 0,
    "start_time": "2022-10-03T01:09:19.201Z"
   },
   {
    "duration": 0,
    "start_time": "2022-10-03T01:09:19.202Z"
   },
   {
    "duration": 0,
    "start_time": "2022-10-03T01:09:19.203Z"
   },
   {
    "duration": 0,
    "start_time": "2022-10-03T01:09:19.205Z"
   },
   {
    "duration": 0,
    "start_time": "2022-10-03T01:09:19.206Z"
   },
   {
    "duration": 0,
    "start_time": "2022-10-03T01:09:19.208Z"
   },
   {
    "duration": 0,
    "start_time": "2022-10-03T01:09:19.209Z"
   },
   {
    "duration": 0,
    "start_time": "2022-10-03T01:09:19.210Z"
   },
   {
    "duration": 0,
    "start_time": "2022-10-03T01:09:19.211Z"
   },
   {
    "duration": 0,
    "start_time": "2022-10-03T01:09:19.213Z"
   },
   {
    "duration": 0,
    "start_time": "2022-10-03T01:09:19.214Z"
   },
   {
    "duration": 0,
    "start_time": "2022-10-03T01:09:19.215Z"
   },
   {
    "duration": 0,
    "start_time": "2022-10-03T01:09:19.216Z"
   },
   {
    "duration": 0,
    "start_time": "2022-10-03T01:09:19.218Z"
   },
   {
    "duration": 0,
    "start_time": "2022-10-03T01:09:19.219Z"
   },
   {
    "duration": 0,
    "start_time": "2022-10-03T01:09:19.220Z"
   },
   {
    "duration": 0,
    "start_time": "2022-10-03T01:09:19.221Z"
   },
   {
    "duration": 0,
    "start_time": "2022-10-03T01:09:19.222Z"
   },
   {
    "duration": 0,
    "start_time": "2022-10-03T01:09:19.223Z"
   },
   {
    "duration": 0,
    "start_time": "2022-10-03T01:09:19.224Z"
   },
   {
    "duration": 0,
    "start_time": "2022-10-03T01:09:19.226Z"
   },
   {
    "duration": 0,
    "start_time": "2022-10-03T01:09:19.227Z"
   },
   {
    "duration": 0,
    "start_time": "2022-10-03T01:09:19.228Z"
   },
   {
    "duration": 0,
    "start_time": "2022-10-03T01:09:19.229Z"
   },
   {
    "duration": 0,
    "start_time": "2022-10-03T01:09:19.231Z"
   },
   {
    "duration": 0,
    "start_time": "2022-10-03T01:09:19.232Z"
   },
   {
    "duration": 0,
    "start_time": "2022-10-03T01:09:19.233Z"
   },
   {
    "duration": 0,
    "start_time": "2022-10-03T01:09:19.234Z"
   },
   {
    "duration": 1963,
    "start_time": "2022-10-03T01:09:54.078Z"
   },
   {
    "duration": 715,
    "start_time": "2022-10-03T01:09:56.043Z"
   },
   {
    "duration": 2,
    "start_time": "2022-10-03T01:09:56.760Z"
   },
   {
    "duration": 37805,
    "start_time": "2022-10-03T01:09:56.763Z"
   },
   {
    "duration": 51,
    "start_time": "2022-10-03T01:10:34.570Z"
   },
   {
    "duration": 3,
    "start_time": "2022-10-03T01:10:34.622Z"
   },
   {
    "duration": 1742,
    "start_time": "2022-10-03T01:10:34.626Z"
   },
   {
    "duration": 75,
    "start_time": "2022-10-03T01:10:36.370Z"
   },
   {
    "duration": 16880,
    "start_time": "2022-10-03T01:10:36.446Z"
   },
   {
    "duration": 199,
    "start_time": "2022-10-03T01:10:53.328Z"
   },
   {
    "duration": 10,
    "start_time": "2022-10-03T01:10:53.528Z"
   },
   {
    "duration": 10,
    "start_time": "2022-10-03T01:10:53.539Z"
   },
   {
    "duration": 221,
    "start_time": "2022-10-03T01:10:53.550Z"
   },
   {
    "duration": 20,
    "start_time": "2022-10-03T01:10:53.772Z"
   },
   {
    "duration": 9,
    "start_time": "2022-10-03T01:10:53.799Z"
   },
   {
    "duration": 180,
    "start_time": "2022-10-03T01:10:53.809Z"
   },
   {
    "duration": 18,
    "start_time": "2022-10-03T01:10:53.991Z"
   },
   {
    "duration": 443,
    "start_time": "2022-10-03T01:10:54.011Z"
   },
   {
    "duration": 8,
    "start_time": "2022-10-03T01:10:54.456Z"
   },
   {
    "duration": 251,
    "start_time": "2022-10-03T01:10:54.466Z"
   },
   {
    "duration": 18,
    "start_time": "2022-10-03T01:10:54.718Z"
   },
   {
    "duration": 16941,
    "start_time": "2022-10-03T01:10:54.738Z"
   },
   {
    "duration": 22,
    "start_time": "2022-10-03T01:11:11.680Z"
   },
   {
    "duration": 119,
    "start_time": "2022-10-03T01:11:11.704Z"
   },
   {
    "duration": 203,
    "start_time": "2022-10-03T01:11:11.824Z"
   },
   {
    "duration": 29,
    "start_time": "2022-10-03T01:11:12.028Z"
   },
   {
    "duration": 71,
    "start_time": "2022-10-03T01:11:12.059Z"
   },
   {
    "duration": 45,
    "start_time": "2022-10-03T01:11:12.133Z"
   },
   {
    "duration": 296,
    "start_time": "2022-10-03T01:11:12.179Z"
   },
   {
    "duration": 4,
    "start_time": "2022-10-03T01:11:12.477Z"
   },
   {
    "duration": 15,
    "start_time": "2022-10-03T01:11:12.482Z"
   },
   {
    "duration": 16,
    "start_time": "2022-10-03T01:11:12.500Z"
   },
   {
    "duration": 1588,
    "start_time": "2022-10-03T01:11:12.517Z"
   },
   {
    "duration": 40804,
    "start_time": "2022-10-03T01:11:14.199Z"
   },
   {
    "duration": 1495,
    "start_time": "2022-10-03T01:11:55.008Z"
   },
   {
    "duration": 97,
    "start_time": "2022-10-03T01:11:56.507Z"
   },
   {
    "duration": 95,
    "start_time": "2022-10-03T01:11:56.608Z"
   },
   {
    "duration": 95,
    "start_time": "2022-10-03T01:11:56.707Z"
   },
   {
    "duration": 6,
    "start_time": "2022-10-03T01:11:56.803Z"
   },
   {
    "duration": 975,
    "start_time": "2022-10-03T01:11:56.810Z"
   },
   {
    "duration": 4931,
    "start_time": "2022-10-03T01:11:57.786Z"
   },
   {
    "duration": 5043,
    "start_time": "2022-10-03T02:22:48.480Z"
   },
   {
    "duration": 1875,
    "start_time": "2022-10-03T02:22:53.525Z"
   },
   {
    "duration": 3,
    "start_time": "2022-10-03T02:22:55.402Z"
   },
   {
    "duration": 71431,
    "start_time": "2022-10-03T02:22:55.407Z"
   },
   {
    "duration": 160,
    "start_time": "2022-10-03T02:24:06.840Z"
   },
   {
    "duration": 3,
    "start_time": "2022-10-03T02:24:07.002Z"
   },
   {
    "duration": 3501,
    "start_time": "2022-10-03T02:24:07.006Z"
   },
   {
    "duration": 123,
    "start_time": "2022-10-03T02:24:10.509Z"
   },
   {
    "duration": 26318,
    "start_time": "2022-10-03T02:24:10.633Z"
   },
   {
    "duration": 197,
    "start_time": "2022-10-03T02:24:36.954Z"
   },
   {
    "duration": 9,
    "start_time": "2022-10-03T02:24:37.152Z"
   },
   {
    "duration": 9,
    "start_time": "2022-10-03T02:24:37.162Z"
   },
   {
    "duration": 206,
    "start_time": "2022-10-03T02:24:37.173Z"
   },
   {
    "duration": 25,
    "start_time": "2022-10-03T02:24:37.381Z"
   },
   {
    "duration": 7,
    "start_time": "2022-10-03T02:24:37.408Z"
   },
   {
    "duration": 172,
    "start_time": "2022-10-03T02:24:37.417Z"
   },
   {
    "duration": 18,
    "start_time": "2022-10-03T02:24:37.591Z"
   },
   {
    "duration": 364,
    "start_time": "2022-10-03T02:24:37.610Z"
   },
   {
    "duration": 7,
    "start_time": "2022-10-03T02:24:37.975Z"
   },
   {
    "duration": 232,
    "start_time": "2022-10-03T02:24:37.983Z"
   },
   {
    "duration": 17,
    "start_time": "2022-10-03T02:24:38.217Z"
   },
   {
    "duration": 17401,
    "start_time": "2022-10-03T02:24:38.237Z"
   },
   {
    "duration": 3,
    "start_time": "2022-10-03T02:24:55.640Z"
   },
   {
    "duration": 110,
    "start_time": "2022-10-03T02:24:55.645Z"
   },
   {
    "duration": 214,
    "start_time": "2022-10-03T02:24:55.756Z"
   },
   {
    "duration": 34,
    "start_time": "2022-10-03T02:24:55.972Z"
   },
   {
    "duration": 52,
    "start_time": "2022-10-03T02:24:56.008Z"
   },
   {
    "duration": 53,
    "start_time": "2022-10-03T02:24:56.063Z"
   },
   {
    "duration": 296,
    "start_time": "2022-10-03T02:24:56.118Z"
   },
   {
    "duration": 4,
    "start_time": "2022-10-03T02:24:56.416Z"
   },
   {
    "duration": 6,
    "start_time": "2022-10-03T02:24:56.421Z"
   },
   {
    "duration": 4,
    "start_time": "2022-10-03T02:24:56.429Z"
   },
   {
    "duration": 1470,
    "start_time": "2022-10-03T02:24:56.435Z"
   },
   {
    "duration": 41200,
    "start_time": "2022-10-03T02:24:57.907Z"
   },
   {
    "duration": 1596,
    "start_time": "2022-10-03T02:25:39.108Z"
   },
   {
    "duration": 98,
    "start_time": "2022-10-03T02:25:40.706Z"
   },
   {
    "duration": 7,
    "start_time": "2022-10-03T02:25:40.806Z"
   },
   {
    "duration": 15,
    "start_time": "2022-10-03T02:25:40.900Z"
   },
   {
    "duration": 5,
    "start_time": "2022-10-03T02:25:41.001Z"
   },
   {
    "duration": 1053,
    "start_time": "2022-10-03T02:25:41.008Z"
   },
   {
    "duration": 5052,
    "start_time": "2022-10-03T02:25:42.062Z"
   },
   {
    "duration": 366303,
    "start_time": "2022-10-03T02:25:47.201Z"
   },
   {
    "duration": 262899,
    "start_time": "2022-10-03T02:31:53.506Z"
   },
   {
    "duration": 5425,
    "start_time": "2022-10-03T02:36:16.407Z"
   },
   {
    "duration": 66,
    "start_time": "2022-10-03T02:36:21.834Z"
   },
   {
    "duration": 5,
    "start_time": "2022-10-03T02:36:21.902Z"
   },
   {
    "duration": 2098,
    "start_time": "2022-10-03T02:36:21.908Z"
   },
   {
    "duration": 35567,
    "start_time": "2022-10-03T02:36:24.007Z"
   },
   {
    "duration": 131,
    "start_time": "2022-10-03T02:36:59.576Z"
   },
   {
    "duration": 4,
    "start_time": "2022-10-03T02:36:59.709Z"
   },
   {
    "duration": 1518,
    "start_time": "2022-10-03T06:29:59.673Z"
   },
   {
    "duration": 0,
    "start_time": "2022-10-03T06:30:01.194Z"
   },
   {
    "duration": 0,
    "start_time": "2022-10-03T06:30:01.195Z"
   },
   {
    "duration": 0,
    "start_time": "2022-10-03T06:30:01.196Z"
   },
   {
    "duration": 0,
    "start_time": "2022-10-03T06:30:01.197Z"
   },
   {
    "duration": 0,
    "start_time": "2022-10-03T06:30:01.198Z"
   },
   {
    "duration": 0,
    "start_time": "2022-10-03T06:30:01.199Z"
   },
   {
    "duration": 0,
    "start_time": "2022-10-03T06:30:01.200Z"
   },
   {
    "duration": 0,
    "start_time": "2022-10-03T06:30:01.201Z"
   },
   {
    "duration": 0,
    "start_time": "2022-10-03T06:30:01.202Z"
   },
   {
    "duration": 0,
    "start_time": "2022-10-03T06:30:01.203Z"
   },
   {
    "duration": 0,
    "start_time": "2022-10-03T06:30:01.204Z"
   },
   {
    "duration": 0,
    "start_time": "2022-10-03T06:30:01.205Z"
   },
   {
    "duration": 0,
    "start_time": "2022-10-03T06:30:01.206Z"
   },
   {
    "duration": 0,
    "start_time": "2022-10-03T06:30:01.207Z"
   },
   {
    "duration": 0,
    "start_time": "2022-10-03T06:30:01.222Z"
   },
   {
    "duration": 0,
    "start_time": "2022-10-03T06:30:01.223Z"
   },
   {
    "duration": 0,
    "start_time": "2022-10-03T06:30:01.224Z"
   },
   {
    "duration": 0,
    "start_time": "2022-10-03T06:30:01.225Z"
   },
   {
    "duration": 0,
    "start_time": "2022-10-03T06:30:01.226Z"
   },
   {
    "duration": 0,
    "start_time": "2022-10-03T06:30:01.227Z"
   },
   {
    "duration": 0,
    "start_time": "2022-10-03T06:30:01.228Z"
   },
   {
    "duration": 0,
    "start_time": "2022-10-03T06:30:01.229Z"
   },
   {
    "duration": 0,
    "start_time": "2022-10-03T06:30:01.230Z"
   },
   {
    "duration": 0,
    "start_time": "2022-10-03T06:30:01.231Z"
   },
   {
    "duration": 0,
    "start_time": "2022-10-03T06:30:01.232Z"
   },
   {
    "duration": 0,
    "start_time": "2022-10-03T06:30:01.233Z"
   },
   {
    "duration": 0,
    "start_time": "2022-10-03T06:30:01.234Z"
   },
   {
    "duration": 0,
    "start_time": "2022-10-03T06:30:01.235Z"
   },
   {
    "duration": 0,
    "start_time": "2022-10-03T06:30:01.236Z"
   },
   {
    "duration": 0,
    "start_time": "2022-10-03T06:30:01.237Z"
   },
   {
    "duration": 0,
    "start_time": "2022-10-03T06:30:01.238Z"
   },
   {
    "duration": 1,
    "start_time": "2022-10-03T06:30:01.238Z"
   },
   {
    "duration": 0,
    "start_time": "2022-10-03T06:30:01.240Z"
   },
   {
    "duration": 0,
    "start_time": "2022-10-03T06:30:01.241Z"
   },
   {
    "duration": 0,
    "start_time": "2022-10-03T06:30:01.242Z"
   },
   {
    "duration": 0,
    "start_time": "2022-10-03T06:30:01.243Z"
   },
   {
    "duration": 0,
    "start_time": "2022-10-03T06:30:01.243Z"
   },
   {
    "duration": 0,
    "start_time": "2022-10-03T06:30:01.244Z"
   },
   {
    "duration": 0,
    "start_time": "2022-10-03T06:30:01.245Z"
   },
   {
    "duration": 0,
    "start_time": "2022-10-03T06:30:01.246Z"
   },
   {
    "duration": 0,
    "start_time": "2022-10-03T06:30:01.247Z"
   },
   {
    "duration": 0,
    "start_time": "2022-10-03T06:30:01.248Z"
   },
   {
    "duration": 0,
    "start_time": "2022-10-03T06:30:01.249Z"
   },
   {
    "duration": 0,
    "start_time": "2022-10-03T06:30:01.250Z"
   },
   {
    "duration": 0,
    "start_time": "2022-10-03T06:30:01.251Z"
   },
   {
    "duration": 0,
    "start_time": "2022-10-03T06:30:01.252Z"
   },
   {
    "duration": 0,
    "start_time": "2022-10-03T06:30:01.253Z"
   },
   {
    "duration": 0,
    "start_time": "2022-10-03T06:30:01.254Z"
   },
   {
    "duration": 0,
    "start_time": "2022-10-03T06:30:01.255Z"
   },
   {
    "duration": 0,
    "start_time": "2022-10-03T06:30:01.256Z"
   },
   {
    "duration": 0,
    "start_time": "2022-10-03T06:30:01.258Z"
   },
   {
    "duration": 0,
    "start_time": "2022-10-03T06:30:01.259Z"
   },
   {
    "duration": 0,
    "start_time": "2022-10-03T06:30:01.260Z"
   },
   {
    "duration": 0,
    "start_time": "2022-10-03T06:30:01.323Z"
   },
   {
    "duration": 0,
    "start_time": "2022-10-03T06:30:01.324Z"
   },
   {
    "duration": 0,
    "start_time": "2022-10-03T06:30:01.325Z"
   },
   {
    "duration": 0,
    "start_time": "2022-10-03T06:30:01.327Z"
   },
   {
    "duration": 0,
    "start_time": "2022-10-03T06:30:01.328Z"
   },
   {
    "duration": 12910,
    "start_time": "2022-10-03T06:54:56.058Z"
   },
   {
    "duration": 2029,
    "start_time": "2022-10-03T06:55:08.970Z"
   },
   {
    "duration": 2673,
    "start_time": "2022-10-03T06:55:11.000Z"
   },
   {
    "duration": 3,
    "start_time": "2022-10-03T06:55:13.675Z"
   },
   {
    "duration": 37150,
    "start_time": "2022-10-03T06:55:13.679Z"
   },
   {
    "duration": 30,
    "start_time": "2022-10-03T06:55:50.832Z"
   },
   {
    "duration": 5,
    "start_time": "2022-10-03T06:55:50.864Z"
   },
   {
    "duration": 1982,
    "start_time": "2022-10-03T06:55:50.870Z"
   },
   {
    "duration": 74,
    "start_time": "2022-10-03T06:55:52.853Z"
   },
   {
    "duration": 16941,
    "start_time": "2022-10-03T06:55:52.930Z"
   },
   {
    "duration": 217,
    "start_time": "2022-10-03T06:56:09.872Z"
   },
   {
    "duration": 8,
    "start_time": "2022-10-03T06:56:10.091Z"
   },
   {
    "duration": 21,
    "start_time": "2022-10-03T06:56:10.101Z"
   },
   {
    "duration": 200,
    "start_time": "2022-10-03T06:56:10.123Z"
   },
   {
    "duration": 19,
    "start_time": "2022-10-03T06:56:10.325Z"
   },
   {
    "duration": 9,
    "start_time": "2022-10-03T06:56:10.346Z"
   },
   {
    "duration": 177,
    "start_time": "2022-10-03T06:56:10.356Z"
   },
   {
    "duration": 10,
    "start_time": "2022-10-03T06:56:10.534Z"
   },
   {
    "duration": 353,
    "start_time": "2022-10-03T06:56:10.546Z"
   },
   {
    "duration": 9,
    "start_time": "2022-10-03T06:56:10.901Z"
   },
   {
    "duration": 266,
    "start_time": "2022-10-03T06:56:10.921Z"
   },
   {
    "duration": 20,
    "start_time": "2022-10-03T06:56:11.188Z"
   },
   {
    "duration": 17646,
    "start_time": "2022-10-03T06:56:11.210Z"
   },
   {
    "duration": 4,
    "start_time": "2022-10-03T06:56:28.858Z"
   },
   {
    "duration": 105,
    "start_time": "2022-10-03T06:56:28.863Z"
   },
   {
    "duration": 214,
    "start_time": "2022-10-03T06:56:28.969Z"
   },
   {
    "duration": 27,
    "start_time": "2022-10-03T06:56:29.184Z"
   },
   {
    "duration": 55,
    "start_time": "2022-10-03T06:56:29.221Z"
   },
   {
    "duration": 57,
    "start_time": "2022-10-03T06:56:29.278Z"
   },
   {
    "duration": 304,
    "start_time": "2022-10-03T06:56:29.336Z"
   },
   {
    "duration": 4,
    "start_time": "2022-10-03T06:56:29.642Z"
   },
   {
    "duration": 16,
    "start_time": "2022-10-03T06:56:29.648Z"
   },
   {
    "duration": 5,
    "start_time": "2022-10-03T06:56:29.665Z"
   },
   {
    "duration": 2660,
    "start_time": "2022-10-03T06:56:29.671Z"
   },
   {
    "duration": 52092,
    "start_time": "2022-10-03T06:56:32.332Z"
   },
   {
    "duration": 1899,
    "start_time": "2022-10-03T06:57:24.426Z"
   },
   {
    "duration": 105,
    "start_time": "2022-10-03T06:57:26.327Z"
   },
   {
    "duration": 10,
    "start_time": "2022-10-03T06:57:26.522Z"
   },
   {
    "duration": 8,
    "start_time": "2022-10-03T06:57:26.534Z"
   },
   {
    "duration": 10,
    "start_time": "2022-10-03T06:57:26.543Z"
   },
   {
    "duration": 1470,
    "start_time": "2022-10-03T06:57:26.555Z"
   },
   {
    "duration": 372324,
    "start_time": "2022-10-03T06:57:28.026Z"
   },
   {
    "duration": 1997385,
    "start_time": "2022-10-03T07:03:40.352Z"
   },
   {
    "duration": 27189,
    "start_time": "2022-10-03T07:36:57.738Z"
   },
   {
    "duration": 4628,
    "start_time": "2022-10-03T07:37:24.929Z"
   },
   {
    "duration": 4,
    "start_time": "2022-10-03T07:37:29.560Z"
   },
   {
    "duration": 8,
    "start_time": "2022-10-03T07:37:29.622Z"
   },
   {
    "duration": 1007,
    "start_time": "2022-10-03T07:37:29.631Z"
   },
   {
    "duration": 17998,
    "start_time": "2022-10-03T07:37:30.640Z"
   },
   {
    "duration": 67,
    "start_time": "2022-10-03T07:37:48.639Z"
   },
   {
    "duration": 4,
    "start_time": "2022-10-03T07:37:48.708Z"
   },
   {
    "duration": 524687,
    "start_time": "2022-10-03T07:37:48.713Z"
   },
   {
    "duration": 18599,
    "start_time": "2022-10-03T07:46:33.402Z"
   },
   {
    "duration": 57,
    "start_time": "2022-10-03T07:46:52.003Z"
   },
   {
    "duration": 5,
    "start_time": "2022-10-03T07:46:52.062Z"
   },
   {
    "duration": 14,
    "start_time": "2022-10-03T07:46:52.068Z"
   },
   {
    "duration": 1083,
    "start_time": "2022-10-03T07:46:52.084Z"
   },
   {
    "duration": 4,
    "start_time": "2022-10-03T07:46:53.169Z"
   },
   {
    "duration": 4647,
    "start_time": "2022-10-03T07:46:53.175Z"
   },
   {
    "duration": 4,
    "start_time": "2022-10-03T07:46:57.823Z"
   },
   {
    "duration": 1562,
    "start_time": "2022-11-17T08:57:36.712Z"
   },
   {
    "duration": 1213,
    "start_time": "2022-11-17T08:57:38.280Z"
   },
   {
    "duration": 7,
    "start_time": "2022-11-17T08:58:02.384Z"
   },
   {
    "duration": 956,
    "start_time": "2022-11-17T08:58:09.895Z"
   },
   {
    "duration": 3,
    "start_time": "2022-11-17T08:58:30.311Z"
   },
   {
    "duration": 62,
    "start_time": "2022-11-17T08:58:30.815Z"
   },
   {
    "duration": 4,
    "start_time": "2022-11-17T08:58:33.303Z"
   },
   {
    "duration": 2305,
    "start_time": "2022-11-17T08:58:33.936Z"
   },
   {
    "duration": 1354,
    "start_time": "2022-11-17T08:58:37.483Z"
   },
   {
    "duration": 4,
    "start_time": "2022-11-17T08:58:55.096Z"
   },
   {
    "duration": 835,
    "start_time": "2022-11-17T08:58:55.871Z"
   },
   {
    "duration": 4,
    "start_time": "2022-11-17T08:58:56.708Z"
   },
   {
    "duration": 793,
    "start_time": "2022-11-17T08:58:56.714Z"
   },
   {
    "duration": 2,
    "start_time": "2022-11-17T08:58:57.552Z"
   },
   {
    "duration": 55,
    "start_time": "2022-11-17T08:58:59.169Z"
   },
   {
    "duration": 4,
    "start_time": "2022-11-17T08:59:04.572Z"
   },
   {
    "duration": 2261,
    "start_time": "2022-11-17T08:59:05.893Z"
   },
   {
    "duration": 116,
    "start_time": "2022-11-17T08:59:42.178Z"
   },
   {
    "duration": 429,
    "start_time": "2022-11-17T08:59:50.885Z"
   },
   {
    "duration": 184,
    "start_time": "2022-11-17T09:00:13.300Z"
   },
   {
    "duration": 10,
    "start_time": "2022-11-17T09:00:13.575Z"
   },
   {
    "duration": 15,
    "start_time": "2022-11-17T09:00:14.152Z"
   },
   {
    "duration": 256,
    "start_time": "2022-11-17T09:00:14.333Z"
   },
   {
    "duration": 25,
    "start_time": "2022-11-17T09:00:14.772Z"
   },
   {
    "duration": 10,
    "start_time": "2022-11-17T09:00:15.404Z"
   },
   {
    "duration": 205,
    "start_time": "2022-11-17T09:00:16.324Z"
   },
   {
    "duration": 12,
    "start_time": "2022-11-17T09:00:17.811Z"
   },
   {
    "duration": 124,
    "start_time": "2022-11-17T09:00:18.521Z"
   },
   {
    "duration": 9,
    "start_time": "2022-11-17T09:00:21.168Z"
   },
   {
    "duration": 291,
    "start_time": "2022-11-17T09:00:21.492Z"
   },
   {
    "duration": 20,
    "start_time": "2022-11-17T09:00:23.676Z"
   },
   {
    "duration": 309,
    "start_time": "2022-11-17T09:00:24.221Z"
   },
   {
    "duration": 4,
    "start_time": "2022-11-17T09:00:28.103Z"
   }
  ],
  "kernelspec": {
   "display_name": "Python 3 (ipykernel)",
   "language": "python",
   "name": "python3"
  },
  "language_info": {
   "codemirror_mode": {
    "name": "ipython",
    "version": 3
   },
   "file_extension": ".py",
   "mimetype": "text/x-python",
   "name": "python",
   "nbconvert_exporter": "python",
   "pygments_lexer": "ipython3",
   "version": "3.9.5"
  },
  "toc": {
   "base_numbering": 1,
   "nav_menu": {
    "height": "222px",
    "width": "236px"
   },
   "number_sections": true,
   "sideBar": true,
   "skip_h1_title": true,
   "title_cell": "Table of Contents",
   "title_sidebar": "Contents",
   "toc_cell": true,
   "toc_position": {
    "height": "calc(100% - 180px)",
    "left": "10px",
    "top": "150px",
    "width": "261.523px"
   },
   "toc_section_display": true,
   "toc_window_display": true
  }
 },
 "nbformat": 4,
 "nbformat_minor": 2
}
